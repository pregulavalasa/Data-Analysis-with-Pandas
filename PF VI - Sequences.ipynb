{
 "cells": [
  {
   "cell_type": "markdown",
   "id": "eddd6a6e-4bdf-4489-8a2e-70a9f8cc615e",
   "metadata": {},
   "source": [
    "# Python Fundamentals - VI: Sequences"
   ]
  },
  {
   "cell_type": "markdown",
   "id": "d8478164-f32a-4bc9-b5ea-ecaac506d25c",
   "metadata": {},
   "source": [
    "## Introduction\n",
    "\n",
    "In this lesson, we will learn about data types and data structures that are sequences of items. These data structures are very useful in data analysis applications. We will discuss\n",
    " * Ranges\n",
    " * Lists\n",
    " * Tuples\n",
    " * Strings\n",
    " * Dictionaries\n",
    "\n",
    "Note: \n",
    "1. Use the TOC to navigate between sections.\n",
    "2. **This lesson does not cover all operations and functions related to these data structures. Please read this [section of the library reference](https://docs.python.org/3/library/stdtypes.html#sequence-types-list-tuple-range) for a more thorough coverage of useful concepts.**\n"
   ]
  },
  {
   "cell_type": "markdown",
   "id": "05cb6aa4-15ae-41da-ac4f-260fa03abe28",
   "metadata": {},
   "source": [
    "## Sequence\n",
    "A sequence is an ordered collection of items (i.e., items have specified positions). Sequences can be mutable (can be modified after they are created) or immutable (cannot be modified after they are created)."
   ]
  },
  {
   "cell_type": "markdown",
   "id": "f707226b-021f-4d17-b78f-2a9f6dc6d69f",
   "metadata": {},
   "source": [
    "## Ranges\n",
    "\n",
    "A range is an immutable sequence of numbers. It can be created using the range() function. \n",
    "\n",
    "The range() function returns a sequence of numbers with the specified (or default) start value, end value, and increment. Execute the examples below and add comments explaining what the range function returns. "
   ]
  },
  {
   "cell_type": "code",
   "execution_count": null,
   "id": "2b266150-8653-4890-baae-ecd12b9325a0",
   "metadata": {},
   "outputs": [],
   "source": [
    "# returns a sequence from __ to __ in increments of __\n",
    "for val in range(0,5,1):\n",
    "    print(val)"
   ]
  },
  {
   "cell_type": "code",
   "execution_count": null,
   "id": "5793359b-5037-4428-8cef-a0502f5af45a",
   "metadata": {},
   "outputs": [],
   "source": [
    "# returns a sequence from __ to __ in increments of __\n",
    "for val in range(0,11,2):\n",
    "    print(val)"
   ]
  },
  {
   "cell_type": "code",
   "execution_count": null,
   "id": "cae5f64a-1cbe-4563-99e4-7f2dc0a83e51",
   "metadata": {},
   "outputs": [],
   "source": [
    "# returns a sequence from __ to __ in increments of __\n",
    "for val in range(10,0,-1):\n",
    "    print(val)"
   ]
  },
  {
   "cell_type": "code",
   "execution_count": null,
   "id": "903e2625-8177-42d5-962d-cc03ad5d9f22",
   "metadata": {},
   "outputs": [],
   "source": [
    "# returns a sequence from __ to __ in increments of __\n",
    "for val in range(1,11):\n",
    "    print(val)"
   ]
  },
  {
   "cell_type": "code",
   "execution_count": 1,
   "id": "3b8681ed-c33e-48b2-a95d-a134fdcfc881",
   "metadata": {},
   "outputs": [
    {
     "name": "stdout",
     "output_type": "stream",
     "text": [
      "0\n",
      "1\n",
      "2\n",
      "3\n",
      "4\n"
     ]
    }
   ],
   "source": [
    "# returns a sequence from __ to __ in increments of __\n",
    "for val in range(5):\n",
    "    print(val)"
   ]
  },
  {
   "cell_type": "markdown",
   "id": "4100a8da-b900-4b1c-9fe1-96c113b29cc3",
   "metadata": {},
   "source": [
    "## Lists\n",
    "\n",
    "A list is a mutable sequence of items or elements. Lists can contain elements of any data type."
   ]
  },
  {
   "cell_type": "markdown",
   "id": "0c5f431f-31a4-4555-aee9-105e8cf2b402",
   "metadata": {},
   "source": [
    "### Creating a list \n",
    "A list is created by enclosing comma separated elements in square brackets. Let's look at a few examples below."
   ]
  },
  {
   "cell_type": "code",
   "execution_count": null,
   "id": "96c6d4ff-1c59-406f-81ff-62b3ac65b20d",
   "metadata": {},
   "outputs": [],
   "source": [
    "# empty list\n",
    "blank_list =\n",
    "print(blank_list)"
   ]
  },
  {
   "cell_type": "code",
   "execution_count": null,
   "id": "b448993d-5983-42f8-9ce6-78af667f802a",
   "metadata": {},
   "outputs": [],
   "source": [
    "# list of names (strings)\n",
    "names =  # Ajay, Bella, Yue\n",
    "print(names)"
   ]
  },
  {
   "cell_type": "code",
   "execution_count": null,
   "id": "798dfe7a-9101-4996-bf06-ad4801a0aa5c",
   "metadata": {},
   "outputs": [],
   "source": [
    "# list of ages\n",
    "ages =  # 30, 28, 31\n",
    "print(ages)"
   ]
  },
  {
   "cell_type": "code",
   "execution_count": null,
   "id": "29ac71fd-6dc8-445e-aa8b-0e53a2e3aa69",
   "metadata": {},
   "outputs": [],
   "source": [
    "# list of mixed types - name (string), age (integer), exam scores (list)\n",
    "student_info =  # Ajay, 30, [90,95]\n",
    "print(student_info)"
   ]
  },
  {
   "cell_type": "code",
   "execution_count": null,
   "id": "a4b58ef0-e6a8-4939-9a52-fc55b0a2ce23",
   "metadata": {},
   "outputs": [],
   "source": [
    "# list of mixed types - name (string), age (integer), exam scores (list) from previously created objects\n",
    "name = \"Bella\"\n",
    "age = 28\n",
    "exam_scores = [90,95]\n",
    "stud_info = # create the list\n",
    "print(stud_info)"
   ]
  },
  {
   "cell_type": "markdown",
   "id": "e222b94f-7592-4cd5-999c-4e470b3ed7b5",
   "metadata": {},
   "source": [
    "One use case is to create a list from a range."
   ]
  },
  {
   "cell_type": "code",
   "execution_count": null,
   "id": "c8acc3bf-2897-462c-821d-ef118221d49f",
   "metadata": {},
   "outputs": [],
   "source": [
    "# alternate way (using typecasting) to create a list from a range 1-3\n",
    "roll_call_numbers = \n",
    "print(roll_call_numbers)"
   ]
  },
  {
   "cell_type": "markdown",
   "id": "48479308-0e28-43f0-9bd2-52d1e4e5e9e1",
   "metadata": {},
   "source": [
    "Sometimes you want the same value repeated multiple times."
   ]
  },
  {
   "cell_type": "code",
   "execution_count": null,
   "id": "5789bb40-10a9-4234-8510-d5fb9e7de3d9",
   "metadata": {},
   "outputs": [],
   "source": [
    "# create a list with 2 repeated 6 times\n"
   ]
  },
  {
   "cell_type": "markdown",
   "id": "b6e95d6d-5bbb-4ae3-885d-95025e5c4084",
   "metadata": {},
   "source": [
    "### Accessing list elements\n",
    "\n",
    "Since the elements of a list are ordered, we can access them by specifying the position or index of an element. Keep in mind that the indices start from zero. If you have a list with 5 elements then the indices are 0-4. "
   ]
  },
  {
   "cell_type": "code",
   "execution_count": 2,
   "id": "2f367044-f855-4801-afec-6cad2e4b81e3",
   "metadata": {},
   "outputs": [],
   "source": [
    "countries = ['Australia','Bangladesh','Croatia','Denmark','Ethiopia']"
   ]
  },
  {
   "cell_type": "code",
   "execution_count": 3,
   "id": "59c67c8f-96fe-47c1-a705-659e8477ceb4",
   "metadata": {},
   "outputs": [
    {
     "name": "stdout",
     "output_type": "stream",
     "text": [
      "['Australia', 'Bangladesh', 'Croatia', 'Denmark', 'Ethiopia']\n"
     ]
    }
   ],
   "source": [
    "print(countries) # print the entire list (as a list object)"
   ]
  },
  {
   "cell_type": "code",
   "execution_count": 4,
   "id": "dac7c36f-e2ea-40a7-94bf-b831735498e7",
   "metadata": {},
   "outputs": [
    {
     "data": {
      "text/plain": [
       "'Australia'"
      ]
     },
     "execution_count": 4,
     "metadata": {},
     "output_type": "execute_result"
    }
   ],
   "source": [
    " # first element \n",
    "countries[0]"
   ]
  },
  {
   "cell_type": "code",
   "execution_count": 5,
   "id": "a93512a8-9965-4094-8bec-ea4782f08989",
   "metadata": {},
   "outputs": [
    {
     "data": {
      "text/plain": [
       "'Bangladesh'"
      ]
     },
     "execution_count": 5,
     "metadata": {},
     "output_type": "execute_result"
    }
   ],
   "source": [
    " # second element \n",
    "countries [1]\n"
   ]
  },
  {
   "cell_type": "code",
   "execution_count": 8,
   "id": "595af8f6-05e3-4db1-acb0-c15e5b7edf45",
   "metadata": {},
   "outputs": [
    {
     "data": {
      "text/plain": [
       "'Ethiopia'"
      ]
     },
     "execution_count": 8,
     "metadata": {},
     "output_type": "execute_result"
    }
   ],
   "source": [
    " # fifth or last element using index\n",
    "countries[4]"
   ]
  },
  {
   "cell_type": "code",
   "execution_count": 10,
   "id": "d754351e-7d5c-49dc-a01f-6a6866b09447",
   "metadata": {},
   "outputs": [
    {
     "data": {
      "text/plain": [
       "'Denmark'"
      ]
     },
     "execution_count": 10,
     "metadata": {},
     "output_type": "execute_result"
    }
   ],
   "source": [
    " # last element using -index\n",
    "countries[-2]"
   ]
  },
  {
   "cell_type": "code",
   "execution_count": 13,
   "id": "027ff448-5c50-4ba4-9f97-21bfe73ec896",
   "metadata": {},
   "outputs": [
    {
     "name": "stdout",
     "output_type": "stream",
     "text": [
      "5\n"
     ]
    },
    {
     "data": {
      "text/plain": [
       "'Denmark'"
      ]
     },
     "execution_count": 13,
     "metadata": {},
     "output_type": "execute_result"
    }
   ],
   "source": [
    "print(len(countries))\n",
    "# last element using len() and relative index\n",
    "countries[len(countries)-2]"
   ]
  },
  {
   "cell_type": "code",
   "execution_count": null,
   "id": "d9ce7b68-0362-42e2-8ad5-e667feac05d2",
   "metadata": {},
   "outputs": [],
   "source": [
    " # second last element using -index"
   ]
  },
  {
   "cell_type": "code",
   "execution_count": 16,
   "id": "1f849382-f2f2-4dba-9e81-825d1be75224",
   "metadata": {},
   "outputs": [
    {
     "name": "stdout",
     "output_type": "stream",
     "text": [
      "--- printing all countries in the list individually using indices---\n",
      "Australia\n",
      "Bangladesh\n",
      "Croatia\n",
      "Denmark\n",
      "Ethiopia\n"
     ]
    }
   ],
   "source": [
    "print(\"--- printing all countries in the list individually using indices---\")\n",
    "for i in range(1,len(countries)+1):\n",
    "    print(countries[i-1])\n"
   ]
  },
  {
   "cell_type": "code",
   "execution_count": 3,
   "id": "1ab3abf4-7e59-4844-93f9-87bb868b9fdf",
   "metadata": {},
   "outputs": [
    {
     "name": "stdout",
     "output_type": "stream",
     "text": [
      "--- printing all countries in the list individually using an enumerator and in uppercase ---\n",
      "AUSTRALIA\n",
      "BANGLADESH\n",
      "CROATIA\n",
      "DENMARK\n",
      "ETHIOPIA\n"
     ]
    }
   ],
   "source": [
    "print(\"--- printing all countries in the list individually using an enumerator and in uppercase ---\")\n",
    "for i in range(1,len(countries)+1):\n",
    "    print(countries[i-1].upper())"
   ]
  },
  {
   "cell_type": "code",
   "execution_count": 4,
   "id": "eec2fe1c-69d1-420d-bccc-e25756a8e5ee",
   "metadata": {},
   "outputs": [
    {
     "name": "stdout",
     "output_type": "stream",
     "text": [
      "--- printing list ---\n",
      "['Australia', 'Bangladesh', 'Croatia', 'Denmark', 'Ethiopia']\n"
     ]
    }
   ],
   "source": [
    "print(\"--- printing list ---\")\n",
    "print(countries)"
   ]
  },
  {
   "cell_type": "code",
   "execution_count": 5,
   "id": "8c7dccf2-a761-4cdb-8932-ddcacc06d684",
   "metadata": {},
   "outputs": [
    {
     "name": "stdout",
     "output_type": "stream",
     "text": [
      "--- printing all countries in the list without square brackets ---\n",
      "Australia Bangladesh Croatia Denmark Ethiopia\n"
     ]
    }
   ],
   "source": [
    "print(\"--- printing all countries in the list without square brackets ---\")\n",
    "print(*countries)"
   ]
  },
  {
   "cell_type": "code",
   "execution_count": 6,
   "id": "b9a0d4eb-970d-4beb-9d5f-e026b64f903f",
   "metadata": {},
   "outputs": [
    {
     "name": "stdout",
     "output_type": "stream",
     "text": [
      "--- printing all countries in the list individually without iteration ---\n",
      "Australia\n",
      "Bangladesh\n",
      "Croatia\n",
      "Denmark\n",
      "Ethiopia\n"
     ]
    }
   ],
   "source": [
    "print(\"--- printing all countries in the list individually without iteration ---\")\n",
    "print(*countries, sep = \"\\n\")"
   ]
  },
  {
   "cell_type": "markdown",
   "id": "732d9168-f9ab-4a2d-9827-8958628a4c5d",
   "metadata": {},
   "source": [
    "### Slicing lists\n",
    "\n",
    "Slicing refers to retrieving specific parts / sections of a list. The general syntax for slicing is `list[[start]:[end][:[step]]]`. This format returns a slice that starts from the index *start* (0, if unspecified) to the index  *(end - 1)* (end of list, if unspecified).\n",
    "\n",
    "**Note:** The convention for writing syntax is to place option arguments inside square brackets. "
   ]
  },
  {
   "cell_type": "code",
   "execution_count": 11,
   "id": "57ef8c53-3443-4564-8dd0-25f8c644cf74",
   "metadata": {},
   "outputs": [
    {
     "name": "stdout",
     "output_type": "stream",
     "text": [
      "['Australia', 'Bangladesh']\n"
     ]
    }
   ],
   "source": [
    "# Return the entire list using the slicing syntax\n",
    "country_slice = countries[0:2]\n",
    "print(country_slice)"
   ]
  },
  {
   "cell_type": "code",
   "execution_count": 19,
   "id": "ef678d63-71ca-4d68-9dd3-ffa4c4362fad",
   "metadata": {},
   "outputs": [
    {
     "name": "stdout",
     "output_type": "stream",
     "text": [
      "['Australia', 'Bangladesh']\n"
     ]
    }
   ],
   "source": [
    "# Return first 3 countries\n",
    "country_slice = countries[0:2]\n",
    "print(country_slice)"
   ]
  },
  {
   "cell_type": "code",
   "execution_count": 21,
   "id": "564a1249-d108-491f-aaad-b7add9565a62",
   "metadata": {},
   "outputs": [
    {
     "name": "stdout",
     "output_type": "stream",
     "text": [
      "['Ethiopia', 'Denmark']\n"
     ]
    }
   ],
   "source": [
    "# Return last 3 countries\n",
    "country_slice = countries[4:2:-1]\n",
    "print(country_slice)"
   ]
  },
  {
   "cell_type": "code",
   "execution_count": 20,
   "id": "7d4fe283-37da-49f5-bf15-f48480b7dbed",
   "metadata": {},
   "outputs": [
    {
     "name": "stdout",
     "output_type": "stream",
     "text": [
      "Bangladesh\n",
      "Croatia\n",
      "Denmark\n"
     ]
    }
   ],
   "source": [
    "# Print each country (in a new row) in the slice that contains the 2nd, 3rd and 4th entries.\n",
    "country_slice = countries[1:4]\n",
    "print(*country_slice, sep = \"\\n\")"
   ]
  },
  {
   "cell_type": "code",
   "execution_count": 23,
   "id": "5c379985-5e94-4a7e-ae60-1fab83de8067",
   "metadata": {},
   "outputs": [
    {
     "name": "stdout",
     "output_type": "stream",
     "text": [
      "Bangladesh\n",
      "Denmark\n"
     ]
    }
   ],
   "source": [
    "# Print alternate country names from the 2nd, 3rd and 4th entries.\n",
    "country_slice = countries[1::2]\n",
    "print(*country_slice, sep = \"\\n\")"
   ]
  },
  {
   "cell_type": "code",
   "execution_count": 24,
   "id": "50cbcfd0-5517-43a0-9863-9b8fc90fc780",
   "metadata": {},
   "outputs": [
    {
     "name": "stdout",
     "output_type": "stream",
     "text": [
      "Australia\n",
      "['Australia']\n",
      "<class 'str'>\n",
      "<class 'list'>\n"
     ]
    }
   ],
   "source": [
    "# note the difference between the two statements below. The first is a string, the second is a list\n",
    "print(countries[0])\n",
    "print(countries[0:1])\n",
    "\n",
    "print(type(countries[0]))\n",
    "print(type(countries[0:1]))"
   ]
  },
  {
   "cell_type": "markdown",
   "id": "280a6eea-af2f-4d21-82f5-4c5847448660",
   "metadata": {},
   "source": [
    "### Modifying lists (aka mutable sequence operations)\n",
    "\n",
    "Lists are mutable that is, they can be modified. You can modify lists by assigning new values to some list elements, appending new elements to a list, inserting a new element in the list, or removing elements from a list. You can also permanently change the sorting order of a list. The relevant syntax is included below. \n",
    "\n",
    "- Assign a new value to a list element <br/>\n",
    "`list[start[:[endindex]][:[step]]] = value`\n",
    "- Append an item to the list (add at the end) <br/>\n",
    "`list.append(item)`\n",
    "- Append a new list to the list (add at the end) <br/>\n",
    "`list.extend(newlist)` <br/>\n",
    "- Insert an item at a specified position (shifts items that come after and increases the length of the list by 1)<br/>\n",
    "`list.insert(insert_index, item_to_insert)` \n",
    "- Remove the item at the specified index (last item, if index is unspecified)<br/>\n",
    "`list.pop([index_to_remove])` \n",
    "- Remove a specified item from a list<br/>\n",
    "`list.remove(item_to_remove)` \n",
    "- Remove a specified slice from a list<br/>\n",
    "`del list[start[:end][:skip]]` \n",
    "- Remove all elements from a list<br/>\n",
    "`list.clear()` \n",
    "- Reverse a list <br/>\n",
    "`list.reverse()`\n",
    "- Sort a list <br/>\n",
    "`list.sort([reverse = False])`\n",
    "\n",
    "\n",
    "**Note:** In all cases above the original list is modified as a result of the operation. There are some list operations that don't modify the orginal list. This includes slicing and other operations explored in subsequent subsections."
   ]
  },
  {
   "cell_type": "code",
   "execution_count": 25,
   "id": "6c295f43-e111-41de-ad7b-96e3631bb710",
   "metadata": {},
   "outputs": [],
   "source": [
    "# Create four lists\n",
    "countries_north_america = ['Canada', 'United States']\n",
    "countries_south_america = ['mexico', 'Peru', 'Brazil', 'Chile']\n",
    "countries_asia = ['China', 'Bangladesh', 'India']\n",
    "countries_africa = ['Nigeria', 'South Africa', 'Tanzania', 'Egypt', 'Ethiopia']"
   ]
  },
  {
   "cell_type": "code",
   "execution_count": 27,
   "id": "2cd7141d-2ee2-4552-bb8e-7fcf9843c2a1",
   "metadata": {},
   "outputs": [
    {
     "name": "stdout",
     "output_type": "stream",
     "text": [
      "['Mexico', 'Peru', 'Brazil', 'Chile']\n"
     ]
    }
   ],
   "source": [
    "# Change the first element of countries_south_america to Mexico\n",
    "countries_south_america[0]=\"Mexico\"\n",
    "print(countries_south_america)"
   ]
  },
  {
   "cell_type": "code",
   "execution_count": 29,
   "id": "ec273e23-c4d1-4028-b50d-9ef8ab423780",
   "metadata": {},
   "outputs": [
    {
     "name": "stdout",
     "output_type": "stream",
     "text": [
      "['China', 'Bangladesh', 'Indonesia', 'Indonesia']\n"
     ]
    }
   ],
   "source": [
    "# insert \"Indonesia\" as the third country in countries_asia\n",
    "countries_asia.insert(2,\"Indonesia\")\n",
    "print(countries_asia)"
   ]
  },
  {
   "cell_type": "code",
   "execution_count": 30,
   "id": "e51f6cba-2006-48dc-96b7-aae9c97d007f",
   "metadata": {},
   "outputs": [
    {
     "name": "stdout",
     "output_type": "stream",
     "text": [
      "['Tanzania', 'South Africa', 'Nigeria', 'Ethiopia', 'Egypt']\n"
     ]
    }
   ],
   "source": [
    "# sort countries_africa in descending order\n",
    "countries_africa.sort(reverse=True)\n",
    "print(countries_africa)"
   ]
  },
  {
   "cell_type": "markdown",
   "id": "8c26aca7-702e-46bb-81ab-5ce8b79d0f05",
   "metadata": {},
   "source": [
    "### Aliasing vs creating a copy of the list\n",
    "\n",
    "Sometimes you will want to assign a different name to the same list (create an alias). When you do so, changes made to one alias will be reflected in references to other aliases. Let's look at an example.  "
   ]
  },
  {
   "cell_type": "code",
   "execution_count": 2,
   "id": "205300cb-ac32-4433-89fe-64593b2dec6c",
   "metadata": {},
   "outputs": [],
   "source": [
    "countries = ['Australia','Bangladesh','Croatia','Denmark','Ethiopia']\n",
    "countrylist=countries\n",
    "#assign countrcies to countrylist"
   ]
  },
  {
   "cell_type": "code",
   "execution_count": 3,
   "id": "9eb42974-b300-496e-b41d-4b6df3d86323",
   "metadata": {},
   "outputs": [
    {
     "name": "stdout",
     "output_type": "stream",
     "text": [
      "Printing countries\n",
      "['Australia', 'Bangladesh', 'Croatia', 'Denmark', 'Ethiopia']\n",
      "Printing countrylist\n",
      "['Australia', 'Bangladesh', 'Croatia', 'Denmark', 'Ethiopia']\n"
     ]
    }
   ],
   "source": [
    "print(\"Printing countries\")\n",
    "print(countries)\n",
    "print(\"Printing countrylist\")\n",
    "print(countrylist)"
   ]
  },
  {
   "cell_type": "code",
   "execution_count": 4,
   "id": "03846605-5f58-456c-ad66-f173193bca41",
   "metadata": {},
   "outputs": [
    {
     "name": "stdout",
     "output_type": "stream",
     "text": [
      "Append France to countrylist\n"
     ]
    }
   ],
   "source": [
    "# Append France to countrylist\n",
    "countrylist.append(\"France\")\n",
    "print(\"Append France to countrylist\")\n"
   ]
  },
  {
   "cell_type": "code",
   "execution_count": 5,
   "id": "6e5ab28e-ed0f-487b-8fa5-1b6411ffc535",
   "metadata": {},
   "outputs": [
    {
     "name": "stdout",
     "output_type": "stream",
     "text": [
      "Printing countries\n",
      "['Australia', 'Bangladesh', 'Croatia', 'Denmark', 'Ethiopia', 'France']\n",
      "Printing countrylist\n",
      "['Australia', 'Bangladesh', 'Croatia', 'Denmark', 'Ethiopia', 'France']\n"
     ]
    }
   ],
   "source": [
    "print(\"Printing countries\")\n",
    "print(countries)\n",
    "print(\"Printing countrylist\")\n",
    "print(countrylist)"
   ]
  },
  {
   "cell_type": "markdown",
   "id": "c528bdc3-4d28-4b63-aa0c-c4db7bd723ba",
   "metadata": {},
   "source": [
    "You may encounter a situation where you want to copy a list and modify the copy only (not the original). You can do so by assigning a 'full' slice of the list to another list variable or by using the copy() function as shown below."
   ]
  },
  {
   "cell_type": "code",
   "execution_count": 44,
   "id": "8b3806e8-0c22-40c3-a15a-d3c5c312a172",
   "metadata": {},
   "outputs": [
    {
     "name": "stdout",
     "output_type": "stream",
     "text": [
      "Printing countrylist\n",
      "['Australia', 'Bangladesh', 'Croatia', 'Denmark', 'Ethiopia', 'France']\n"
     ]
    }
   ],
   "source": [
    "countries = ['Australia','Bangladesh','Croatia','Denmark','Ethiopia']\n",
    "\n",
    "# assign countries to countrylist using the slicing notation \n",
    "\n",
    "\n",
    "print(\"Printing countrylist\")\n",
    "print(countrylist)"
   ]
  },
  {
   "cell_type": "code",
   "execution_count": 45,
   "id": "8efce98c-333c-4cd6-9b78-67ba9f5e835b",
   "metadata": {},
   "outputs": [
    {
     "name": "stdout",
     "output_type": "stream",
     "text": [
      "Append France to countrylist\n",
      "Printing countries\n",
      "['Australia', 'Bangladesh', 'Croatia', 'Denmark', 'Ethiopia']\n",
      "Printing countrylist\n",
      "['Australia', 'Bangladesh', 'Croatia', 'Denmark', 'Ethiopia', 'France', 'France']\n"
     ]
    }
   ],
   "source": [
    "# Append France to countrylist\n",
    "print(\"Append France to countrylist\")\n",
    "countrylist.append('France')\n",
    "\n",
    "print(\"Printing countries\")\n",
    "print(countries)\n",
    "print(\"Printing countrylist\")\n",
    "print(countrylist)"
   ]
  },
  {
   "cell_type": "code",
   "execution_count": 46,
   "id": "a547133c-1210-4523-a3f9-1e3c2ae5e6cb",
   "metadata": {},
   "outputs": [
    {
     "name": "stdout",
     "output_type": "stream",
     "text": [
      "Printing countries\n",
      "['Australia', 'Bangladesh', 'Croatia', 'Denmark', 'Ethiopia']\n",
      "Printing countrylist\n",
      "['Australia', 'Bangladesh', 'Croatia', 'Denmark', 'Ethiopia', 'France', 'France']\n"
     ]
    }
   ],
   "source": [
    "# using the copy function\n",
    "countries = ['Australia','Bangladesh','Croatia','Denmark','Ethiopia']\n",
    "\n",
    "# assign countries to countrylist using the copy function\n",
    "\n",
    "\n",
    "print(\"Printing countries\")\n",
    "print(countries)\n",
    "print(\"Printing countrylist\")\n",
    "print(countrylist)"
   ]
  },
  {
   "cell_type": "code",
   "execution_count": 47,
   "id": "252d1f45-782d-4848-ac37-22c28434d9a8",
   "metadata": {},
   "outputs": [
    {
     "name": "stdout",
     "output_type": "stream",
     "text": [
      "Append France to countrylist\n",
      "Printing countries\n",
      "['Australia', 'Bangladesh', 'Croatia', 'Denmark', 'Ethiopia']\n",
      "Printing countrylist\n",
      "['Australia', 'Bangladesh', 'Croatia', 'Denmark', 'Ethiopia', 'France', 'France', 'France']\n"
     ]
    }
   ],
   "source": [
    "print(\"Append France to countrylist\")\n",
    "countrylist.append('France')\n",
    "\n",
    "print(\"Printing countries\")\n",
    "print(countries)\n",
    "print(\"Printing countrylist\")\n",
    "print(countrylist)"
   ]
  },
  {
   "cell_type": "markdown",
   "id": "c0538e3a-db25-4103-9cc9-a6209da4851a",
   "metadata": {},
   "source": [
    "When functions return lists, they typically return a copy. "
   ]
  },
  {
   "cell_type": "code",
   "execution_count": 48,
   "id": "15c962f1-83d9-4af7-ac79-c9d0ca242e14",
   "metadata": {},
   "outputs": [
    {
     "name": "stdout",
     "output_type": "stream",
     "text": [
      "['Australia', 'Croatia', 'Bangladesh', 'Denmark', 'Ethiopia']\n"
     ]
    }
   ],
   "source": [
    "# create list\n",
    "countries = ['Australia','Croatia','Bangladesh','Denmark','Ethiopia']\n",
    "print(countries)"
   ]
  },
  {
   "cell_type": "code",
   "execution_count": 49,
   "id": "55c12989-c23a-46a8-ad24-7ec8cfc5601e",
   "metadata": {},
   "outputs": [
    {
     "name": "stdout",
     "output_type": "stream",
     "text": [
      "['Ethiopia', 'Denmark', 'Croatia', 'Bangladesh', 'Australia']\n"
     ]
    }
   ],
   "source": [
    "# permanently sort the list in reverse order\n",
    "countries.sort(reverse=True)\n",
    "print(countries)"
   ]
  },
  {
   "cell_type": "code",
   "execution_count": 50,
   "id": "0a7cea84-3d9d-4774-91c5-b9e43280f114",
   "metadata": {},
   "outputs": [
    {
     "name": "stdout",
     "output_type": "stream",
     "text": [
      "['Australia', 'Croatia', 'Bangladesh', 'Denmark', 'Ethiopia']\n"
     ]
    }
   ],
   "source": [
    "countries = ['Australia','Croatia','Bangladesh','Denmark','Ethiopia']\n",
    "print(countries)"
   ]
  },
  {
   "cell_type": "code",
   "execution_count": 51,
   "id": "4fc860cc-b3db-4bb8-8175-b26c0251a8c2",
   "metadata": {},
   "outputs": [
    {
     "name": "stdout",
     "output_type": "stream",
     "text": [
      "['Australia', 'Croatia', 'Bangladesh', 'Denmark', 'Ethiopia']\n",
      "['Ethiopia', 'Denmark', 'Croatia', 'Bangladesh', 'Australia']\n"
     ]
    }
   ],
   "source": [
    "# temporarily sort the list and store the result in countries_rev\n",
    "countries_rev=sorted(countries, reverse = True)\n",
    "print(countries)\n",
    "print(countries_rev)"
   ]
  },
  {
   "cell_type": "code",
   "execution_count": 55,
   "id": "2db96740-a539-4207-a8b0-cb2bcab5d593",
   "metadata": {},
   "outputs": [
    {
     "name": "stdout",
     "output_type": "stream",
     "text": [
      "Australia Bangladesh Croatia\n",
      "Denmark Ethiopia\n"
     ]
    }
   ],
   "source": [
    "# create two lists\n",
    "countries = ['Australia','Bangladesh','Croatia']\n",
    "more_countries = ['Denmark','Ethiopia']\n",
    "\n",
    "print(*countries)\n",
    "print(*more_countries)"
   ]
  },
  {
   "cell_type": "code",
   "execution_count": 56,
   "id": "4463e67d-b9d5-492a-a719-2082ac548d61",
   "metadata": {},
   "outputs": [
    {
     "name": "stdout",
     "output_type": "stream",
     "text": [
      "['Australia', 'Bangladesh', 'Croatia', ['Denmark', 'Ethiopia']]\n",
      "['Denmark', 'Ethiopia']\n"
     ]
    }
   ],
   "source": [
    "#combine the lists by appending more_countries list to countries list\n",
    "countries.append(more_countries)\n",
    "print(countries)\n",
    "print(more_countries)"
   ]
  },
  {
   "cell_type": "code",
   "execution_count": 57,
   "id": "a0e963ff-9887-4c18-80b1-fc920a32c862",
   "metadata": {},
   "outputs": [
    {
     "name": "stdout",
     "output_type": "stream",
     "text": [
      "['Australia', 'Bangladesh', 'Croatia']\n",
      "['Denmark', 'Ethiopia']\n"
     ]
    }
   ],
   "source": [
    "# create two lists\n",
    "countries = ['Australia','Bangladesh','Croatia']\n",
    "more_countries = ['Denmark','Ethiopia']\n",
    "print(countries)\n",
    "print(more_countries)"
   ]
  },
  {
   "cell_type": "code",
   "execution_count": null,
   "id": "a0b3da6e-e164-419f-bba5-48dba3d1dc01",
   "metadata": {},
   "outputs": [],
   "source": [
    "# what if we want to append the countries from list to the other list?\n",
    "\n",
    "print(countries)\n",
    "print(more_countries)"
   ]
  },
  {
   "cell_type": "code",
   "execution_count": 58,
   "id": "8e42767a-40e6-4e91-b52c-096f3372b82a",
   "metadata": {},
   "outputs": [
    {
     "name": "stdout",
     "output_type": "stream",
     "text": [
      "['Australia', 'Bangladesh', 'Croatia']\n",
      "['Denmark', 'Ethiopia']\n"
     ]
    }
   ],
   "source": [
    "# create two lists\n",
    "countries = ['Australia','Bangladesh','Croatia']\n",
    "more_countries = ['Denmark','Ethiopia']\n",
    "print(countries)\n",
    "print(more_countries)"
   ]
  },
  {
   "cell_type": "code",
   "execution_count": 59,
   "id": "16843baf-7ee6-40de-8720-f2b4b3393863",
   "metadata": {},
   "outputs": [
    {
     "name": "stdout",
     "output_type": "stream",
     "text": [
      "['Australia', 'Bangladesh', 'Croatia']\n",
      "['Denmark', 'Ethiopia']\n",
      "['Australia', 'Bangladesh', 'Croatia', 'Denmark', 'Ethiopia']\n"
     ]
    }
   ],
   "source": [
    "#combine the lists without changing either and store result in combined_countries\n",
    "combined_countries=countries+more_countries\n",
    "print(countries)\n",
    "print(more_countries)\n",
    "print(combined_countries)\n",
    "\n",
    "# you could use countries = countries + more_countries to change the original list countries"
   ]
  },
  {
   "cell_type": "markdown",
   "id": "5bfc4c58-71ce-44ce-a480-d558c29f4cfd",
   "metadata": {},
   "source": [
    "### Other useful list operations\n",
    "\n",
    "Find if an element exists (or does not) in a list <br/>\n",
    "`element in list`\n",
    "`element not in list`\n",
    "\n",
    "Find the smallest item in a list <br/>\n",
    "`min(list)`\n",
    "\n",
    "Find the largest item in a list <br/>\n",
    "`max(list)`\n",
    "\n",
    "Add the values in a list <br/>\n",
    "`sum(list)`\n",
    "\n",
    "Count the number of occurances of an item in a list <br/>\n",
    "`list.count(item)`\n",
    "\n",
    "Index of an item in a list at or after the start index and before the end index <br/>\n",
    "`list.index(item[, start[, end]])`\n",
    "\n",
    "Compare two lists <br/>\n",
    "`list1 == list2`\n",
    "`list1 < list2` and so on. <br/>\n",
    "List comparison can appear quite complicated.\n",
    "For two lists to be equal they must have the same number of elements and the corresponding elements should have the same data type and value. If lists are being compared for anything other than equality, they can have different lengths.\n",
    "Lists (and other sequences) are compared by doing a pairwise comparison starting from index 0. If the items are equal, the next pair is compared and so on until the end of the list or until non equal items are encountered. The result of the pairwaise comparison of the first pair of non equal items determines the result. If one list is shorter, a NULL value is assumed.\n",
    "\n",
    "**Note**: Some list functions (e.g., sum) only work on numbers. Others work on various data types. <br/>"
   ]
  },
  {
   "cell_type": "code",
   "execution_count": 62,
   "id": "11bc978b-b1fe-4c56-89c0-733092702124",
   "metadata": {},
   "outputs": [],
   "source": [
    "num_list = [1,10,3,8,27,10,54,10,2,8]"
   ]
  },
  {
   "cell_type": "code",
   "execution_count": 63,
   "id": "6384897d-84db-4e60-befe-7399ff8dc61c",
   "metadata": {},
   "outputs": [
    {
     "name": "stdout",
     "output_type": "stream",
     "text": [
      "1\n"
     ]
    }
   ],
   "source": [
    "# print the min value\n",
    "print(min(num_list))"
   ]
  },
  {
   "cell_type": "code",
   "execution_count": 64,
   "id": "6fc4c325-1f5a-4c75-aa90-838a07cb0c61",
   "metadata": {},
   "outputs": [
    {
     "name": "stdout",
     "output_type": "stream",
     "text": [
      "True\n"
     ]
    }
   ],
   "source": [
    "# is the number 10 in the list?\n",
    "num_to_search = 10\n",
    "print(num_to_search in num_list)"
   ]
  },
  {
   "cell_type": "code",
   "execution_count": 65,
   "id": "b34bfa8f-9ef5-4d2b-a73c-ba7ebfc6559d",
   "metadata": {},
   "outputs": [
    {
     "name": "stdout",
     "output_type": "stream",
     "text": [
      "3\n"
     ]
    }
   ],
   "source": [
    "# number of times 10 appears in the list\n",
    "print(num_list.count(num_to_search))"
   ]
  },
  {
   "cell_type": "code",
   "execution_count": 66,
   "id": "99b0eb00-b21b-4c97-8ce3-713551b2a294",
   "metadata": {},
   "outputs": [
    {
     "data": {
      "text/plain": [
       "2"
      ]
     },
     "execution_count": 66,
     "metadata": {},
     "output_type": "execute_result"
    }
   ],
   "source": [
    "# where does 3 appear in the list?\n",
    "num_list.index(3)"
   ]
  },
  {
   "cell_type": "code",
   "execution_count": 67,
   "id": "c34ab135-cc1c-4d6b-89d8-815bd05e03be",
   "metadata": {},
   "outputs": [
    {
     "name": "stdout",
     "output_type": "stream",
     "text": [
      "True\n",
      "False\n",
      "False\n",
      "False\n",
      "False\n",
      "False\n",
      "False\n",
      "False\n",
      "True\n",
      "True\n",
      "True\n"
     ]
    }
   ],
   "source": [
    "list1 = [1,2,3]\n",
    "list2 = [1,2,3]\n",
    "list3 = [1,3,4]\n",
    "list4 = [1,2,3,4]\n",
    "list5 = [\"1\",\"2\",\"3\"]\n",
    "list6 = ['a','b','c']\n",
    "list7 = [1,'a',2]\n",
    "list8 = [1,'b',2]\n",
    "list9 = [1,2,'a']\n",
    "list10 = [2,3,1]\n",
    "\n",
    "print(list1 == list2)\n",
    "print(list1 == list3)\n",
    "print(list1 == list4)\n",
    "print(list1 == list5)\n",
    "print(list1 == list6)\n",
    "print(list5 == list6)\n",
    "print(list7 == list8)\n",
    "print(list7 == list9)\n",
    "print(list1 < list4)\n",
    "print(list1 < list3)\n",
    "print(list1 < list10)"
   ]
  },
  {
   "cell_type": "markdown",
   "id": "e8499149-9352-462b-9d9c-913fd39fb96e",
   "metadata": {},
   "source": [
    "## Tuples\n",
    "\n",
    "A tuple is an immutable sequence of objects of different types."
   ]
  },
  {
   "cell_type": "markdown",
   "id": "28cd58d7-a1b0-4d83-af32-61a6359225d6",
   "metadata": {},
   "source": [
    "### Creating a tuple\n",
    "\n",
    "A tuple is created by enclosing comma separated elements in round brackets. Let's look at a few examples below."
   ]
  },
  {
   "cell_type": "code",
   "execution_count": 69,
   "id": "8c3294c4-1f2b-45e6-9eaa-22563464f3c1",
   "metadata": {},
   "outputs": [
    {
     "name": "stdout",
     "output_type": "stream",
     "text": [
      "()\n"
     ]
    }
   ],
   "source": [
    "# empty tuple\n",
    "blank_tuple = ()\n",
    "print(blank_tuple)"
   ]
  },
  {
   "cell_type": "code",
   "execution_count": 70,
   "id": "3f7c721a-851c-40d1-9b09-f6c171373772",
   "metadata": {},
   "outputs": [
    {
     "name": "stdout",
     "output_type": "stream",
     "text": [
      "(30, 28, 31)\n"
     ]
    }
   ],
   "source": [
    "# tuple of ages\n",
    "ages =  (30,28,31)# 30, 28, 31\n",
    "print(ages)"
   ]
  },
  {
   "cell_type": "code",
   "execution_count": 71,
   "id": "0384a708-9b64-4ab0-837b-b171e28cb6f2",
   "metadata": {},
   "outputs": [
    {
     "name": "stdout",
     "output_type": "stream",
     "text": [
      "(30, 28, 31, 30, 28, 31)\n"
     ]
    }
   ],
   "source": [
    "ages2= (30,28,31,30,28,31) # 30,28,31,30,28,31\n",
    "print(ages2)"
   ]
  },
  {
   "cell_type": "code",
   "execution_count": 75,
   "id": "f8064a17-880e-4875-b830-92900f492244",
   "metadata": {},
   "outputs": [
    {
     "name": "stdout",
     "output_type": "stream",
     "text": [
      "('Ajay', 30, 90, 95)\n"
     ]
    }
   ],
   "source": [
    "# tuple of mixed types - name (string), age (integer), exam scores (list)\n",
    "student_info = (\"Ajay\", 30, 90,95)# Ajay, 30, [90,95]\n",
    "print(student_info)"
   ]
  },
  {
   "cell_type": "code",
   "execution_count": 76,
   "id": "6f65bc59-02fe-479e-b2e6-3634317d1ee0",
   "metadata": {},
   "outputs": [
    {
     "name": "stdout",
     "output_type": "stream",
     "text": [
      "range(1, 4)\n"
     ]
    }
   ],
   "source": [
    "rollcall = range(1,4) # convert range to tuple\n",
    "print(rollcall)\n"
   ]
  },
  {
   "cell_type": "code",
   "execution_count": null,
   "id": "fb2221a9-037a-4a0a-9c35-6e8668794cfc",
   "metadata": {},
   "outputs": [],
   "source": [
    "chars = 'Hello' # convert string to tuple\n",
    "print(chars)"
   ]
  },
  {
   "cell_type": "markdown",
   "id": "c9ea22dd-e8a7-4817-8bef-9870147f3a8f",
   "metadata": {},
   "source": [
    "### Changing a tuple\n",
    "\n",
    "Since tuples are immutable, you can't change the value of a tuple after it is created. You may still assign a new tuple to a variable."
   ]
  },
  {
   "cell_type": "code",
   "execution_count": 78,
   "id": "ce434e19-60d5-4bc6-b068-f31e871e6092",
   "metadata": {},
   "outputs": [
    {
     "name": "stdout",
     "output_type": "stream",
     "text": [
      "(4, 5)\n"
     ]
    }
   ],
   "source": [
    "num = (1,2,3)\n",
    "num1 = (4,5)\n",
    "\n",
    "num=num1\n",
    "print(num)\n",
    "# num[0] = 7\n",
    "# num = num1"
   ]
  },
  {
   "cell_type": "markdown",
   "id": "2b3106a2-a9f1-4955-8243-76528f643c82",
   "metadata": {},
   "source": [
    "### Accessing tuple elements\n",
    "\n",
    "Tuple elements can be accessed using the same syntax as list elements."
   ]
  },
  {
   "cell_type": "markdown",
   "id": "6fadccdc-3e0e-4e62-8b83-96b0c16570b9",
   "metadata": {},
   "source": [
    "### Slicing tuples\n",
    "\n",
    "Tuples can be sliced the same way as lists."
   ]
  },
  {
   "cell_type": "markdown",
   "id": "238468b6-b373-4785-b388-1d0b0112b4a4",
   "metadata": {},
   "source": [
    "### Tuple operations (unmutable sequence operations)\n",
    "\n",
    "Since tuples are immutable, they only support operations that do not modify the tuple. This includes\n",
    "\n",
    "Searching for an item in a tuple <br/>\n",
    "`item in tuple`\n",
    "`item not in tuple`\n",
    "\n",
    "Combining two tuples <br/>\n",
    "`tuple1 + tuple2`\n",
    "\n",
    "Replicating a tuple n times <br/>\n",
    "`tuple * n`\n",
    "\n",
    "Slicing a tuple <br/>\n",
    "`tuple[start:[end][:step]`\n",
    "\n",
    "Length of a tuple <br/>\n",
    "`len(tuple)`\n",
    "\n",
    "Smallest item in a tuple <br/>\n",
    "`min(tuple)`\n",
    "\n",
    "Largest item in a tuple <br/>\n",
    "`max(tuple)`\n",
    "\n",
    "Count the number of occurances of an item in a tuple <br/>\n",
    "`tuple.count(item)`\n",
    "\n",
    "Find the index of the first occurance of an item in a tuple at or after the start index and before the end index <br/>\n",
    "`tuple.index(item[,start[,end]])`"
   ]
  },
  {
   "cell_type": "markdown",
   "id": "6e769045-aa9e-4a77-ab64-4f02601d3b9b",
   "metadata": {},
   "source": [
    "## Strings as a sequence of characters\n",
    "\n",
    "Strings are an immutable sequence of individual characters that make up the string. "
   ]
  },
  {
   "cell_type": "code",
   "execution_count": 79,
   "id": "ce67d3bb-0c9e-4dc5-ba37-4b89630bb412",
   "metadata": {},
   "outputs": [
    {
     "name": "stdout",
     "output_type": "stream",
     "text": [
      "Hello, World!\n"
     ]
    }
   ],
   "source": [
    "# a string is a sequence of characters\n",
    "message = \"Hello, World!\"\n",
    "print(message)"
   ]
  },
  {
   "cell_type": "code",
   "execution_count": 80,
   "id": "aff396d8-c566-4411-8cdc-b0823b7a8932",
   "metadata": {},
   "outputs": [
    {
     "name": "stdout",
     "output_type": "stream",
     "text": [
      "H\n",
      "E\n",
      "L\n",
      "L\n",
      "O\n",
      ",\n",
      " \n",
      "W\n",
      "O\n",
      "R\n",
      "L\n",
      "D\n",
      "!\n"
     ]
    }
   ],
   "source": [
    "for char in message:\n",
    "    print(char.upper())"
   ]
  },
  {
   "cell_type": "code",
   "execution_count": 81,
   "id": "7c602db6-857e-4b61-afae-9125a1f07df3",
   "metadata": {},
   "outputs": [
    {
     "name": "stdout",
     "output_type": "stream",
     "text": [
      "H\n"
     ]
    }
   ],
   "source": [
    "print(message[0])"
   ]
  },
  {
   "cell_type": "code",
   "execution_count": 82,
   "id": "5256b038-5864-4c98-bc65-f7ffe5af2fba",
   "metadata": {},
   "outputs": [
    {
     "ename": "TypeError",
     "evalue": "'str' object does not support item assignment",
     "output_type": "error",
     "traceback": [
      "\u001b[0;31m---------------------------------------------------------------------------\u001b[0m",
      "\u001b[0;31mTypeError\u001b[0m                                 Traceback (most recent call last)",
      "\u001b[0;32m/tmp/ipykernel_563823/1594895983.py\u001b[0m in \u001b[0;36m<module>\u001b[0;34m\u001b[0m\n\u001b[1;32m      1\u001b[0m \u001b[0;31m# strings are immutable\u001b[0m\u001b[0;34m\u001b[0m\u001b[0;34m\u001b[0m\u001b[0;34m\u001b[0m\u001b[0m\n\u001b[0;32m----> 2\u001b[0;31m \u001b[0mmessage\u001b[0m\u001b[0;34m[\u001b[0m\u001b[0;36m0\u001b[0m\u001b[0;34m]\u001b[0m \u001b[0;34m=\u001b[0m \u001b[0;34m'h'\u001b[0m\u001b[0;34m\u001b[0m\u001b[0;34m\u001b[0m\u001b[0m\n\u001b[0m\u001b[1;32m      3\u001b[0m \u001b[0mprint\u001b[0m\u001b[0;34m(\u001b[0m\u001b[0mmessage\u001b[0m\u001b[0;34m)\u001b[0m\u001b[0;34m\u001b[0m\u001b[0;34m\u001b[0m\u001b[0m\n",
      "\u001b[0;31mTypeError\u001b[0m: 'str' object does not support item assignment"
     ]
    }
   ],
   "source": [
    "# strings are immutable\n",
    "message[0] = 'h'\n",
    "print(message)"
   ]
  },
  {
   "cell_type": "code",
   "execution_count": null,
   "id": "7a9d74c4-68f8-4549-be5f-f75ab10e9f11",
   "metadata": {},
   "outputs": [],
   "source": [
    "# immutable operations that work on sequences also work on strings\n",
    "print(message.count('o'))"
   ]
  },
  {
   "cell_type": "markdown",
   "id": "c8022ce5-9263-488a-83ce-cf7e93ee5daf",
   "metadata": {},
   "source": [
    "**To get a better understanding of working with strings, you must read Chapter 8 of the Think Python textbook. This is required reading.**"
   ]
  },
  {
   "cell_type": "markdown",
   "id": "d24223b8-1c46-4986-b76b-dee45b5167c4",
   "metadata": {},
   "source": [
    "## Dictionaries\n",
    "\n",
    "A dictionary allows for storing key-value pairs such that there is a one-to-one mapping between a key and a value. Keys must be unique. Both keys and values can be of any datatype, unlike a list where indices must be integers."
   ]
  },
  {
   "cell_type": "code",
   "execution_count": null,
   "id": "4a2a1265-767b-4e43-8559-1727d2bd86f8",
   "metadata": {},
   "outputs": [],
   "source": [
    "# create a blank dictionary\n",
    "\n",
    "course_code_to_name_dict = {} as a variable name; it is a functio}"
   ]
  },
  {
   "cell_type": "code",
   "execution_count": 3,
   "id": "03919749-31c5-4359-a2f1-ed0fa2b15cbf",
   "metadata": {},
   "outputs": [],
   "source": [
    "# create a dictionary with items\n",
    "\n",
    "course_code_to_name_dict = {\"SCM 421\":\"Supply chain analytics\",\n",
    "                            \"BAN 831\":\"Programming skills for businsess\",\n",
    "                            \"MIS 431\":\"Business data management\"} # don't use dict as a variable name; it is a functiond"
   ]
  },
  {
   "cell_type": "code",
   "execution_count": 4,
   "id": "3cd0d2ac-ace9-4849-bb49-b74f14d151ad",
   "metadata": {},
   "outputs": [
    {
     "data": {
      "text/plain": [
       "{'SCM 421': 'Supply chain analytics',\n",
       " 'BAN 831': 'Programming skills for businsess',\n",
       " 'MIS 431': 'Business data management'}"
      ]
     },
     "execution_count": 4,
     "metadata": {},
     "output_type": "execute_result"
    }
   ],
   "source": [
    "course_code_to_name_dict"
   ]
  },
  {
   "cell_type": "code",
   "execution_count": 5,
   "id": "85adc762-3db5-4284-8fb4-6665aeb8908a",
   "metadata": {},
   "outputs": [],
   "source": [
    "# add new item\n",
    "course_code_to_name_dict['BAN 830']=\"Descriptive Analysis\"\n"
   ]
  },
  {
   "cell_type": "code",
   "execution_count": 6,
   "id": "ac543d82-815c-440a-9c0e-1ac1fb81d552",
   "metadata": {},
   "outputs": [
    {
     "data": {
      "text/plain": [
       "{'SCM 421': 'Supply chain analytics',\n",
       " 'BAN 831': 'Programming skills for businsess',\n",
       " 'MIS 431': 'Business data management',\n",
       " 'BAN 830': 'Descriptive Analysis'}"
      ]
     },
     "execution_count": 6,
     "metadata": {},
     "output_type": "execute_result"
    }
   ],
   "source": [
    "course_code_to_name_dict"
   ]
  },
  {
   "cell_type": "code",
   "execution_count": 7,
   "id": "35c3432c-02d6-4bbe-b995-5bf3c2624951",
   "metadata": {},
   "outputs": [
    {
     "data": {
      "text/plain": [
       "dict_keys(['SCM 421', 'BAN 831', 'MIS 431', 'BAN 830'])"
      ]
     },
     "execution_count": 7,
     "metadata": {},
     "output_type": "execute_result"
    }
   ],
   "source": [
    "# retrieve all keys\n",
    "course_code_to_name_dict.keys()"
   ]
  },
  {
   "cell_type": "code",
   "execution_count": 8,
   "id": "aa1f5340-023a-4032-bb8f-41adcafec4ea",
   "metadata": {},
   "outputs": [
    {
     "data": {
      "text/plain": [
       "dict_values(['Supply chain analytics', 'Programming skills for businsess', 'Business data management', 'Descriptive Analysis'])"
      ]
     },
     "execution_count": 8,
     "metadata": {},
     "output_type": "execute_result"
    }
   ],
   "source": [
    "# retrieve all values\n",
    "course_code_to_name_dict.values()"
   ]
  },
  {
   "cell_type": "code",
   "execution_count": 10,
   "id": "cdd03d52-11b5-4fee-ab05-ac312165f6ab",
   "metadata": {},
   "outputs": [
    {
     "data": {
      "text/plain": [
       "'Programming skills for businsess'"
      ]
     },
     "execution_count": 10,
     "metadata": {},
     "output_type": "execute_result"
    }
   ],
   "source": [
    "# retrieve value using key\n",
    "course_code_to_name_dict['BAN 831']"
   ]
  },
  {
   "cell_type": "code",
   "execution_count": 12,
   "id": "6edf8a53-361c-479c-a397-307f0bf3a0f8",
   "metadata": {},
   "outputs": [
    {
     "ename": "KeyError",
     "evalue": "'Ban 831'",
     "output_type": "error",
     "traceback": [
      "\u001b[0;31m---------------------------------------------------------------------------\u001b[0m",
      "\u001b[0;31mKeyError\u001b[0m                                  Traceback (most recent call last)",
      "\u001b[0;32m/tmp/ipykernel_403741/102628461.py\u001b[0m in \u001b[0;36m<module>\u001b[0;34m\u001b[0m\n\u001b[1;32m      1\u001b[0m \u001b[0;31m# retrieve value using invalid key\u001b[0m\u001b[0;34m\u001b[0m\u001b[0;34m\u001b[0m\u001b[0;34m\u001b[0m\u001b[0m\n\u001b[1;32m      2\u001b[0m \u001b[0;34m\u001b[0m\u001b[0m\n\u001b[0;32m----> 3\u001b[0;31m \u001b[0mcourse_code_to_name_dict\u001b[0m\u001b[0;34m[\u001b[0m\u001b[0;34m'Ban 831'\u001b[0m\u001b[0;34m]\u001b[0m\u001b[0;34m\u001b[0m\u001b[0;34m\u001b[0m\u001b[0m\n\u001b[0m",
      "\u001b[0;31mKeyError\u001b[0m: 'Ban 831'"
     ]
    }
   ],
   "source": [
    "# retrieve value using invalid key\n",
    "\n",
    "course_code_to_name_dict['Ban 831']"
   ]
  },
  {
   "cell_type": "code",
   "execution_count": null,
   "id": "81b97bcb-4ec2-4c1e-85cc-eb38954b54a5",
   "metadata": {},
   "outputs": [],
   "source": []
  }
 ],
 "metadata": {
  "kernelspec": {
   "display_name": "Python 3 (ipykernel)",
   "language": "python",
   "name": "python3"
  },
  "language_info": {
   "codemirror_mode": {
    "name": "ipython",
    "version": 3
   },
   "file_extension": ".py",
   "mimetype": "text/x-python",
   "name": "python",
   "nbconvert_exporter": "python",
   "pygments_lexer": "ipython3",
   "version": "3.7.10"
  }
 },
 "nbformat": 4,
 "nbformat_minor": 5
}
