{
 "cells": [
  {
   "cell_type": "markdown",
   "id": "eddd6a6e-4bdf-4489-8a2e-70a9f8cc615e",
   "metadata": {},
   "source": [
    "# Data Analysis in Python - XIII: Pivoting and Unpivoting Data"
   ]
  },
  {
   "cell_type": "markdown",
   "id": "d8478164-f32a-4bc9-b5ea-ecaac506d25c",
   "metadata": {},
   "source": [
    "## Introduction\n",
    "\n",
    "\n",
    "In this lesson, we will learn how to pivot and unpivot data using pandas. Pivoting and unpivoting are operations that allow us to change the format of a dataset to make it easier to perform subsequent analyses. \n",
    "\n",
    "Note: \n",
    "1. Use the TOC to navigate between sections.\n"
   ]
  },
  {
   "cell_type": "markdown",
   "id": "4c07e8d0-a28b-4e96-9e92-0f31024ed641",
   "metadata": {},
   "source": [
    "## Different data formats"
   ]
  },
  {
   "cell_type": "markdown",
   "id": "2cee274d-14e0-4400-8af7-8d6a49a6ae75",
   "metadata": {},
   "source": [
    "The data that we encounter and import will typically be organized in a long or a wide format or a combination of both. Each format has its advantages in terms of allowing appropriate data analysis. However, it is sometimes useful to convert data from one format to another to simplify subsequent analysis."
   ]
  },
  {
   "cell_type": "markdown",
   "id": "4d084b3c-1d67-4894-b9bd-6713e17273be",
   "metadata": {},
   "source": [
    "### Long format"
   ]
  },
  {
   "cell_type": "markdown",
   "id": "12f5d478-9f6e-4146-9c33-1247b4043d57",
   "metadata": {},
   "source": [
    "The long format is a more detailed representation of data. Each row in the long format represents an observation of one or more variables. As an example, consider the table below which is in a long format. \n",
    "\n",
    "|Student|Exam|Score|\n",
    "|-|-|-|\n",
    "|Amos|Exam 1|90|\n",
    "|Amos|Exam 2|99|\n",
    "|Betty|Exam 1|98|\n",
    "|Betty|Exam 2|92|\n"
   ]
  },
  {
   "cell_type": "markdown",
   "id": "f6b57422-abf3-450c-bf83-f8034f089e8c",
   "metadata": {},
   "source": [
    "### Wide format"
   ]
  },
  {
   "cell_type": "markdown",
   "id": "2c9446b1-04cf-4a89-995a-ebf2d6dcaabd",
   "metadata": {},
   "source": [
    "The wide format provides a summary of the long format data by creating columns corresponding to a variable (one new column for each variable). The below table shows the above data in the wide format.\n",
    "\n",
    "|Student|Exam 1|Exam 2|\n",
    "|-|-|-|\n",
    "|Amos|90|99|\n",
    "|Betty|98|92|"
   ]
  },
  {
   "cell_type": "markdown",
   "id": "0cdf357b-11f2-4859-a61b-570ed2fa6a68",
   "metadata": {},
   "source": [
    "## Pivoting data"
   ]
  },
  {
   "cell_type": "markdown",
   "id": "886d805c-0b67-4988-ad64-389f696fc0a8",
   "metadata": {},
   "source": [
    "Pivoting converts data from a long format to a wide format by extracting variables from a specified column and summarizing or aggregating them in multiple columns. If you have used Pivot tables in Excel, you have performed pivoting before. \n",
    "\n",
    "We can use the `pivot_table()` function of a data frame to perform pivoting. Let's try that with an example."
   ]
  },
  {
   "cell_type": "code",
   "execution_count": 2,
   "id": "cd09e414-1cad-4c48-b6ee-4ab661c60c5d",
   "metadata": {},
   "outputs": [],
   "source": [
    "import pandas as pd\n",
    "\n",
    "# import numpy to use various statistical aggregation functions.\n",
    "import numpy as np\n",
    "\n",
    "# read monthly product sales unpivoted data\n",
    "longSales = pd.read_csv('../scratch/monthly_product_sales_unpivoted.csv', sep=',')"
   ]
  },
  {
   "cell_type": "code",
   "execution_count": 3,
   "id": "eee9d706-d1ef-4623-a46e-3c8f2733bf58",
   "metadata": {},
   "outputs": [
    {
     "data": {
      "text/html": [
       "<div>\n",
       "<style scoped>\n",
       "    .dataframe tbody tr th:only-of-type {\n",
       "        vertical-align: middle;\n",
       "    }\n",
       "\n",
       "    .dataframe tbody tr th {\n",
       "        vertical-align: top;\n",
       "    }\n",
       "\n",
       "    .dataframe thead th {\n",
       "        text-align: right;\n",
       "    }\n",
       "</style>\n",
       "<table border=\"1\" class=\"dataframe\">\n",
       "  <thead>\n",
       "    <tr style=\"text-align: right;\">\n",
       "      <th></th>\n",
       "      <th>Month</th>\n",
       "      <th>Product</th>\n",
       "      <th>Sales</th>\n",
       "    </tr>\n",
       "  </thead>\n",
       "  <tbody>\n",
       "    <tr>\n",
       "      <th>0</th>\n",
       "      <td>1/1/2001</td>\n",
       "      <td>Shampoo</td>\n",
       "      <td>266.0</td>\n",
       "    </tr>\n",
       "    <tr>\n",
       "      <th>1</th>\n",
       "      <td>1/1/2001</td>\n",
       "      <td>Shampoo</td>\n",
       "      <td>4.0</td>\n",
       "    </tr>\n",
       "    <tr>\n",
       "      <th>2</th>\n",
       "      <td>3/1/2001</td>\n",
       "      <td>Shampoo</td>\n",
       "      <td>183.1</td>\n",
       "    </tr>\n",
       "    <tr>\n",
       "      <th>3</th>\n",
       "      <td>4/1/2001</td>\n",
       "      <td>Shampoo</td>\n",
       "      <td>119.3</td>\n",
       "    </tr>\n",
       "    <tr>\n",
       "      <th>4</th>\n",
       "      <td>5/1/2001</td>\n",
       "      <td>Shampoo</td>\n",
       "      <td>180.3</td>\n",
       "    </tr>\n",
       "  </tbody>\n",
       "</table>\n",
       "</div>"
      ],
      "text/plain": [
       "      Month  Product  Sales\n",
       "0  1/1/2001  Shampoo  266.0\n",
       "1  1/1/2001  Shampoo    4.0\n",
       "2  3/1/2001  Shampoo  183.1\n",
       "3  4/1/2001  Shampoo  119.3\n",
       "4  5/1/2001  Shampoo  180.3"
      ]
     },
     "execution_count": 3,
     "metadata": {},
     "output_type": "execute_result"
    }
   ],
   "source": [
    "longSales.head()"
   ]
  },
  {
   "cell_type": "code",
   "execution_count": 4,
   "id": "1ab27e29-aac8-4431-ae42-b13fe7bcb644",
   "metadata": {},
   "outputs": [
    {
     "data": {
      "text/html": [
       "<div>\n",
       "<style scoped>\n",
       "    .dataframe tbody tr th:only-of-type {\n",
       "        vertical-align: middle;\n",
       "    }\n",
       "\n",
       "    .dataframe tbody tr th {\n",
       "        vertical-align: top;\n",
       "    }\n",
       "\n",
       "    .dataframe thead th {\n",
       "        text-align: right;\n",
       "    }\n",
       "</style>\n",
       "<table border=\"1\" class=\"dataframe\">\n",
       "  <thead>\n",
       "    <tr style=\"text-align: right;\">\n",
       "      <th></th>\n",
       "      <th>Month</th>\n",
       "      <th>Product</th>\n",
       "      <th>Sales</th>\n",
       "    </tr>\n",
       "  </thead>\n",
       "  <tbody>\n",
       "    <tr>\n",
       "      <th>58</th>\n",
       "      <td>8/1/2003</td>\n",
       "      <td>Conditioner</td>\n",
       "      <td>1745.0</td>\n",
       "    </tr>\n",
       "    <tr>\n",
       "      <th>59</th>\n",
       "      <td>9/1/2003</td>\n",
       "      <td>Conditioner</td>\n",
       "      <td>7027.0</td>\n",
       "    </tr>\n",
       "    <tr>\n",
       "      <th>60</th>\n",
       "      <td>10/1/2003</td>\n",
       "      <td>Conditioner</td>\n",
       "      <td>5635.0</td>\n",
       "    </tr>\n",
       "    <tr>\n",
       "      <th>61</th>\n",
       "      <td>11/1/2003</td>\n",
       "      <td>Conditioner</td>\n",
       "      <td>7839.0</td>\n",
       "    </tr>\n",
       "    <tr>\n",
       "      <th>62</th>\n",
       "      <td>12/1/2003</td>\n",
       "      <td>Conditioner</td>\n",
       "      <td>8593.0</td>\n",
       "    </tr>\n",
       "  </tbody>\n",
       "</table>\n",
       "</div>"
      ],
      "text/plain": [
       "        Month      Product   Sales\n",
       "58   8/1/2003  Conditioner  1745.0\n",
       "59   9/1/2003  Conditioner  7027.0\n",
       "60  10/1/2003  Conditioner  5635.0\n",
       "61  11/1/2003  Conditioner  7839.0\n",
       "62  12/1/2003  Conditioner  8593.0"
      ]
     },
     "execution_count": 4,
     "metadata": {},
     "output_type": "execute_result"
    }
   ],
   "source": [
    "longSales.tail()"
   ]
  },
  {
   "cell_type": "code",
   "execution_count": 5,
   "id": "1bed5335-26d7-4062-aeb9-0ea2148db380",
   "metadata": {},
   "outputs": [
    {
     "data": {
      "text/html": [
       "<div>\n",
       "<style scoped>\n",
       "    .dataframe tbody tr th:only-of-type {\n",
       "        vertical-align: middle;\n",
       "    }\n",
       "\n",
       "    .dataframe tbody tr th {\n",
       "        vertical-align: top;\n",
       "    }\n",
       "\n",
       "    .dataframe thead th {\n",
       "        text-align: right;\n",
       "    }\n",
       "</style>\n",
       "<table border=\"1\" class=\"dataframe\">\n",
       "  <thead>\n",
       "    <tr style=\"text-align: right;\">\n",
       "      <th>Product</th>\n",
       "      <th>Conditioner</th>\n",
       "      <th>Shampoo</th>\n",
       "    </tr>\n",
       "    <tr>\n",
       "      <th>Month</th>\n",
       "      <th></th>\n",
       "      <th></th>\n",
       "    </tr>\n",
       "  </thead>\n",
       "  <tbody>\n",
       "    <tr>\n",
       "      <th>1/1/2001</th>\n",
       "      <td>11813.0</td>\n",
       "      <td>135.0</td>\n",
       "    </tr>\n",
       "    <tr>\n",
       "      <th>1/1/2002</th>\n",
       "      <td>1517.0</td>\n",
       "      <td>192004.3</td>\n",
       "    </tr>\n",
       "    <tr>\n",
       "      <th>1/1/2003</th>\n",
       "      <td>NaN</td>\n",
       "      <td>332009.7</td>\n",
       "    </tr>\n",
       "    <tr>\n",
       "      <th>10/1/2001</th>\n",
       "      <td>2421.0</td>\n",
       "      <td>122.9</td>\n",
       "    </tr>\n",
       "    <tr>\n",
       "      <th>10/1/2002</th>\n",
       "      <td>10082.0</td>\n",
       "      <td>NaN</td>\n",
       "    </tr>\n",
       "  </tbody>\n",
       "</table>\n",
       "</div>"
      ],
      "text/plain": [
       "Product    Conditioner   Shampoo\n",
       "Month                           \n",
       "1/1/2001       11813.0     135.0\n",
       "1/1/2002        1517.0  192004.3\n",
       "1/1/2003           NaN  332009.7\n",
       "10/1/2001       2421.0     122.9\n",
       "10/1/2002      10082.0       NaN"
      ]
     },
     "execution_count": 5,
     "metadata": {},
     "output_type": "execute_result"
    }
   ],
   "source": [
    "# pivot data to create columns for each product\n",
    "\n",
    "# index: a column or a list of columns that should stay the same\n",
    "# columns: a column or a list of columns from which to extract the variables. These are the columns on whose values the data will be grouped.\n",
    "# values: a column or a list of columns in which the values are stored. These are the values that will be aggregated in the pivot.\n",
    "#         the default aggregation function is mean. \n",
    "\n",
    "salesPivot = longSales.pivot_table(index='Month',columns='Product',values='Sales')\n",
    "salesPivot.head()"
   ]
  },
  {
   "cell_type": "code",
   "execution_count": 6,
   "id": "3be23751-f2cb-4563-a707-e6fa19ef849a",
   "metadata": {},
   "outputs": [
    {
     "data": {
      "text/html": [
       "<div>\n",
       "<style scoped>\n",
       "    .dataframe tbody tr th:only-of-type {\n",
       "        vertical-align: middle;\n",
       "    }\n",
       "\n",
       "    .dataframe tbody tr th {\n",
       "        vertical-align: top;\n",
       "    }\n",
       "\n",
       "    .dataframe thead th {\n",
       "        text-align: right;\n",
       "    }\n",
       "</style>\n",
       "<table border=\"1\" class=\"dataframe\">\n",
       "  <thead>\n",
       "    <tr style=\"text-align: right;\">\n",
       "      <th>Product</th>\n",
       "      <th>Conditioner</th>\n",
       "      <th>Shampoo</th>\n",
       "    </tr>\n",
       "    <tr>\n",
       "      <th>Month</th>\n",
       "      <th></th>\n",
       "      <th></th>\n",
       "    </tr>\n",
       "  </thead>\n",
       "  <tbody>\n",
       "    <tr>\n",
       "      <th>1/1/2001</th>\n",
       "      <td>11813.0</td>\n",
       "      <td>270.0</td>\n",
       "    </tr>\n",
       "    <tr>\n",
       "      <th>1/1/2002</th>\n",
       "      <td>1517.0</td>\n",
       "      <td>192004.3</td>\n",
       "    </tr>\n",
       "    <tr>\n",
       "      <th>1/1/2003</th>\n",
       "      <td>NaN</td>\n",
       "      <td>332009.7</td>\n",
       "    </tr>\n",
       "    <tr>\n",
       "      <th>10/1/2001</th>\n",
       "      <td>2421.0</td>\n",
       "      <td>122.9</td>\n",
       "    </tr>\n",
       "    <tr>\n",
       "      <th>10/1/2002</th>\n",
       "      <td>10082.0</td>\n",
       "      <td>NaN</td>\n",
       "    </tr>\n",
       "  </tbody>\n",
       "</table>\n",
       "</div>"
      ],
      "text/plain": [
       "Product    Conditioner   Shampoo\n",
       "Month                           \n",
       "1/1/2001       11813.0     270.0\n",
       "1/1/2002        1517.0  192004.3\n",
       "1/1/2003           NaN  332009.7\n",
       "10/1/2001       2421.0     122.9\n",
       "10/1/2002      10082.0       NaN"
      ]
     },
     "execution_count": 6,
     "metadata": {},
     "output_type": "execute_result"
    }
   ],
   "source": [
    "# create a pivot table as above but aggregate using the sum function.\n",
    "salesPivot = longSales.pivot_table(index='Month',columns='Product',values='Sales',aggfunc=np.sum)\n",
    "salesPivot.head()"
   ]
  },
  {
   "cell_type": "markdown",
   "id": "13824899-8dfd-4006-9c7f-e686b65e2736",
   "metadata": {},
   "source": [
    "Check the [list of statistical functions available in numpy](https://numpy.org/doc/stable/reference/routines.statistics.html)."
   ]
  },
  {
   "cell_type": "markdown",
   "id": "e41e4a3c-1ecc-4bd1-8db4-bc37d70157bd",
   "metadata": {},
   "source": [
    "## Unpivoting data"
   ]
  },
  {
   "cell_type": "markdown",
   "id": "c5c3b069-62bd-4920-a499-5d6ec44b4546",
   "metadata": {},
   "source": [
    "It is possible that the data you read into a data frame is in a wide format but you need to convert it to a long format. Unpivoting data is also known as melting data.\n",
    "\n",
    "We can use the `melt()` function of a data frame to melt or unpivot data. \n",
    "\n",
    "Let's try doing so with an example. "
   ]
  },
  {
   "cell_type": "code",
   "execution_count": 8,
   "id": "1d78eb90-7110-4dfb-968d-977c4c8d386b",
   "metadata": {},
   "outputs": [],
   "source": [
    "# read monthly product sales pivoted data\n",
    "wideSales = pd.read_csv('../scratch/monthly_product_sales_pivoted.csv', sep=',')"
   ]
  },
  {
   "cell_type": "code",
   "execution_count": 9,
   "id": "b2c6e3f0-2ee6-47c1-95fa-54995fcfc45e",
   "metadata": {},
   "outputs": [
    {
     "data": {
      "text/html": [
       "<div>\n",
       "<style scoped>\n",
       "    .dataframe tbody tr th:only-of-type {\n",
       "        vertical-align: middle;\n",
       "    }\n",
       "\n",
       "    .dataframe tbody tr th {\n",
       "        vertical-align: top;\n",
       "    }\n",
       "\n",
       "    .dataframe thead th {\n",
       "        text-align: right;\n",
       "    }\n",
       "</style>\n",
       "<table border=\"1\" class=\"dataframe\">\n",
       "  <thead>\n",
       "    <tr style=\"text-align: right;\">\n",
       "      <th></th>\n",
       "      <th>Month</th>\n",
       "      <th>Conditioner_Sales</th>\n",
       "      <th>Shampoo_Sales</th>\n",
       "    </tr>\n",
       "  </thead>\n",
       "  <tbody>\n",
       "    <tr>\n",
       "      <th>0</th>\n",
       "      <td>1/1/2001</td>\n",
       "      <td>11813.0</td>\n",
       "      <td>300.0</td>\n",
       "    </tr>\n",
       "    <tr>\n",
       "      <th>1</th>\n",
       "      <td>2/1/2001</td>\n",
       "      <td>4953.0</td>\n",
       "      <td>NaN</td>\n",
       "    </tr>\n",
       "    <tr>\n",
       "      <th>2</th>\n",
       "      <td>3/1/2001</td>\n",
       "      <td>2170.0</td>\n",
       "      <td>183.1</td>\n",
       "    </tr>\n",
       "    <tr>\n",
       "      <th>3</th>\n",
       "      <td>4/1/2001</td>\n",
       "      <td>4054.0</td>\n",
       "      <td>119.3</td>\n",
       "    </tr>\n",
       "    <tr>\n",
       "      <th>4</th>\n",
       "      <td>5/1/2001</td>\n",
       "      <td>NaN</td>\n",
       "      <td>180.3</td>\n",
       "    </tr>\n",
       "  </tbody>\n",
       "</table>\n",
       "</div>"
      ],
      "text/plain": [
       "      Month  Conditioner_Sales  Shampoo_Sales\n",
       "0  1/1/2001            11813.0          300.0\n",
       "1  2/1/2001             4953.0            NaN\n",
       "2  3/1/2001             2170.0          183.1\n",
       "3  4/1/2001             4054.0          119.3\n",
       "4  5/1/2001                NaN          180.3"
      ]
     },
     "execution_count": 9,
     "metadata": {},
     "output_type": "execute_result"
    }
   ],
   "source": [
    "wideSales.head()"
   ]
  },
  {
   "cell_type": "code",
   "execution_count": 10,
   "id": "7b09ba06-766d-4981-87a8-85e47e3e8ec4",
   "metadata": {},
   "outputs": [
    {
     "data": {
      "text/html": [
       "<div>\n",
       "<style scoped>\n",
       "    .dataframe tbody tr th:only-of-type {\n",
       "        vertical-align: middle;\n",
       "    }\n",
       "\n",
       "    .dataframe tbody tr th {\n",
       "        vertical-align: top;\n",
       "    }\n",
       "\n",
       "    .dataframe thead th {\n",
       "        text-align: right;\n",
       "    }\n",
       "</style>\n",
       "<table border=\"1\" class=\"dataframe\">\n",
       "  <thead>\n",
       "    <tr style=\"text-align: right;\">\n",
       "      <th></th>\n",
       "      <th>Month</th>\n",
       "      <th>Conditioner_Sales</th>\n",
       "      <th>Shampoo_Sales</th>\n",
       "    </tr>\n",
       "  </thead>\n",
       "  <tbody>\n",
       "    <tr>\n",
       "      <th>31</th>\n",
       "      <td>8/1/2003</td>\n",
       "      <td>1745.0</td>\n",
       "      <td>402007.6</td>\n",
       "    </tr>\n",
       "    <tr>\n",
       "      <th>32</th>\n",
       "      <td>9/1/2003</td>\n",
       "      <td>7027.0</td>\n",
       "      <td>682.0</td>\n",
       "    </tr>\n",
       "    <tr>\n",
       "      <th>33</th>\n",
       "      <td>10/1/2003</td>\n",
       "      <td>5635.0</td>\n",
       "      <td>475.3</td>\n",
       "    </tr>\n",
       "    <tr>\n",
       "      <th>34</th>\n",
       "      <td>11/1/2003</td>\n",
       "      <td>7839.0</td>\n",
       "      <td>581.3</td>\n",
       "    </tr>\n",
       "    <tr>\n",
       "      <th>35</th>\n",
       "      <td>12/1/2003</td>\n",
       "      <td>8593.0</td>\n",
       "      <td>646.9</td>\n",
       "    </tr>\n",
       "  </tbody>\n",
       "</table>\n",
       "</div>"
      ],
      "text/plain": [
       "        Month  Conditioner_Sales  Shampoo_Sales\n",
       "31   8/1/2003             1745.0       402007.6\n",
       "32   9/1/2003             7027.0          682.0\n",
       "33  10/1/2003             5635.0          475.3\n",
       "34  11/1/2003             7839.0          581.3\n",
       "35  12/1/2003             8593.0          646.9"
      ]
     },
     "execution_count": 10,
     "metadata": {},
     "output_type": "execute_result"
    }
   ],
   "source": [
    "wideSales.tail()"
   ]
  },
  {
   "cell_type": "code",
   "execution_count": 19,
   "id": "fdc67073-5815-4485-a1ae-19cd26dc1ae1",
   "metadata": {},
   "outputs": [
    {
     "data": {
      "text/html": [
       "<div>\n",
       "<style scoped>\n",
       "    .dataframe tbody tr th:only-of-type {\n",
       "        vertical-align: middle;\n",
       "    }\n",
       "\n",
       "    .dataframe tbody tr th {\n",
       "        vertical-align: top;\n",
       "    }\n",
       "\n",
       "    .dataframe thead th {\n",
       "        text-align: right;\n",
       "    }\n",
       "</style>\n",
       "<table border=\"1\" class=\"dataframe\">\n",
       "  <thead>\n",
       "    <tr style=\"text-align: right;\">\n",
       "      <th></th>\n",
       "      <th>Month</th>\n",
       "      <th>Product</th>\n",
       "      <th>Sales</th>\n",
       "    </tr>\n",
       "  </thead>\n",
       "  <tbody>\n",
       "    <tr>\n",
       "      <th>0</th>\n",
       "      <td>1/1/2001</td>\n",
       "      <td>Conditioner_Sales</td>\n",
       "      <td>11813.0</td>\n",
       "    </tr>\n",
       "    <tr>\n",
       "      <th>1</th>\n",
       "      <td>2/1/2001</td>\n",
       "      <td>Conditioner_Sales</td>\n",
       "      <td>4953.0</td>\n",
       "    </tr>\n",
       "    <tr>\n",
       "      <th>2</th>\n",
       "      <td>3/1/2001</td>\n",
       "      <td>Conditioner_Sales</td>\n",
       "      <td>2170.0</td>\n",
       "    </tr>\n",
       "    <tr>\n",
       "      <th>3</th>\n",
       "      <td>4/1/2001</td>\n",
       "      <td>Conditioner_Sales</td>\n",
       "      <td>4054.0</td>\n",
       "    </tr>\n",
       "    <tr>\n",
       "      <th>4</th>\n",
       "      <td>5/1/2001</td>\n",
       "      <td>Conditioner_Sales</td>\n",
       "      <td>NaN</td>\n",
       "    </tr>\n",
       "  </tbody>\n",
       "</table>\n",
       "</div>"
      ],
      "text/plain": [
       "      Month            Product    Sales\n",
       "0  1/1/2001  Conditioner_Sales  11813.0\n",
       "1  2/1/2001  Conditioner_Sales   4953.0\n",
       "2  3/1/2001  Conditioner_Sales   2170.0\n",
       "3  4/1/2001  Conditioner_Sales   4054.0\n",
       "4  5/1/2001  Conditioner_Sales      NaN"
      ]
     },
     "execution_count": 19,
     "metadata": {},
     "output_type": "execute_result"
    }
   ],
   "source": [
    "# unpivot the sales data and place product names in the Product column. Records the sales in the Sales column\n",
    "\n",
    "# id_vars: a column or a list of columns that should stay the same\n",
    "# value_vars: a column or a list of columns which should be unpivoted. All such columns will be combined into a single column.\n",
    "#             leave blank if all columns except id_vars should be used.\n",
    "# var_name: name of the column created after unpivoting variables\n",
    "# value_name: name to use for the column that will contain the values. \n",
    "\n",
    "salesUnpivot = wideSales.melt(id_vars='Month',value_vars=['Conditioner_Sales','Shampoo_Sales'],var_name='Product',value_name='Sales')\n",
    "#salesUnpivot = wideSales.melt(id_vars='Month',var_name='Product',value_name='Sales')\n",
    "salesUnpivot.head()"
   ]
  },
  {
   "cell_type": "markdown",
   "id": "bff5eab6-a00f-484c-a3bf-16fad80ba553",
   "metadata": {},
   "source": [
    "**Note:** There can be data loss if you pivot and then unpivot data. For e.g., if the original data had two rows for shampoo sales for a given month, you can't retrieve the two separate rows by unpivoting the pivoted data."
   ]
  },
  {
   "cell_type": "markdown",
   "id": "261eb143-149f-422d-92e9-a8e052f0332f",
   "metadata": {},
   "source": [
    "We can make a further improvement over the above by making sure that the Product column does not contain the string '_Sales' and only contains the product name."
   ]
  },
  {
   "cell_type": "code",
   "execution_count": 25,
   "id": "22a127b2-df99-4089-a6e0-b27542fd5289",
   "metadata": {},
   "outputs": [],
   "source": [
    "# remove _Sales from product name\n",
    "salesUnpivot['Product'] = salesUnpivot['Product'].str.replace('_Sales','')\n",
    "#salesUnpivot['Product'].str.split('_')[0][0]\n",
    "#salesUnpivot['Product'].str.split('_').str[0]"
   ]
  },
  {
   "cell_type": "code",
   "execution_count": 22,
   "id": "7dd977db-a153-4f75-b31c-c7d85d5abc1d",
   "metadata": {},
   "outputs": [
    {
     "data": {
      "text/html": [
       "<div>\n",
       "<style scoped>\n",
       "    .dataframe tbody tr th:only-of-type {\n",
       "        vertical-align: middle;\n",
       "    }\n",
       "\n",
       "    .dataframe tbody tr th {\n",
       "        vertical-align: top;\n",
       "    }\n",
       "\n",
       "    .dataframe thead th {\n",
       "        text-align: right;\n",
       "    }\n",
       "</style>\n",
       "<table border=\"1\" class=\"dataframe\">\n",
       "  <thead>\n",
       "    <tr style=\"text-align: right;\">\n",
       "      <th></th>\n",
       "      <th>Month</th>\n",
       "      <th>Product</th>\n",
       "      <th>Sales</th>\n",
       "    </tr>\n",
       "  </thead>\n",
       "  <tbody>\n",
       "    <tr>\n",
       "      <th>0</th>\n",
       "      <td>1/1/2001</td>\n",
       "      <td>Conditioner_Sales</td>\n",
       "      <td>11813.0</td>\n",
       "    </tr>\n",
       "    <tr>\n",
       "      <th>1</th>\n",
       "      <td>2/1/2001</td>\n",
       "      <td>Conditioner_Sales</td>\n",
       "      <td>4953.0</td>\n",
       "    </tr>\n",
       "    <tr>\n",
       "      <th>2</th>\n",
       "      <td>3/1/2001</td>\n",
       "      <td>Conditioner_Sales</td>\n",
       "      <td>2170.0</td>\n",
       "    </tr>\n",
       "    <tr>\n",
       "      <th>3</th>\n",
       "      <td>4/1/2001</td>\n",
       "      <td>Conditioner_Sales</td>\n",
       "      <td>4054.0</td>\n",
       "    </tr>\n",
       "    <tr>\n",
       "      <th>4</th>\n",
       "      <td>5/1/2001</td>\n",
       "      <td>Conditioner_Sales</td>\n",
       "      <td>NaN</td>\n",
       "    </tr>\n",
       "  </tbody>\n",
       "</table>\n",
       "</div>"
      ],
      "text/plain": [
       "      Month            Product    Sales\n",
       "0  1/1/2001  Conditioner_Sales  11813.0\n",
       "1  2/1/2001  Conditioner_Sales   4953.0\n",
       "2  3/1/2001  Conditioner_Sales   2170.0\n",
       "3  4/1/2001  Conditioner_Sales   4054.0\n",
       "4  5/1/2001  Conditioner_Sales      NaN"
      ]
     },
     "execution_count": 22,
     "metadata": {},
     "output_type": "execute_result"
    }
   ],
   "source": [
    "salesUnpivot.head()"
   ]
  },
  {
   "cell_type": "code",
   "execution_count": 18,
   "id": "157cfceb-6f40-4c12-880b-b3a4a91998f5",
   "metadata": {},
   "outputs": [
    {
     "data": {
      "text/html": [
       "<div>\n",
       "<style scoped>\n",
       "    .dataframe tbody tr th:only-of-type {\n",
       "        vertical-align: middle;\n",
       "    }\n",
       "\n",
       "    .dataframe tbody tr th {\n",
       "        vertical-align: top;\n",
       "    }\n",
       "\n",
       "    .dataframe thead th {\n",
       "        text-align: right;\n",
       "    }\n",
       "</style>\n",
       "<table border=\"1\" class=\"dataframe\">\n",
       "  <thead>\n",
       "    <tr style=\"text-align: right;\">\n",
       "      <th></th>\n",
       "      <th>Month</th>\n",
       "      <th>Product</th>\n",
       "      <th>Sales</th>\n",
       "    </tr>\n",
       "  </thead>\n",
       "  <tbody>\n",
       "    <tr>\n",
       "      <th>67</th>\n",
       "      <td>8/1/2003</td>\n",
       "      <td>Shampoo</td>\n",
       "      <td>402007.6</td>\n",
       "    </tr>\n",
       "    <tr>\n",
       "      <th>68</th>\n",
       "      <td>9/1/2003</td>\n",
       "      <td>Shampoo</td>\n",
       "      <td>682.0</td>\n",
       "    </tr>\n",
       "    <tr>\n",
       "      <th>69</th>\n",
       "      <td>10/1/2003</td>\n",
       "      <td>Shampoo</td>\n",
       "      <td>475.3</td>\n",
       "    </tr>\n",
       "    <tr>\n",
       "      <th>70</th>\n",
       "      <td>11/1/2003</td>\n",
       "      <td>Shampoo</td>\n",
       "      <td>581.3</td>\n",
       "    </tr>\n",
       "    <tr>\n",
       "      <th>71</th>\n",
       "      <td>12/1/2003</td>\n",
       "      <td>Shampoo</td>\n",
       "      <td>646.9</td>\n",
       "    </tr>\n",
       "  </tbody>\n",
       "</table>\n",
       "</div>"
      ],
      "text/plain": [
       "        Month  Product     Sales\n",
       "67   8/1/2003  Shampoo  402007.6\n",
       "68   9/1/2003  Shampoo     682.0\n",
       "69  10/1/2003  Shampoo     475.3\n",
       "70  11/1/2003  Shampoo     581.3\n",
       "71  12/1/2003  Shampoo     646.9"
      ]
     },
     "execution_count": 18,
     "metadata": {},
     "output_type": "execute_result"
    }
   ],
   "source": [
    "salesUnpivot.tail()"
   ]
  },
  {
   "cell_type": "code",
   "execution_count": null,
   "id": "15f5be94-7c8f-4730-b477-ade11a605306",
   "metadata": {},
   "outputs": [],
   "source": []
  }
 ],
 "metadata": {
  "kernelspec": {
   "display_name": "Python 3 (ipykernel)",
   "language": "python",
   "name": "python3"
  },
  "language_info": {
   "codemirror_mode": {
    "name": "ipython",
    "version": 3
   },
   "file_extension": ".py",
   "mimetype": "text/x-python",
   "name": "python",
   "nbconvert_exporter": "python",
   "pygments_lexer": "ipython3",
   "version": "3.7.10"
  }
 },
 "nbformat": 4,
 "nbformat_minor": 5
}
