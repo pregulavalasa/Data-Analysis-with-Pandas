{
 "cells": [
  {
   "cell_type": "markdown",
   "id": "eddd6a6e-4bdf-4489-8a2e-70a9f8cc615e",
   "metadata": {},
   "source": [
    "# Data Analysis in Python - I: Introduction to pandas"
   ]
  },
  {
   "cell_type": "markdown",
   "id": "21640696-d708-45e7-8b15-ff7725c0b8f3",
   "metadata": {},
   "source": [
    "## References for Data Analysis in Python\n",
    "1. [Pandas reference](https://pandas.pydata.org/).\n",
    "2. Chen. D.Y. (2017).  [Pandas for Everyone: Python Data Analysis, First Edition](https://learning.oreilly.com/library/view/pandas-for-everyone/9780134547046/?sso_link=yes&sso_link_from=pennsylvania-state-university). Addison-Wesley Professional.\n",
    "3. McKinney. W. (2018). [Python for Data Analysis](https://ebookcentral.proquest.com/lib/pensu/detail.action?docID=5061179#). O'Reilly Media, Inc.\n",
    "4. Pandas Essential Training and Pandas for Data Science courses from [LinkedinLearning](https://www.linkedin.com/learning/collections/6825816434631839745) (Use Penn State credentials to sign-in).\n",
    "5. Data Analysis and Visualization with Python learning path at [DataQuest](http://www.dataquest.io) (create personal account, if you want to use this resource)."
   ]
  },
  {
   "cell_type": "markdown",
   "id": "d8478164-f32a-4bc9-b5ea-ecaac506d25c",
   "metadata": {
    "jp-MarkdownHeadingCollapsed": true
   },
   "source": [
    "## Introduction\n",
    "\n",
    "In this lesson, we will learn about a Python library specially designed for data analysis. We will start by creating our own data sets to analyze and will learn how to access data from these datasets. Specifically, we will cover the following topics.\n",
    "1. Introduction to pandas\n",
    "2. Installing and importing pandas\n",
    "3. Series and DataFrame data types\n",
    "4. Creating series using lists\n",
    "5. Creating data frames using lists and series.\n",
    "6. Checking the size of a data frame. \n",
    "\n",
    "Note: \n",
    "1. Use the TOC to navigate between sections.\n"
   ]
  },
  {
   "cell_type": "markdown",
   "id": "f707226b-021f-4d17-b78f-2a9f6dc6d69f",
   "metadata": {},
   "source": [
    "## The `pandas` library\n",
    "\n",
    "`pandas` is a Python library (collection of reusable code) designed to make the analysis of structured data easier. In the absence of pandas, we would have to write our own code for functionality that has been automated/ made easier in pandas. pandas makes it easier to read and write data, and store it in special data structures (Series and Data Frames) that make it easier to manipulate and analyze the data."
   ]
  },
  {
   "cell_type": "markdown",
   "id": "79d5024a-ec5e-4a33-b0b7-477e06b099cf",
   "metadata": {},
   "source": [
    "### Installing and importing pandas"
   ]
  },
  {
   "cell_type": "markdown",
   "id": "3ed94004-7b40-47ac-80c8-3a753a3c1ad1",
   "metadata": {},
   "source": [
    "Before we can use pandas, we must install it. There are several ways to do this. We will use the Python package manager `pip`. pandas has already been installed in the online lab environment but you will need to install it on your local instance. To do so, start a terminal instance and execute the following command. \n",
    "```\n",
    "pip install pandas\n",
    "```"
   ]
  },
  {
   "cell_type": "markdown",
   "id": "c2722c95-ce67-463b-8619-b8dee94bf68a",
   "metadata": {},
   "source": [
    "Once `pandas` is installed, you will need to import it in any notebook that uses pandas. To import pandas, type the following code.\n",
    "```\n",
    "import pandas as pd\n",
    "```\n",
    "The 'as pd' part is optional. If you don't use it, you will need to type pandas to invoke pandas functions. If you create an alias such as `pd`, you will type `pd` to invoke functions. E.g., \n",
    "\n",
    "```\n",
    "pandas.DataFrame()\n",
    "```\n",
    "vs. \n",
    "```\n",
    "pd.DataFrame()\n",
    "```"
   ]
  },
  {
   "cell_type": "code",
   "execution_count": 1,
   "id": "6257b6f7-6cd5-4cc4-a932-fbc9ff145293",
   "metadata": {
    "tags": []
   },
   "outputs": [],
   "source": [
    "# import the pandas library below\n",
    "import pandas as pd"
   ]
  },
  {
   "cell_type": "markdown",
   "id": "46701ebe-e6d5-4a28-8729-24868e956c91",
   "metadata": {},
   "source": [
    "## pandas objects - Data Frame and Series"
   ]
  },
  {
   "cell_type": "markdown",
   "id": "ae29badb-5a36-43b9-ab32-111672eff371",
   "metadata": {},
   "source": [
    "### Data Frame\n",
    "\n",
    "pandas has created a new data type (type of object) called a DataFrame. A DataFrame can be thought of as a spreadsheet or table or rectangular data. It has rows and columns and allows users to perform various operations on the rows and columns. \n",
    "\n",
    "### Series\n",
    "\n",
    "pandas also has an object type called Series. It is easiest to think of a series as a column of a DataFrame. A DataFrame can be thought of as a collection or dictionary of Series. Series are very similar to lists but contain values of the same type."
   ]
  },
  {
   "cell_type": "markdown",
   "id": "567debd3-6b80-4fe3-bf84-95ee2e88e759",
   "metadata": {},
   "source": [
    "## Creating Series\n",
    "\n",
    "One of the ways to create a series is using a list."
   ]
  },
  {
   "cell_type": "code",
   "execution_count": 3,
   "id": "ea6db032-c010-41fa-825f-4869ec717e93",
   "metadata": {},
   "outputs": [
    {
     "name": "stdout",
     "output_type": "stream",
     "text": [
      "0      Amir\n",
      "1      Biko\n",
      "2      Chen\n",
      "3    Darren\n",
      "dtype: object\n",
      "0    30\n",
      "1    32\n",
      "2    29\n",
      "3    30\n",
      "dtype: int64\n"
     ]
    }
   ],
   "source": [
    "# import pandas if not already done\n",
    "# import pandas as pd\n",
    "\n",
    "# create an s_names series with values Amir, Biko, Chen, Darren\n",
    "s_names = pd.Series(['Amir','Biko','Chen','Darren'])\n",
    "\n",
    "# create an l_ages list with values 30, 32, 29, 30\n",
    "l_ages = [30,32,29,30]\n",
    "\n",
    "# create an s_ages series using l_ages\n",
    "s_ages = pd.Series(l_ages)\n",
    "\n",
    "\n",
    "#print the two series\n",
    "print(s_names)\n",
    "print(s_ages)"
   ]
  },
  {
   "cell_type": "markdown",
   "id": "df1b9d30-41e0-4802-95b3-c939924b890a",
   "metadata": {},
   "source": [
    "Notice in the print output that each item in the series has a number printed to its left. This serves as a *data label* for each item and is called an `index`. The default index is a number consisting of integers from 0 to N-1 (where N is the number of elements in the series), but you can also assign a descriptive text if you want. "
   ]
  },
  {
   "cell_type": "code",
   "execution_count": 4,
   "id": "597ae4de-cd96-4882-be63-f9d5a495c3ab",
   "metadata": {},
   "outputs": [
    {
     "name": "stdout",
     "output_type": "stream",
     "text": [
      "Amir      30\n",
      "Biko      32\n",
      "Chen      29\n",
      "Darren    30\n",
      "dtype: int64\n"
     ]
    }
   ],
   "source": [
    "# create s_ages2 series to store ages and assign names as the index. \n",
    "\n",
    "s_ages2 = pd.Series(\n",
    "                    [30,32,29,30],\n",
    "                     index=['Amir','Biko','Chen','Darren']\n",
    ")\n",
    "print(s_ages2)"
   ]
  },
  {
   "cell_type": "markdown",
   "id": "b606fddb-feef-4c7f-904b-bd294db04db2",
   "metadata": {},
   "source": [
    "You can separately print the values and indices for a series."
   ]
  },
  {
   "cell_type": "code",
   "execution_count": 7,
   "id": "f9f29d8c-c8af-4596-9550-cbd10c259506",
   "metadata": {},
   "outputs": [
    {
     "name": "stdout",
     "output_type": "stream",
     "text": [
      "[30 32 29 30]\n",
      "RangeIndex(start=0, stop=4, step=1)\n",
      "[30 32 29 30]\n",
      "Index(['Amir', 'Biko', 'Chen', 'Darren'], dtype='object')\n"
     ]
    }
   ],
   "source": [
    "# print the values and indices for the s_ages and s_ages2 series\n",
    "\n",
    "print(s_ages.values)\n",
    "print(s_ages.index)\n",
    "\n",
    "print(s_ages2.values)\n",
    "print(s_ages2.index)\n"
   ]
  },
  {
   "cell_type": "markdown",
   "id": "1a1aabf2-2ff0-478f-ab5e-72aeff07f38c",
   "metadata": {},
   "source": [
    "You can access individual elements of a series using their indices. "
   ]
  },
  {
   "cell_type": "code",
   "execution_count": 8,
   "id": "9fcea2b1-9ecd-421b-a3cf-b165d6e8b0bf",
   "metadata": {},
   "outputs": [
    {
     "name": "stdout",
     "output_type": "stream",
     "text": [
      "32\n",
      "32\n"
     ]
    }
   ],
   "source": [
    "# retrieve the age of student Biko\n",
    "\n",
    "print(s_ages[1])\n",
    "print(s_ages2['Biko'])"
   ]
  },
  {
   "cell_type": "markdown",
   "id": "c2680bd8-72dd-4df4-8b6b-59f15ca30822",
   "metadata": {},
   "source": [
    "## Creating DataFrames\n",
    "\n",
    "A DataFrame can be created as a dictionary of Series (or list) objects. A dictionary is a collection of key-value pairs. You can specify the key to retrieve the value corresponding to the key. A DataFrame can be thought of as a dictionary where a column name is a key and the contents of the column are the value. "
   ]
  },
  {
   "cell_type": "code",
   "execution_count": 12,
   "id": "125162b2-75da-48e1-8b10-d9001022b8d7",
   "metadata": {},
   "outputs": [
    {
     "name": "stdout",
     "output_type": "stream",
     "text": [
      "     Name  Age       Email\n",
      "0    Amir   30  a1@psu.edu\n",
      "1    Biko   32  b2@psu.edu\n",
      "2    Chen   29   c@psu.edu\n",
      "3  Darren   30   5@psu.edu\n"
     ]
    }
   ],
   "source": [
    "# Create a student DataFrame that contains names, ages and email\n",
    "s_names = pd.Series(['Amir', 'Biko','Chen','Darren'])\n",
    "l_ages = [30,32,29,30]\n",
    "\n",
    "students = pd.DataFrame({'Name':s_names,'Age':l_ages,'Email':['a1@psu.edu','b2@psu.edu','c@psu.edu','5@psu.edu']})\n",
    "\n",
    "print(students)"
   ]
  },
  {
   "cell_type": "markdown",
   "id": "f2799d14-e48e-4ceb-bd81-8cda4c3eb44e",
   "metadata": {},
   "source": [
    "You can specify an order for columns using the `columns` option."
   ]
  },
  {
   "cell_type": "code",
   "execution_count": 14,
   "id": "00372afb-367c-41f8-8a98-405b78e8b615",
   "metadata": {},
   "outputs": [
    {
     "name": "stdout",
     "output_type": "stream",
     "text": [
      "     Name       Email  Age\n",
      "0    Amir  a1@psu.edu   30\n",
      "1    Biko  b2@psu.edu   32\n",
      "2    Chen   c@psu.edu   29\n",
      "3  Darren   5@psu.edu   30\n"
     ]
    }
   ],
   "source": [
    "# copy code from above and specify a different column order\n",
    "s_names = pd.Series(['Amir', 'Biko','Chen','Darren'])\n",
    "l_ages = [30,32,29,30]\n",
    "\n",
    "students = pd.DataFrame({'Name':s_names,'Age':l_ages,'Email':['a1@psu.edu','b2@psu.edu','c@psu.edu','5@psu.edu']}\n",
    "                       ,columns = ['Name','Email','Age'])\n",
    "\n",
    "print(students)"
   ]
  },
  {
   "cell_type": "markdown",
   "id": "54d490ef-8237-4997-a36b-8450232e840d",
   "metadata": {},
   "source": [
    "You can also change the default index. "
   ]
  },
  {
   "cell_type": "code",
   "execution_count": 15,
   "id": "5dadd1d4-2c71-4e5c-b591-b9f3d143e717",
   "metadata": {},
   "outputs": [
    {
     "name": "stdout",
     "output_type": "stream",
     "text": [
      "          Name       Email  Age\n",
      "Amir      Amir  a1@psu.edu   30\n",
      "Biko      Biko  b2@psu.edu   32\n",
      "Chen      Chen   c@psu.edu   29\n",
      "Darren  Darren   5@psu.edu   30\n"
     ]
    }
   ],
   "source": [
    "# create l_names list and assign as a column as well as the index\n",
    "\n",
    "l_names = ['Amir', 'Biko','Chen','Darren']\n",
    "l_ages = [30,32,29,30]\n",
    "\n",
    "students = pd.DataFrame({'Name':l_names,'Age':l_ages,'Email':['a1@psu.edu','b2@psu.edu','c@psu.edu','5@psu.edu']}\n",
    "                       ,columns = ['Name','Email','Age'], index=l_names)\n",
    "\n",
    "print(students)"
   ]
  },
  {
   "cell_type": "markdown",
   "id": "f6163d30-5396-43ae-a7f4-6e347679cb57",
   "metadata": {},
   "source": [
    "**Note:** If you are setting an index in the pd.DataFrame() function, use lists instead of Series to create the Dataframe. If you use a Series (which also has an index), there can be a conflict between the indices of the Series and the DataFrame resulting in NaN values."
   ]
  },
  {
   "cell_type": "markdown",
   "id": "648d4ae2-4c9c-47f4-8cda-77241257ea42",
   "metadata": {},
   "source": [
    "While it is possible to specify a strict order for the rows, we won't study that at this point."
   ]
  },
  {
   "cell_type": "markdown",
   "id": "5f59c70c-7936-4020-a358-564f78c025bb",
   "metadata": {},
   "source": [
    "Let's look at one more way to create data frames from lists - using lists of lists."
   ]
  },
  {
   "cell_type": "code",
   "execution_count": 17,
   "id": "e3e75730-9b5d-40d2-b91d-0d221cff404e",
   "metadata": {},
   "outputs": [
    {
     "name": "stdout",
     "output_type": "stream",
     "text": [
      "     Name  Age        Email\n",
      "0    Amir   30   a1@psu.edu\n",
      "1    Biko   32  b10@psu.edu\n",
      "2    Chen   29   c2@psu.edu\n",
      "3  Darren   30    d@psu.edu\n"
     ]
    }
   ],
   "source": [
    "# create lists that represent a row and add them to a DataFrame. \n",
    "student_info = [\n",
    "    ['Amir', 30, 'a1@psu.edu'],\n",
    "    ['Biko', 32, 'b10@psu.edu'],\n",
    "    ['Chen', 29, 'c2@psu.edu'],\n",
    "    ['Darren',30, 'd@psu.edu'],\n",
    "    \n",
    "]\n",
    "\n",
    "students2 = pd.DataFrame(student_info,columns=['Name','Age','Email'])\n",
    "print(students2)"
   ]
  },
  {
   "cell_type": "markdown",
   "id": "77934d19-04f4-48b0-9348-ac566e81e9d4",
   "metadata": {},
   "source": [
    "## Dimensions of a DataFrame\n",
    "\n",
    "Often you will read data from a file into a DataFrame. When you do so, you may be interested in knowing how many rows and columns are in the DataFrame. You can find this information using the `shape` attribute of a DataFrame. "
   ]
  },
  {
   "cell_type": "code",
   "execution_count": 18,
   "id": "e98722ea-353d-487a-9532-9eab2a08d88b",
   "metadata": {},
   "outputs": [
    {
     "name": "stdout",
     "output_type": "stream",
     "text": [
      "(4, 3)\n",
      "<class 'tuple'>\n"
     ]
    }
   ],
   "source": [
    "# find the dimensions of the students data frame\n",
    "\n",
    "print(students.shape)\n",
    "print(type(students.shape))"
   ]
  },
  {
   "cell_type": "code",
   "execution_count": 19,
   "id": "a79e84a3-f855-4418-8248-7388969ad7df",
   "metadata": {},
   "outputs": [
    {
     "data": {
      "text/plain": [
       "4"
      ]
     },
     "execution_count": 19,
     "metadata": {},
     "output_type": "execute_result"
    }
   ],
   "source": [
    "#no of rows\n",
    "\n",
    "students.shape[0]"
   ]
  },
  {
   "cell_type": "markdown",
   "id": "21629134-3981-4b80-9b85-d51e86fd7c3e",
   "metadata": {},
   "source": [
    "**Note: Attributes(Properties) vs. Methods(Functions)**\n",
    "\n",
    "Attributes are properties of an object. Think of them as variables whose value tells you something about the object. The syntax for using an attribute is `object.attribute`.\n",
    "\n",
    "Methods are functions associated to an object that act on the object. This action could display some results, modify the object and/or update the values of some attributes. The syntax for using a method is `object.function()`.\n",
    "\n",
    "\n"
   ]
  }
 ],
 "metadata": {
  "kernelspec": {
   "display_name": "Python 3 (ipykernel)",
   "language": "python",
   "name": "python3"
  },
  "language_info": {
   "codemirror_mode": {
    "name": "ipython",
    "version": 3
   },
   "file_extension": ".py",
   "mimetype": "text/x-python",
   "name": "python",
   "nbconvert_exporter": "python",
   "pygments_lexer": "ipython3",
   "version": "3.7.10"
  }
 },
 "nbformat": 4,
 "nbformat_minor": 5
}
