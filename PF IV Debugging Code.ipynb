{
 "cells": [
  {
   "cell_type": "markdown",
   "id": "eddd6a6e-4bdf-4489-8a2e-70a9f8cc615e",
   "metadata": {},
   "source": [
    "# Python Fundamentals: Debugging Code\n",
    "\n",
    "Material adapted from Miller, B., Ranum, D., Elkner, J., Wentworth, P., Downey, A. B., Meyers, C., & Mitchell, D. (2014). How to think like a computer scientist: Interactive edition. Runestone."
   ]
  },
  {
   "cell_type": "markdown",
   "id": "d8478164-f32a-4bc9-b5ea-ecaac506d25c",
   "metadata": {},
   "source": [
    "## Introduction\n",
    "\n",
    "In this lesson, we will learn about different types of errors, how programmers can avoid errors and how they can debug code when errors appear. Errors are called `Exceptions` in programming. "
   ]
  },
  {
   "cell_type": "markdown",
   "id": "80bb2cc7-5a86-4f7f-87fc-b39cc42d6399",
   "metadata": {},
   "source": [
    "## Debugging\n",
    "\n",
    "Debugging is the process of identifying and removing errors (often called bugs) from code. \n",
    "\n",
    "> The best way to debug your code is to not have any bugs!!"
   ]
  },
  {
   "cell_type": "markdown",
   "id": "7f78556b-96f1-45b3-b342-818f9ab4d8bc",
   "metadata": {},
   "source": [
    "## Traceback\n",
    "\n",
    "When Python encounters an error, it prints a report called a traceback or a stack trace that provided more details on the error (exception). This includes the type of error encountered, a possible location for the error and other information that can help trace and fix the error (i.e, debug your code). \n",
    "\n",
    "**A traceback should be read from the bottom to the top.** The last line lists the type of error or exception that was raised and some relevant information about the error. Other lines show the code that resulted in the error. This includes code that you wrote and the internal code from functions/ libaries that your code used. "
   ]
  },
  {
   "cell_type": "markdown",
   "id": "0d6b6d8a-b28d-44b5-b84f-34926378e67f",
   "metadata": {},
   "source": [
    "## Types of Errors"
   ]
  },
  {
   "cell_type": "markdown",
   "id": "75941256-102a-45bd-9adc-20da8ea34d0a",
   "metadata": {},
   "source": [
    "### 1. Implementation Errors\n",
    "These are errors in the translating a correct algorithm into code. They can be of two types: Syntax errors and Runtime errors. You can find a list of the different types of implementation errors on the [Exceptions page of the Python documentation](https://docs.python.org/3/library/exceptions.html)."
   ]
  },
  {
   "cell_type": "markdown",
   "id": "5ebeaaae-3ddf-42e0-aec3-8868db240d67",
   "metadata": {},
   "source": [
    "#### 1.1 Syntax Errors\n",
    "Synatx errors are those where the programmer has violated the basic rules of structure of the programming language. They are also known as parsing errors. A computer program that has a syntax error cannot be executed. These are actually fairly easy to fix. You can typically identify them from the error message or by searching for the error message in references. \n",
    "\n",
    "The error messages may not be very informative by themselves but they often reveal the location of the error (using a carrot `^` symbol), which is often very useful in figuring out what the error is. Sometimes, the caret symbol appears at the first location where the Python interpreter started having trouble with the syntax. \n",
    "\n",
    "The last line of the traceback will indicate that you have a syntax error using one of the following exception types:\n",
    "* Syntax error\n",
    "    - not following syntax rules\n",
    "* Indentation error\n",
    "    - wrong number of spaces so indentation does not line up perfectly (e.g., in a if...elif...else block)\n",
    "* Tab error\n",
    "    - use of both tab and spaces in the same cell/program for creating indentation. \n",
    "\n",
    "Research these errors for more information on each error. \n",
    "\n",
    "Common reasons for syntax errors include:\n",
    "* Using a keyword as a variable name\n",
    "* Misspelled keyword\n",
    "* Not adding a colon(:) at the end of an if, elif, else, for or while statement\n",
    "* Not indenting the code block after an if, elif, else, for or while statement\n",
    "* = instead of == for a condition\n",
    "* missing quotes, parentheses or brackets"
   ]
  },
  {
   "cell_type": "code",
   "execution_count": null,
   "id": "e181b18e-a136-42a4-b6dd-89aa1f6757e4",
   "metadata": {},
   "outputs": [],
   "source": [
    "age = 10\n",
    "if age > 18\n",
    " print (adult)"
   ]
  },
  {
   "cell_type": "markdown",
   "id": "55b88d8b-a6a1-4441-a6c4-d467a0d40c9f",
   "metadata": {},
   "source": [
    "#### 1.2 Runtime Errors\n",
    "If your code does not have a syntax error, it will be executed. However, you could see a runtime error. Runtime errors are errors that are raised during the execution of the program. They are also known as exceptions. When runtime errors occur, you will receive a message that tells you the specfic runtime error that was encountered and you will see a pointer (arrow) to the line of code where the error was raised. You can search for the error message in references to understand what may be causing the error and then refer to the location of the error to identify the specific error in your code.\n",
    "\n",
    "Common runtime errors include:\n",
    "* NameError\n",
    "    - using a variable without defining it first\n",
    "* TypeError\n",
    "    - operation performed on an usupported data type\n",
    "* AttributeError\n",
    "    - trying to access or modify an attribute that does not exist\n",
    "* IndexError\n",
    "    - using an index for a sequence when that index does not exist\n",
    "* KeyError\n",
    "    - using a dictionary key when that key does not exist\n",
    "* FileNotFoundError\n",
    "    - accessing a file that does not exist\n",
    "* ZeroDivisionError\n",
    "    - dividing a value by zero\n",
    " \n",
    "\n",
    "Common causes of runtime errors include:\n",
    "* Misspelled keyword\n",
    "* Incorrect data types involved in an operation\n",
    "* Dividing by zero\n",
    "* Invalid index for accessing an element of a sequence\n",
    "* Providing incorrect name or location for a file or that the file has not been created yet\n"
   ]
  },
  {
   "cell_type": "code",
   "execution_count": null,
   "id": "0f73ab16-d2df-4c9d-9883-d14dd2c6ce28",
   "metadata": {},
   "outputs": [],
   "source": [
    "a = 100\n",
    "b = 0\n",
    "print(a/b)"
   ]
  },
  {
   "cell_type": "markdown",
   "id": "a5a9cc87-36d7-4f09-b152-dab394533243",
   "metadata": {},
   "source": [
    "**Important:** Note that sometimes the syntax or the runtime error is not in the line that is indicated in the error message but a line close to (perhaps just above) the indicated line of code. "
   ]
  },
  {
   "cell_type": "markdown",
   "id": "1d6eb26d-3672-425c-802f-9f5fba87a616",
   "metadata": {},
   "source": [
    "### 2. Semantic Errors\n",
    "These are logical errors in your code (or your pseudocode or algorithm) which cause your program to behave unexpectedly. When you have semantic errors, your code will execute without any error messages but not accomplish the task at hand. Unless you test your code well, you may not even identify that a semantic error exists in your code. These types of errors are perhaps the most difficult to debug because searching references does not help much with them. "
   ]
  },
  {
   "cell_type": "markdown",
   "id": "df0b1790-9d45-469e-bc1b-1bbdd6a2613e",
   "metadata": {},
   "source": [
    "Letls look at an example. "
   ]
  },
  {
   "cell_type": "code",
   "execution_count": null,
   "id": "32dddea2-9ce8-41b1-80c3-30ae275fc52a",
   "metadata": {},
   "outputs": [],
   "source": [
    "a = 10\n",
    "b = 20\n",
    "\n",
    "if a < b:\n",
    "    print(a, \"is larger than\", b)\n",
    "else:\n",
    "    print(b, \"is larger than\", a)"
   ]
  },
  {
   "cell_type": "markdown",
   "id": "a4e97073-e418-4a1e-96ab-d9406a6183ce",
   "metadata": {},
   "source": [
    "## Debugging Startegies\n",
    "\n",
    "To help debug errors (especially semantic errors), you can use the following strategies:\n",
    "\n",
    "* Break complex statements into simpler ones (often using helper variables).\n",
    "* Use print statements to print intermediate values.\n",
    "* Comment some lines of code to run only part of your program.\n",
    "* Don't code everything at once. Start simple and expand the program. Test at each stage so you know when/where an error was introduced.\n",
    "\n",
    "\n",
    "Jupyter lab comes with a debugger tool that can also be used for debugging code. Check the [debugger page](https://jupyterlab.readthedocs.io/en/stable/user/debugger.html) for more information and a demonstration. Let's see how we can use it for the above code cell.\n",
    "1. First, let's view the debugger window.\n",
    "2. Next let's enable debugging.\n",
    "3. Let's add a breakpoint on the first line and the fourth line.\n",
    "4. Let's run the code from one breakpoint to the next.\n",
    "5. Let's run the code one line at a time.\n",
    "6. Let's remove all breakpoints and disable debugging."
   ]
  },
  {
   "cell_type": "markdown",
   "id": "b585c9fc-5631-40f1-bec4-92318d599313",
   "metadata": {},
   "source": [
    "## Practice\n",
    "**Task** Ask the user for the time now (in hours 0 - 23), and ask for the number of hours to wait. Your program should output what the time will be on the clock when the alarm goes off. For example, if current_time is 8 and wait_time is 5, final_time should be 13 (which is equivalent to 1 pm)."
   ]
  },
  {
   "cell_type": "markdown",
   "id": "989b8115-a051-4700-884f-12fbcbb80e4c",
   "metadata": {},
   "source": [
    "Debug the following code:"
   ]
  },
  {
   "cell_type": "code",
   "execution_count": 5,
   "id": "a89e0d8d-f883-4cf5-b74d-4d6c54c616c1",
   "metadata": {},
   "outputs": [
    {
     "name": "stdin",
     "output_type": "stream",
     "text": [
      "What is the current time (in hours 0-23)? 10\n",
      "How many hours do you want to wait 48\n"
     ]
    },
    {
     "name": "stdout",
     "output_type": "stream",
     "text": [
      "58\n"
     ]
    }
   ],
   "source": [
    "current_time_str = input(\"What is the current time (in hours 0-23)?\")\n",
    "wait_time_str = input(\"How many hours do you want to wait\")\n",
    "\n",
    "current_time_int = int(current_time_str)\n",
    "wait_time_int = int(wait_time_str)\n",
    "\n",
    "final_time_int = current_time_int + wait_time_int\n",
    "while(final_time_int<24):\n",
    "    if(final_time_int>=24):\n",
    "        final_time_int=final_time_int-24\n",
    "print(final_time_int)"
   ]
  },
  {
   "cell_type": "markdown",
   "id": "d10f8f57-3958-4c9f-a7cb-c6584689c718",
   "metadata": {},
   "source": [
    "Debug the following code:"
   ]
  },
  {
   "cell_type": "code",
   "execution_count": null,
   "id": "bc482ac7-4fa9-450d-9895-71f3e8741fd5",
   "metadata": {
    "tags": []
   },
   "outputs": [],
   "source": [
    "current_time_str = input(\"What is the current time (in hours 0-23)?\")\n",
    "wait_time_str = input(\"How many hours do you want to wait\"\n",
    "\n",
    "current_time_int = int(current_time_str)\n",
    "wait_time_int = int(wait_time_str)\n",
    "\n",
    "final_time_int = current_time_int + wait_time_int\n",
    "print(final_time_int)"
   ]
  },
  {
   "cell_type": "markdown",
   "id": "6eff5dfb-6e2c-444a-9c3e-88309acdf53b",
   "metadata": {},
   "source": [
    "Can you complete the code needed to achieve the task?"
   ]
  },
  {
   "cell_type": "code",
   "execution_count": null,
   "id": "ecbd2255-0f13-44e6-9d70-866edb252de8",
   "metadata": {},
   "outputs": [],
   "source": []
  }
 ],
 "metadata": {
  "kernelspec": {
   "display_name": "Python 3 (ipykernel)",
   "language": "python",
   "name": "python3"
  },
  "language_info": {
   "codemirror_mode": {
    "name": "ipython",
    "version": 3
   },
   "file_extension": ".py",
   "mimetype": "text/x-python",
   "name": "python",
   "nbconvert_exporter": "python",
   "pygments_lexer": "ipython3",
   "version": "3.7.10"
  }
 },
 "nbformat": 4,
 "nbformat_minor": 5
}
