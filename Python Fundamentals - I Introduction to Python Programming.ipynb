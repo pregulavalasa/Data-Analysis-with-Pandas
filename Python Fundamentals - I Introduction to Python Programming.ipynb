{
 "cells": [
  {
   "cell_type": "markdown",
   "id": "eddd6a6e-4bdf-4489-8a2e-70a9f8cc615e",
   "metadata": {},
   "source": [
    "# Python Fundamentals - I: Introduction to Python Programming"
   ]
  },
  {
   "cell_type": "markdown",
   "id": "d8478164-f32a-4bc9-b5ea-ecaac506d25c",
   "metadata": {},
   "source": [
    "## Introduction\n",
    "\n",
    "In this lesson, we will start covering some basics of Python programming. Specifically, we will touch on the following topics. \n",
    " - comments\n",
    " - numbers and strings\n",
    " - calculations and operators\n",
    " - variables and data types\n",
    " - user input and output\n",
    "\n",
    "The lesson will be supplemented with assigned readings from the above references. \n",
    "\n",
    "Note: Use the TOC to navigate between sections.\n"
   ]
  },
  {
   "cell_type": "markdown",
   "id": "6908e1e6-920f-4fcb-b20e-b23624e9ec7a",
   "metadata": {},
   "source": [
    "## Our first interaction with Python \n",
    "\n",
    "Now, let's get down to work. Before we write our first program, let's check which version of Python we are using. \n",
    "\n",
    "- Switch to the launch tab. If it is not visible, select File > New Launcher. \n",
    "- Launch a terminal window. \n",
    "- Type `python --version` (no space after the hyphens)\n",
    "Now you know which version of Python you will use (and can find the appropriate references). \n",
    "Remember that Python 2 is no longer supported and we will use Python 3 in this course. "
   ]
  },
  {
   "cell_type": "markdown",
   "id": "eafb4742-b765-47ae-ac2c-25dc774d6163",
   "metadata": {},
   "source": [
    "## Our first program\n",
    "\n",
    "A tradition that started with the C programming language is to print the phrase, \"Hello, World!\" on the screen.The one statement program to achieve this in python is \n",
    "`print(\"Hello, World!\")`\n",
    "You can execute this program in three ways - \n",
    "1. You can open a console for this notebook, type of copy the above code to the console (remember to remove the backquotes if you copy) and hit Shift + Enter to execute. One advantage of the console is that it clearly displays the order in which code was executed. Also, this can be a place to test code before adding it to the notebook.\n",
    "2. You can create a new python code file (with a .py extension), copy the above line of code to the file (remember to remove the backquotes if you copy) and execute or run the file from the terminal by using the command `python hello.py`. \n",
    "3. You can create a code cell below (`b` in command mode or Alt+Enter) or , type or copy the above code (remember to remove the backquotes if you copy), and run (execute) the cell. \n",
    "   \n",
    "Let's try all options. "
   ]
  },
  {
   "cell_type": "code",
   "execution_count": 1,
   "id": "99488e22-deb6-45a0-94de-37c403db34cd",
   "metadata": {},
   "outputs": [
    {
     "name": "stdout",
     "output_type": "stream",
     "text": [
      "hello, world\n"
     ]
    }
   ],
   "source": [
    "print(\"hello, world\")"
   ]
  },
  {
   "cell_type": "code",
   "execution_count": 3,
   "id": "e4241cf8-6ed1-441d-a95a-79e3344949f0",
   "metadata": {},
   "outputs": [
    {
     "name": "stdout",
     "output_type": "stream",
     "text": [
      "10\n",
      "9\n",
      "8\n",
      "7\n",
      "6\n",
      "5\n",
      "4\n",
      "3\n",
      "2\n",
      "1\n",
      "Liftoff!\n"
     ]
    }
   ],
   "source": [
    "# Countdown to launch\n",
    "print(\"10\")\n",
    "print(\"9\")\n",
    "print(\"8\")\n",
    "print(\"7\")\n",
    "print(\"6\")\n",
    "print(\"5\")\n",
    "print(\"4\")\n",
    "print(\"3\")\n",
    "print(\"2\")\n",
    "print(\"1\")\n",
    "print(\"Liftoff!\")"
   ]
  },
  {
   "cell_type": "markdown",
   "id": "ecc60aed-2b00-4227-ab4c-acfbd7601065",
   "metadata": {
    "tags": []
   },
   "source": [
    "## Comments\n",
    "\n",
    "With the previous program, it is obvious what we did - we printed a message. We also used a function and the string datatype - more on that later. What if we wanted to add some explanation to our code for someone who may not know what we are trying to do. We can do so by commenting our code. Comments are statements that start with a `#` symbol. These statements are not executed (in our case, the Python interpreter knows to ignore them). \n",
    "\n",
    "What should a comment be about? It should not be about the mechanics of what the code does (e.g., print a message using the print function). Instead, it should explain why we are doing something or what is happening in the context of the task (e.g., greet the earthlings). \n",
    "\n",
    "```\n",
    "# Greet the Earthlings\n",
    "print(\"Hello, World!\")\n",
    "```\n",
    "\n",
    "You can also create multiline comments by enclosing text in three single or double quotes. The recommended way however, is to start each line with a `#` symbol.\n",
    "```\n",
    "\"\"\"\n",
    "This is a comment that spans \n",
    "multiple lines\n",
    "\"\"\"\n",
    "print(\"Hello again, World!\")\n",
    "```\n",
    "We got a segment of python code from the NASA launch station! Add a comment at the top of the code cell and then execute the cell. "
   ]
  },
  {
   "cell_type": "code",
   "execution_count": null,
   "id": "be016aef",
   "metadata": {
    "scrolled": true
   },
   "outputs": [],
   "source": [
    "print(\"10\")\n",
    "print(\"9\")\n",
    "print(\"8\")\n",
    "print(\"7\")\n",
    "print(\"6\")\n",
    "print(\"5\")\n",
    "print(\"4\")\n",
    "print(\"3\")\n",
    "print(\"2\")\n",
    "print(\"1\")\n",
    "print(\"Liftoff!\")"
   ]
  },
  {
   "cell_type": "markdown",
   "id": "9aee7850-75a3-41e8-a4cf-2a27808deef6",
   "metadata": {},
   "source": [
    "## Functions (brief introduction)\n",
    "\n",
    "Now is an appropriate time to briefly introduce functions. A function is *also* a sequence of instructions to perform a specific task but it is different from a program. \n",
    "- A function typically performs a narrow/ small task. \n",
    "- A function accepts (receives) arguments and returns (typically) an object (often a result). \n",
    "- A function must be 'called' from a program or another function to be executed. \n",
    "- A function is a reusable piece of code. \n",
    "- You can identify a function from its call - the name of the function, followed by parenthesis (empty or not). \n",
    "\n",
    "`print()` is a function. \n",
    "\n",
    "`print(\"Hello, World!\")` is a function call where \"Hello, World!\" is the *argument* passed to the function. It does not return anything (it returns a null object or None). Functions that return a value are called fruitful functions. \n",
    "```\n",
    "# Greet the Earthlings!\n",
    "print(\"Hello, World!\")\n",
    "``` \n",
    "is a program which contains one comment and one call to the `print()` function."
   ]
  },
  {
   "cell_type": "markdown",
   "id": "7762e3f3-31d2-4c29-8451-c89eae18c1f2",
   "metadata": {},
   "source": [
    "A list of built-in Python functions can be found [here](https://docs.python.org/3/library/functions.html)."
   ]
  },
  {
   "cell_type": "markdown",
   "id": "e20c4500-d6d7-4085-aafd-4885b11c0600",
   "metadata": {},
   "source": [
    "It is possible to create custom functions in Python. See the two examples below."
   ]
  },
  {
   "cell_type": "code",
   "execution_count": 1,
   "id": "a7340935-823f-47c8-b66f-a1618a25ef1e",
   "metadata": {},
   "outputs": [
    {
     "name": "stdout",
     "output_type": "stream",
     "text": [
      "Hello, World!\n",
      "Hello, Earthlings!\n"
     ]
    }
   ],
   "source": [
    "def greet(subject):\n",
    "    print(\"Hello, \"+ subject + \"!\")\n",
    "\n",
    "greet(\"World\")\n",
    "greet(\"Earthlings\")"
   ]
  },
  {
   "cell_type": "code",
   "execution_count": 2,
   "id": "7a11c846-9338-476d-a95c-e5b0d86da980",
   "metadata": {},
   "outputs": [
    {
     "data": {
      "text/plain": [
       "3"
      ]
     },
     "execution_count": 2,
     "metadata": {},
     "output_type": "execute_result"
    }
   ],
   "source": [
    "# Fruitful function - which returns a value\n",
    "\n",
    "def add_2_num(num1, num2):\n",
    "    return num1 + num2\n",
    "\n",
    "add_2_num(1,2)"
   ]
  },
  {
   "cell_type": "markdown",
   "id": "810cc320-2278-428a-b817-adee071fa740",
   "metadata": {},
   "source": [
    "## Numbers and calculations\n",
    "\n",
    "You can do numerical computations in Python like adding, subtracting, multiplying and dividing numbers."
   ]
  },
  {
   "cell_type": "code",
   "execution_count": 12,
   "id": "e849ac9d-0501-4305-96bd-20b1c90792a5",
   "metadata": {
    "tags": []
   },
   "outputs": [
    {
     "data": {
      "text/plain": [
       "100"
      ]
     },
     "execution_count": 12,
     "metadata": {},
     "output_type": "execute_result"
    }
   ],
   "source": [
    "10 + 10 # add\n",
    "10-20 # subtract\n",
    "10 *30 # multiply\n",
    "10 / 4 # divide\n",
    "10 // 4 # return integer part of the quotient\n",
    "10 % 4 # return remainder from division\n",
    "10 ** 2 # return a specific exponent (x raised to the power y)"
   ]
  },
  {
   "cell_type": "markdown",
   "id": "4e3d61a0-1452-43ca-83ec-20a8800078d8",
   "metadata": {},
   "source": [
    "Notice how only the results of the last calculation were printed. If you want to see all the results, use the print function. Notice also that I used spaces differently in each line. Replicate the calculations as is and then experiment with adding and removing spaces at various places."
   ]
  },
  {
   "cell_type": "markdown",
   "id": "aa186313-32cc-4b04-8b70-f02757171af2",
   "metadata": {},
   "source": [
    "Let's try some other calculations. "
   ]
  },
  {
   "cell_type": "code",
   "execution_count": 5,
   "id": "0e1b0ee3-5619-40e2-bab0-3cd14171c661",
   "metadata": {},
   "outputs": [
    {
     "data": {
      "text/plain": [
       "1"
      ]
     },
     "execution_count": 5,
     "metadata": {},
     "output_type": "execute_result"
    }
   ],
   "source": [
    "# guess the result before you execute this cell!\n",
    "5 + 2 - 3 * 2"
   ]
  },
  {
   "cell_type": "markdown",
   "id": "fed56681-762b-4ccd-9921-5015a2ce1711",
   "metadata": {},
   "source": [
    "Order of precedence is determined by the <> rule."
   ]
  },
  {
   "cell_type": "code",
   "execution_count": 6,
   "id": "c191cdd7-f85c-4ce7-8a21-ada65cee7507",
   "metadata": {
    "tags": []
   },
   "outputs": [
    {
     "data": {
      "text/plain": [
       "86400"
      ]
     },
     "execution_count": 6,
     "metadata": {},
     "output_type": "execute_result"
    }
   ],
   "source": [
    "# number of seconds in a day\n",
    "24*60*60"
   ]
  },
  {
   "cell_type": "code",
   "execution_count": 8,
   "id": "2c1160e5-ca4a-42fa-bc5e-0480b89fdb02",
   "metadata": {},
   "outputs": [
    {
     "data": {
      "text/plain": [
       "1"
      ]
     },
     "execution_count": 8,
     "metadata": {},
     "output_type": "execute_result"
    }
   ],
   "source": [
    "# number of minutes in 100 seconds\n",
    "100//60"
   ]
  },
  {
   "cell_type": "markdown",
   "id": "69fd3f79-699c-4e4c-9e41-c4e2179c0cd8",
   "metadata": {},
   "source": [
    "If you want to see only the number of complete minutes in 100 seconds then, "
   ]
  },
  {
   "cell_type": "code",
   "execution_count": null,
   "id": "3f1670ea-53a1-4e16-b761-44082c9c2ded",
   "metadata": {},
   "outputs": [],
   "source": [
    "# number of complete minutes in 100 seconds\n"
   ]
  },
  {
   "cell_type": "markdown",
   "id": "c03ed299-dc74-45ef-9190-64a1ab842e20",
   "metadata": {},
   "source": [
    "If we extract the complete minutes, how many seconds are we left with?"
   ]
  },
  {
   "cell_type": "code",
   "execution_count": null,
   "id": "39d4c151-3766-4ce4-9bab-b6067af5280d",
   "metadata": {},
   "outputs": [],
   "source": []
  },
  {
   "cell_type": "code",
   "execution_count": 13,
   "id": "d7a440eb-067b-45d5-bdbf-0053756f344f",
   "metadata": {},
   "outputs": [
    {
     "name": "stdout",
     "output_type": "stream",
     "text": [
      "100 seconds is the same as\n",
      "1\n",
      "minutes\n",
      "and\n",
      "40\n",
      "seconds\n"
     ]
    }
   ],
   "source": [
    "print(\"100 seconds is the same as\")\n",
    "print(100//60)\n",
    "print(\"minutes\")\n",
    "print(\"and\")\n",
    "print(100%60)\n",
    "print(\"seconds\")"
   ]
  },
  {
   "cell_type": "markdown",
   "id": "7c5b6217-edda-4cc5-a3c6-3b451b7ca93e",
   "metadata": {},
   "source": [
    "It would be nice to print everything in the same line. We will get to that shortly. "
   ]
  },
  {
   "cell_type": "markdown",
   "id": "d56166ad-93eb-4726-ab3c-7340ce410657",
   "metadata": {},
   "source": [
    "## Variables\n",
    "\n",
    "Before that, duplicate the above cell and modify it to use 200 seconds instead of 100 seconds."
   ]
  },
  {
   "cell_type": "code",
   "execution_count": 14,
   "id": "6ec47b86-05a0-490c-b527-7fcb85412d48",
   "metadata": {
    "tags": []
   },
   "outputs": [
    {
     "name": "stdout",
     "output_type": "stream",
     "text": [
      "200 seconds is the same as\n",
      "3\n",
      "minutes\n",
      "and\n",
      "20\n",
      "seconds\n"
     ]
    }
   ],
   "source": [
    "print(\"200 seconds is the same as\")\n",
    "print(200//60)\n",
    "print(\"minutes\")\n",
    "print(\"and\")\n",
    "print(200%60)\n",
    "print(\"seconds\")"
   ]
  },
  {
   "cell_type": "markdown",
   "id": "2870e6ad-aa8f-4e62-bbb8-7fff18fc312b",
   "metadata": {},
   "source": [
    "This simple change would be quite painful if you had to do it 20 or more times! Variables can rescue us here. "
   ]
  },
  {
   "cell_type": "markdown",
   "id": "6ff7d9a4-342e-4d4b-ae4d-0ff61572715f",
   "metadata": {},
   "source": [
    "What is a variable?\n",
    "> A variable is a symbolic name associated with a value. A variable can take on different values."
   ]
  },
  {
   "cell_type": "markdown",
   "id": "901a930a-ace1-4214-b6b0-01c888d12860",
   "metadata": {},
   "source": [
    "### Variable Naming Rules and Conventions in Python\n",
    "- Rules\n",
    "    - can be any length\n",
    "    - can contain letters, numbers and underscore (_)\n",
    "    - cannot start with a number\n",
    "    - cannot contain reserved keywords\n",
    "    - are case sensitive\n",
    "    \n",
    "- Conventions\n",
    "    - should be meaningful\n",
    "    - separate words with underscore (or title case for subsequent words)\n",
    "    - lower case"
   ]
  },
  {
   "cell_type": "markdown",
   "id": "25faf160-3df8-44aa-a01e-beba406f3b2e",
   "metadata": {},
   "source": [
    "### Constants\n",
    "Variables can take on different values. Sometimes we use values that won't change. These are constants. The convention is to use variables with names in uppercase to signify constants.\n",
    "\n",
    "Python does have some built-in constants. The ones we will encounter the most are `False`, `True` and, `None`."
   ]
  },
  {
   "cell_type": "code",
   "execution_count": 16,
   "id": "2827e898-8499-4fd0-b0ba-197561f0811b",
   "metadata": {},
   "outputs": [
    {
     "name": "stdout",
     "output_type": "stream",
     "text": [
      "200 seconds is the same as\n",
      "3\n",
      "minutes\n",
      "and\n",
      "20\n",
      "seconds\n"
     ]
    }
   ],
   "source": [
    "# create a variable called 'seconds' to store the total number of seconds.\n",
    "seconds = 200\n",
    "\n",
    "# create a constant called 'SECS_IN_MIN' to store the no. of seconds in a min\n",
    "secs_in_min = 60\n",
    "\n",
    "# print the previous message using the above variable and constant.\n",
    "print(\"200 seconds is the same as\")\n",
    "print(seconds//secs_in_min)\n",
    "print(\"minutes\")\n",
    "print(\"and\")\n",
    "print(seconds%secs_in_min)\n",
    "print(\"seconds\")"
   ]
  },
  {
   "cell_type": "markdown",
   "id": "f4e1f369-853b-4734-85e8-1a91f2419c3d",
   "metadata": {},
   "source": [
    "### Variables and aliasing\n",
    "A variable is a symbolic name for a value stored in a specific memory location. It is possible to assign multiple symbolic names to the same memory location. For example, \n",
    "\n",
    "```\n",
    "a = 10\n",
    "b = a\n",
    "```\n",
    "\n",
    "This is distinct from creating two variables which have the same value but each value is stored in a different memory location. \n",
    "\n",
    "```\n",
    "a = 10\n",
    "b = 10\n",
    "```"
   ]
  },
  {
   "cell_type": "markdown",
   "id": "d9d01b3d-18d4-4127-ab6e-0466f77cf2f4",
   "metadata": {},
   "source": [
    "## Strings\n",
    "\n",
    "Strings are text data. You can create a string by enclosing text in single or double quotes. "
   ]
  },
  {
   "cell_type": "code",
   "execution_count": null,
   "id": "266fe2e5-b5a6-470a-97b0-2984b304e5c3",
   "metadata": {},
   "outputs": [],
   "source": [
    "message =  # set message to - Hello, World!\n",
    "print(message)"
   ]
  },
  {
   "cell_type": "markdown",
   "id": "a5f7d81d-45f0-4cec-9771-e82613c3a4cc",
   "metadata": {},
   "source": [
    "If the string contains quotes, you can use different quote types to enclose the text. "
   ]
  },
  {
   "cell_type": "code",
   "execution_count": 1,
   "id": "5b4c56a8-cd15-48c4-a34f-0e5fa9a3643a",
   "metadata": {},
   "outputs": [
    {
     "ename": "SyntaxError",
     "evalue": "invalid syntax (2680996694.py, line 2)",
     "output_type": "error",
     "traceback": [
      "\u001b[0;36m  File \u001b[0;32m\"/tmp/ipykernel_1832691/2680996694.py\"\u001b[0;36m, line \u001b[0;32m2\u001b[0m\n\u001b[0;31m    print(\"No, I was \"busy\".\")\u001b[0m\n\u001b[0m                         ^\u001b[0m\n\u001b[0;31mSyntaxError\u001b[0m\u001b[0;31m:\u001b[0m invalid syntax\n"
     ]
    }
   ],
   "source": [
    "print(\"Weren't you at the party?\")\n",
    "print(\"No, I was \"busy\".\")"
   ]
  },
  {
   "cell_type": "markdown",
   "id": "cab6d29f-20d0-412a-aa27-eceed0fac455",
   "metadata": {
    "tags": []
   },
   "source": [
    "You can perform many [operations](https://docs.python.org/3/library/string.html) on strings. Let's look at a few simple ones for now. \n",
    "\n",
    "You can combine strings using the `+` operator. This is called string concatenation."
   ]
  },
  {
   "cell_type": "code",
   "execution_count": 19,
   "id": "21cf3341-38c7-435b-b5d2-d679179f25c7",
   "metadata": {},
   "outputs": [
    {
     "name": "stdout",
     "output_type": "stream",
     "text": [
      "original text: Code is like humor. When you have to explain it, it's bad.\n"
     ]
    }
   ],
   "source": [
    "# quote by Cory House\n",
    "quote = \"Code is like humor. When you have to explain it, it's bad.\"\n",
    "print(\"original text: \" + quote)"
   ]
  },
  {
   "cell_type": "markdown",
   "id": "de00b875-8138-4645-9ece-72dc655e2274",
   "metadata": {},
   "source": [
    "You can convert the case of the letters in a string. "
   ]
  },
  {
   "cell_type": "code",
   "execution_count": 20,
   "id": "9b8d4c5d-ed61-451c-8e2c-dafb01301cf5",
   "metadata": {
    "tags": []
   },
   "outputs": [
    {
     "name": "stdout",
     "output_type": "stream",
     "text": [
      "lower case: code is like humor. when you have to explain it, it's bad.\n",
      "upper case: \n",
      "title case: \n"
     ]
    }
   ],
   "source": [
    "print(\"lower case: \" + quote.lower())\n",
    "print(\"upper case: \") # complete the code\n",
    "print(\"title case: \") # complete the code"
   ]
  },
  {
   "cell_type": "markdown",
   "id": "278abda0-a540-4a98-9457-ad1739de18a4",
   "metadata": {},
   "source": [
    "You can count the number of characters in a string using the `len()` function."
   ]
  },
  {
   "cell_type": "code",
   "execution_count": null,
   "id": "3510263c-8015-456e-a55c-b9c3879c6494",
   "metadata": {},
   "outputs": [],
   "source": [
    "print() # print the no. of characters in the quote"
   ]
  },
  {
   "cell_type": "code",
   "execution_count": 25,
   "id": "511b7c25-30f6-4eb1-89dd-d8cc45212c15",
   "metadata": {},
   "outputs": [
    {
     "name": "stdout",
     "output_type": "stream",
     "text": [
      "Code is like humor.When you have to explain it, it's bad.\n"
     ]
    }
   ],
   "source": [
    "quote_begin = \"Code is like humor.\"\n",
    "quote_end = \"When you have to explain it, it's bad.\"\n",
    "print(quote_begin + quote_end)\n"
   ]
  },
  {
   "cell_type": "markdown",
   "id": "018043d9-6bf4-4af5-983a-5e8bbd997e15",
   "metadata": {},
   "source": [
    "`len()` and `lower()` are both functions but they are used differently.\n",
    "In the case of the `len()` function, we pass a string object as an argument to the function. \n",
    "In the case of the `lower()` function we use the syntax `object.function()` and the function acts on the object. \n",
    "We won't go into the technical details of this. For now, please be aware and mindful of the two different ways to \"invoke\" or \"call\" functions."
   ]
  },
  {
   "cell_type": "markdown",
   "id": "d6768fe1-cb6b-4c06-8643-89144d9de5cc",
   "metadata": {},
   "source": [
    "## Data Types\n",
    "Python has several built-in data types. In addition, many packages include extended data types. \n",
    "\n",
    "The built-in data types include\n",
    "- Numerics (**int**, **float**, **complex**)\n",
    "- Boolean (**bool**)\n",
    "- Sequences (**str**, **list**, **tuple**, **range**, bytes, bytearray, memoryview)\n",
    "- Set (set, frozenset)\n",
    "- Mappings (**dict**)\n",
    "- Others (class, object, method, exception, etc.)\n",
    "\n",
    "You can find the data type of a variable using the `type(var)` function. "
   ]
  },
  {
   "cell_type": "code",
   "execution_count": 30,
   "id": "ae53ce21-2dbd-45c6-90c5-b9a49a38b371",
   "metadata": {},
   "outputs": [
    {
     "data": {
      "text/plain": [
       "int"
      ]
     },
     "execution_count": 30,
     "metadata": {},
     "output_type": "execute_result"
    }
   ],
   "source": [
    "# use the type function to identify the types of the following variables.\n",
    "age = 20\n",
    "weight = 180.65\n",
    "name = \"Charlie\"\n",
    "scores = [80,100,95]\n",
    "type(age)\n",
    "5"
   ]
  },
  {
   "cell_type": "markdown",
   "id": "1fbf712c-b482-4914-be49-40b929cfb7c6",
   "metadata": {},
   "source": [
    "In some cases, you can convert variables and values from one type to another. This is known as type conversion or typecasting.  "
   ]
  },
  {
   "cell_type": "code",
   "execution_count": 31,
   "id": "3e6346fc-9761-49b1-ae88-87b2adb82d23",
   "metadata": {},
   "outputs": [
    {
     "data": {
      "text/plain": [
       "float"
      ]
     },
     "execution_count": 31,
     "metadata": {},
     "output_type": "execute_result"
    }
   ],
   "source": [
    "type(weight)"
   ]
  },
  {
   "cell_type": "code",
   "execution_count": 32,
   "id": "f41844ec-5b87-47d1-8baf-740ff43b445b",
   "metadata": {},
   "outputs": [
    {
     "data": {
      "text/plain": [
       "list"
      ]
     },
     "execution_count": 32,
     "metadata": {},
     "output_type": "execute_result"
    }
   ],
   "source": [
    "type(scores)"
   ]
  },
  {
   "cell_type": "code",
   "execution_count": 34,
   "id": "ea9a4dba-e840-416f-aa6a-6d6091fdd12f",
   "metadata": {},
   "outputs": [
    {
     "data": {
      "text/plain": [
       "str"
      ]
     },
     "execution_count": 34,
     "metadata": {},
     "output_type": "execute_result"
    }
   ],
   "source": [
    "str_age = str(age)\n",
    "float_age = float(age)\n",
    "\n",
    "# type of age\n",
    "\n",
    "# type of str_age\n",
    "type(str_age)\n",
    "# type of float_age\n"
   ]
  },
  {
   "cell_type": "markdown",
   "id": "65a0412d-3556-43d3-9699-f79c2e87565b",
   "metadata": {},
   "source": [
    "Note: we did not create a variable named age in the above cell but were able to work with it because the previously created variable persists throughout the notebook. "
   ]
  },
  {
   "cell_type": "markdown",
   "id": "f43e29c7-a0c4-486a-9cd2-a60ddf43a1e3",
   "metadata": {},
   "source": [
    "Why might we need to typecast variables?\n",
    "It helps in situations where we need a specific data type but the variable is of a different type (e.g., when functions expect arguments of a specific type)."
   ]
  },
  {
   "cell_type": "code",
   "execution_count": 37,
   "id": "04a6372a-e347-41be-b1bc-cf8278b68dc1",
   "metadata": {},
   "outputs": [
    {
     "name": "stdout",
     "output_type": "stream",
     "text": [
      "200 seconds is the same as 60 minutes and 20 seconds\n"
     ]
    }
   ],
   "source": [
    "# Can we combine strings and numbers using the + operator?\n",
    "message =  str(seconds) + \" seconds is the same as \" + str(secs_in_min)  + \" minutes \" + \"and \" + str(seconds%secs_in_min)  + \" seconds\"\n",
    "print(message)"
   ]
  },
  {
   "cell_type": "code",
   "execution_count": 38,
   "id": "02fab2ab-def2-4cce-85e8-f32198a99135",
   "metadata": {},
   "outputs": [
    {
     "name": "stdout",
     "output_type": "stream",
     "text": [
      "200 seconds is the same as 60 minutes and 20 seconds.\n"
     ]
    }
   ],
   "source": [
    "#let's try this again using f-strings\n",
    "message2 = f\"{seconds} seconds is the same as {secs_in_min} minutes and {seconds%secs_in_min} seconds.\"\n",
    "print(message2)"
   ]
  },
  {
   "cell_type": "markdown",
   "id": "0c32591b-04d4-41ce-8810-21a8a9080258",
   "metadata": {},
   "source": [
    "## User input\n",
    "\n",
    "What if we wanted the user to tell us how many seconds to convert into minutes and seconds format?"
   ]
  },
  {
   "cell_type": "code",
   "execution_count": 40,
   "id": "08dfb578-f859-4fd9-bc97-561a4aab3e64",
   "metadata": {
    "tags": []
   },
   "outputs": [
    {
     "name": "stdin",
     "output_type": "stream",
     "text": [
      "Please enter the total time in seconds. 100\n"
     ]
    },
    {
     "name": "stdout",
     "output_type": "stream",
     "text": [
      "100\n",
      "1.6666666666666667\n"
     ]
    }
   ],
   "source": [
    "prompt = \"Please enter the total time in seconds.\" \n",
    "seconds = input(prompt)\n",
    "print(seconds)\n",
    "print(int(seconds)/60)"
   ]
  },
  {
   "cell_type": "code",
   "execution_count": null,
   "id": "4fc697e1-5709-4cb9-a042-7fbb743b52b2",
   "metadata": {},
   "outputs": [],
   "source": []
  }
 ],
 "metadata": {
  "kernelspec": {
   "display_name": "Python 3 (ipykernel)",
   "language": "python",
   "name": "python3"
  },
  "language_info": {
   "codemirror_mode": {
    "name": "ipython",
    "version": 3
   },
   "file_extension": ".py",
   "mimetype": "text/x-python",
   "name": "python",
   "nbconvert_exporter": "python",
   "pygments_lexer": "ipython3",
   "version": "3.7.10"
  }
 },
 "nbformat": 4,
 "nbformat_minor": 5
}
