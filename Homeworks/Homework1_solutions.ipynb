{
 "cells": [
  {
   "cell_type": "markdown",
   "id": "9c5bbe3b-b5b6-4592-ad27-aaa9415a3ddf",
   "metadata": {
    "tags": []
   },
   "source": [
    "# Homework 1\n",
    "<HR/>\n",
    "\n",
    "**This assignment is designed to provide you practice with variables, calculations, input, output and data types.**"
   ]
  },
  {
   "cell_type": "markdown",
   "id": "5e469f65-03fc-4122-8fad-9fda96255fd3",
   "metadata": {},
   "source": [
    "**INSTRUCTIONS - Please read carefully.**\n",
    "\n",
    "1. Please complete the following coding exercises and upload a copy (one per team) of the completed and executed notebook as your homework submission. Remember to restart the kernel, run all cells and check the outputs before saving and downloading the final version of the notebook for submission.\n",
    "\n",
    "2. A blank code cell and/or markdown cell has been created below each question for you to add the relevant code and markdown. Add additional cells if needed. Execute all code and markdown cells to display the results. \n",
    "\n",
    "3. Add comments in each cell to explain what the code is meant to achieve. For example,\n",
    "\n",
    "```\n",
    "# ask for user preference\n",
    "\n",
    "# check if user wants to continue\n",
    "```\n",
    "\n",
    "4. Follow guidelines discussed in class to create well-written code. For example, provide user friendly prompts for all user inputs and user friendly messages with all outputs. Assign meaningful names to variables.\n",
    "\n",
    "5. You can search for helpful functions and code to achieve specific tasks like \"how to code an 'and' condition in Python\" or \"how to print multiple strings in the same line in Python\" but you may not post the specific questions online or otherwise seek help in answering the specific homework questions. Doing so will result in a zero on the assignment and could result in a failing grade in the course. Please **CHECK THE ACADEMIC INTEGRITY SECTION IN THE SYLLABUS** for complete information. It is your responsibility to understand and follow the academic integrity guidelines."
   ]
  },
  {
   "cell_type": "markdown",
   "id": "5a9d6fb0-8ac3-42ff-bca4-f5459c80e576",
   "metadata": {},
   "source": [
    "<HR/>\n",
    "\n",
    "## <font color='red'/>Team Member Names </font>\n",
    "\n",
    "#### **Team Member 1:** Prashanth Regulavalasa\n",
    "#### **Team Member 2:** Bala Sai Nadh Kesana\n",
    "\n",
    "<HR/>"
   ]
  },
  {
   "cell_type": "markdown",
   "id": "7b74e9c4-9ea1-431e-9b39-dcbcf39ffb86",
   "metadata": {},
   "source": [
    "## Question 1\n",
    "\n",
    "Write a program that accepts the unit price and cost for a cup of lemonade at a lemonade stand as inputs and displays the profit in dollars and cents (X dollars and Y cents). Use the scenarios (called test cases) listed below to test your code.\n",
    "\n",
    "| Unit Price | Unit Cost | Profit in dollars and cents (Output) |\n",
    "---------|--------|--------|\n",
    "| 2.50 | 1.25 | 1 dollars and 25 cents |\n",
    "| 3.23 | 1.23 | 2 dollars and 0 cents |\n",
    "| 4.10 | 2.60 | 1 dollars and 50 cents |\n",
    "| 0.60 | 1.50 | 0 dollars and -90 cents |"
   ]
  },
  {
   "cell_type": "code",
   "execution_count": 22,
   "id": "b43ab95e-6970-4a40-a652-34081e897132",
   "metadata": {},
   "outputs": [
    {
     "name": "stdin",
     "output_type": "stream",
     "text": [
      "Please enter the price of a cup of lemonade:  0.6\n",
      "Please enter the cost for a cup of lemonade:  1.5\n"
     ]
    },
    {
     "name": "stdout",
     "output_type": "stream",
     "text": [
      "0 dollars and -90 cents\n"
     ]
    }
   ],
   "source": [
    "## input price and cost from the user\n",
    "price = float(input(\"Please enter the price of a cup of lemonade: \"))\n",
    "cost = float(input(\"Please enter the cost for a cup of lemonade: \"))\n",
    "\n",
    "# calculate the profit and separate the dollars and cents part\n",
    "profit = price - cost\n",
    "doll = int(profit)\n",
    "cents = int(round((profit - doll)*100, 0))\n",
    "\n",
    "# print the output\n",
    "print(f\"{doll} dollars and {cents} cents\")\n"
   ]
  },
  {
   "cell_type": "markdown",
   "id": "1afd54d6-1287-479c-ba22-ac6ca2cc3a0d",
   "metadata": {},
   "source": [
    "<HR/>\n",
    "\n",
    "## Question 2\n",
    "\n",
    "Below is a program that prompts a user for two numbers as inputs and stores them in variables num1 and num2. The program will then swap the values in variables num1 and num2. Finally the program outputs the swapped values.\n",
    "\n",
    "Copy the code to the code cell below and fill in the missing code to swap the values in num1 and num2.\n",
    "\n",
    "```\n",
    "# Prompt the User for the numbers to store in num1 and num2\n",
    "num1 = int(input(\"What is the first number to store in num1?\"))\n",
    "num2 = int(input(\"What is the second number to store in num2?\"))\n",
    "\n",
    "\n",
    "# Use a temporary variable (temp) to hold one of the numbers in order to swap\n",
    "print(\"Swapping numbers...\")\n",
    "## Swap variables here ##\n",
    "\n",
    "# Output the new stored numbers\n",
    "print(\"The number stored in num1 is now\", num1)\n",
    "print(\"The number stored in num2 is now\", num2)\n",
    "```\n",
    "\n"
   ]
  },
  {
   "cell_type": "code",
   "execution_count": 23,
   "id": "b4e51078-57a5-471a-b6ad-c0252b776886",
   "metadata": {},
   "outputs": [
    {
     "name": "stdin",
     "output_type": "stream",
     "text": [
      "What is the first number to store in num1? 23\n",
      "What is the second number to store in num2? 1\n"
     ]
    },
    {
     "name": "stdout",
     "output_type": "stream",
     "text": [
      "Swapping numbers...\n",
      "The number stored in num1 is now 1\n",
      "The number stored in num2 is now 23\n"
     ]
    }
   ],
   "source": [
    "# Prompt the User for the numbers to store in num1 and num2\n",
    "num1 = int(input(\"What is the first number to store in num1?\"))\n",
    "num2 = int(input(\"What is the second number to store in num2?\"))\n",
    "\n",
    "\n",
    "# Use a temporary variable (temp) to hold one of the numbers in order to swap\n",
    "print(\"Swapping numbers...\")\n",
    "temp = num1\n",
    "num1 = num2\n",
    "num2 = temp\n",
    "## Swap variables here ##\n",
    "\n",
    "# Output the new stored numbers\n",
    "print(\"The number stored in num1 is now\", num1)\n",
    "print(\"The number stored in num2 is now\", num2)"
   ]
  },
  {
   "cell_type": "markdown",
   "id": "722fc028-46e6-4109-a50f-ecf6bf714208",
   "metadata": {},
   "source": [
    "<HR/>\n",
    "\n",
    "## Question 3\n",
    "\n",
    "A retailer has installed a new section for kids' toys. There are five shelving units in this section, each with four shelves. Each shelf is ten feet long. Three of the shelves will be used to store small toys and two will be used to store large toys. Each small toy takes up eleven inches space in length (package + the space needed between two toys). Each large toy takes up fifteen inches.\n",
    "\n",
    "Write a program that captures the above information and calculates how many small toys and how many large toys can be stored in the new section. \n"
   ]
  },
  {
   "cell_type": "code",
   "execution_count": 36,
   "id": "4ddd0f4d-f1e4-4d20-b8b7-4b557ffa0ba3",
   "metadata": {},
   "outputs": [
    {
     "name": "stdout",
     "output_type": "stream",
     "text": [
      "The new section can store 120 small toys and 64 large toys.\n"
     ]
    }
   ],
   "source": [
    "# Storing capacity and toy requirements in inches\n",
    "space_smalltoy = 11\n",
    "space_largetoy = 15\n",
    "space_shelfsize = 10*12\n",
    "\n",
    "# Calculating the number of toys\n",
    "smalltoy_storage = 3*4*(space_shelfsize//space_smalltoy)\n",
    "largetoy_storage = 2*4*(space_shelfsize//space_largetoy)\n",
    "\n",
    "# printing the output\n",
    "print(f\"The new section can store {smalltoy_storage} small toys and {largetoy_storage} large toys.\")\n"
   ]
  },
  {
   "cell_type": "markdown",
   "id": "c446f9c7-eb76-474e-bd7e-9824d5c9069f",
   "metadata": {},
   "source": [
    "<HR/>\n",
    "\n",
    "## Question 4\n",
    "\n",
    "Write a program that prompts the user for the number of seconds. The program will then calculate and print the number of days, hours, minutes, and seconds the entry is equivalent to.\n",
    "\n",
    "**Note:** You can assume the number of seconds being entered will always be an integer value.\n",
    "\n",
    "Test your code using the following test cases:\n",
    "\n",
    "| seconds | Output (days, hours, minutes, and seconds) |\n",
    "---------|--------|\n",
    "| 60 | 0 days, 0 hours, 1 minutes, and 0 seconds |\n",
    "| 3600 | 0 days, 1 hours, 0 minutes, and 0 seconds | \n",
    "| 23455  | 0 days, 6 hours, 30 minutes, and 55 seconds |\n",
    "| 86400  | 1 days, 0 hours, 0 minutes, and 0 seconds |\n",
    "| 846600 | 9 days, 19 hours, 10 minutes, and 0 seconds |\n"
   ]
  },
  {
   "cell_type": "code",
   "execution_count": 41,
   "id": "00628dbb-cefd-4711-a5fa-8aa2f5e39097",
   "metadata": {},
   "outputs": [
    {
     "name": "stdin",
     "output_type": "stream",
     "text": [
      "Please enter the number of seconds you wish to convert to days, hours, munites and seconds:  846600\n"
     ]
    },
    {
     "name": "stdout",
     "output_type": "stream",
     "text": [
      "9 days, 19 hours, 10 minutes, and 0 seconds\n"
     ]
    }
   ],
   "source": [
    "# Prompt the User for the numbers to seconds\n",
    "secs = int(input(\"Please enter the number of seconds you wish to convert to days, hours, munites and seconds: \"))\n",
    "\n",
    "# Creating variables required for calculation\n",
    "no_sec_in_a_day = 24*60*60\n",
    "no_sec_in_an_hour = 60*60\n",
    "no_sec_in_a_minute = 60\n",
    "\n",
    "# Calculating no of days, hours, minutes and seconds\n",
    "days = int(secs/no_sec_in_a_day)\n",
    "hours = int(secs/no_sec_in_an_hour)- days*24\n",
    "minutes = int(secs/no_sec_in_a_minute)- days*24*60 - hours*60\n",
    "seconds = secs - days*no_sec_in_a_day - hours*no_sec_in_an_hour - minutes*no_sec_in_a_minute\n",
    "\n",
    "print(f\"{days} days, {hours} hours, {minutes} minutes, and {seconds} seconds\")\n"
   ]
  },
  {
   "cell_type": "markdown",
   "id": "54d3efa0-ffe7-4b65-b2e3-096c45494552",
   "metadata": {},
   "source": [
    "<HR/>\n",
    "\n",
    "## Mini-Lesson on python `imports`\n",
    "\n",
    "Sometimes you will need to use some more advanced mathematical operations besides beyond `+, -, /, *, and %`. In those cases, python has a built in library for providing extra features such as power, square root, sin, cos, tan, etc. To read about all the different features of the `math` library you can visit the [python math library documentation page](https://docs.python.org/3/library/math.html) and read through the different functions and how to use them. For this homework assignment it would be good to familiarize yourself with the `sqrt`, `ceil`, and `pow` functions.\n",
    "\n",
    "In order to use any of the functions from the `math` library, you will need to import the `math` library. You can do this once at the beginning of your notebook (just make sure you run that cell first) or you can put it at the start of every cell where you use math (there's no harm in importing the same library multiple times).\n",
    "\n",
    "See the code cell below for an example of how to import and use the math library for the `sqrt` function. When you run it, you should get 2 since that is the sqrt of 4. Try changing the number to 16, 25, 36 and see what the results are.\n"
   ]
  },
  {
   "cell_type": "code",
   "execution_count": 42,
   "id": "2e0b3861-bd12-487b-9f38-bc98b09c9117",
   "metadata": {},
   "outputs": [
    {
     "name": "stdout",
     "output_type": "stream",
     "text": [
      "6.0\n"
     ]
    }
   ],
   "source": [
    "import math\n",
    "\n",
    "# Take the square root of 4\n",
    "print(math.sqrt(36))"
   ]
  },
  {
   "cell_type": "markdown",
   "id": "660eeec8-95cf-4d3a-b893-713e2bfec528",
   "metadata": {},
   "source": [
    "<HR/> \n",
    "\n",
    "## Question 5\n",
    "\n",
    "Please write a program that uses the [quadradic formula](https://en.wikipedia.org/wiki/Quadratic_formula) to calculate solution(s) to the quadratic equation. \n",
    "\n",
    "$$x = \\frac{-b \\pm \\sqrt{b^2 - 4ac}}{2a}$$\n",
    "\n",
    "Your program should:\n",
    "- prompt the user for the values a, b, and c\n",
    "- calculate the two solutions\n",
    "- print the two solutions back to the user rounded to two decimal places\n",
    "\n",
    "**Note:** For simplicity, you can assume that the coefficients (a,b,c) will only be integers and will always yield real numbers solutions.\n",
    "\n",
    "Test your code with the following test cases:\n",
    "\n",
    "| a | b | c | Solutions (output) |\n",
    "---------|--------|--------|--------|\n",
    "| 1 | 3 | -40 | 5, -8 |\n",
    "| 2 | 2 | -420 | 14, -15 |\n",
    "| 1 | 7 | 4 | -0.63, -6.37 |\n",
    "| -8 | 12 | 6 | 1.90, -0.40 |"
   ]
  },
  {
   "cell_type": "code",
   "execution_count": 52,
   "id": "2099bda5-9952-478a-9351-f2b89e6fac6c",
   "metadata": {},
   "outputs": [
    {
     "name": "stdout",
     "output_type": "stream",
     "text": [
      "Quadratic eq. a*x^2 + b*x + c = 0\n"
     ]
    },
    {
     "name": "stdin",
     "output_type": "stream",
     "text": [
      "Enter the value for a:  -8\n",
      "Enter the value for b:  12\n",
      "Enter the value for c:  6\n"
     ]
    },
    {
     "name": "stdout",
     "output_type": "stream",
     "text": [
      "The two solutions to the quadratic equation with the parameters -8, 12, 6 are -0.4 and 1.9\n"
     ]
    }
   ],
   "source": [
    "import math as m\n",
    "\n",
    "# Prompt for user input for the variables a, b, and c\n",
    "print(\"Quadratic eq. a*x^2 + b*x + c = 0\")\n",
    "a = int(input(\"Enter the value for a: \"))\n",
    "b = int(input(\"Enter the value for b: \"))\n",
    "c = int(input(\"Enter the value for c: \"))\n",
    "\n",
    "# Calculating the solutions of the quadratic eq.\n",
    "sqrt = m.sqrt(b*b- 4*a*c)\n",
    "sol1 = round((-b+sqrt)/(2*a), 2)\n",
    "sol2 = round((-b-sqrt)/(2*a), 2)\n",
    "\n",
    "# Printing the solutions\n",
    "print(f\"The two solutions to the quadratic equation with the parameters {a}, {b}, {c} are {sol1} and {sol2}\")"
   ]
  },
  {
   "cell_type": "markdown",
   "id": "44ead493-c090-4313-bac6-2365d7680001",
   "metadata": {},
   "source": [
    "<HR/>\n",
    "\n",
    "## Question 6\n",
    "\n",
    "You're working on a video game and you are given a damage calculation formula shown below to implement in code.\n",
    "\n",
    "$$Damage = \\frac{(\\frac{2 * Level * Power}{5} + 2) * \\frac{Attack}{Defense}}{50} + 2^{Critical}$$\n",
    "\n",
    "Create variables for the following values in the formula and assign them values:\n",
    "- Attack\n",
    "- Defense\n",
    "- Level\n",
    "- Critical\n",
    "- Power\n",
    "\n",
    "Then implement the formula in code to calculate the damage and output to the user how much damage was done. Round your answer to 2 decimal places.\n",
    "\n",
    "Test your code using the following values:\n",
    "\n",
    "\n",
    "| Attack | Defense | Level | Critical | Power | Damage (Output) |\n",
    "---------|--------|--------|--------|--------|--------|\n",
    "| 25 | 50 | 30 | 1 | 50 | 8.02 |\n",
    "| 40 | 25 | 80 | 1 | 20 | 22.54 |\n",
    "| 10 | 20 | 8 | 2.5 | 5 | 5.84 |\n",
    "| 41 | 36 | 54 | 1 | 25 | 14.35 |\n"
   ]
  },
  {
   "cell_type": "code",
   "execution_count": 59,
   "id": "ec4c4e75-5773-4f77-bbac-14d88ad7217c",
   "metadata": {},
   "outputs": [
    {
     "name": "stdin",
     "output_type": "stream",
     "text": [
      "Enter the value for attack:  41\n",
      "Enter the value for defense:  36\n",
      "Enter the value for level:  54\n",
      "Enter the value for critical:  1\n",
      "Enter the value for power:  25\n"
     ]
    },
    {
     "name": "stdout",
     "output_type": "stream",
     "text": [
      "14.35\n"
     ]
    }
   ],
   "source": [
    "# Prompt for user input\n",
    "attack = int(input(\"Enter the value for attack: \"))\n",
    "defense = int(input(\"Enter the value for defense: \"))\n",
    "level = int(input(\"Enter the value for level: \"))\n",
    "critical = float(input(\"Enter the value for critical: \"))\n",
    "power = int(input(\"Enter the value for power: \"))\n",
    "\n",
    "# Calculating the damage\n",
    "damage = round(attack*(2*level*power+10)/(5*50*defense) + pow(2, critical),2)\n",
    "\n",
    "# Printing the damage\n",
    "print(damage)"
   ]
  },
  {
   "cell_type": "markdown",
   "id": "900dfeef-02c2-4e0e-b56e-25372d8f2800",
   "metadata": {
    "tags": []
   },
   "source": [
    "<HR/>\n",
    "\n",
    "## Question 7\n",
    "\n",
    "Your friend comes to you with a problem with their code. The code is supposed to calculate the average of a number of variables. They said it used to work and they made some changes, but now it no longer works. Help them fix the code after copying it to the code cell below and use comments to explain what was the issue.\n",
    "\n",
    "```\n",
    "NUMBER_1 = 10\n",
    "NUMBER_2 = 15\n",
    "NUMBER_3 = 20\n",
    "NUMBER_4 = 25\n",
    "NUMBER_5 = 30\n",
    "NUMBEr_6 = 35\n",
    "\n",
    "SUM = NUMBER_1 + NUMBER_2 + NUMBER_3 + NUMBER_4 + NUMBER_5 NUMBER_6\n",
    "\n",
    "AVG = TOTAL / 5\n",
    "\n",
    "print(\"The average is \" + str(avg))\n",
    "```\n",
    "\n",
    "The output should be `The average is 22.5`."
   ]
  },
  {
   "cell_type": "code",
   "execution_count": 12,
   "id": "b3f3c72b-b146-434e-93a3-1faed9aeb569",
   "metadata": {},
   "outputs": [
    {
     "name": "stdout",
     "output_type": "stream",
     "text": [
      "The average is 22.5\n"
     ]
    }
   ],
   "source": [
    "NUMBER_1 = 10\n",
    "NUMBER_2 = 15\n",
    "NUMBER_3 = 20\n",
    "NUMBER_4 = 25\n",
    "NUMBER_5 = 30\n",
    "NUMBER_6 = 35\n",
    "\n",
    "#Variable NUMBEr_6 is not the same as NUMBER_6\n",
    "SUM = NUMBER_1 + NUMBER_2 + NUMBER_3 + NUMBER_4 + NUMBER_5 + NUMBER_6\n",
    "\n",
    "#The variable used was TOTAL but the actual variable was SUM and the average should be taken for 6 numbers\n",
    "AVG = SUM / 6\n",
    "\n",
    "#The variable used was avg but the actual variable was avg\n",
    "print(\"The average is \" + str(AVG))"
   ]
  },
  {
   "cell_type": "markdown",
   "id": "a5c08687-8bb0-476e-9166-e62e64262cd4",
   "metadata": {
    "tags": []
   },
   "source": [
    "<HR/> \n",
    "\n",
    "## Question 8\n",
    "\n",
    "Create a trace table for the following code. You can create a table using markdown in the markdown cell provided below or you can create the table on paper or another tool and attach an image in the markdown cell. See posted class material and resources for help with creating tables and attaching images.\n",
    "\n",
    "```\n",
    "a = b = 25\n",
    "\n",
    "a / 5\n",
    "\n",
    "a = a / 5\n",
    "\n",
    "c = b + a * 2\n",
    "\n",
    "(c + c) / 10\n",
    "\n",
    "b = a + c // b\n",
    "\n",
    "a = c % b\n",
    "\n",
    "a = b = c\n",
    "```\n",
    "\n"
   ]
  },
  {
   "cell_type": "markdown",
   "id": "38506f2e-1ce0-4207-aeb0-2fada98b0239",
   "metadata": {},
   "source": [
    "### Trace Table\n",
    "\n",
    "|Line No| a | b | c |\n",
    "---------|--------|--------|--------|\n",
    "|1| 25 | 25 |  |\n",
    "|2| 25 | 25 |  |\n",
    "|3| 5 | 25 |  | \n",
    "|4| 5 | 25 | 35 |\n",
    "|5| 5 | 25 | 35 |\n",
    "|6| 5 | 6 | 35 |\n",
    "|7| 5 | 6 | 35 |\n",
    "|8| 35 | 35 | 35 |\n"
   ]
  },
  {
   "cell_type": "markdown",
   "id": "54597db2-d001-40c2-b915-140f6da690bf",
   "metadata": {},
   "source": [
    "<HR/>\n",
    "\n",
    "## Question 9\n",
    "\n",
    "Create a trace table for the following code:\n",
    "\n",
    "```\n",
    "import math\n",
    "\n",
    "a = math.ceil(2.5)\n",
    "\n",
    "b = a * 3\n",
    "\n",
    "c = (a + b) // 5\n",
    "\n",
    "b = max(a - c, c - a)\n",
    "\n",
    "a = math.sqrt(a + b)\n",
    "\n",
    "b = math.pow(c, 2)\n",
    "\n",
    "print(a)\n",
    "\n",
    "print(b)\n",
    "\n",
    "print(c)\n",
    "\n",
    "\n",
    "```\n"
   ]
  },
  {
   "cell_type": "markdown",
   "id": "cac80974-78dd-406b-a77e-ee3ff245937e",
   "metadata": {},
   "source": [
    "### Trace Table\n",
    "\n",
    "|Line No| a | b | c |\n",
    "---------|--------|--------|--------|\n",
    "|1|  |  |  |\n",
    "|2| 3 |  |  |\n",
    "|3| 3 | 9 |  | \n",
    "|4| 3 | 9 | 2 |\n",
    "|5| 3 | 1 | 2 |\n",
    "|6| 2 | 1 | 2 |\n",
    "|7| 2 | 4 | 2 |\n",
    "|8| 2 | 4 | 2 |\n",
    "|9| 2 | 4 | 2 |\n",
    "|10| 2 | 4 | 2 |\n"
   ]
  },
  {
   "cell_type": "markdown",
   "id": "c9f453e2-b623-4265-b77f-d2e060dd6f16",
   "metadata": {},
   "source": [
    "<HR/>\n",
    "\n",
    "## Question 10\n",
    "\n",
    "Your friend is having issues with their jupyter notebook. They have 3 code cells set up, each with a specific task. They are running into errors and they're not sure what happened. Help them fix the errors in their notebook and try to figure out what the problem was.\n",
    "\n",
    "Some of the problems they're experiencing:\n",
    "- When they re-opened the file again, the first code block no longer runs. Instead, the code block gives an error.\n",
    "- The second code block runs OK, but it does not give the correct answer.\n",
    "- Each time the third code block runs, it gives a different answer."
   ]
  },
  {
   "cell_type": "code",
   "execution_count": 11,
   "id": "4c9dd56f-b75d-4e39-b508-6d3334f04f6f",
   "metadata": {},
   "outputs": [
    {
     "name": "stdout",
     "output_type": "stream",
     "text": [
      "The perimeter is: 12\n"
     ]
    }
   ],
   "source": [
    "## Calculate the perimeter of a triangle\n",
    "\n",
    "# Triangle sides\n",
    "SIDE_1 = 3\n",
    "SIDE_2 = 4\n",
    "SIDE_3 = 5\n",
    "\n",
    "perimeter = SIDE_1 + SIDE_2 + SIDE_3\n",
    "\n",
    "print(\"The perimeter is: \" + str(round(perimeter, 2)))"
   ]
  },
  {
   "cell_type": "code",
   "execution_count": 10,
   "id": "1f9f92b3-b9de-4a08-a854-ec1d6b8b3744",
   "metadata": {},
   "outputs": [
    {
     "name": "stdout",
     "output_type": "stream",
     "text": [
      "The area of the square with side 10 is: 100\n"
     ]
    }
   ],
   "source": [
    "## Calculate the area of a square\n",
    "\n",
    "# Square Side\n",
    "SIDE = 10\n",
    "\n",
    "# Square Area\n",
    "area = SIDE * SIDE\n",
    "\n",
    "print(f\"The area of the square with side {SIDE} is: {area}\")\n"
   ]
  },
  {
   "cell_type": "code",
   "execution_count": 9,
   "id": "5015e5bb-1b68-483f-94f9-95add696cb64",
   "metadata": {},
   "outputs": [
    {
     "name": "stdout",
     "output_type": "stream",
     "text": [
      "The volume of the cylinder is : 2010.62\n"
     ]
    }
   ],
   "source": [
    "# Calculate volume of a cylinder \n",
    "import math\n",
    "# Cylinder Dimensions height 10, base diameter 16\n",
    "HEIGHT = 10 \n",
    "BASE   = 16\n",
    "\n",
    "## Calculate the area of the base (pi * r^2)\n",
    "BASE_AREA = (BASE/2)**2 * math.pi\n",
    "\n",
    "volume = HEIGHT * BASE_AREA\n",
    "\n",
    "print(\"The volume of the cylinder is : \" + str(round(volume,2)))"
   ]
  },
  {
   "cell_type": "markdown",
   "id": "23b8597c-26a5-4ffd-8ec0-8633b8e4e80f",
   "metadata": {},
   "source": [
    "Fix the errors in the three code cells above and provide a summary of errors here.\n",
    "\n",
    "1. SIDE1,2,3 are not defined in the same code cell. Running it before the code cell that has the variable definitions and assignment would throw a name error.\n",
    "2. The area was calculated as SIDE_1* SIDE_2 (of the triangle, rather than SIDE* SIDE, which is the area of the square)\n",
    "3. Since BASE variable is defined in another code cell and the base area also named BASE (pi*(base/2)** 2) is calculated, everytime the cell runs, the variable BASE is changed and the answer is different. We can include the BASE variable in the same cell or use a diff variable like BASE_AREA for the calculation to get rid of the bug."
   ]
  }
 ],
 "metadata": {
  "kernelspec": {
   "display_name": "Python 3 (ipykernel)",
   "language": "python",
   "name": "python3"
  },
  "language_info": {
   "codemirror_mode": {
    "name": "ipython",
    "version": 3
   },
   "file_extension": ".py",
   "mimetype": "text/x-python",
   "name": "python",
   "nbconvert_exporter": "python",
   "pygments_lexer": "ipython3",
   "version": "3.7.10"
  }
 },
 "nbformat": 4,
 "nbformat_minor": 5
}
