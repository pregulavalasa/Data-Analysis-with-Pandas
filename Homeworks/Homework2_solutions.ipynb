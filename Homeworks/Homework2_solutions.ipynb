{
 "cells": [
  {
   "cell_type": "markdown",
   "id": "827535cf-e4ca-4d78-b0b2-2d3df69344de",
   "metadata": {},
   "source": [
    "# Homework 2\n",
    "<HR/>\n",
    "\n",
    "**This assignment is designed to provide you practice with Conditional Statements.**"
   ]
  },
  {
   "cell_type": "markdown",
   "id": "958be844-0784-44ff-9b6b-e05ae52cfbaf",
   "metadata": {},
   "source": [
    "**INSTRUCTIONS - Please read carefully.**\n",
    "\n",
    "1. Please complete the following coding exercises and upload a copy (one per team) of the completed and executed notebook as your homework submission. Remember to restart the kernel, run all cells and check the outputs before saving and downloading the final version of the notebook for submission.\n",
    "\n",
    "2. A blank code cell has been created below each question for you to add the relevant code. Add additional code cells if needed. Execute all code cells to display the results. \n",
    "\n",
    "3. Add comments in each cell to explain what the code is meant to achieve. For example,\n",
    "\n",
    "```\n",
    "# ask for user preference\n",
    "\n",
    "# check if user wants to continue\n",
    "```\n",
    "\n",
    "4. Follow guidelines discussed in class to create well-written code. For example, provide user friendly prompts for all user inputs and user friendly messages with all outputs. Assign meaningful names to variables.\n",
    "\n",
    "5. You can search for helpful functions and code to achieve specific tasks like \"how to code an 'and' condition in Python\" or \"how to print multiple strings in the same line in Python\" but you may not post the specific questions online or otherwise seek help in answering the specific homework questions. Doing so will result in a zero on the assignment and could result in a failing grade in the course. Please **CHECK THE ACADEMIC INTEGRITY SECTION IN THE SYLLABUS** for complete information. "
   ]
  },
  {
   "cell_type": "markdown",
   "id": "6bac9d20-9915-41e5-9c3a-20d08ad34cbb",
   "metadata": {
    "tags": []
   },
   "source": [
    "<HR/>\n",
    "\n",
    "## <font color='red'/>Team Member Names </font>\n",
    "\n",
    "#### **Team Member 1:** Prashanth Regulavalasa\n",
    "#### **Team Member 2:** Bala Sai Nadh Kesana"
   ]
  },
  {
   "cell_type": "markdown",
   "id": "acf66a25-0ea0-4a98-9020-b612b5d018c7",
   "metadata": {},
   "source": [
    "<HR/>\n",
    "\n",
    "## Question 1\n",
    "\n",
    "See the code block below.\n",
    "\n",
    "```Python\n",
    "\n",
    "num = int(input(\"Enter an integer between 1 and 50:\")) \n",
    "\n",
    "if num<10:\n",
    "    print(1)\n",
    "elif num>15:\n",
    "    print(2)\n",
    "elif num>20:\n",
    "    print(3)\n",
    "\n",
    "if num>25:\n",
    "    print(4)\n",
    "elif num>35:\n",
    "    print(5)\n",
    "else:\n",
    "    print(6)\n",
    "    \n",
    "```\n",
    "\n",
    "\n",
    "Create two trace tables for the above code block. For the first trace table, assume that the input is 30. For the second trace table, assume that the input is 22.\n",
    "\n",
    "Note that when you create trace tables that include conditions, you can "
   ]
  },
  {
   "cell_type": "markdown",
   "id": "a601588e-c046-44fd-a49a-ed2800a533cf",
   "metadata": {},
   "source": [
    "Trace table for user input of 30. \n",
    "\n",
    "### Trace Table\n",
    "\n",
    "|Line No| num | Output |\n",
    "---------|--------|--------|\n",
    "|1| 30 |  |\n",
    "|2| 30 |  |  \n",
    "|3| 30 |  |  \n",
    "|4| 30 |  | \n",
    "|5| 30 | 2 | \n",
    "|6| 30 |  | \n",
    "|7| 30 |  | \n",
    "|8| 30 |  |\n",
    "|9| 30 | 4 |\n",
    "|10| 30 |  |\n",
    "|11| 30 |  |\n",
    "|12| 30 |  |\n",
    "|13| 30 |  |\n",
    "\n",
    "\n",
    "Trace table for user input of 22. \n",
    "\n",
    "### Trace Table\n",
    "\n",
    "|Line No| num | Output |\n",
    "---------|--------|--------|\n",
    "|1| 30 |  |\n",
    "|2| 30 |  |  \n",
    "|3| 30 |  |  \n",
    "|4| 30 |  | \n",
    "|5| 30 | 2 | \n",
    "|6| 30 |  | \n",
    "|7| 30 |  | \n",
    "|8| 30 |  |\n",
    "|9| 30 | |\n",
    "|10| 30 |  |\n",
    "|11| 30 |  |\n",
    "|12| 30 |  |\n",
    "|13| 30 | 6 |"
   ]
  },
  {
   "cell_type": "markdown",
   "id": "900dfeef-02c2-4e0e-b56e-25372d8f2800",
   "metadata": {},
   "source": [
    "<HR/> \n",
    "\n",
    "## Question 2\n",
    "\n",
    "Your new part-time job pays at the rate of \\\\$20 per hour for upto 160 hours a month (8 hours a day for 20 days a month). For any hours over 160, the pay rate increases to \\\\$22 per hour. \n",
    "\n",
    "Write a program that asks you for the total number of hours worked in a month and displays the total income for that month.\n",
    "\n",
    "Use the following test cases when testing the code:\n",
    "\n",
    "\n",
    "| Hours Worked | Total Income (Output) |\n",
    "---------|--------|\n",
    "| 60 | \\$1200.0 |\n",
    "| 100 | \\$2000.0 | \n",
    "| 160 | \\$3200.0 |\n",
    "| 200 | \\$4080.0 |\n",
    "| 240 | \\$4960.0 |\n"
   ]
  },
  {
   "cell_type": "code",
   "execution_count": null,
   "id": "a54ee8c0-87ec-4651-81aa-ef3a07e4aaa1",
   "metadata": {},
   "outputs": [],
   "source": [
    "# your code here"
   ]
  },
  {
   "cell_type": "markdown",
   "id": "9f8dff90-05ca-47b7-9189-013a0dd4fde8",
   "metadata": {},
   "source": [
    "<HR/>\n",
    "\n",
    "## Question 3\n",
    "\n",
    "Your classmate comes to you with a problem with their code. Here is the code:\n",
    "\n",
    "```Python\n",
    "# Get the Three Sides of the triangle from the User\n",
    "side_1 = int(input(\"What is the length of the first side?\"))\n",
    "side_2 = int(input(\"What is the length of the second side?\"))\n",
    "side_3 = int(input(\"What is the length of the third side?\"))\n",
    "\n",
    "# First condition - when the sides are all unequal\n",
    "if side_1 != side_2 and side_2 != side_3:\n",
    "    print(\"All your triangle sides are unequal\")\n",
    "# Second Condition - When the sides are all equal\n",
    "if side_1 == side_2 and side_2 == side_3:\n",
    "    print(\"All the sides of your trianlge are equal\")\n",
    "# Third Condition - When 2 of the sides are equal\n",
    "else:\n",
    "    print(\"2 of the sides of your triangle are equal\")\n",
    "```\n",
    "\n",
    "Your classmate has been trying to write a program to take 3 sides of a triangle as input from the user and then display how many of the sides of the triangle are equal. However, they are running into issues and its not working. Can you fix their code?\n",
    "\n",
    "Use the following test cases when testing the code:\n",
    "\n",
    "| Side 1 | Side 2 | Side 3 | Output |\n",
    "---------|--------|--------|--------|\n",
    "| 1 | 2 | 3 | All your triangle sides are unequal |\n",
    "| 1 | 3 | 1 | 2 of the sides of your triangle are equal | \n",
    "| 1 | 1 | 1 | All the sides of your trianlge are equal |"
   ]
  },
  {
   "cell_type": "code",
   "execution_count": null,
   "id": "2099bda5-9952-478a-9351-f2b89e6fac6c",
   "metadata": {},
   "outputs": [],
   "source": [
    "# your code here"
   ]
  },
  {
   "cell_type": "markdown",
   "id": "5f27c4b0-6e8e-4460-a741-6cbd7483ff2e",
   "metadata": {},
   "source": [
    "<HR/>\n",
    "\n",
    "## Question 4\n",
    "\n",
    "Write a program that stores a student's exam score (out of 100) in a variable called `score`. The program prints the student's score as well as the corresponding letter grade (stored in the variable `grade`) using the following grade cutoffs. \n",
    "\n",
    "|Grade|A|A-|B+|B|B-|C+|C|D|F\n",
    "|-|-|-|-|-|-|-|-|-|-|\n",
    "|Cutoff points|93|90|87|83|80|77|70|60|<60|\n",
    "\n",
    "Be sure to test your code using exam scores that correspond to each letter grade and scores that are exactly equal to cutoff points, a score of 100, a score of 0 and a negative score. \n"
   ]
  },
  {
   "cell_type": "code",
   "execution_count": null,
   "id": "ec4c4e75-5773-4f77-bbac-14d88ad7217c",
   "metadata": {},
   "outputs": [],
   "source": [
    "# your code here"
   ]
  },
  {
   "cell_type": "markdown",
   "id": "7f7cac0a-ecf0-4621-9987-3de4bd5274bf",
   "metadata": {},
   "source": [
    "<HR/>\n",
    "\n",
    "## Question 5\n",
    "\n",
    "Write a program that determines wheter a user specified (input) year is a leap year or not. You can find the logic [here](https://docs.microsoft.com/en-us/office/troubleshoot/excel/determine-a-leap-year).\n",
    "\n",
    "Use the following test cases when testing the code:\n",
    "\n",
    "| Year | Output |\n",
    "---------|--------|\n",
    "| 2000 | 2000 is a leap year. |\n",
    "| 2001 | 2001 is not a leap year. | \n",
    "| 2002 | 2002 is not a leap year. |\n",
    "| 2003 | 2003 is not a leap year. |\n",
    "| 2004 | 2004 is a leap year. |\n",
    "| 1900 | 1900 is not a leap year. |\n",
    "| 2400 | 2400 is a leap year. |\n",
    "| 2600 | 2600 is not a leap year. |\n"
   ]
  },
  {
   "cell_type": "code",
   "execution_count": null,
   "id": "cd7d234f-5fcc-44a2-b678-098d35447a45",
   "metadata": {},
   "outputs": [],
   "source": [
    "# your code here"
   ]
  },
  {
   "cell_type": "markdown",
   "id": "9a515c60-f5e6-4253-a009-78ad17fa5909",
   "metadata": {},
   "source": [
    "<HR/>\n",
    "\n",
    "## Question 6\n",
    "\n",
    "\n",
    "Create a distance unit conversion utility that works as follows. When executed the program displays the following messages to the user. \n",
    "\n",
    "```\n",
    "Distance Unit Conversion Utility\n",
    "The units available are:\n",
    "1) inches\n",
    "2) feet\n",
    "3) yards\n",
    "4) miles\n",
    "```\n",
    "Then it prompts the user to provide inputs.\n",
    "```\n",
    "Please specify the unit of the distance you want to convert (enter a number between 1 and 4): \n",
    "```\n",
    "```\n",
    "Please enter the distance in <insert appropriate unit based on previous user input>: \n",
    "```\n",
    "```\n",
    "Please enter the unit you would like to convert this distance to (enter a number between 1 and 4):\n",
    "```\n",
    "Once all the inputs are provided, the program should perform the unit conversion and display the result in the following format:\n",
    "```\n",
    "<original distance> <original units> = <converted distance> <converted units>\n",
    "```\n",
    "\n",
    "Your code should allow for the original unit to be specified as a floating point number and should display the converted unit with two decimal places.\n",
    "\n",
    "Use the following test cases when testing the code:\n",
    "\n",
    "| Original Units | Original Amount | Converted Units | (Output) Converted Amount |\n",
    "---------|--------|---------|--------|\n",
    "| 1 (Inches) | 12 | 2 (Feet) | 12.0 inches = 1.0 feet |\n",
    "| 1 (Inches) | 63360 | 4 (Miles) | 63360.0 inches = 1.0 miles |\n",
    "| 2 (Feet) | 100 | 1 (Inches) | 100.0 feet = 1200.0 inches |\n",
    "| 3 (Yards) | 25 | 2 (Feet) | 25.0 yards = 75.0 feet |\n",
    "| 4 (Miles) | 2 | 3 (Yards) | 2.0 miles = 3520.0 yards |\n",
    "| 1 (Inches) | 99 | 3 (Yards) | 99.0 inches = 2.75 yards |\n",
    "| 4 (Miles) | .5 | 2 (Feet) | 0.5 miles = 2640.0 feet |\n"
   ]
  },
  {
   "cell_type": "code",
   "execution_count": null,
   "id": "ff76e369-0006-4009-a520-055149922f8e",
   "metadata": {},
   "outputs": [],
   "source": [
    "# your code here"
   ]
  },
  {
   "cell_type": "markdown",
   "id": "42bd761a-32a8-4cef-a1fb-727a01618836",
   "metadata": {},
   "source": [
    "<HR/>\n",
    "\n",
    "## Question 7\n",
    "\n",
    "Write a program that asks the user to enter a purchase quantity greater than zero. If the quantity entered is 0 or less, the program should display an error message and end. \n",
    "If the quantity is valid, the program should calculate the cost using a marginal unit quantity discount scheme as follows:\n",
    "\n",
    "Each unit costs \\$5 if the quantity is at or below 100 units. \n",
    "\n",
    "If the quantity is between 101 and 200, the units above 100 cost \\\\$3 each (the first 100 units still cost \\\\$5). \n",
    "\n",
    "If the quantity is greater than 200, then all units above 200 cost \\\\$1 each (the first 100 units still cost \\\\$5 and the next 100 units still cost \\\\$3). \n",
    "\n",
    "\n",
    "Test your code using the following cases:\n",
    "\n",
    "| Quantity | Cost |\n",
    "---------|--------|\n",
    "| 80 | \\$400 |\n",
    "| 100 | \\$500 | \n",
    "| 150 | \\$650 |\n",
    "| 200 | \\$800 |\n",
    "| 250 | \\$850 |"
   ]
  },
  {
   "cell_type": "code",
   "execution_count": null,
   "id": "cc5dfdaa-226d-419f-843e-8a7633e17b1d",
   "metadata": {},
   "outputs": [],
   "source": [
    "# your code here"
   ]
  },
  {
   "cell_type": "markdown",
   "id": "4c66b16c-edb4-4338-b534-95b098d3d6a3",
   "metadata": {},
   "source": [
    "<HR/>\n",
    "\n",
    "## Question 8\n",
    "\n",
    "Modify the below code to use compound conditions instead of nested conditions.\n",
    "```Python\n",
    "# complete the code below. Then change the level and semester to test various cases.\n",
    "level = \"undergrad\" # level can be \"undergrad\" or \"grad\"\n",
    "semester = 4\n",
    "\n",
    "if level == \"grad\":\n",
    "    if semester == 1:\n",
    "        print(\"Welcome!\")\n",
    "    elif semester == 4:\n",
    "        print(\"Welcome back and congratulations on your upcoming graduation!\")\n",
    "    else:\n",
    "        print(\"Welcome back!\")\n",
    "else:\n",
    "    if semester == 1:\n",
    "        print(\"Welcome!\")\n",
    "    elif semester == 8:\n",
    "        print(\"Welcome back and congratulations on your upcoming graduation!\")\n",
    "    else:\n",
    "        print(\"Welcome back!\")   \n",
    "print(\"Have a good semester.\")\n",
    "```\n",
    "\n",
    "| Level | Semester | Output |\n",
    "---------|--------|--------|\n",
    "| undergrad | 1 | Welcome! Have a good semester. |\n",
    "| grad | 1 | Welcome! Have a good semester. |\n",
    "| grad | 2 | Welcome back! Have a good semester. |\n",
    "| grad | 4 | Welcome back and congratulations on your upcoming graduation! Have a good semester. |\n",
    "| undergrad | 8 | Welcome back and congratulations on your upcoming graduation! Have a good semester. |\n",
    "| undergrad | 6 | Welcome! Have a good semester. |"
   ]
  },
  {
   "cell_type": "code",
   "execution_count": null,
   "id": "9a3d7320-d74b-4141-9768-411e7e777501",
   "metadata": {},
   "outputs": [],
   "source": [
    "# your code here"
   ]
  },
  {
   "cell_type": "markdown",
   "id": "0de3d29e-9062-49c2-8a5d-43a515ccc6ac",
   "metadata": {},
   "source": [
    "<HR/>\n",
    "\n",
    "## Mini Lesson on Generating Random Numbers\n",
    "\n",
    "When programming, sometimes you will need to generate random numbers when running a simulation. Like the `math` Library from Homework 1, the `random` library is another built in python library that you can import to generate some random numbers. For more information about the different built in functions with the random library, you can read through the [full documentation](https://docs.python.org/3/library/random.html). For this homework, you will only need to understand `randint(a, b)`.\n",
    "\n",
    "Below is a code cell that has imported the `random` library and uses `randint` to generate a number between 3 and 10 (inclusive), saves it to a variable called `result` then prints `result`. Run it a few times and confirm that it generates a different random number each time the code block is ran. Feel free to change the range and confirm that it generates both the lower bound and upper bound."
   ]
  },
  {
   "cell_type": "code",
   "execution_count": null,
   "id": "9ffbf938-e6f6-4ec0-bc37-2f5eb6a6e1ab",
   "metadata": {},
   "outputs": [],
   "source": [
    "import random\n",
    "\n",
    "result = random.randint(3, 10)\n",
    "\n",
    "print(result)"
   ]
  },
  {
   "cell_type": "markdown",
   "id": "49c4c7df-a3ff-4941-950b-8d45998e9cb5",
   "metadata": {},
   "source": [
    "<HR/>\n",
    "\n",
    "## Question 9\n",
    "\n",
    "You are to implement a simple computer opponent for your video game. The opponent has a percentage change of certain actions based on the following table:\n",
    "\n",
    "| Chance | Action |\n",
    "---------|--------|\n",
    "| 50% | Attack |\n",
    "| 10% | Defend |\n",
    "| 20% | Cast Spell |\n",
    "| 15% | Heavy Attack |\n",
    "| 5% | Retreat |\n",
    "\n",
    "You should generate a random number and then use conditional statements to determine and display which action to perform based on the random number generated."
   ]
  },
  {
   "cell_type": "code",
   "execution_count": null,
   "id": "7914a6f7-fc12-4faa-a2fd-2a6983f687b4",
   "metadata": {},
   "outputs": [],
   "source": [
    "# your code here"
   ]
  },
  {
   "cell_type": "markdown",
   "id": "05b4a30d-b78d-444a-9e76-35f46087d24c",
   "metadata": {},
   "source": [
    "<HR/>\n",
    "\n",
    "## Question 10\n",
    "\n",
    "Write a program to help a user diagnose an issue with a fluid system. There are 3 pressure gauges the user will get readings from and enter into the program.\n",
    "\n",
    "The first gauge reports number between 1 and 10 (inclusive).\n",
    "The second gauge reports number between -50 and 50 (inclusive).\n",
    "The third gauge reports numbers between 100 and 1000 (inclusive).\n",
    "\n",
    "Have the program get the user to input numbers from the 3 valves in 3 separate prompts. Assume the user will always enter a number in the correct range.\n",
    "\n",
    "Below is a list of conditions when an error exists in the system.\n",
    "- Condition 1: The first gauge reports a number greater than or equal to 8\n",
    "- Condition 2: The second gauge is below -40 or higher than 40\n",
    "- Condition 3: The product of the first gauge and the absolute value of the second gauge exceeds the reading from the third gauge.\n",
    "\n",
    "Finally, use the following table to determine the output based on the number of conditions that are true:\n",
    "\n",
    "| Conditions that are true | Output |\n",
    "---------|--------|\n",
    "0| System Normal |\n",
    "1| System Error |\n",
    "2| Major System Malfunction |\n",
    "3| Catastrophic System Failure |\n",
    "\n",
    "Use the following table to test your code:\n",
    "\n",
    "| Gauge 1 | Gauge 2 | Gauge 3 | Output |\n",
    "---------|--------|---------|--------|\n",
    "| 9 | 20 | 400 | System Error | \n",
    "| 8 | -45 | 200 | Catastrophic System Failure | \n",
    "| 2 | -20 | 850 | System Normal | \n",
    "| 5 | -41 | 210 | System Error | \n",
    "| 5 | 46 | 100 | Major System Malfunction | \n"
   ]
  },
  {
   "cell_type": "code",
   "execution_count": null,
   "id": "067833df-7197-4ced-8f04-f3104d9496e5",
   "metadata": {},
   "outputs": [],
   "source": [
    "# your code here"
   ]
  }
 ],
 "metadata": {
  "kernelspec": {
   "display_name": "Python 3 (ipykernel)",
   "language": "python",
   "name": "python3"
  },
  "language_info": {
   "codemirror_mode": {
    "name": "ipython",
    "version": 3
   },
   "file_extension": ".py",
   "mimetype": "text/x-python",
   "name": "python",
   "nbconvert_exporter": "python",
   "pygments_lexer": "ipython3",
   "version": "3.7.10"
  }
 },
 "nbformat": 4,
 "nbformat_minor": 5
}
