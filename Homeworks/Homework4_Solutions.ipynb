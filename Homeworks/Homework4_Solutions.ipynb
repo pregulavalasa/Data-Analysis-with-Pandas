{
 "cells": [
  {
   "cell_type": "markdown",
   "id": "827535cf-e4ca-4d78-b0b2-2d3df69344de",
   "metadata": {},
   "source": [
    "# Homework 4\n",
    "<HR/>\n",
    "\n",
    "**This assignment is designed to provide you practice with iteration, sequences and dictionaries.**"
   ]
  },
  {
   "cell_type": "markdown",
   "id": "04cc77f7-4b07-46c9-9702-ef990f1933e9",
   "metadata": {},
   "source": [
    "**INSTRUCTIONS - Please read carefully.**\n",
    "\n",
    "1. Please complete the following coding exercises and upload a copy (one per team) of the completed and executed notebook as your homework submission. Remember to restart the kernel, run all cells and check the outputs before saving and downloading the final version of the notebook for submission.\n",
    "\n",
    "2. A blank code cell has been created below each question for you to add the relevant code. Add additional code cells if needed. Execute all code cells to display the results. \n",
    "\n",
    "3. Add comments in each cell to explain what the code is meant to achieve. For example,\n",
    "\n",
    "```\n",
    "# ask for user preference\n",
    "\n",
    "# check if user wants to continue\n",
    "```\n",
    "\n",
    "4. Follow guidelines discussed in class to create well-written code. For example, provide user friendly prompts for all user inputs and user friendly messages with all outputs. Assign meaningful names to variables.\n",
    "\n",
    "5. You can search for helpful functions and code to achieve specific tasks like \"how to code an 'and' condition in Python\" or \"how to print multiple strings in the same line in Python\" but you may not post the specific questions online or otherwise seek help in answering the specific homework questions. Doing so will result in a zero on the assignment and could result in a failing grade in the course. Please **CHECK THE ACADEMIC INTEGRITY SECTION IN THE SYLLABUS** for complete information. "
   ]
  },
  {
   "cell_type": "markdown",
   "id": "6bac9d20-9915-41e5-9c3a-20d08ad34cbb",
   "metadata": {
    "tags": []
   },
   "source": [
    "<HR/>\n",
    "\n",
    "## <font color='red'/>Team Member Names </font>\n",
    "\n",
    "#### **Team Member 1:** Bala Sai Nadh Kesana\n",
    "#### **Team Member 2:** Prashanth Regulavalasa"
   ]
  },
  {
   "cell_type": "markdown",
   "id": "a5c08687-8bb0-476e-9166-e62e64262cd4",
   "metadata": {},
   "source": [
    "<HR/>\n",
    "\n",
    "## Question 0\n",
    "\n",
    "Please read Chapter 8 from the Think Python textbook as preparation work for this homework. Several homework questions require you to use concepts/ algorithms/ functions covered in this chapter. You will find is much easier / less frustrating to work through the homework if you read the chapter first."
   ]
  },
  {
   "cell_type": "markdown",
   "id": "651a4257-13c5-48ab-a504-3c3158aead03",
   "metadata": {},
   "source": [
    "<HR/>\n",
    "\n",
    "## Question 1\n",
    "\n",
    "The code cell below defines two lists - first_list and second_list. Each of the two lists contains some strings. Create a new blank list called combined_list. Then, you must combine the corresponding elements of the two lists (that is, combine the first string of first_list ('I\") with the first element of the second_list (\"\") to create a new string \"I\" and add it as the first element of combined_list.  Next, create a new string which combines the second elements of first_list and second_list and add it as the second element of combined_list. Continue this process until you have processed all elements of first_list and second_list. Finally print the strings in combined_list in one line and separated by a single space. It is okay to assume that both lists will have the same count of elements. However, your code should work even if we edit the two lists to include more or less than 4 elements.\n",
    "\n",
    "If you implement the code correctly, the output will be\n",
    "```\n",
    "I am Groot !\n",
    "```"
   ]
  },
  {
   "cell_type": "code",
   "execution_count": 1,
   "id": "bec35688-1547-45b1-aad6-9b047049949e",
   "metadata": {},
   "outputs": [
    {
     "name": "stdout",
     "output_type": "stream",
     "text": [
      "I am Groot !\n"
     ]
    }
   ],
   "source": [
    "# first list\n",
    "first_list = [\"I\", \"a\", \"Gr\", \"\"]\n",
    "\n",
    "# second list\n",
    "second_list = [\"\",\"m\",\"oot\", \"!\"]\n",
    "\n",
    "# Adding element wise and appending to combined_list variable\n",
    "combined_list= []\n",
    "for i in range(len(first_list)):\n",
    "    combined_list.append(first_list[i]+second_list[i])\n",
    "print(*combined_list)"
   ]
  },
  {
   "cell_type": "markdown",
   "id": "c80ee9ff-6452-4c93-a3e4-3977fb4a0657",
   "metadata": {},
   "source": [
    "<HR/>\n",
    "\n",
    "## Question 2\n",
    "\n",
    "You are tasked with writing a program that keeps track of the number of people in a building. You have a sensor that will send you data to your program in the form of a list. \n",
    "\n",
    "You are given a starting value for people in a building. Initialize a starting variable and set that to the starting value.\n",
    "\n",
    "Initalize the list variable and set it equal to the list you are given from your sensor. (The examples below have the list the sensor will be sending you)\n",
    "\n",
    "Each item in the list is another list of two items. \n",
    "- The first value in the inner list will always be a number. \n",
    "- The second value in the inner list describes what the number means. The second value can either be ENTERING or LEAVING. \n",
    "  - If the second value is ENTERING, then it should add the number to the total number of people in the building.\n",
    "  - If the second value is LEAVING, then it should subtract the number from the total. Repeat for each item in the list until there are no more items and then output the total number of people in the building.\n",
    " \n",
    "Your program should go through every item in the list and keep track of the number of people in the building. After it has finished the list, it should print out the total number of people in the building. If the number of people would go below 0, your code should print an error instead.\n",
    "\n",
    "Use the below examples to test your code:\n",
    "\n",
    "#### Example 1\n",
    "```\n",
    "Starting Value: 10\n",
    "List: [[10, \"ENTERING\"], [5, \"LEAVING\"], [11, \"ENTERING\"]]\n",
    "Output: 26 \n",
    "```\n",
    "\n",
    "#### Example 2\n",
    "```\n",
    "Starting Value: 5\n",
    "List: [[5, \"ENTERING\"], [26, \"LEAVING\"], [10, \"ENTERING\"]]\n",
    "Output: Error - building would have negative people.\n",
    "```\n",
    "\n",
    "##### Example 3\n",
    "```\n",
    "Starting Value: 36\n",
    "List: [[4, \"ENTERING\"], [10, \"LEAVING\"], [5, \"ENTERING\"], [3, \"ENTERING\"], [9, \"LEAVING\"], [12, \"ENTERING\"]]\n",
    "Output: 41\n",
    "```\n",
    "\n"
   ]
  },
  {
   "cell_type": "code",
   "execution_count": 3,
   "id": "cbb38ef4-e4d0-4466-ad07-717d57e5f9f5",
   "metadata": {},
   "outputs": [
    {
     "name": "stdin",
     "output_type": "stream",
     "text": [
      "Enter the starting sensus of the building:  36\n",
      "Select the Example from the list:(ex1,ex2,ex3)  ex3\n"
     ]
    },
    {
     "name": "stdout",
     "output_type": "stream",
     "text": [
      "41\n"
     ]
    }
   ],
   "source": [
    "#Innitialize example variables and taking user input\n",
    "starting_value = int(input(\"Enter the starting sensus of the building: \"))\n",
    "ex1 = [[10, \"ENTERING\"], [5, \"LEAVING\"], [11, \"ENTERING\"]]\n",
    "ex2 = [[5, \"ENTERING\"], [26, \"LEAVING\"], [10, \"ENTERING\"]]\n",
    "ex3 = [[4, \"ENTERING\"], [10, \"LEAVING\"], [5, \"ENTERING\"], [3, \"ENTERING\"], [9, \"LEAVING\"], [12, \"ENTERING\"]]\n",
    "user_input = input(\"Select the Example from the list:(ex1,ex2,ex3) \")\n",
    "\n",
    "# Conditional statement based on user input\n",
    "if user_input == \"ex1\":\n",
    "    sensor_input=ex1\n",
    "elif user_input == \"ex2\":\n",
    "    sensor_input=ex2\n",
    "else:\n",
    "    sensor_input=ex3\n",
    "output=starting_value\n",
    "\n",
    "# Looping through the elements of the list and using conditional statements to calculate output value\n",
    "for i in range(len(sensor_input)):\n",
    "    if sensor_input[i][1]==\"ENTERING\":\n",
    "        output=output+sensor_input[i][0]\n",
    "    else:\n",
    "        output=output-sensor_input[i][0]\n",
    "        if output <0:\n",
    "            print(\"Error - building would have negative people.\")\n",
    "            break\n",
    "if output>=0:\n",
    "    print(output)\n",
    "\n",
    "\n",
    "    "
   ]
  },
  {
   "cell_type": "markdown",
   "id": "b232ae71-98f7-4af3-aafb-88167d890fc4",
   "metadata": {},
   "source": [
    "<HR/>\n",
    "\n",
    "## Question 3\n",
    "\n",
    "Write a program that accepts a string user input and displays whether the string is a palindrome or not (a palindrome is a string that is the same when reversed (**ignoring case and spaces**). e.g., \"madam\", \"race car\", \"Never odd or even\".\n",
    "\n",
    "Use the following pieces to achieve this task. \n",
    "- A way to remove spaces from the string (check [the string methods page](https://docs.python.org/3.8/library/stdtypes.html#string-methods) from the Python reference for help).\n",
    "- A way to do case insensitive comparison (we have covered functions that will help with this item). \n",
    "- A way to reverse a string (use the slicing notation to create a slice that returns all characters from the last character to the first (-negative skip)). Remember that a string is a sequence of characters so list functionality can be used to work with strings.\n",
    "\n",
    "Essentially, what I am asking you to do is to first remove all spaces from the input string, then reverse the string and finally compare the reverse to the input string from which spaces have been removed.\n",
    "\n",
    "You must use the above in your code to get full credit. Test your code for the examples provided above."
   ]
  },
  {
   "cell_type": "markdown",
   "id": "7ef9a6b1-7bf1-4785-8226-c829c9bc6743",
   "metadata": {},
   "source": [
    "**To get a better understanding of working with strings, you must read Chapter 8 of the Think Python textbook. This is required reading.**"
   ]
  },
  {
   "cell_type": "code",
   "execution_count": 2,
   "id": "fcd497ac-907e-4037-8f9b-acec58ca8b2f",
   "metadata": {},
   "outputs": [
    {
     "name": "stdin",
     "output_type": "stream",
     "text": [
      "Enter your String:  Never odd or even\n"
     ]
    },
    {
     "name": "stdout",
     "output_type": "stream",
     "text": [
      "The phrase is a palindrome\n"
     ]
    }
   ],
   "source": [
    "# After taking the user input, we removed the spaces, converted everything into the lowercase, created reversed string and stored in abother variable.\n",
    "word=input(\"Enter your String: \")\n",
    "word=word.replace(\" \",\"\")\n",
    "word=word.lower()\n",
    "reverse_word=word[::-1]\n",
    "\n",
    "# Compared the string with the reversed string.\n",
    "for i in range (len(word)):\n",
    "    if word [i] == reverse_word [i]:\n",
    "        if i == 4:\n",
    "            print(\"The phrase is a palindrome\")\n",
    "        else:\n",
    "            pass\n",
    "    else:\n",
    "        print(\"The phrase is not a palindrome\")\n",
    "        break\n"
   ]
  },
  {
   "cell_type": "markdown",
   "id": "54597db2-d001-40c2-b915-140f6da690bf",
   "metadata": {},
   "source": [
    "<HR/>\n",
    "\n",
    "## Question 4\n",
    "\n",
    "Replicate the below code to create a list of email addresses. \n",
    "\n",
    "```\n",
    "emails = [\"abc@psu.edu\", \"myemail123@gmail.com\", \"msg_repo@yahoo.com\", \"abc123@psu.edu\"]\n",
    "```\n",
    "Now, write appropriate code to extract the email id from the email addresses (e.g., \"abc\" extracted from \"abc@psu.edu\", and \"myemail123\" extracted from \"myemail123@gmail.com\"). Create and print a list of the IDs that you extracted. The code should work for any email list (i.e, if we changed in the actual emails in the list above or changed the count of emails in the list above).\n",
    "\n",
    "*Hint*: You need to extract a slice of the string that ends before the @ symbol is encountered. There are string functions to do this (`find()`) or you can implement your own logic by first identifying where the @ symbol is and then extracting the required slice. "
   ]
  },
  {
   "cell_type": "code",
   "execution_count": 1,
   "id": "07b7f101-7f0c-4248-928a-9f425e45eb15",
   "metadata": {},
   "outputs": [
    {
     "name": "stdout",
     "output_type": "stream",
     "text": [
      "['abc', 'myemail123', 'msg_repo', 'abc123']\n"
     ]
    }
   ],
   "source": [
    "#Replicated the list\n",
    "emails = [\"abc@psu.edu\", \"myemail123@gmail.com\", \"msg_repo@yahoo.com\", \"abc123@psu.edu\"]\n",
    "\n",
    "#Initiliazed an empty list to store email IDs.\n",
    "email_id = []\n",
    "\n",
    "#Looping through the list to find @ index and sliced accordingly to retrive just the email ID\n",
    "for i in emails:\n",
    "    a = i.find (\"@\")\n",
    "    email_id.append(i[:a])\n",
    "\n",
    "#Printing the email_ID list\n",
    "print(email_id)\n"
   ]
  },
  {
   "cell_type": "markdown",
   "id": "36f6946e-a9db-48c1-ba7b-80a97f618fef",
   "metadata": {},
   "source": [
    "<HR/>\n",
    "\n",
    "## Question 5\n",
    "\n",
    "Replicate the below code to create a list of email addresses. \n",
    "\n",
    "```\n",
    "emails = [\"abc@psu.edu\", \"myemail123@gmail.com\", \"msg_repo@yahoo.com\", \"abc123@psu.edu\"]\n",
    "```\n",
    "Now, write appropriate code to separate create two lists from the above list - one that contains psu emails and the other that contains non-psu emails. The code should work for any email list i.e, if we changed in the actual emails or the count of emails in the list above."
   ]
  },
  {
   "cell_type": "code",
   "execution_count": 15,
   "id": "543d2ddf-199e-4f10-848c-88316cb8da06",
   "metadata": {
    "tags": []
   },
   "outputs": [
    {
     "name": "stdout",
     "output_type": "stream",
     "text": [
      "['abc@psu.edu', 'abc123@psu.edu']\n",
      "['myemail123@gmail.com', 'msg_repo@yahoo.com']\n"
     ]
    }
   ],
   "source": [
    "#Replicated the list\n",
    "emails = [\"abc@psu.edu\", \"myemail123@gmail.com\", \"msg_repo@yahoo.com\", \"abc123@psu.edu\"]\n",
    "\n",
    "#Initiliazed empty lists to store psu and non psu emails seperately.\n",
    "psu_emails = []\n",
    "nonpsu_emails = []\n",
    "\n",
    "#Looping through the list to find psu and non psu emails.\n",
    "for i in emails:\n",
    "    a = i.find(\"@psu\")\n",
    "    if a >= 0:\n",
    "        psu_emails.append(i[:])\n",
    "    else:\n",
    "        nonpsu_emails.append(i)\n",
    "\n",
    "#Printing both lists\n",
    "print(psu_emails)\n",
    "print(nonpsu_emails)\n"
   ]
  },
  {
   "cell_type": "markdown",
   "id": "0aead35b-2314-4290-9a7b-d9db408f919f",
   "metadata": {},
   "source": [
    "<HR/>\n",
    "\n",
    "## Question 6\n",
    "\n",
    "If you like listening to music on your phone, you might use an app that allows you to shuffle the songs in your playlist. That is, the app can randomize the sequence of songs from a given playlist. Let's try to code a \"Shuffle\" feature below. You are given a playlist of songs called my_playlist. You can use the function `random.randint(start,stop)` to generate a random integer between (and including) start and stop. This function comes from the a library called random so in order to use the function, add the following line of code at the top of your code cell. \n",
    "\n",
    "`import random`\n",
    "\n",
    "Python provides other functions too but we will stick with this one to practice our coding skills. To create the shuffled list, you must draw as many random numbers as there are songs in the playlist. Each time you draw a random number, pick the corresponding song from my_playlist and append it to a a new playlist called shuffled_playlist that you create. Once you have processed all random numbers, you are done. Display a list of songs (one on each line) in the order that they will be played in.       "
   ]
  },
  {
   "cell_type": "code",
   "execution_count": 23,
   "id": "56b995e6-6f4d-4189-a23a-f22ecfd2d720",
   "metadata": {},
   "outputs": [
    {
     "name": "stdout",
     "output_type": "stream",
     "text": [
      "Song 3\n",
      "Song 6\n",
      "Song 5\n",
      "Song 4\n",
      "Song 4\n",
      "Song 7\n",
      "Song 4\n",
      "Song 3\n"
     ]
    }
   ],
   "source": [
    "# Import the random library\n",
    "import random as r\n",
    "# original playlist\n",
    "my_playlist = [\"Song 1\", \"Song 2\", \"Song 3\", \"Song 4\", \"Song 5\", \"Song 6\", \"Song 7\", \"Song 8\"]\n",
    "shuffled_playlist = []\n",
    "i=0\n",
    "# Generating a random number and adding the song with that index in original playlist to our shuffled list. This process is done how many ever songs are in original playlist without considering repetition\n",
    "while(i <8):\n",
    "    index = r.randint(0, 7)\n",
    "    shuffled_playlist.append(my_playlist[index])\n",
    "    print(shuffled_playlist[-1])\n",
    "    i = i+1"
   ]
  },
  {
   "cell_type": "markdown",
   "id": "294366f6-e402-479d-8dd9-0548d6854b2f",
   "metadata": {},
   "source": [
    "<HR/>\n",
    "\n",
    "## Question 7\n",
    "\n",
    "You may have noticed that the above implementation of the Shuffle feature can allow the same song to be played twice (essentially, the random.int() function can return the same integer more than once). That is not what we would ideally want. Rewrite the Shuffle feature to guarantee that the same song is not played more than once (in other words, the shuffled_playlist should include all of the songs from my_playlist and include them exactly once). Continue to use the random.int() function in your implementation.  "
   ]
  },
  {
   "cell_type": "code",
   "execution_count": 24,
   "id": "1cb71bf0-f45a-4634-99f3-039b390eb922",
   "metadata": {},
   "outputs": [
    {
     "name": "stdout",
     "output_type": "stream",
     "text": [
      "Song 1\n",
      "Song 3\n",
      "Song 8\n",
      "Song 6\n",
      "Song 4\n",
      "Song 2\n",
      "Song 5\n",
      "Song 7\n"
     ]
    }
   ],
   "source": [
    "# Import the random library\n",
    "import random as r\n",
    "# original playlist\n",
    "my_playlist = [\"Song 1\", \"Song 2\", \"Song 3\", \"Song 4\", \"Song 5\", \"Song 6\", \"Song 7\", \"Song 8\"]\n",
    "shuffled_playlist = []\n",
    "# Generating a random number and adding the song with that index to our shuffled list. This process is done until all songs are appended to the shuffled list ensuring no repetition\n",
    "while(len(shuffled_playlist)!=len(my_playlist)):\n",
    "    index = r.randint(0, 7)\n",
    "    if my_playlist[index] in shuffled_playlist:\n",
    "        pass\n",
    "    else:\n",
    "        shuffled_playlist.append(my_playlist[index])\n",
    "        print(shuffled_playlist[-1])"
   ]
  },
  {
   "cell_type": "markdown",
   "id": "ab050ab9-e569-472c-b4d0-a5bbb2f2353a",
   "metadata": {},
   "source": [
    "<HR/>\n",
    "\n",
    "## Question 8\n",
    "\n",
    "You are given a polynomial equation that will be in the form of a list, where the list index is the power for `x` and the value at that index is the coefficient. For example:\n",
    "\n",
    "<p style=\"text-align:center\"> The list: [4, 2, 3, 1] becomes </p>\n",
    "\n",
    "$${y = 4x^0 + 2x^1 + 3x^2 + 1x^3}$$\n",
    "\n",
    "You will also be given a value for `x` to use to solve the equation.\n",
    "\n",
    "$${x = 5}$$\n",
    "\n",
    "$${y = 4(5^0) + 2(5^1) + 3(5^2) + 1(5)^3}$$\n",
    "\n",
    "$${y = 214}$$\n",
    "\n",
    "Write a program to iterate over the list values and calculate the solution for `y`. Round your result to two decimal places.\n",
    "\n",
    "Use the following test cases to test your code: \n",
    "\n",
    "| List | x | Output |\n",
    "|----|----|----|\n",
    "|\\[4, 2, 3, 1\\] |  x = 5 | 214.0 |\n",
    "|\\[2, -5, 0, 3.1, 1, 4.4\\] |  x = 2 | 173.6 |\n",
    "|\\[7, 2, -4.5, 9, -5, 5.4, 1\\] |  x = 7 | 199289.3 |\n",
    "|\\[-7, 5, 2.5, 1, 0, 1.5\\] |  x = 4 | 1653.0 |\n",
    "\n",
    "**Note:** You do not need to prompt the user for the list or x. They can be assigned as variables in your program.\n",
    "\n",
    "```\n",
    "LIST = [4, 2, 3, 1]\n",
    "x = 5\n",
    "```\n"
   ]
  },
  {
   "cell_type": "code",
   "execution_count": 31,
   "id": "1ba3ada6-1c7f-4ea4-962c-ba081f49b9f2",
   "metadata": {},
   "outputs": [
    {
     "name": "stdout",
     "output_type": "stream",
     "text": [
      "1653.0\n"
     ]
    }
   ],
   "source": [
    "# Input list and x\n",
    "lis = [-7,5,2.5,1,0,1.5]\n",
    "x = 4\n",
    "# Output variable\n",
    "y = 0.00\n",
    "\n",
    "# Computing each term of the equation, the list and x contribute and adding to the output\n",
    "for i in range(len(lis)):\n",
    "    y = y + lis[i]*pow(x, i)\n",
    "\n",
    "print(round(y,2))\n",
    "    "
   ]
  },
  {
   "cell_type": "markdown",
   "id": "3efed0d7-fa2e-49ae-b7a7-ae6dde13ec14",
   "metadata": {},
   "source": [
    "<HR/>\n",
    "\n",
    "## Question 9\n",
    "\n",
    "You have written a polling tool to collect votes for a high school field trip. The choices and votes are stored in a list and each choice and votes is stored as a dictionary. Each dictionary has two properties:\n",
    "- name - The name of the field trip\n",
    "- votes - The total votes this field trip has received\n",
    "\n",
    "The `database` for the poll is in the next code cell. \n",
    "\n",
    "##### Make sure you run the next code cell at least once to set up the `database` variable."
   ]
  },
  {
   "cell_type": "code",
   "execution_count": 45,
   "id": "e03ea209-e16c-424d-8757-dbe5e738ae6e",
   "metadata": {},
   "outputs": [],
   "source": [
    "database = [\n",
    "    { 'name': 'Mueseum', 'votes': 25},\n",
    "    { 'name': 'Theme Park', 'votes': 71},\n",
    "    { 'name': 'The Beach', 'votes': 109},\n",
    "    { 'name': 'Cruise', 'votes': 33},\n",
    "    { 'name': 'Camping', 'votes': 48},\n",
    "    { 'name': 'Road Trip', 'votes': 53},\n",
    "]"
   ]
  },
  {
   "cell_type": "markdown",
   "id": "cd3a0514-7dc8-4252-86ff-301f76909a6e",
   "metadata": {},
   "source": [
    "Now your program needs to take the `database` list and output the winner. Your code should loop through the choices and find the option with the most votes and output that choice as the winner. Assume there is always an option with the most votes, so you do not need to handle ties.\n",
    "\n",
    "For example, for the current database, the output should be `The Beach`\n",
    "\n",
    "**Note**: Do not just output the name of the winner by using human inspection. If the database were to change (such as the choice names or the vote values), then your code should be able to output the correct winner."
   ]
  },
  {
   "cell_type": "code",
   "execution_count": 47,
   "id": "a9fa062f-ef8b-4b77-a738-8fcb4899e5d7",
   "metadata": {},
   "outputs": [
    {
     "name": "stdout",
     "output_type": "stream",
     "text": [
      "The Beach\n"
     ]
    }
   ],
   "source": [
    "# Initialized 2 variables to store the max votes and corresponding name\n",
    "max_votes= 0\n",
    "max_votes_name = \"\"\n",
    "\n",
    "# Checking votes for each dict in the list and storing the maximum votes and corresponding name value\n",
    "for i in range(len(database)):\n",
    "    if i == 0:\n",
    "        max_votes= database[i]['votes']\n",
    "        max_votes_name = database[i]['name']\n",
    "    else:\n",
    "        if database[i]['votes']>max_votes:\n",
    "            max_votes = database[i]['votes']\n",
    "            max_votes_name = database[i]['name']\n",
    "        else:\n",
    "            pass\n",
    "print(max_votes_name)"
   ]
  },
  {
   "cell_type": "markdown",
   "id": "2eb07156-d415-4400-a55d-620167179ed9",
   "metadata": {},
   "source": [
    "<HR/>\n",
    "\n",
    "## Question 10\n",
    "\n",
    "Please write a program that can decode a Caesar Cipher. The shift for these codes will be ROT-3 (meaning a shift of 3 letters to the RIGHT). For example: \n",
    "\n",
    "```\n",
    "A -> D\n",
    "B -> E\n",
    "...\n",
    "X -> A\n",
    "Y -> B\n",
    "Z -> C\n",
    "```\n",
    "\n",
    "Prompt the user for the coded message and then output the decoded message. Use the following test cases to test your code:\n",
    "\n",
    "| Coded Message | Output (Decoded Message) |\n",
    "---------|--------|\n",
    "| WKHUHV QR SODFH OLNH KRPH | THERES NO PLACE LIKE HOME |\n",
    "| PDB WKH IRUFH EH ZLWK BRX | MAY THE FORCE BE WITH YOU |\n",
    "| L FDQ GR WKLV DOO GDB | I CAN DO THIS ALL DAY |\n",
    "| L PXVW QRW IHDU IHDU LV WKH PLQG NLOOHU | I MUST NOT FEAR FEAR IS THE MIND KILLER |\n",
    "\n",
    "\n",
    "*Hints*:\n",
    "1. You should process one letter of the string at a time. Once you decode it, add the decoded letter to the previously decoded message using the `+` operator.\n",
    "2. You should handle spaces differently than the letters of the alphabet because you don't need to decode the space; you can add it as-is to the decoded message."
   ]
  },
  {
   "cell_type": "code",
   "execution_count": 52,
   "id": "54a368af-4d21-4532-9803-32ca2ffefaae",
   "metadata": {},
   "outputs": [
    {
     "name": "stdin",
     "output_type": "stream",
     "text": [
      "Enter your coded messages:  L PXVW QRW IHDU IHDU LV WKH PLQG NLOOHU\n"
     ]
    },
    {
     "name": "stdout",
     "output_type": "stream",
     "text": [
      "I MUST NOT FEAR FEAR IS THE MIND KILLER\n"
     ]
    }
   ],
   "source": [
    "# Taking input from user and initializing an empty variable for decoded\n",
    "coded = input(\"Enter your coded messages: \")\n",
    "decoded = \"\"\n",
    "\n",
    "# Looping through the string and using conditional statements, ordinance, and character function to decode the character and add it to the earlier decoded characters\n",
    "for i in coded:\n",
    "    if i == \" \":\n",
    "        decoded = decoded + i\n",
    "    elif ord(i) <=67:\n",
    "        decoded = decoded + chr(ord(i)+23)\n",
    "    else:\n",
    "        decoded = decoded + chr(ord(i)-3)\n",
    "\n",
    "print(decoded)"
   ]
  }
 ],
 "metadata": {
  "kernelspec": {
   "display_name": "Python 3 (ipykernel)",
   "language": "python",
   "name": "python3"
  },
  "language_info": {
   "codemirror_mode": {
    "name": "ipython",
    "version": 3
   },
   "file_extension": ".py",
   "mimetype": "text/x-python",
   "name": "python",
   "nbconvert_exporter": "python",
   "pygments_lexer": "ipython3",
   "version": "3.7.10"
  }
 },
 "nbformat": 4,
 "nbformat_minor": 5
}
