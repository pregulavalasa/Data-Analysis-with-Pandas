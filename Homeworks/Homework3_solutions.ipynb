{
 "cells": [
  {
   "cell_type": "markdown",
   "id": "827535cf-e4ca-4d78-b0b2-2d3df69344de",
   "metadata": {},
   "source": [
    "# Homework 3\n",
    "<HR/>\n",
    "\n",
    "**This assignment is designed to provide you practice with Iteration.**"
   ]
  },
  {
   "cell_type": "markdown",
   "id": "6ed30e4d-626c-4cd9-a7f5-ce01de09d08c",
   "metadata": {},
   "source": [
    "**INSTRUCTIONS - Please read carefully.**\n",
    "\n",
    "1. Please complete the following coding exercises and upload a copy (one per team) of the completed and executed notebook as your homework submission. Remember to restart the kernel, run all cells and check the outputs before saving and downloading the final version of the notebook for submission.\n",
    "\n",
    "2. A blank code cell has been created below each question for you to add the relevant code. Add additional code cells if needed. Execute all code cells to display the results. \n",
    "\n",
    "3. Add comments in each cell to explain what the code is meant to achieve. For example,\n",
    "\n",
    "```\n",
    "# ask for user preference\n",
    "\n",
    "# check if user wants to continue\n",
    "```\n",
    "\n",
    "4. Follow guidelines discussed in class to create well-written code. For example, provide user friendly prompts for all user inputs and user friendly messages with all outputs. Assign meaningful names to variables.\n",
    "\n",
    "5. You can search for helpful functions and code to achieve specific tasks like \"how to code an 'and' condition in Python\" or \"how to print multiple strings in the same line in Python\" but you may not post the specific questions online or otherwise seek help in answering the specific homework questions. Doing so will result in a zero on the assignment and could result in a failing grade in the course. Please **CHECK THE ACADEMIC INTEGRITY SECTION IN THE SYLLABUS** for complete information. "
   ]
  },
  {
   "cell_type": "markdown",
   "id": "6bac9d20-9915-41e5-9c3a-20d08ad34cbb",
   "metadata": {
    "tags": []
   },
   "source": [
    "<HR/>\n",
    "\n",
    "## <font color='red'/>Team Member Names </font>\n",
    "\n",
    "#### **Team Member 1:** Prashanth Regulavalasa\n",
    "#### **Team Member 2:** Bala Sai Nadh Kesana"
   ]
  },
  {
   "cell_type": "markdown",
   "id": "627595e4-705b-4502-abb9-11a69d3b73a3",
   "metadata": {},
   "source": [
    "<HR/> \n",
    "\n",
    "\n",
    "## Question 1\n",
    "\n",
    "Please create a trace table for the following code:\n",
    "\n",
    "```Python\n",
    "count_up = 5\n",
    "count_down = 40\n",
    "while count_up < 10:\n",
    "    count_up = count_up + 1\n",
    "    count_down = count_down - (2 * count_up)\n",
    "    print(count_up, count_down)\n",
    "    if(count_down < 0):\n",
    "        break\n",
    "```"
   ]
  },
  {
   "cell_type": "markdown",
   "id": "67482b03-7f97-48af-8c60-8acc1ffbff4e",
   "metadata": {},
   "source": [
    "## Tracetable\n",
    "\n",
    "|Line|count_up|count_down|count_up<10|Output|count_down<0|\n",
    "|-|-|-|-|-|-|\n",
    "|1|5|-|-|-|-|\n",
    "|2||40||||\n",
    "|3|||T|||\n",
    "|4|6|||||\n",
    "|5||28||||\n",
    "|6||||6 28||\n",
    "|7|||||F|\n",
    "|3|||T|||\n",
    "|4|7|||||\n",
    "|5||14||||\n",
    "|6|||7 14|||\n",
    "|7|||||F|\n",
    "|3|||T|||\n",
    "|4|8|||||\n",
    "|5||-2||||\n",
    "|6|||8 -2|||\n",
    "|7|||||T|\n",
    "\n",
    "\n"
   ]
  },
  {
   "cell_type": "markdown",
   "id": "ac0967d5-d0a0-4608-9861-a598d0026435",
   "metadata": {
    "tags": []
   },
   "source": [
    "<HR/> \n",
    "\n",
    "## Question 2\n",
    "\n",
    "Please create a trace table for the following code:\n",
    "\n",
    "```Python\n",
    "for num in range(1, 5):\n",
    "    for inner_num in range(1, num, 2):\n",
    "        print(num, inner_num)\n",
    "```\n"
   ]
  },
  {
   "cell_type": "markdown",
   "id": "5470dcfb-b96a-4e50-96f3-ea5ea7c90b7b",
   "metadata": {},
   "source": [
    "## Tracetable\n",
    "\n",
    "|Line|num|inner_num|Output|\n",
    "|-|-|-|-|\n",
    "|1|1|-|-|\n",
    "|2||-|-|\n",
    "|3|||-|\n",
    "|1|2|||\n",
    "|2||1||\n",
    "|3|||2 1|\n",
    "|1|3|||\n",
    "|2||1||\n",
    "|3|||3 1|\n",
    "|1|4|||\n",
    "|2||1||\n",
    "|3|||4 1|\n",
    "|2||3||\n",
    "|3|||4 3|\n",
    "\n"
   ]
  },
  {
   "cell_type": "markdown",
   "id": "900dfeef-02c2-4e0e-b56e-25372d8f2800",
   "metadata": {},
   "source": [
    "<HR/> \n",
    "\n",
    "## Question 3\n",
    "\n",
    "Write a program that asks a user to enter 10 numbers. Display the count of (i) positive numbers, (ii) negative numbers, (iii) zeroes entered by the user. \n",
    "\n",
    "*Hint*: Create three count variables and initialize them to zero. Increase the appropriate counts depending on the number submitted by the user."
   ]
  },
  {
   "cell_type": "code",
   "execution_count": 2,
   "id": "a54ee8c0-87ec-4651-81aa-ef3a07e4aaa1",
   "metadata": {},
   "outputs": [
    {
     "name": "stdin",
     "output_type": "stream",
     "text": [
      "Enter a number:  1\n",
      "Enter a number:  2\n",
      "Enter a number:  3\n",
      "Enter a number:  4\n",
      "Enter a number:  5\n",
      "Enter a number:  0\n",
      "Enter a number:  0\n",
      "Enter a number:  0\n",
      "Enter a number:  -23\n",
      "Enter a number:  -45\n"
     ]
    },
    {
     "name": "stdout",
     "output_type": "stream",
     "text": [
      "Number of postive numbers entered: 5\n",
      "Number of negative numbers entered: 2\n",
      "Number of zeros entered: 3\n"
     ]
    }
   ],
   "source": [
    "# Initialize 3 count veriables\n",
    "c_pos= 0\n",
    "c_neg= 0\n",
    "c_zero= 0\n",
    "\n",
    "# Input in loop and increment of counts for every postitive, negative, and zero value\n",
    "for i in range(1,11):\n",
    "    num = int(input(\"Enter a number: \"))\n",
    "    if num == 0:\n",
    "        c_zero= c_zero+1\n",
    "    elif num> 0:\n",
    "        c_pos= c_pos+1\n",
    "    else:\n",
    "        c_neg= c_neg+1\n",
    "\n",
    "# Print counts\n",
    "print(f\"Number of postive numbers entered: {c_pos}\")\n",
    "print(f\"Number of negative numbers entered: {c_neg}\")\n",
    "print(f\"Number of zeros entered: {c_zero}\")"
   ]
  },
  {
   "cell_type": "markdown",
   "id": "9f8dff90-05ca-47b7-9189-013a0dd4fde8",
   "metadata": {},
   "source": [
    "<HR/>\n",
    "\n",
    "## Question 4\n",
    "\n",
    "For added security, a website allows users to enter an incorrect password at most three times before locking them out. Code a logic similar to the website by asking the user to enter their password. If the user enters the correct password, display the message \"login successful\" and end the program. If the user enters the wrong password, display the message \"incorrect password\" and ak the user to try again until they get it right or they are out of attempts. If the user enters an incorrect password three times, display the message \"access blocked\" and end the program. "
   ]
  },
  {
   "cell_type": "code",
   "execution_count": 9,
   "id": "2099bda5-9952-478a-9351-f2b89e6fac6c",
   "metadata": {},
   "outputs": [
    {
     "name": "stdout",
     "output_type": "stream",
     "text": [
      "The actual password is:  thisisthepassword\n"
     ]
    },
    {
     "name": "stdin",
     "output_type": "stream",
     "text": [
      "Enter your password:  thisisnot\n"
     ]
    },
    {
     "name": "stdout",
     "output_type": "stream",
     "text": [
      "Incorrect password, please try again. You have 2 attemps left.\n"
     ]
    },
    {
     "name": "stdin",
     "output_type": "stream",
     "text": [
      "Enter your password:  isitnot\n"
     ]
    },
    {
     "name": "stdout",
     "output_type": "stream",
     "text": [
      "Incorrect password, please try again. You have 1 attemps left.\n"
     ]
    },
    {
     "name": "stdin",
     "output_type": "stream",
     "text": [
      "Enter your password:  idontknow\n"
     ]
    },
    {
     "name": "stdout",
     "output_type": "stream",
     "text": [
      "Access block, please contact your IT administractor to get this fixed.\n"
     ]
    }
   ],
   "source": [
    "# Creating and displaying the actual password for programs logic display\n",
    "correct_pass = \"thisisthepassword\"\n",
    "print(\"The actual password is: \", correct_pass)\n",
    "password = input(\"Enter your password: \") \n",
    "for i in range(1,4): ## Using loop and conditional statements to create a chance to successfully match the password within 3 tries \n",
    "    if password == correct_pass:\n",
    "        print(\"Login successful!\")\n",
    "        break\n",
    "    elif password != correct_pass and i != 3:\n",
    "        print(f\"Incorrect password, please try again. You have {3-i} attemps left.\")\n",
    "        password = input(\"Enter your password: \")\n",
    "    else:\n",
    "        print(\"Access block, please contact your IT administractor to get this fixed.\")"
   ]
  },
  {
   "cell_type": "markdown",
   "id": "5f27c4b0-6e8e-4460-a741-6cbd7483ff2e",
   "metadata": {},
   "source": [
    "<HR/>\n",
    "\n",
    "## Question 5\n",
    "\n",
    "If you've ever called the registrar's office or any customer support number, you were likely presented with a menu of options. Display the following menu of options to the caller and ask them to make a choice.\n",
    "\n",
    "Please select from the following options:\n",
    "Press 1 to place an order.\n",
    "Press 2 to track an order.\n",
    "Press 3 to return an order.\n",
    "Press 4 to pay a bill.\n",
    "Press 5 to repeat the menu.\n",
    "Press 6 to end the call.\n",
    "\n",
    "If the user eneters a number from 1 - 4, display their choice (e.g., You selected 1 - Place an order). Then display the message \"transferring your call.\"\n",
    "If the user enters 5, display the menu again and ask for input.\n",
    "If the user enters 6, display \"Thank you\".\n",
    "\n",
    "*Note*: The user should keep seeing the menu as long as they keep pressing 5."
   ]
  },
  {
   "cell_type": "code",
   "execution_count": 14,
   "id": "ec4c4e75-5773-4f77-bbac-14d88ad7217c",
   "metadata": {},
   "outputs": [
    {
     "name": "stdout",
     "output_type": "stream",
     "text": [
      "Please select from the following options:\n",
      "Press 1 to place an order.\n",
      "Press 2 to track an order.\n",
      "Press 3 to return an order.\n",
      "Press 4 to pay a bill.\n",
      "Press 5 to repeat the menu.\n",
      "Press 6 to end the call.\n"
     ]
    },
    {
     "name": "stdin",
     "output_type": "stream",
     "text": [
      "Enter your choice:  5\n"
     ]
    },
    {
     "name": "stdout",
     "output_type": "stream",
     "text": [
      "Please select from the following options:\n",
      "Press 1 to place an order.\n",
      "Press 2 to track an order.\n",
      "Press 3 to return an order.\n",
      "Press 4 to pay a bill.\n",
      "Press 5 to repeat the menu.\n",
      "Press 6 to end the call.\n"
     ]
    },
    {
     "name": "stdin",
     "output_type": "stream",
     "text": [
      "Enter your choice:  5\n"
     ]
    },
    {
     "name": "stdout",
     "output_type": "stream",
     "text": [
      "Please select from the following options:\n",
      "Press 1 to place an order.\n",
      "Press 2 to track an order.\n",
      "Press 3 to return an order.\n",
      "Press 4 to pay a bill.\n",
      "Press 5 to repeat the menu.\n",
      "Press 6 to end the call.\n"
     ]
    },
    {
     "name": "stdin",
     "output_type": "stream",
     "text": [
      "Enter your choice:  5\n"
     ]
    },
    {
     "name": "stdout",
     "output_type": "stream",
     "text": [
      "Please select from the following options:\n",
      "Press 1 to place an order.\n",
      "Press 2 to track an order.\n",
      "Press 3 to return an order.\n",
      "Press 4 to pay a bill.\n",
      "Press 5 to repeat the menu.\n",
      "Press 6 to end the call.\n"
     ]
    },
    {
     "name": "stdin",
     "output_type": "stream",
     "text": [
      "Enter your choice:  5\n"
     ]
    },
    {
     "name": "stdout",
     "output_type": "stream",
     "text": [
      "Please select from the following options:\n",
      "Press 1 to place an order.\n",
      "Press 2 to track an order.\n",
      "Press 3 to return an order.\n",
      "Press 4 to pay a bill.\n",
      "Press 5 to repeat the menu.\n",
      "Press 6 to end the call.\n"
     ]
    },
    {
     "name": "stdin",
     "output_type": "stream",
     "text": [
      "Enter your choice:  6\n"
     ]
    },
    {
     "name": "stdout",
     "output_type": "stream",
     "text": [
      "Thank you.\n"
     ]
    }
   ],
   "source": [
    "# Saving and printing the prompt \n",
    "menu = \"Please select from the following options:\\nPress 1 to place an order.\\nPress 2 to track an order.\\nPress 3 to return an order.\\nPress 4 to pay a bill.\\nPress 5 to repeat the menu.\\nPress 6 to end the call.\"\n",
    "print(menu)\n",
    "user_input = int(input(\"Enter your choice: \"))\n",
    "while (user_input == 5):\n",
    "        print(menu)\n",
    "        user_input = int(input(\"Enter your choice: \")) ## Requesting user input again after entering option 5, until there is a non 5 entry by using while loop\n",
    "\n",
    "if user_input in range(1,5):\n",
    "    print(\"Transferring your call...\") ## Upon selecting any of the 1-4 options, \"trasferring your call\" is displayed\n",
    "elif user_input == 6:\n",
    "    print(\"Thank you.\")\n",
    "    "
   ]
  },
  {
   "cell_type": "markdown",
   "id": "7f7cac0a-ecf0-4621-9987-3de4bd5274bf",
   "metadata": {},
   "source": [
    "<HR/>\n",
    "\n",
    "## Question 6\n",
    "\n",
    "Write a program that calculates the minimum of *n* numbers, where *n* is specified by the user. That is, first ask the user for the value of *n*, then allow the user to input *n* numbers and detemine which of the user provided numbers is the smallest.\n",
    "\n",
    "*Hint:* Create a variable min_num to keep track of the smallest number. Initialize it to a very large value (e.g., 999999). Then, create a loop to ask for user inputs. Each time you receive an input, compare it to the current value of min_num. If the input is smaller than min_num, replace min_num with the value of input so that min_num contains the smallest value so far. If the input is larger than or equal to min_num, don't change min_num. Display the value of min_num after the loop ends.\n",
    "\n",
    "<BR/>\n",
    "After you have completed and tested your code, discuss some limitaions of the above algorithm (at least one). "
   ]
  },
  {
   "cell_type": "code",
   "execution_count": 21,
   "id": "57859444-f810-450e-9577-41efe901456e",
   "metadata": {},
   "outputs": [
    {
     "name": "stdin",
     "output_type": "stream",
     "text": [
      "Enter the number of numbers you want to evaluate:  4\n",
      "Enter you numbers (one at a time):  856\n",
      "Enter you numbers (one at a time):  -3\n",
      "Enter you numbers (one at a time):  0\n",
      "Enter you numbers (one at a time):  12\n"
     ]
    },
    {
     "name": "stdout",
     "output_type": "stream",
     "text": [
      "The least number in the number of numbers provided is -3\n"
     ]
    }
   ],
   "source": [
    "n = int(input(\"Enter the number of numbers you want to evaluate: \"))\n",
    "min_num = 0\n",
    "input_num = 0\n",
    "for i in range(1,n+1):\n",
    "    input_num = int(input(\"Enter you numbers (one at a time): \"))\n",
    "    if i == 1: \n",
    "        min_num = input_num ## irrespective of the numbers, the first entered value is taken as the least number\n",
    "    elif min_num <= input_num:\n",
    "        pass ## does nothing if new numbers are bigger than min_num\n",
    "    else:\n",
    "        min_num = input_num ## changes min_num to the least number so far entered\n",
    "\n",
    "print(f\"The least number in the number of numbers provided is {min_num}\")"
   ]
  },
  {
   "cell_type": "markdown",
   "id": "2995e86b-618e-438f-8a13-78cac3c4630b",
   "metadata": {},
   "source": [
    "<BR/>Discuss limitations here.\n",
    "<BR/>There are no limitations to our code. However, with the logic/algorithm that is provided in the hint, if all the numbers the user wishes to evaluate with the program are higher than 999,999 then the least number at the end of the loop will still be 999,999 which is not even present in the list of the numbers provided by the user. "
   ]
  },
  {
   "cell_type": "markdown",
   "id": "b5e347e4-3842-477b-b7bd-856428bc524e",
   "metadata": {},
   "source": [
    "<HR/>\n",
    "\n",
    "## Generating Patterns with Code\n",
    "\n",
    "Below are a couple problems that require printing patterns using loops. Let's take a look at an example:\n",
    "\n",
    "```\n",
    "* \n",
    "*** \n",
    "***** \n",
    "******* \n",
    "********* \n",
    "```\n",
    "\n",
    "The pattern is a number of asterisks (\\*) on each line. The number of asterisks on each line follows a pattern and discovering that pattern is the first step to printing.\n",
    "\n",
    "```\n",
    "(1) * \n",
    "(3) *** \n",
    "(5) ***** \n",
    "(7) ******* \n",
    "(9) ********* \n",
    "```\n",
    "\n",
    "The pattern starts with 1 asterisks and follows the odd numbers. One way to print this would be to create a range that would start at 1 and increment by 2:"
   ]
  },
  {
   "cell_type": "code",
   "execution_count": 2,
   "id": "a0295850-d0fd-4110-a6c7-0903d731ffac",
   "metadata": {},
   "outputs": [
    {
     "name": "stdout",
     "output_type": "stream",
     "text": [
      "*\n",
      "***\n",
      "*****\n",
      "*******\n",
      "*********\n"
     ]
    }
   ],
   "source": [
    "rows = 9\n",
    "for num in range(1,rows + 1,2): ## Increment by 2 (1, 3, 5, 9)\n",
    "    pattern = \"\"\n",
    "    for counter in range(1,num+1):\n",
    "        pattern = pattern + \"*\"\n",
    "    print(pattern)"
   ]
  },
  {
   "cell_type": "markdown",
   "id": "45debcdd-e9c1-4257-954f-7e8e16bac708",
   "metadata": {},
   "source": [
    "Note the start and end values and increments provided to the two range functions above. Make sure you understand which sequence of numbers each range() function will generate and how many times each for loop will run. Creating a trace table may help with this."
   ]
  },
  {
   "cell_type": "markdown",
   "id": "4b1a2a79-f59c-4b97-9f5b-36845bfa3ced",
   "metadata": {},
   "source": [
    "Another way to accomplish this task would be to use a conditional statement. The loop would increment by 1 each time and the conditional statement inside the loop would only print out the rows that are odd:"
   ]
  },
  {
   "cell_type": "code",
   "execution_count": 22,
   "id": "04129455-a84e-49ae-bfc7-f66979b5f4ea",
   "metadata": {},
   "outputs": [
    {
     "name": "stdout",
     "output_type": "stream",
     "text": [
      "*\n",
      "***\n",
      "*****\n",
      "*******\n",
      "*********\n"
     ]
    }
   ],
   "source": [
    "rows = 9\n",
    "for num in range(1, rows+1): ## Increment by 1\n",
    "    if num % 2 == 1: ## Conditional Statement to check for odd numbers\n",
    "        pattern = \"\"\n",
    "        for counter in range(1,num+1):\n",
    "            pattern = pattern + \"*\"\n",
    "        print(pattern)"
   ]
  },
  {
   "cell_type": "markdown",
   "id": "9a515c60-f5e6-4253-a009-78ad17fa5909",
   "metadata": {},
   "source": [
    "<HR/>\n",
    "\n",
    "## Question 7\n",
    "\n",
    "\n",
    "Print the following pattern using loops:\n",
    "\n",
    "```\n",
    "* \n",
    "** \n",
    "***\n",
    "** \n",
    "* \n",
    "```\n",
    "\n",
    "**Hint**: You can use one or more loops if you want to. It may be easier to create two loops - one for increasing number of asterisks (*) and another for decreasing number of asterisks per row."
   ]
  },
  {
   "cell_type": "code",
   "execution_count": 29,
   "id": "ff76e369-0006-4009-a520-055149922f8e",
   "metadata": {},
   "outputs": [
    {
     "name": "stdout",
     "output_type": "stream",
     "text": [
      "*\n",
      "**\n",
      "***\n",
      "**\n",
      "*\n"
     ]
    }
   ],
   "source": [
    "rows = 5\n",
    "for num in range(1, rows+1): ## Increment by 1\n",
    "    pattern = \"\"\n",
    "    for counter in range(1,num+1): ## Determines how many times * is gonna be added to the variable pattern\n",
    "        pattern = pattern + \"*\"\n",
    "    if num >=4: ## Conditional Statement to check and implement for the 4th and 5th row to delete the extra *\n",
    "        pattern = pattern[:-pow(2,num-3)]\n",
    "    print(pattern)"
   ]
  },
  {
   "cell_type": "markdown",
   "id": "42bd761a-32a8-4cef-a1fb-727a01618836",
   "metadata": {},
   "source": [
    "<HR/>\n",
    "\n",
    "## Question 8\n",
    "\n",
    "Print the following pattern using loops:\n",
    "\n",
    "```\n",
    "&&&&&&&&\n",
    "--------------\n",
    "&&&&&&\n",
    "----------\n",
    "&&&&\n",
    "------\n",
    "&&\n",
    "--\n",
    "```\n",
    "\n",
    "**Hint:** The symbol and how many times it is replicated depends on whether you are in an even numbered or odd numbered row."
   ]
  },
  {
   "cell_type": "code",
   "execution_count": 30,
   "id": "cc5dfdaa-226d-419f-843e-8a7633e17b1d",
   "metadata": {},
   "outputs": [
    {
     "name": "stdout",
     "output_type": "stream",
     "text": [
      "&&&&&&&&\n",
      "--------------\n",
      "&&&&&&\n",
      "----------\n",
      "&&&&\n",
      "------\n",
      "&&\n",
      "--\n"
     ]
    }
   ],
   "source": [
    "rows = 8\n",
    "for num in range(1, rows+1): ## Increment by 1\n",
    "    if num % 2 == 1: ## Conditional Statement to check for odd numbers\n",
    "        pattern = \"\"\n",
    "        for counter in range(num,rows+1): ## The closer the num to rows, the lesser time this loop runs and smaller the &'s\n",
    "            pattern = pattern + \"&\"\n",
    "        print(pattern)\n",
    "    elif num % 2 == 0: ## Conditional Statement to check for even numbers\n",
    "        pattern = \"\"\n",
    "        for counter in range(num,rows+1):\n",
    "            pattern = pattern + \"--\" ## require 2 -- to get the correct number of ------\n",
    "        print(pattern)\n",
    "    else:\n",
    "        pass"
   ]
  },
  {
   "cell_type": "markdown",
   "id": "8008e966-015a-4661-97aa-3f66fb4a729c",
   "metadata": {},
   "source": [
    "<HR/>\n",
    "\n",
    "## Question 9\n",
    "\n",
    "Please write a guessing game program. The user will guess a random number generated by the computer between 1 and 100 (inclusive); this is the target number.\n",
    "\n",
    "After the user guesses, the program will reply:\n",
    "- `Higher`, if the number the user guessed is lower than the target.\n",
    "- `Lower`, if the number the user guessed is higher than the target.\n",
    "- `You got it!`, if the number the user guessed is the target.\n",
    "\n",
    "The program will repeat until the user guesses the number or they have exhausted 5 guesses.\n",
    "\n",
    "If the program ends without the user having guessed the number, please have the program say: `You have used up all 5 guesses. The number was ` and then print the number.\n",
    "\n",
    "The following is a sample run when the number returned by randint was 28: \n",
    "\n",
    "```\n",
    "Please guess a number between 1 and 100:  25\n",
    "Higher\n",
    "Please guess a number between 1 and 100:  50\n",
    "Lower\n",
    "Please guess a number between 1 and 100:  35\n",
    "Lower\n",
    "Please guess a number between 1 and 100:  27\n",
    "Higher\n",
    "Please guess a number between 1 and 100:  33\n",
    "Lower\n",
    "You have used up all 5 guesses. The number was 28.\n",
    "```"
   ]
  },
  {
   "cell_type": "code",
   "execution_count": 13,
   "id": "56fb4621-4179-46f0-8964-e3389f8d9b1c",
   "metadata": {},
   "outputs": [
    {
     "name": "stdin",
     "output_type": "stream",
     "text": [
      "Please guess a number between 1 and 100:  1\n"
     ]
    },
    {
     "name": "stdout",
     "output_type": "stream",
     "text": [
      "Higher\n"
     ]
    },
    {
     "name": "stdin",
     "output_type": "stream",
     "text": [
      "Please guess a number between 1 and 100:  2\n"
     ]
    },
    {
     "name": "stdout",
     "output_type": "stream",
     "text": [
      "Higher\n"
     ]
    },
    {
     "name": "stdin",
     "output_type": "stream",
     "text": [
      "Please guess a number between 1 and 100:  3\n"
     ]
    },
    {
     "name": "stdout",
     "output_type": "stream",
     "text": [
      "Higher\n"
     ]
    },
    {
     "name": "stdin",
     "output_type": "stream",
     "text": [
      "Please guess a number between 1 and 100:  4\n"
     ]
    },
    {
     "name": "stdout",
     "output_type": "stream",
     "text": [
      "Higher\n"
     ]
    },
    {
     "name": "stdin",
     "output_type": "stream",
     "text": [
      "Please guess a number between 1 and 100:  5\n"
     ]
    },
    {
     "name": "stdout",
     "output_type": "stream",
     "text": [
      "You have used up all 5 guesses. The number was 17.\n"
     ]
    }
   ],
   "source": [
    "# Initializing the goal number and guess number(to store users guess)\n",
    "import random as r\n",
    "num = r.randint(1,100)\n",
    "guess_num = int(input(\"Please guess a number between 1 and 100: \"))\n",
    "\n",
    "# Range(1,6) since only 5 guesses are available\n",
    "for i in range(1,6): ## Using loop and conditional statements to create the required possibility of outcomes.\n",
    "    if guess_num == num: \n",
    "        print(\"You got it!\")\n",
    "        break\n",
    "    elif guess_num < num and i != 5:\n",
    "        #print(f\"Incorrect guess, please try again. You have {5-i} attemps left. Guess higher the next time.\")\n",
    "        print(\"Higher\")\n",
    "        guess_num = int(input(\"Please guess a number between 1 and 100: \"))\n",
    "    elif guess_num > num and i != 5:\n",
    "        #print(f\"Incorrect guess, please try again. You have {5-i} attemps left. Guess lower the next time.\")\n",
    "        print(\"Lower\")\n",
    "        guess_num = int(input(\"Please guess a number between 1 and 100: \"))\n",
    "    else: \n",
    "        print(f\"You have used up all 5 guesses. The number was {num}.\")\n",
    "        "
   ]
  },
  {
   "cell_type": "markdown",
   "id": "792dcf3c-5ac0-4331-81ed-3e079acfcb09",
   "metadata": {},
   "source": [
    "<HR/>\n",
    "\n",
    "## Question 10\n",
    "\n",
    "You are working for a bridge building company and will need to simulate how long bridges built with different materials will last. \n",
    "\n",
    "The simulation will be broken down into hours, starting at hour 0 when the bridge was built. Every hour of the simulation there will be an averge number of cars that drives over the bridge that follows from the formula:\n",
    "\n",
    "$${Average\\:\\#\\:of\\:Cars}= -(x-6)^2 + 36 $$\n",
    "\n",
    "x in the formula above represents (hours since start % 12).\n",
    "\n",
    "When the following formula evaluates to true, then the bridge fails:\n",
    "\n",
    "$${ Total\\:cars\\ > (Strength * \\frac{(Durability + 45)}{10})^3 }$$\n",
    "\n",
    "Write a program that prompts the user for the Strength and Durabilty of the building materials and then outputs the number of years the bridge lasts before failing. Round the year value down to a whole number.\n",
    "\n",
    "**Note:** For simplicity, assume that every year has 365 days.\n",
    "\n",
    "**Hint:** You must keep evaluating the failure condition for every hour, until you reach the point where the failure condition evaluates to True. \n",
    "\n",
    "Use the following table to test your code:\n",
    "\n",
    "| Strength | Durability | Output |\n",
    "---------|--------|-------|\n",
    "| 22.5 | 31.8 | Bridge lasts for 24 years |\n",
    "| 10.25 | 65.2 | Bridge lasts for 6 years |\n",
    "| 12.66 | 74.2 | Bridge lasts for 16 years |\n",
    "| 17.31 | 57.3 | Bridge lasts for 26 years |\n",
    "| 18.44 | 45.34 | Bridge lasts for 22 years |"
   ]
  },
  {
   "cell_type": "code",
   "execution_count": 28,
   "id": "54060c69-4143-4f10-8aa1-836c9b9e68e4",
   "metadata": {},
   "outputs": [
    {
     "name": "stdin",
     "output_type": "stream",
     "text": [
      "Enter the strength parameter:  18.44\n",
      "Enter the durability parameter:  45.34\n"
     ]
    },
    {
     "name": "stdout",
     "output_type": "stream",
     "text": [
      "Bridge lasts for 22 years\n"
     ]
    }
   ],
   "source": [
    "# Initialize the variables for hour of simulation (/total hours since building), tot_cars for calculating the running sum of cars driven on it\n",
    "hour = 0\n",
    "tot_cars = 0\n",
    "strenght = float(input(\"Enter the strength parameter: \"))\n",
    "durability = float(input(\"Enter the durability parameter: \"))\n",
    "\n",
    "# Entering the formulas and checking the failure condition to break out from the loop\n",
    "while (True):\n",
    "    avg_cars_in_hour = -pow((hour%12-6), 2)+36\n",
    "    tot_cars = tot_cars + avg_cars_in_hour\n",
    "    \n",
    "    if tot_cars > pow(strenght*(durability+45)/10, 3):\n",
    "        break\n",
    "    hour = hour + 1\n",
    "# 24.9 years is not equal to lasting for 25 years so used int\n",
    "years = int(hour/24/365)\n",
    "print(f\"Bridge lasts for {years} years\")"
   ]
  }
 ],
 "metadata": {
  "kernelspec": {
   "display_name": "Python 3 (ipykernel)",
   "language": "python",
   "name": "python3"
  },
  "language_info": {
   "codemirror_mode": {
    "name": "ipython",
    "version": 3
   },
   "file_extension": ".py",
   "mimetype": "text/x-python",
   "name": "python",
   "nbconvert_exporter": "python",
   "pygments_lexer": "ipython3",
   "version": "3.7.10"
  }
 },
 "nbformat": 4,
 "nbformat_minor": 5
}
