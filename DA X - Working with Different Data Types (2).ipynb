{
 "cells": [
  {
   "cell_type": "markdown",
   "id": "0d85f319-599b-426d-bff4-dfcfd6195227",
   "metadata": {},
   "source": [
    "# Data Analysis in Python - X: Working with Different Data Types"
   ]
  },
  {
   "cell_type": "markdown",
   "id": "d8478164-f32a-4bc9-b5ea-ecaac506d25c",
   "metadata": {},
   "source": [
    "## Introduction\n",
    "\n",
    "\n",
    "In this lesson, we will review previously covered material related to data types and data type conversion and learn some new functions that are useful for working with different data types for data analysis needs. \n",
    "\n",
    "Note: \n",
    "1. Use the TOC to navigate between sections.\n"
   ]
  },
  {
   "cell_type": "markdown",
   "id": "4c07e8d0-a28b-4e96-9e92-0f31024ed641",
   "metadata": {},
   "source": [
    "## Different data types"
   ]
  },
  {
   "cell_type": "markdown",
   "id": "2cee274d-14e0-4400-8af7-8d6a49a6ae75",
   "metadata": {},
   "source": [
    "Python supports many simple and complex data types that we have worked with before. Pandas also supports different data types including, object, int64, float64, datetime64, bool, and category. Additionally, the numpy library comes with its own data types. "
   ]
  },
  {
   "cell_type": "markdown",
   "id": "169ae2b7-aec9-48e9-9e69-20f5c8ac8459",
   "metadata": {},
   "source": [
    "When working with data, it is important to know the data types of various fields (columns) and the appropriate data types to use in function parameters and outputs. Without this knowledge, we may get unexpected or inaccurate results from the analysis. \n",
    "For the same reason, it is sometimes necessary to convert the data type of a column before performing an operation on it. "
   ]
  },
  {
   "cell_type": "markdown",
   "id": "4d084b3c-1d67-4894-b9bd-6713e17273be",
   "metadata": {},
   "source": [
    "## Checking the data types of data frame columns"
   ]
  },
  {
   "cell_type": "markdown",
   "id": "12f5d478-9f6e-4146-9c33-1247b4043d57",
   "metadata": {},
   "source": [
    "We can check the data types of the columns of a data frame using the `dtypes` properties and/or the `info()` function.\n"
   ]
  },
  {
   "cell_type": "code",
   "execution_count": 15,
   "id": "5e5ee4ed-7152-4e0f-913e-908e964a6a8a",
   "metadata": {},
   "outputs": [
    {
     "data": {
      "text/html": [
       "<div>\n",
       "<style scoped>\n",
       "    .dataframe tbody tr th:only-of-type {\n",
       "        vertical-align: middle;\n",
       "    }\n",
       "\n",
       "    .dataframe tbody tr th {\n",
       "        vertical-align: top;\n",
       "    }\n",
       "\n",
       "    .dataframe thead th {\n",
       "        text-align: right;\n",
       "    }\n",
       "</style>\n",
       "<table border=\"1\" class=\"dataframe\">\n",
       "  <thead>\n",
       "    <tr style=\"text-align: right;\">\n",
       "      <th></th>\n",
       "      <th>survived</th>\n",
       "      <th>pclass</th>\n",
       "      <th>sex</th>\n",
       "      <th>age</th>\n",
       "      <th>sibsp</th>\n",
       "      <th>parch</th>\n",
       "      <th>fare</th>\n",
       "      <th>embarked</th>\n",
       "      <th>class</th>\n",
       "      <th>who</th>\n",
       "      <th>adult_male</th>\n",
       "      <th>deck</th>\n",
       "      <th>embark_town</th>\n",
       "      <th>alive</th>\n",
       "      <th>alone</th>\n",
       "    </tr>\n",
       "  </thead>\n",
       "  <tbody>\n",
       "    <tr>\n",
       "      <th>0</th>\n",
       "      <td>0</td>\n",
       "      <td>3</td>\n",
       "      <td>male</td>\n",
       "      <td>22.0</td>\n",
       "      <td>1</td>\n",
       "      <td>0</td>\n",
       "      <td>7.2500</td>\n",
       "      <td>S</td>\n",
       "      <td>Third</td>\n",
       "      <td>man</td>\n",
       "      <td>True</td>\n",
       "      <td>NaN</td>\n",
       "      <td>Southampton</td>\n",
       "      <td>no</td>\n",
       "      <td>False</td>\n",
       "    </tr>\n",
       "    <tr>\n",
       "      <th>1</th>\n",
       "      <td>1</td>\n",
       "      <td>1</td>\n",
       "      <td>female</td>\n",
       "      <td>38.0</td>\n",
       "      <td>1</td>\n",
       "      <td>0</td>\n",
       "      <td>71.2833</td>\n",
       "      <td>C</td>\n",
       "      <td>First</td>\n",
       "      <td>woman</td>\n",
       "      <td>False</td>\n",
       "      <td>C</td>\n",
       "      <td>Cherbourg</td>\n",
       "      <td>yes</td>\n",
       "      <td>False</td>\n",
       "    </tr>\n",
       "    <tr>\n",
       "      <th>2</th>\n",
       "      <td>1</td>\n",
       "      <td>3</td>\n",
       "      <td>female</td>\n",
       "      <td>26.0</td>\n",
       "      <td>0</td>\n",
       "      <td>0</td>\n",
       "      <td>7.9250</td>\n",
       "      <td>S</td>\n",
       "      <td>Third</td>\n",
       "      <td>woman</td>\n",
       "      <td>False</td>\n",
       "      <td>NaN</td>\n",
       "      <td>Southampton</td>\n",
       "      <td>yes</td>\n",
       "      <td>True</td>\n",
       "    </tr>\n",
       "    <tr>\n",
       "      <th>3</th>\n",
       "      <td>1</td>\n",
       "      <td>1</td>\n",
       "      <td>female</td>\n",
       "      <td>35.0</td>\n",
       "      <td>1</td>\n",
       "      <td>0</td>\n",
       "      <td>53.1000</td>\n",
       "      <td>S</td>\n",
       "      <td>First</td>\n",
       "      <td>woman</td>\n",
       "      <td>False</td>\n",
       "      <td>C</td>\n",
       "      <td>Southampton</td>\n",
       "      <td>yes</td>\n",
       "      <td>False</td>\n",
       "    </tr>\n",
       "    <tr>\n",
       "      <th>4</th>\n",
       "      <td>0</td>\n",
       "      <td>3</td>\n",
       "      <td>male</td>\n",
       "      <td>35.0</td>\n",
       "      <td>0</td>\n",
       "      <td>0</td>\n",
       "      <td>8.0500</td>\n",
       "      <td>S</td>\n",
       "      <td>Third</td>\n",
       "      <td>man</td>\n",
       "      <td>True</td>\n",
       "      <td>NaN</td>\n",
       "      <td>Southampton</td>\n",
       "      <td>no</td>\n",
       "      <td>True</td>\n",
       "    </tr>\n",
       "  </tbody>\n",
       "</table>\n",
       "</div>"
      ],
      "text/plain": [
       "   survived  pclass     sex   age  sibsp  parch     fare embarked  class  \\\n",
       "0         0       3    male  22.0      1      0   7.2500        S  Third   \n",
       "1         1       1  female  38.0      1      0  71.2833        C  First   \n",
       "2         1       3  female  26.0      0      0   7.9250        S  Third   \n",
       "3         1       1  female  35.0      1      0  53.1000        S  First   \n",
       "4         0       3    male  35.0      0      0   8.0500        S  Third   \n",
       "\n",
       "     who  adult_male deck  embark_town alive  alone  \n",
       "0    man        True  NaN  Southampton    no  False  \n",
       "1  woman       False    C    Cherbourg   yes  False  \n",
       "2  woman       False  NaN  Southampton   yes   True  \n",
       "3  woman       False    C  Southampton   yes  False  \n",
       "4    man        True  NaN  Southampton    no   True  "
      ]
     },
     "execution_count": 15,
     "metadata": {},
     "output_type": "execute_result"
    }
   ],
   "source": [
    "# import pandas and seaborn\n",
    "import pandas as pd\n",
    "import seaborn as sns\n",
    "\n",
    "# load the titanic data set from the seaborn library\n",
    "titanic = sns.load_dataset(\"titanic\")\n",
    "titanic.head()"
   ]
  },
  {
   "cell_type": "code",
   "execution_count": 16,
   "id": "2e2ae28e-a613-444b-8302-21157e5679fb",
   "metadata": {},
   "outputs": [
    {
     "data": {
      "text/plain": [
       "survived          int64\n",
       "pclass            int64\n",
       "sex              object\n",
       "age             float64\n",
       "sibsp             int64\n",
       "parch             int64\n",
       "fare            float64\n",
       "embarked         object\n",
       "class          category\n",
       "who              object\n",
       "adult_male         bool\n",
       "deck           category\n",
       "embark_town      object\n",
       "alive            object\n",
       "alone              bool\n",
       "dtype: object"
      ]
     },
     "execution_count": 16,
     "metadata": {},
     "output_type": "execute_result"
    }
   ],
   "source": [
    "# dtypes\n",
    "titanic.dtypes"
   ]
  },
  {
   "cell_type": "code",
   "execution_count": 17,
   "id": "ce5d18bb-4e4f-451f-a30f-9580b8ef90a1",
   "metadata": {},
   "outputs": [
    {
     "name": "stdout",
     "output_type": "stream",
     "text": [
      "<class 'pandas.core.frame.DataFrame'>\n",
      "RangeIndex: 891 entries, 0 to 890\n",
      "Data columns (total 15 columns):\n",
      " #   Column       Non-Null Count  Dtype   \n",
      "---  ------       --------------  -----   \n",
      " 0   survived     891 non-null    int64   \n",
      " 1   pclass       891 non-null    int64   \n",
      " 2   sex          891 non-null    object  \n",
      " 3   age          714 non-null    float64 \n",
      " 4   sibsp        891 non-null    int64   \n",
      " 5   parch        891 non-null    int64   \n",
      " 6   fare         891 non-null    float64 \n",
      " 7   embarked     889 non-null    object  \n",
      " 8   class        891 non-null    category\n",
      " 9   who          891 non-null    object  \n",
      " 10  adult_male   891 non-null    bool    \n",
      " 11  deck         203 non-null    category\n",
      " 12  embark_town  889 non-null    object  \n",
      " 13  alive        891 non-null    object  \n",
      " 14  alone        891 non-null    bool    \n",
      "dtypes: bool(2), category(2), float64(2), int64(4), object(5)\n",
      "memory usage: 80.7+ KB\n"
     ]
    }
   ],
   "source": [
    "# info\n",
    "titanic.info()"
   ]
  },
  {
   "cell_type": "markdown",
   "id": "c1d34779-07b3-44d6-a274-e1a064d7abf5",
   "metadata": {},
   "source": [
    "## Converting data types"
   ]
  },
  {
   "cell_type": "markdown",
   "id": "7eaf952a-0ab1-4b4f-b0e8-7c9c173528f8",
   "metadata": {},
   "source": [
    "It is possible to convert a column from one data type to another as long as the corresponding type conversion is alllowed. "
   ]
  },
  {
   "cell_type": "markdown",
   "id": "71f1fe38-7f7f-482a-b1ac-b9093823a665",
   "metadata": {},
   "source": [
    "Let's convert a numeric column to string and back using the `astype()` function."
   ]
  },
  {
   "cell_type": "code",
   "execution_count": 18,
   "id": "7ddfbe45-c873-4817-b182-414e833f92f4",
   "metadata": {},
   "outputs": [
    {
     "data": {
      "text/plain": [
       "dtype('float64')"
      ]
     },
     "execution_count": 18,
     "metadata": {},
     "output_type": "execute_result"
    }
   ],
   "source": [
    "# check the type of column age\n",
    "titanic[\"age\"].dtype"
   ]
  },
  {
   "cell_type": "code",
   "execution_count": 19,
   "id": "aab4e4fc-3454-4ab8-b8de-df7870b199d0",
   "metadata": {},
   "outputs": [
    {
     "data": {
      "text/plain": [
       "29.69911764705882"
      ]
     },
     "execution_count": 19,
     "metadata": {},
     "output_type": "execute_result"
    }
   ],
   "source": [
    "# find average age\n",
    "titanic[\"age\"].mean()"
   ]
  },
  {
   "cell_type": "code",
   "execution_count": 20,
   "id": "97ae3eab-a5b8-42e2-a0e0-2b1d12b2bd88",
   "metadata": {},
   "outputs": [],
   "source": [
    "# convert age to string type\n",
    "titanic[\"age\"] = titanic[\"age\"].astype(str)"
   ]
  },
  {
   "cell_type": "code",
   "execution_count": 21,
   "id": "4b2620af-4b9a-4f35-8b3e-54ad33497d1b",
   "metadata": {},
   "outputs": [
    {
     "ename": "TypeError",
     "evalue": "Could not convert 22.038.026.035.035.0nan54.02.027.014.04.058.020.039.014.055.02.0nan31.0nan35.034.015.028.08.038.0nan19.0nannan40.0nannan66.028.042.0nan21.018.014.040.027.0nan3.019.0nannannannan18.07.021.049.029.065.0nan21.028.55.011.022.038.045.04.0nannan29.019.017.026.032.016.021.026.032.025.0nannan0.8330.022.029.0nan28.017.033.016.0nan23.024.029.020.046.026.059.0nan71.023.034.034.028.0nan21.033.037.028.021.0nan38.0nan47.014.522.020.017.021.070.529.024.02.021.0nan32.532.554.012.0nan24.0nan45.033.020.047.029.025.023.019.037.016.024.0nan22.024.019.018.019.027.09.036.542.051.022.055.540.5nan51.016.030.0nannan44.040.026.017.01.09.0nan45.0nan28.061.04.01.021.056.018.0nan50.030.036.0nannan9.01.04.0nannan45.040.036.032.019.019.03.044.058.0nan42.0nan24.028.0nan34.045.518.02.032.026.016.040.024.035.022.030.0nan31.027.042.032.030.016.027.051.0nan38.022.019.020.518.0nan35.029.059.05.024.0nan44.08.019.033.0nannan29.022.030.044.025.024.037.054.0nan29.062.030.041.029.0nan30.035.050.0nan3.052.040.0nan36.016.025.058.035.0nan25.041.037.0nan63.045.0nan7.035.065.028.016.019.0nan33.030.022.042.022.026.019.036.024.024.0nan23.52.0nan50.0nannan19.0nannan0.92nan17.030.030.024.018.026.028.043.026.024.054.031.040.022.027.030.022.0nan36.061.036.031.016.0nan45.538.016.0nannan29.041.045.045.02.024.028.025.036.024.040.0nan3.042.023.0nan15.025.0nan28.022.038.0nannan40.029.045.035.0nan30.060.0nannan24.025.018.019.022.03.0nan22.027.020.019.042.01.032.035.0nan18.01.036.0nan17.036.021.028.023.024.022.031.046.023.028.039.026.021.028.020.034.051.03.021.0nannannan33.0nan44.0nan34.018.030.010.0nan21.029.028.018.0nan28.019.0nan32.028.0nan42.017.050.014.021.024.064.031.045.020.025.028.0nan4.013.034.05.052.036.0nan30.049.0nan29.065.0nan50.0nan48.034.047.048.0nan38.0nan56.0nan0.75nan38.033.023.022.0nan34.029.022.02.09.0nan50.063.025.0nan35.058.030.09.0nan21.055.071.021.0nan54.0nan25.024.017.021.0nan37.016.018.033.0nan28.026.029.0nan36.054.024.047.034.0nan36.032.030.022.0nan44.0nan40.550.0nan39.023.02.0nan17.0nan30.07.045.030.0nan22.036.09.011.032.050.064.019.0nan33.08.017.027.0nan22.022.062.048.0nan39.036.0nan40.028.0nannan24.019.029.0nan32.062.053.036.0nan16.019.034.039.0nan32.025.039.054.036.0nan18.047.060.022.0nan35.052.047.0nan37.036.0nan49.0nan49.024.0nannan44.035.036.030.027.022.040.039.0nannannan35.024.034.026.04.026.027.042.020.021.021.061.057.021.026.0nan80.051.032.0nan9.028.032.031.041.0nan20.024.02.0nan0.7548.019.056.0nan23.0nan18.021.0nan18.024.0nan32.023.058.050.040.047.036.020.032.025.0nan43.0nan40.031.070.031.0nan18.024.518.043.036.0nan27.020.014.060.025.014.019.018.015.031.04.0nan25.060.052.044.0nan49.042.018.035.018.025.026.039.045.042.022.0nan24.0nan48.029.052.019.038.027.0nan33.06.017.034.050.027.020.030.0nan25.025.029.011.0nan23.023.028.548.035.0nannannan36.021.024.031.070.016.030.019.031.04.06.033.023.048.00.6728.018.034.033.0nan41.020.036.016.051.0nan30.5nan32.024.048.057.0nan54.018.0nan5.0nan43.013.017.029.0nan25.025.018.08.01.046.0nan16.0nannan25.039.049.031.030.030.034.031.011.00.4227.031.039.018.039.033.026.039.035.06.030.5nan23.031.043.010.052.027.038.027.02.0nannan1.0nan62.015.00.83nan23.018.039.021.0nan32.0nan20.016.030.034.517.042.0nan35.028.0nan4.074.09.016.044.018.045.051.024.0nan41.021.048.0nan24.042.027.031.0nan4.026.047.033.047.028.015.020.019.0nan56.025.033.022.028.025.039.027.019.0nan26.032.0 to numeric",
     "output_type": "error",
     "traceback": [
      "\u001b[0;31m---------------------------------------------------------------------------\u001b[0m",
      "\u001b[0;31mValueError\u001b[0m                                Traceback (most recent call last)",
      "\u001b[0;32m/opt/tljh/user/lib/python3.7/site-packages/pandas/core/nanops.py\u001b[0m in \u001b[0;36m_ensure_numeric\u001b[0;34m(x)\u001b[0m\n\u001b[1;32m   1601\u001b[0m         \u001b[0;32mtry\u001b[0m\u001b[0;34m:\u001b[0m\u001b[0;34m\u001b[0m\u001b[0;34m\u001b[0m\u001b[0m\n\u001b[0;32m-> 1602\u001b[0;31m             \u001b[0mx\u001b[0m \u001b[0;34m=\u001b[0m \u001b[0mfloat\u001b[0m\u001b[0;34m(\u001b[0m\u001b[0mx\u001b[0m\u001b[0;34m)\u001b[0m\u001b[0;34m\u001b[0m\u001b[0;34m\u001b[0m\u001b[0m\n\u001b[0m\u001b[1;32m   1603\u001b[0m         \u001b[0;32mexcept\u001b[0m \u001b[0;34m(\u001b[0m\u001b[0mTypeError\u001b[0m\u001b[0;34m,\u001b[0m \u001b[0mValueError\u001b[0m\u001b[0;34m)\u001b[0m\u001b[0;34m:\u001b[0m\u001b[0;34m\u001b[0m\u001b[0;34m\u001b[0m\u001b[0m\n",
      "\u001b[0;31mValueError\u001b[0m: could not convert string to float: '22.038.026.035.035.0nan54.02.027.014.04.058.020.039.014.055.02.0nan31.0nan35.034.015.028.08.038.0nan19.0nannan40.0nannan66.028.042.0nan21.018.014.040.027.0nan3.019.0nannannannan18.07.021.049.029.065.0nan21.028.55.011.022.038.045.04.0nannan29.019.017.026.032.016.021.026.032.025.0nannan0.8330.022.029.0nan28.017.033.016.0nan23.024.029.020.046.026.059.0nan71.023.034.034.028.0nan21.033.037.028.021.0nan38.0nan47.014.522.020.017.021.070.529.024.02.021.0nan32.532.554.012.0nan24.0nan45.033.020.047.029.025.023.019.037.016.024.0nan22.024.019.018.019.027.09.036.542.051.022.055.540.5nan51.016.030.0nannan44.040.026.017.01.09.0nan45.0nan28.061.04.01.021.056.018.0nan50.030.036.0nannan9.01.04.0nannan45.040.036.032.019.019.03.044.058.0nan42.0nan24.028.0nan34.045.518.02.032.026.016.040.024.035.022.030.0nan31.027.042.032.030.016.027.051.0nan38.022.019.020.518.0nan35.029.059.05.024.0nan44.08.019.033.0nannan29.022.030.044.025.024.037.054.0nan29.062.030.041.029.0nan30.035.050.0nan3.052.040.0nan36.016.025.058.035.0nan25.041.037.0nan63.045.0nan7.035.065.028.016.019.0nan33.030.022.042.022.026.019.036.024.024.0nan23.52.0nan50.0nannan19.0nannan0.92nan17.030.030.024.018.026.028.043.026.024.054.031.040.022.027.030.022.0nan36.061.036.031.016.0nan45.538.016.0nannan29.041.045.045.02.024.028.025.036.024.040.0nan3.042.023.0nan15.025.0nan28.022.038.0nannan40.029.045.035.0nan30.060.0nannan24.025.018.019.022.03.0nan22.027.020.019.042.01.032.035.0nan18.01.036.0nan17.036.021.028.023.024.022.031.046.023.028.039.026.021.028.020.034.051.03.021.0nannannan33.0nan44.0nan34.018.030.010.0nan21.029.028.018.0nan28.019.0nan32.028.0nan42.017.050.014.021.024.064.031.045.020.025.028.0nan4.013.034.05.052.036.0nan30.049.0nan29.065.0nan50.0nan48.034.047.048.0nan38.0nan56.0nan0.75nan38.033.023.022.0nan34.029.022.02.09.0nan50.063.025.0nan35.058.030.09.0nan21.055.071.021.0nan54.0nan25.024.017.021.0nan37.016.018.033.0nan28.026.029.0nan36.054.024.047.034.0nan36.032.030.022.0nan44.0nan40.550.0nan39.023.02.0nan17.0nan30.07.045.030.0nan22.036.09.011.032.050.064.019.0nan33.08.017.027.0nan22.022.062.048.0nan39.036.0nan40.028.0nannan24.019.029.0nan32.062.053.036.0nan16.019.034.039.0nan32.025.039.054.036.0nan18.047.060.022.0nan35.052.047.0nan37.036.0nan49.0nan49.024.0nannan44.035.036.030.027.022.040.039.0nannannan35.024.034.026.04.026.027.042.020.021.021.061.057.021.026.0nan80.051.032.0nan9.028.032.031.041.0nan20.024.02.0nan0.7548.019.056.0nan23.0nan18.021.0nan18.024.0nan32.023.058.050.040.047.036.020.032.025.0nan43.0nan40.031.070.031.0nan18.024.518.043.036.0nan27.020.014.060.025.014.019.018.015.031.04.0nan25.060.052.044.0nan49.042.018.035.018.025.026.039.045.042.022.0nan24.0nan48.029.052.019.038.027.0nan33.06.017.034.050.027.020.030.0nan25.025.029.011.0nan23.023.028.548.035.0nannannan36.021.024.031.070.016.030.019.031.04.06.033.023.048.00.6728.018.034.033.0nan41.020.036.016.051.0nan30.5nan32.024.048.057.0nan54.018.0nan5.0nan43.013.017.029.0nan25.025.018.08.01.046.0nan16.0nannan25.039.049.031.030.030.034.031.011.00.4227.031.039.018.039.033.026.039.035.06.030.5nan23.031.043.010.052.027.038.027.02.0nannan1.0nan62.015.00.83nan23.018.039.021.0nan32.0nan20.016.030.034.517.042.0nan35.028.0nan4.074.09.016.044.018.045.051.024.0nan41.021.048.0nan24.042.027.031.0nan4.026.047.033.047.028.015.020.019.0nan56.025.033.022.028.025.039.027.019.0nan26.032.0'",
      "\nDuring handling of the above exception, another exception occurred:\n",
      "\u001b[0;31mValueError\u001b[0m                                Traceback (most recent call last)",
      "\u001b[0;32m/opt/tljh/user/lib/python3.7/site-packages/pandas/core/nanops.py\u001b[0m in \u001b[0;36m_ensure_numeric\u001b[0;34m(x)\u001b[0m\n\u001b[1;32m   1605\u001b[0m             \u001b[0;32mtry\u001b[0m\u001b[0;34m:\u001b[0m\u001b[0;34m\u001b[0m\u001b[0;34m\u001b[0m\u001b[0m\n\u001b[0;32m-> 1606\u001b[0;31m                 \u001b[0mx\u001b[0m \u001b[0;34m=\u001b[0m \u001b[0mcomplex\u001b[0m\u001b[0;34m(\u001b[0m\u001b[0mx\u001b[0m\u001b[0;34m)\u001b[0m\u001b[0;34m\u001b[0m\u001b[0;34m\u001b[0m\u001b[0m\n\u001b[0m\u001b[1;32m   1607\u001b[0m             \u001b[0;32mexcept\u001b[0m \u001b[0mValueError\u001b[0m \u001b[0;32mas\u001b[0m \u001b[0merr\u001b[0m\u001b[0;34m:\u001b[0m\u001b[0;34m\u001b[0m\u001b[0;34m\u001b[0m\u001b[0m\n",
      "\u001b[0;31mValueError\u001b[0m: complex() arg is a malformed string",
      "\nThe above exception was the direct cause of the following exception:\n",
      "\u001b[0;31mTypeError\u001b[0m                                 Traceback (most recent call last)",
      "\u001b[0;32m/tmp/ipykernel_3665249/422626383.py\u001b[0m in \u001b[0;36m<module>\u001b[0;34m\u001b[0m\n\u001b[1;32m      1\u001b[0m \u001b[0;31m# average age\u001b[0m\u001b[0;34m\u001b[0m\u001b[0;34m\u001b[0m\u001b[0;34m\u001b[0m\u001b[0m\n\u001b[0;32m----> 2\u001b[0;31m \u001b[0mtitanic\u001b[0m\u001b[0;34m[\u001b[0m\u001b[0;34m\"age\"\u001b[0m\u001b[0;34m]\u001b[0m\u001b[0;34m.\u001b[0m\u001b[0mmean\u001b[0m\u001b[0;34m(\u001b[0m\u001b[0;34m)\u001b[0m\u001b[0;34m\u001b[0m\u001b[0;34m\u001b[0m\u001b[0m\n\u001b[0m",
      "\u001b[0;32m/opt/tljh/user/lib/python3.7/site-packages/pandas/core/generic.py\u001b[0m in \u001b[0;36mmean\u001b[0;34m(self, axis, skipna, level, numeric_only, **kwargs)\u001b[0m\n\u001b[1;32m  10749\u001b[0m         )\n\u001b[1;32m  10750\u001b[0m         \u001b[0;32mdef\u001b[0m \u001b[0mmean\u001b[0m\u001b[0;34m(\u001b[0m\u001b[0mself\u001b[0m\u001b[0;34m,\u001b[0m \u001b[0maxis\u001b[0m\u001b[0;34m=\u001b[0m\u001b[0;32mNone\u001b[0m\u001b[0;34m,\u001b[0m \u001b[0mskipna\u001b[0m\u001b[0;34m=\u001b[0m\u001b[0;32mNone\u001b[0m\u001b[0;34m,\u001b[0m \u001b[0mlevel\u001b[0m\u001b[0;34m=\u001b[0m\u001b[0;32mNone\u001b[0m\u001b[0;34m,\u001b[0m \u001b[0mnumeric_only\u001b[0m\u001b[0;34m=\u001b[0m\u001b[0;32mNone\u001b[0m\u001b[0;34m,\u001b[0m \u001b[0;34m**\u001b[0m\u001b[0mkwargs\u001b[0m\u001b[0;34m)\u001b[0m\u001b[0;34m:\u001b[0m\u001b[0;34m\u001b[0m\u001b[0;34m\u001b[0m\u001b[0m\n\u001b[0;32m> 10751\u001b[0;31m             \u001b[0;32mreturn\u001b[0m \u001b[0mNDFrame\u001b[0m\u001b[0;34m.\u001b[0m\u001b[0mmean\u001b[0m\u001b[0;34m(\u001b[0m\u001b[0mself\u001b[0m\u001b[0;34m,\u001b[0m \u001b[0maxis\u001b[0m\u001b[0;34m,\u001b[0m \u001b[0mskipna\u001b[0m\u001b[0;34m,\u001b[0m \u001b[0mlevel\u001b[0m\u001b[0;34m,\u001b[0m \u001b[0mnumeric_only\u001b[0m\u001b[0;34m,\u001b[0m \u001b[0;34m**\u001b[0m\u001b[0mkwargs\u001b[0m\u001b[0;34m)\u001b[0m\u001b[0;34m\u001b[0m\u001b[0;34m\u001b[0m\u001b[0m\n\u001b[0m\u001b[1;32m  10752\u001b[0m \u001b[0;34m\u001b[0m\u001b[0m\n\u001b[1;32m  10753\u001b[0m         \u001b[0msetattr\u001b[0m\u001b[0;34m(\u001b[0m\u001b[0mcls\u001b[0m\u001b[0;34m,\u001b[0m \u001b[0;34m\"mean\"\u001b[0m\u001b[0;34m,\u001b[0m \u001b[0mmean\u001b[0m\u001b[0;34m)\u001b[0m\u001b[0;34m\u001b[0m\u001b[0;34m\u001b[0m\u001b[0m\n",
      "\u001b[0;32m/opt/tljh/user/lib/python3.7/site-packages/pandas/core/generic.py\u001b[0m in \u001b[0;36mmean\u001b[0;34m(self, axis, skipna, level, numeric_only, **kwargs)\u001b[0m\n\u001b[1;32m  10368\u001b[0m     \u001b[0;32mdef\u001b[0m \u001b[0mmean\u001b[0m\u001b[0;34m(\u001b[0m\u001b[0mself\u001b[0m\u001b[0;34m,\u001b[0m \u001b[0maxis\u001b[0m\u001b[0;34m=\u001b[0m\u001b[0;32mNone\u001b[0m\u001b[0;34m,\u001b[0m \u001b[0mskipna\u001b[0m\u001b[0;34m=\u001b[0m\u001b[0;32mNone\u001b[0m\u001b[0;34m,\u001b[0m \u001b[0mlevel\u001b[0m\u001b[0;34m=\u001b[0m\u001b[0;32mNone\u001b[0m\u001b[0;34m,\u001b[0m \u001b[0mnumeric_only\u001b[0m\u001b[0;34m=\u001b[0m\u001b[0;32mNone\u001b[0m\u001b[0;34m,\u001b[0m \u001b[0;34m**\u001b[0m\u001b[0mkwargs\u001b[0m\u001b[0;34m)\u001b[0m\u001b[0;34m:\u001b[0m\u001b[0;34m\u001b[0m\u001b[0;34m\u001b[0m\u001b[0m\n\u001b[1;32m  10369\u001b[0m         return self._stat_function(\n\u001b[0;32m> 10370\u001b[0;31m             \u001b[0;34m\"mean\"\u001b[0m\u001b[0;34m,\u001b[0m \u001b[0mnanops\u001b[0m\u001b[0;34m.\u001b[0m\u001b[0mnanmean\u001b[0m\u001b[0;34m,\u001b[0m \u001b[0maxis\u001b[0m\u001b[0;34m,\u001b[0m \u001b[0mskipna\u001b[0m\u001b[0;34m,\u001b[0m \u001b[0mlevel\u001b[0m\u001b[0;34m,\u001b[0m \u001b[0mnumeric_only\u001b[0m\u001b[0;34m,\u001b[0m \u001b[0;34m**\u001b[0m\u001b[0mkwargs\u001b[0m\u001b[0;34m\u001b[0m\u001b[0;34m\u001b[0m\u001b[0m\n\u001b[0m\u001b[1;32m  10371\u001b[0m         )\n\u001b[1;32m  10372\u001b[0m \u001b[0;34m\u001b[0m\u001b[0m\n",
      "\u001b[0;32m/opt/tljh/user/lib/python3.7/site-packages/pandas/core/generic.py\u001b[0m in \u001b[0;36m_stat_function\u001b[0;34m(self, name, func, axis, skipna, level, numeric_only, **kwargs)\u001b[0m\n\u001b[1;32m  10353\u001b[0m             )\n\u001b[1;32m  10354\u001b[0m         return self._reduce(\n\u001b[0;32m> 10355\u001b[0;31m             \u001b[0mfunc\u001b[0m\u001b[0;34m,\u001b[0m \u001b[0mname\u001b[0m\u001b[0;34m=\u001b[0m\u001b[0mname\u001b[0m\u001b[0;34m,\u001b[0m \u001b[0maxis\u001b[0m\u001b[0;34m=\u001b[0m\u001b[0maxis\u001b[0m\u001b[0;34m,\u001b[0m \u001b[0mskipna\u001b[0m\u001b[0;34m=\u001b[0m\u001b[0mskipna\u001b[0m\u001b[0;34m,\u001b[0m \u001b[0mnumeric_only\u001b[0m\u001b[0;34m=\u001b[0m\u001b[0mnumeric_only\u001b[0m\u001b[0;34m\u001b[0m\u001b[0;34m\u001b[0m\u001b[0m\n\u001b[0m\u001b[1;32m  10356\u001b[0m         )\n\u001b[1;32m  10357\u001b[0m \u001b[0;34m\u001b[0m\u001b[0m\n",
      "\u001b[0;32m/opt/tljh/user/lib/python3.7/site-packages/pandas/core/series.py\u001b[0m in \u001b[0;36m_reduce\u001b[0;34m(self, op, name, axis, skipna, numeric_only, filter_type, **kwds)\u001b[0m\n\u001b[1;32m   4390\u001b[0m                 )\n\u001b[1;32m   4391\u001b[0m             \u001b[0;32mwith\u001b[0m \u001b[0mnp\u001b[0m\u001b[0;34m.\u001b[0m\u001b[0merrstate\u001b[0m\u001b[0;34m(\u001b[0m\u001b[0mall\u001b[0m\u001b[0;34m=\u001b[0m\u001b[0;34m\"ignore\"\u001b[0m\u001b[0;34m)\u001b[0m\u001b[0;34m:\u001b[0m\u001b[0;34m\u001b[0m\u001b[0;34m\u001b[0m\u001b[0m\n\u001b[0;32m-> 4392\u001b[0;31m                 \u001b[0;32mreturn\u001b[0m \u001b[0mop\u001b[0m\u001b[0;34m(\u001b[0m\u001b[0mdelegate\u001b[0m\u001b[0;34m,\u001b[0m \u001b[0mskipna\u001b[0m\u001b[0;34m=\u001b[0m\u001b[0mskipna\u001b[0m\u001b[0;34m,\u001b[0m \u001b[0;34m**\u001b[0m\u001b[0mkwds\u001b[0m\u001b[0;34m)\u001b[0m\u001b[0;34m\u001b[0m\u001b[0;34m\u001b[0m\u001b[0m\n\u001b[0m\u001b[1;32m   4393\u001b[0m \u001b[0;34m\u001b[0m\u001b[0m\n\u001b[1;32m   4394\u001b[0m     def _reindex_indexer(\n",
      "\u001b[0;32m/opt/tljh/user/lib/python3.7/site-packages/pandas/core/nanops.py\u001b[0m in \u001b[0;36m_f\u001b[0;34m(*args, **kwargs)\u001b[0m\n\u001b[1;32m     91\u001b[0m             \u001b[0;32mtry\u001b[0m\u001b[0;34m:\u001b[0m\u001b[0;34m\u001b[0m\u001b[0;34m\u001b[0m\u001b[0m\n\u001b[1;32m     92\u001b[0m                 \u001b[0;32mwith\u001b[0m \u001b[0mnp\u001b[0m\u001b[0;34m.\u001b[0m\u001b[0merrstate\u001b[0m\u001b[0;34m(\u001b[0m\u001b[0minvalid\u001b[0m\u001b[0;34m=\u001b[0m\u001b[0;34m\"ignore\"\u001b[0m\u001b[0;34m)\u001b[0m\u001b[0;34m:\u001b[0m\u001b[0;34m\u001b[0m\u001b[0;34m\u001b[0m\u001b[0m\n\u001b[0;32m---> 93\u001b[0;31m                     \u001b[0;32mreturn\u001b[0m \u001b[0mf\u001b[0m\u001b[0;34m(\u001b[0m\u001b[0;34m*\u001b[0m\u001b[0margs\u001b[0m\u001b[0;34m,\u001b[0m \u001b[0;34m**\u001b[0m\u001b[0mkwargs\u001b[0m\u001b[0;34m)\u001b[0m\u001b[0;34m\u001b[0m\u001b[0;34m\u001b[0m\u001b[0m\n\u001b[0m\u001b[1;32m     94\u001b[0m             \u001b[0;32mexcept\u001b[0m \u001b[0mValueError\u001b[0m \u001b[0;32mas\u001b[0m \u001b[0me\u001b[0m\u001b[0;34m:\u001b[0m\u001b[0;34m\u001b[0m\u001b[0;34m\u001b[0m\u001b[0m\n\u001b[1;32m     95\u001b[0m                 \u001b[0;31m# we want to transform an object array\u001b[0m\u001b[0;34m\u001b[0m\u001b[0;34m\u001b[0m\u001b[0;34m\u001b[0m\u001b[0m\n",
      "\u001b[0;32m/opt/tljh/user/lib/python3.7/site-packages/pandas/core/nanops.py\u001b[0m in \u001b[0;36mf\u001b[0;34m(values, axis, skipna, **kwds)\u001b[0m\n\u001b[1;32m    153\u001b[0m                     \u001b[0mresult\u001b[0m \u001b[0;34m=\u001b[0m \u001b[0malt\u001b[0m\u001b[0;34m(\u001b[0m\u001b[0mvalues\u001b[0m\u001b[0;34m,\u001b[0m \u001b[0maxis\u001b[0m\u001b[0;34m=\u001b[0m\u001b[0maxis\u001b[0m\u001b[0;34m,\u001b[0m \u001b[0mskipna\u001b[0m\u001b[0;34m=\u001b[0m\u001b[0mskipna\u001b[0m\u001b[0;34m,\u001b[0m \u001b[0;34m**\u001b[0m\u001b[0mkwds\u001b[0m\u001b[0;34m)\u001b[0m\u001b[0;34m\u001b[0m\u001b[0;34m\u001b[0m\u001b[0m\n\u001b[1;32m    154\u001b[0m             \u001b[0;32melse\u001b[0m\u001b[0;34m:\u001b[0m\u001b[0;34m\u001b[0m\u001b[0;34m\u001b[0m\u001b[0m\n\u001b[0;32m--> 155\u001b[0;31m                 \u001b[0mresult\u001b[0m \u001b[0;34m=\u001b[0m \u001b[0malt\u001b[0m\u001b[0;34m(\u001b[0m\u001b[0mvalues\u001b[0m\u001b[0;34m,\u001b[0m \u001b[0maxis\u001b[0m\u001b[0;34m=\u001b[0m\u001b[0maxis\u001b[0m\u001b[0;34m,\u001b[0m \u001b[0mskipna\u001b[0m\u001b[0;34m=\u001b[0m\u001b[0mskipna\u001b[0m\u001b[0;34m,\u001b[0m \u001b[0;34m**\u001b[0m\u001b[0mkwds\u001b[0m\u001b[0;34m)\u001b[0m\u001b[0;34m\u001b[0m\u001b[0;34m\u001b[0m\u001b[0m\n\u001b[0m\u001b[1;32m    156\u001b[0m \u001b[0;34m\u001b[0m\u001b[0m\n\u001b[1;32m    157\u001b[0m             \u001b[0;32mreturn\u001b[0m \u001b[0mresult\u001b[0m\u001b[0;34m\u001b[0m\u001b[0;34m\u001b[0m\u001b[0m\n",
      "\u001b[0;32m/opt/tljh/user/lib/python3.7/site-packages/pandas/core/nanops.py\u001b[0m in \u001b[0;36mnew_func\u001b[0;34m(values, axis, skipna, mask, **kwargs)\u001b[0m\n\u001b[1;32m    408\u001b[0m             \u001b[0mmask\u001b[0m \u001b[0;34m=\u001b[0m \u001b[0misna\u001b[0m\u001b[0;34m(\u001b[0m\u001b[0mvalues\u001b[0m\u001b[0;34m)\u001b[0m\u001b[0;34m\u001b[0m\u001b[0;34m\u001b[0m\u001b[0m\n\u001b[1;32m    409\u001b[0m \u001b[0;34m\u001b[0m\u001b[0m\n\u001b[0;32m--> 410\u001b[0;31m         \u001b[0mresult\u001b[0m \u001b[0;34m=\u001b[0m \u001b[0mfunc\u001b[0m\u001b[0;34m(\u001b[0m\u001b[0mvalues\u001b[0m\u001b[0;34m,\u001b[0m \u001b[0maxis\u001b[0m\u001b[0;34m=\u001b[0m\u001b[0maxis\u001b[0m\u001b[0;34m,\u001b[0m \u001b[0mskipna\u001b[0m\u001b[0;34m=\u001b[0m\u001b[0mskipna\u001b[0m\u001b[0;34m,\u001b[0m \u001b[0mmask\u001b[0m\u001b[0;34m=\u001b[0m\u001b[0mmask\u001b[0m\u001b[0;34m,\u001b[0m \u001b[0;34m**\u001b[0m\u001b[0mkwargs\u001b[0m\u001b[0;34m)\u001b[0m\u001b[0;34m\u001b[0m\u001b[0;34m\u001b[0m\u001b[0m\n\u001b[0m\u001b[1;32m    411\u001b[0m \u001b[0;34m\u001b[0m\u001b[0m\n\u001b[1;32m    412\u001b[0m         \u001b[0;32mif\u001b[0m \u001b[0mdatetimelike\u001b[0m\u001b[0;34m:\u001b[0m\u001b[0;34m\u001b[0m\u001b[0;34m\u001b[0m\u001b[0m\n",
      "\u001b[0;32m/opt/tljh/user/lib/python3.7/site-packages/pandas/core/nanops.py\u001b[0m in \u001b[0;36mnanmean\u001b[0;34m(values, axis, skipna, mask)\u001b[0m\n\u001b[1;32m    663\u001b[0m \u001b[0;34m\u001b[0m\u001b[0m\n\u001b[1;32m    664\u001b[0m     \u001b[0mcount\u001b[0m \u001b[0;34m=\u001b[0m \u001b[0m_get_counts\u001b[0m\u001b[0;34m(\u001b[0m\u001b[0mvalues\u001b[0m\u001b[0;34m.\u001b[0m\u001b[0mshape\u001b[0m\u001b[0;34m,\u001b[0m \u001b[0mmask\u001b[0m\u001b[0;34m,\u001b[0m \u001b[0maxis\u001b[0m\u001b[0;34m,\u001b[0m \u001b[0mdtype\u001b[0m\u001b[0;34m=\u001b[0m\u001b[0mdtype_count\u001b[0m\u001b[0;34m)\u001b[0m\u001b[0;34m\u001b[0m\u001b[0;34m\u001b[0m\u001b[0m\n\u001b[0;32m--> 665\u001b[0;31m     \u001b[0mthe_sum\u001b[0m \u001b[0;34m=\u001b[0m \u001b[0m_ensure_numeric\u001b[0m\u001b[0;34m(\u001b[0m\u001b[0mvalues\u001b[0m\u001b[0;34m.\u001b[0m\u001b[0msum\u001b[0m\u001b[0;34m(\u001b[0m\u001b[0maxis\u001b[0m\u001b[0;34m,\u001b[0m \u001b[0mdtype\u001b[0m\u001b[0;34m=\u001b[0m\u001b[0mdtype_sum\u001b[0m\u001b[0;34m)\u001b[0m\u001b[0;34m)\u001b[0m\u001b[0;34m\u001b[0m\u001b[0;34m\u001b[0m\u001b[0m\n\u001b[0m\u001b[1;32m    666\u001b[0m \u001b[0;34m\u001b[0m\u001b[0m\n\u001b[1;32m    667\u001b[0m     \u001b[0;32mif\u001b[0m \u001b[0maxis\u001b[0m \u001b[0;32mis\u001b[0m \u001b[0;32mnot\u001b[0m \u001b[0;32mNone\u001b[0m \u001b[0;32mand\u001b[0m \u001b[0mgetattr\u001b[0m\u001b[0;34m(\u001b[0m\u001b[0mthe_sum\u001b[0m\u001b[0;34m,\u001b[0m \u001b[0;34m\"ndim\"\u001b[0m\u001b[0;34m,\u001b[0m \u001b[0;32mFalse\u001b[0m\u001b[0;34m)\u001b[0m\u001b[0;34m:\u001b[0m\u001b[0;34m\u001b[0m\u001b[0;34m\u001b[0m\u001b[0m\n",
      "\u001b[0;32m/opt/tljh/user/lib/python3.7/site-packages/pandas/core/nanops.py\u001b[0m in \u001b[0;36m_ensure_numeric\u001b[0;34m(x)\u001b[0m\n\u001b[1;32m   1607\u001b[0m             \u001b[0;32mexcept\u001b[0m \u001b[0mValueError\u001b[0m \u001b[0;32mas\u001b[0m \u001b[0merr\u001b[0m\u001b[0;34m:\u001b[0m\u001b[0;34m\u001b[0m\u001b[0;34m\u001b[0m\u001b[0m\n\u001b[1;32m   1608\u001b[0m                 \u001b[0;31m# e.g. \"foo\"\u001b[0m\u001b[0;34m\u001b[0m\u001b[0;34m\u001b[0m\u001b[0;34m\u001b[0m\u001b[0m\n\u001b[0;32m-> 1609\u001b[0;31m                 \u001b[0;32mraise\u001b[0m \u001b[0mTypeError\u001b[0m\u001b[0;34m(\u001b[0m\u001b[0;34mf\"Could not convert {x} to numeric\"\u001b[0m\u001b[0;34m)\u001b[0m \u001b[0;32mfrom\u001b[0m \u001b[0merr\u001b[0m\u001b[0;34m\u001b[0m\u001b[0;34m\u001b[0m\u001b[0m\n\u001b[0m\u001b[1;32m   1610\u001b[0m     \u001b[0;32mreturn\u001b[0m \u001b[0mx\u001b[0m\u001b[0;34m\u001b[0m\u001b[0;34m\u001b[0m\u001b[0m\n\u001b[1;32m   1611\u001b[0m \u001b[0;34m\u001b[0m\u001b[0m\n",
      "\u001b[0;31mTypeError\u001b[0m: Could not convert 22.038.026.035.035.0nan54.02.027.014.04.058.020.039.014.055.02.0nan31.0nan35.034.015.028.08.038.0nan19.0nannan40.0nannan66.028.042.0nan21.018.014.040.027.0nan3.019.0nannannannan18.07.021.049.029.065.0nan21.028.55.011.022.038.045.04.0nannan29.019.017.026.032.016.021.026.032.025.0nannan0.8330.022.029.0nan28.017.033.016.0nan23.024.029.020.046.026.059.0nan71.023.034.034.028.0nan21.033.037.028.021.0nan38.0nan47.014.522.020.017.021.070.529.024.02.021.0nan32.532.554.012.0nan24.0nan45.033.020.047.029.025.023.019.037.016.024.0nan22.024.019.018.019.027.09.036.542.051.022.055.540.5nan51.016.030.0nannan44.040.026.017.01.09.0nan45.0nan28.061.04.01.021.056.018.0nan50.030.036.0nannan9.01.04.0nannan45.040.036.032.019.019.03.044.058.0nan42.0nan24.028.0nan34.045.518.02.032.026.016.040.024.035.022.030.0nan31.027.042.032.030.016.027.051.0nan38.022.019.020.518.0nan35.029.059.05.024.0nan44.08.019.033.0nannan29.022.030.044.025.024.037.054.0nan29.062.030.041.029.0nan30.035.050.0nan3.052.040.0nan36.016.025.058.035.0nan25.041.037.0nan63.045.0nan7.035.065.028.016.019.0nan33.030.022.042.022.026.019.036.024.024.0nan23.52.0nan50.0nannan19.0nannan0.92nan17.030.030.024.018.026.028.043.026.024.054.031.040.022.027.030.022.0nan36.061.036.031.016.0nan45.538.016.0nannan29.041.045.045.02.024.028.025.036.024.040.0nan3.042.023.0nan15.025.0nan28.022.038.0nannan40.029.045.035.0nan30.060.0nannan24.025.018.019.022.03.0nan22.027.020.019.042.01.032.035.0nan18.01.036.0nan17.036.021.028.023.024.022.031.046.023.028.039.026.021.028.020.034.051.03.021.0nannannan33.0nan44.0nan34.018.030.010.0nan21.029.028.018.0nan28.019.0nan32.028.0nan42.017.050.014.021.024.064.031.045.020.025.028.0nan4.013.034.05.052.036.0nan30.049.0nan29.065.0nan50.0nan48.034.047.048.0nan38.0nan56.0nan0.75nan38.033.023.022.0nan34.029.022.02.09.0nan50.063.025.0nan35.058.030.09.0nan21.055.071.021.0nan54.0nan25.024.017.021.0nan37.016.018.033.0nan28.026.029.0nan36.054.024.047.034.0nan36.032.030.022.0nan44.0nan40.550.0nan39.023.02.0nan17.0nan30.07.045.030.0nan22.036.09.011.032.050.064.019.0nan33.08.017.027.0nan22.022.062.048.0nan39.036.0nan40.028.0nannan24.019.029.0nan32.062.053.036.0nan16.019.034.039.0nan32.025.039.054.036.0nan18.047.060.022.0nan35.052.047.0nan37.036.0nan49.0nan49.024.0nannan44.035.036.030.027.022.040.039.0nannannan35.024.034.026.04.026.027.042.020.021.021.061.057.021.026.0nan80.051.032.0nan9.028.032.031.041.0nan20.024.02.0nan0.7548.019.056.0nan23.0nan18.021.0nan18.024.0nan32.023.058.050.040.047.036.020.032.025.0nan43.0nan40.031.070.031.0nan18.024.518.043.036.0nan27.020.014.060.025.014.019.018.015.031.04.0nan25.060.052.044.0nan49.042.018.035.018.025.026.039.045.042.022.0nan24.0nan48.029.052.019.038.027.0nan33.06.017.034.050.027.020.030.0nan25.025.029.011.0nan23.023.028.548.035.0nannannan36.021.024.031.070.016.030.019.031.04.06.033.023.048.00.6728.018.034.033.0nan41.020.036.016.051.0nan30.5nan32.024.048.057.0nan54.018.0nan5.0nan43.013.017.029.0nan25.025.018.08.01.046.0nan16.0nannan25.039.049.031.030.030.034.031.011.00.4227.031.039.018.039.033.026.039.035.06.030.5nan23.031.043.010.052.027.038.027.02.0nannan1.0nan62.015.00.83nan23.018.039.021.0nan32.0nan20.016.030.034.517.042.0nan35.028.0nan4.074.09.016.044.018.045.051.024.0nan41.021.048.0nan24.042.027.031.0nan4.026.047.033.047.028.015.020.019.0nan56.025.033.022.028.025.039.027.019.0nan26.032.0 to numeric"
     ]
    }
   ],
   "source": [
    "# average age\n",
    "titanic[\"age\"].mean()"
   ]
  },
  {
   "cell_type": "code",
   "execution_count": 22,
   "id": "f296574c-629a-49d0-88dd-6c178297385e",
   "metadata": {},
   "outputs": [
    {
     "data": {
      "text/plain": [
       "dtype('float64')"
      ]
     },
     "execution_count": 22,
     "metadata": {},
     "output_type": "execute_result"
    }
   ],
   "source": [
    "# convert age back to float\n",
    "titanic[\"age\"] = titanic[\"age\"].astype(float)\n",
    "titanic[\"age\"].dtype"
   ]
  },
  {
   "cell_type": "code",
   "execution_count": 23,
   "id": "dae23e63-d7e7-4c7a-95ef-b28dc5d11e26",
   "metadata": {},
   "outputs": [
    {
     "data": {
      "text/plain": [
       "29.69911764705882"
      ]
     },
     "execution_count": 23,
     "metadata": {},
     "output_type": "execute_result"
    }
   ],
   "source": [
    "# average age\n",
    "titanic[\"age\"].mean()"
   ]
  },
  {
   "cell_type": "markdown",
   "id": "eee646d2-a97d-454c-82ed-60a7d2c86bf5",
   "metadata": {},
   "source": [
    "Now, let's use the `to_numeric()` function for type conversion."
   ]
  },
  {
   "cell_type": "code",
   "execution_count": 24,
   "id": "422aa868-b2a0-481a-ab76-ac83982780aa",
   "metadata": {},
   "outputs": [],
   "source": [
    "# convert age to string\n",
    "titanic[\"age\"] = titanic[\"age\"].astype(str)"
   ]
  },
  {
   "cell_type": "code",
   "execution_count": 25,
   "id": "934d34a4-175a-4046-b3b0-4ea02fb66db9",
   "metadata": {},
   "outputs": [
    {
     "ename": "ValueError",
     "evalue": "Unable to parse string \"nan\" at position 5",
     "output_type": "error",
     "traceback": [
      "\u001b[0;31m---------------------------------------------------------------------------\u001b[0m",
      "\u001b[0;31mValueError\u001b[0m                                Traceback (most recent call last)",
      "\u001b[0;32m/opt/tljh/user/lib/python3.7/site-packages/pandas/_libs/lib.pyx\u001b[0m in \u001b[0;36mpandas._libs.lib.maybe_convert_numeric\u001b[0;34m()\u001b[0m\n",
      "\u001b[0;31mValueError\u001b[0m: Unable to parse string \"nan\"",
      "\nDuring handling of the above exception, another exception occurred:\n",
      "\u001b[0;31mValueError\u001b[0m                                Traceback (most recent call last)",
      "\u001b[0;32m/tmp/ipykernel_3665249/1061482157.py\u001b[0m in \u001b[0;36m<module>\u001b[0;34m\u001b[0m\n\u001b[1;32m      1\u001b[0m \u001b[0;31m# use to_numeric to convert back to float\u001b[0m\u001b[0;34m\u001b[0m\u001b[0;34m\u001b[0m\u001b[0;34m\u001b[0m\u001b[0m\n\u001b[0;32m----> 2\u001b[0;31m \u001b[0mtitanic\u001b[0m\u001b[0;34m[\u001b[0m\u001b[0;34m\"age\"\u001b[0m\u001b[0;34m]\u001b[0m \u001b[0;34m=\u001b[0m \u001b[0mpd\u001b[0m\u001b[0;34m.\u001b[0m\u001b[0mto_numeric\u001b[0m\u001b[0;34m(\u001b[0m\u001b[0mtitanic\u001b[0m\u001b[0;34m[\u001b[0m\u001b[0;34m\"age\"\u001b[0m\u001b[0;34m]\u001b[0m\u001b[0;34m)\u001b[0m\u001b[0;34m\u001b[0m\u001b[0;34m\u001b[0m\u001b[0m\n\u001b[0m\u001b[1;32m      3\u001b[0m \u001b[0mtitanic\u001b[0m\u001b[0;34m[\u001b[0m\u001b[0;34m\"age\"\u001b[0m\u001b[0;34m]\u001b[0m\u001b[0;34m.\u001b[0m\u001b[0mdtype\u001b[0m\u001b[0;34m\u001b[0m\u001b[0;34m\u001b[0m\u001b[0m\n",
      "\u001b[0;32m/opt/tljh/user/lib/python3.7/site-packages/pandas/core/tools/numeric.py\u001b[0m in \u001b[0;36mto_numeric\u001b[0;34m(arg, errors, downcast)\u001b[0m\n\u001b[1;32m    182\u001b[0m         \u001b[0;32mtry\u001b[0m\u001b[0;34m:\u001b[0m\u001b[0;34m\u001b[0m\u001b[0;34m\u001b[0m\u001b[0m\n\u001b[1;32m    183\u001b[0m             values, _ = lib.maybe_convert_numeric(\n\u001b[0;32m--> 184\u001b[0;31m                 \u001b[0mvalues\u001b[0m\u001b[0;34m,\u001b[0m \u001b[0mset\u001b[0m\u001b[0;34m(\u001b[0m\u001b[0;34m)\u001b[0m\u001b[0;34m,\u001b[0m \u001b[0mcoerce_numeric\u001b[0m\u001b[0;34m=\u001b[0m\u001b[0mcoerce_numeric\u001b[0m\u001b[0;34m\u001b[0m\u001b[0;34m\u001b[0m\u001b[0m\n\u001b[0m\u001b[1;32m    185\u001b[0m             )\n\u001b[1;32m    186\u001b[0m         \u001b[0;32mexcept\u001b[0m \u001b[0;34m(\u001b[0m\u001b[0mValueError\u001b[0m\u001b[0;34m,\u001b[0m \u001b[0mTypeError\u001b[0m\u001b[0;34m)\u001b[0m\u001b[0;34m:\u001b[0m\u001b[0;34m\u001b[0m\u001b[0;34m\u001b[0m\u001b[0m\n",
      "\u001b[0;32m/opt/tljh/user/lib/python3.7/site-packages/pandas/_libs/lib.pyx\u001b[0m in \u001b[0;36mpandas._libs.lib.maybe_convert_numeric\u001b[0;34m()\u001b[0m\n",
      "\u001b[0;31mValueError\u001b[0m: Unable to parse string \"nan\" at position 5"
     ]
    }
   ],
   "source": [
    "# use to_numeric to convert back to float\n",
    "titanic[\"age\"] = pd.to_numeric(titanic[\"age\"])\n",
    "titanic[\"age\"].dtype"
   ]
  },
  {
   "cell_type": "markdown",
   "id": "c46bc822-27df-4ec1-b7a4-e26192f6f6b6",
   "metadata": {},
   "source": [
    "When the `astype()` and `to_numeric()` functions are unable to parse a string into the desired data type, they throw an error. The `to_numeric()` function as an `errors` parameter that specifies the conversion behavior in that case. You can set the value of `errors` to `raise` (raises an error as above), `coerce` (coerces values to NaN) or `ignore` (does not perform type conversion). "
   ]
  },
  {
   "cell_type": "code",
   "execution_count": 26,
   "id": "a022b6c7-e8a1-45bf-8765-46cd8e66d3db",
   "metadata": {},
   "outputs": [
    {
     "data": {
      "text/plain": [
       "dtype('float64')"
      ]
     },
     "execution_count": 26,
     "metadata": {},
     "output_type": "execute_result"
    }
   ],
   "source": [
    "# convert age to float using coersion to NaN\n",
    "titanic[\"age\"] = pd.to_numeric(titanic[\"age\"], errors = 'coerce')\n",
    "titanic[\"age\"].dtype"
   ]
  },
  {
   "cell_type": "code",
   "execution_count": 27,
   "id": "1f9b2079-ecd1-4fcc-96f7-1c8c6edbe8a2",
   "metadata": {},
   "outputs": [
    {
     "data": {
      "text/plain": [
       "0      22.0\n",
       "1      38.0\n",
       "2      26.0\n",
       "3      35.0\n",
       "4      35.0\n",
       "       ... \n",
       "886    27.0\n",
       "887    19.0\n",
       "888     NaN\n",
       "889    26.0\n",
       "890    32.0\n",
       "Name: age, Length: 891, dtype: float64"
      ]
     },
     "execution_count": 27,
     "metadata": {},
     "output_type": "execute_result"
    }
   ],
   "source": [
    "# display age values \n",
    "titanic[\"age\"]"
   ]
  },
  {
   "cell_type": "markdown",
   "id": "646ffe44-01b9-4a7d-9fe6-93dac5aeb69f",
   "metadata": {},
   "source": [
    "## The Datetime data type"
   ]
  },
  {
   "cell_type": "markdown",
   "id": "43361af7-7ecd-4c9b-9e45-0a6e3c1a7eb1",
   "metadata": {},
   "source": [
    "The built-in datetime library in python provides useful functionality for working with datetime values through the datetime object."
   ]
  },
  {
   "cell_type": "code",
   "execution_count": 28,
   "id": "5cb04eac-4de0-445f-bc95-ec1a6968a1bc",
   "metadata": {},
   "outputs": [],
   "source": [
    "# import object from library\n",
    "from datetime import datetime"
   ]
  },
  {
   "cell_type": "code",
   "execution_count": 29,
   "id": "bdd37420-9028-4028-b69f-3d4007dc8a57",
   "metadata": {},
   "outputs": [
    {
     "data": {
      "text/plain": [
       "datetime.datetime(2023, 11, 6, 9, 54, 39, 655734)"
      ]
     },
     "execution_count": 29,
     "metadata": {},
     "output_type": "execute_result"
    }
   ],
   "source": [
    "# current date time\n",
    "my_date_time = datetime.now()\n",
    "my_date_time"
   ]
  },
  {
   "cell_type": "code",
   "execution_count": 30,
   "id": "d322eaac-8132-470b-bc03-0c09a8fbc7f9",
   "metadata": {},
   "outputs": [
    {
     "data": {
      "text/plain": [
       "'2023-11-06 09:54:39.655734'"
      ]
     },
     "execution_count": 30,
     "metadata": {},
     "output_type": "execute_result"
    }
   ],
   "source": [
    "# as string\n",
    "str(my_date_time)"
   ]
  },
  {
   "cell_type": "code",
   "execution_count": 31,
   "id": "5f564d6a-e583-4811-8c7f-4147c5efbe61",
   "metadata": {},
   "outputs": [
    {
     "data": {
      "text/plain": [
       "'2023-11-06'"
      ]
     },
     "execution_count": 31,
     "metadata": {},
     "output_type": "execute_result"
    }
   ],
   "source": [
    "my_date_time.strftime(\"%Y-%m-%d\")"
   ]
  },
  {
   "cell_type": "code",
   "execution_count": 32,
   "id": "2bb499cc-dd9d-4cff-96f5-62574dd88325",
   "metadata": {},
   "outputs": [
    {
     "data": {
      "text/html": [
       "<div>\n",
       "<style scoped>\n",
       "    .dataframe tbody tr th:only-of-type {\n",
       "        vertical-align: middle;\n",
       "    }\n",
       "\n",
       "    .dataframe tbody tr th {\n",
       "        vertical-align: top;\n",
       "    }\n",
       "\n",
       "    .dataframe thead th {\n",
       "        text-align: right;\n",
       "    }\n",
       "</style>\n",
       "<table border=\"1\" class=\"dataframe\">\n",
       "  <thead>\n",
       "    <tr style=\"text-align: right;\">\n",
       "      <th></th>\n",
       "      <th>ID</th>\n",
       "      <th>Name</th>\n",
       "      <th>Email</th>\n",
       "    </tr>\n",
       "  </thead>\n",
       "  <tbody>\n",
       "    <tr>\n",
       "      <th>0</th>\n",
       "      <td>9000</td>\n",
       "      <td>Amir</td>\n",
       "      <td>A1@psu.edu</td>\n",
       "    </tr>\n",
       "    <tr>\n",
       "      <th>1</th>\n",
       "      <td>9001</td>\n",
       "      <td>Biko</td>\n",
       "      <td>b10@psu.edu</td>\n",
       "    </tr>\n",
       "    <tr>\n",
       "      <th>2</th>\n",
       "      <td>9002</td>\n",
       "      <td>Chen</td>\n",
       "      <td>C2@psu.edu</td>\n",
       "    </tr>\n",
       "    <tr>\n",
       "      <th>3</th>\n",
       "      <td>9003</td>\n",
       "      <td>Darren</td>\n",
       "      <td>d@psu.edu</td>\n",
       "    </tr>\n",
       "    <tr>\n",
       "      <th>4</th>\n",
       "      <td>9004</td>\n",
       "      <td>Elena</td>\n",
       "      <td>e@psu.edu</td>\n",
       "    </tr>\n",
       "  </tbody>\n",
       "</table>\n",
       "</div>"
      ],
      "text/plain": [
       "     ID    Name        Email\n",
       "0  9000    Amir   A1@psu.edu\n",
       "1  9001    Biko  b10@psu.edu\n",
       "2  9002    Chen   C2@psu.edu\n",
       "3  9003  Darren    d@psu.edu\n",
       "4  9004   Elena    e@psu.edu"
      ]
     },
     "execution_count": 32,
     "metadata": {},
     "output_type": "execute_result"
    }
   ],
   "source": [
    "# create student DataFrame\n",
    "students = pd.DataFrame(\n",
    "    [\n",
    "        [9000, 'Amir', 'A1@psu.edu'],\n",
    "        [9001, 'Biko', 'b10@psu.edu'],\n",
    "        [9002, 'Chen', 'C2@psu.edu'],\n",
    "        [9003, 'Darren', 'd@psu.edu'],\n",
    "        [9004, 'Elena', 'e@psu.edu'],\n",
    "    ], \n",
    "    columns = ['ID','Name','Email']\n",
    ")\n",
    "\n",
    "students"
   ]
  },
  {
   "cell_type": "code",
   "execution_count": 33,
   "id": "179c0cbe-b952-4b0b-911b-19dfb4f0fa2d",
   "metadata": {},
   "outputs": [
    {
     "data": {
      "text/html": [
       "<div>\n",
       "<style scoped>\n",
       "    .dataframe tbody tr th:only-of-type {\n",
       "        vertical-align: middle;\n",
       "    }\n",
       "\n",
       "    .dataframe tbody tr th {\n",
       "        vertical-align: top;\n",
       "    }\n",
       "\n",
       "    .dataframe thead th {\n",
       "        text-align: right;\n",
       "    }\n",
       "</style>\n",
       "<table border=\"1\" class=\"dataframe\">\n",
       "  <thead>\n",
       "    <tr style=\"text-align: right;\">\n",
       "      <th></th>\n",
       "      <th>ID</th>\n",
       "      <th>Name</th>\n",
       "      <th>Email</th>\n",
       "      <th>RecordCreated</th>\n",
       "    </tr>\n",
       "  </thead>\n",
       "  <tbody>\n",
       "    <tr>\n",
       "      <th>0</th>\n",
       "      <td>9000</td>\n",
       "      <td>Amir</td>\n",
       "      <td>A1@psu.edu</td>\n",
       "      <td>2022-10-20</td>\n",
       "    </tr>\n",
       "    <tr>\n",
       "      <th>1</th>\n",
       "      <td>9001</td>\n",
       "      <td>Biko</td>\n",
       "      <td>b10@psu.edu</td>\n",
       "      <td>2022-10-20</td>\n",
       "    </tr>\n",
       "    <tr>\n",
       "      <th>2</th>\n",
       "      <td>9002</td>\n",
       "      <td>Chen</td>\n",
       "      <td>C2@psu.edu</td>\n",
       "      <td>2022-10-20</td>\n",
       "    </tr>\n",
       "    <tr>\n",
       "      <th>3</th>\n",
       "      <td>9003</td>\n",
       "      <td>Darren</td>\n",
       "      <td>d@psu.edu</td>\n",
       "      <td>2022-10-20</td>\n",
       "    </tr>\n",
       "    <tr>\n",
       "      <th>4</th>\n",
       "      <td>9004</td>\n",
       "      <td>Elena</td>\n",
       "      <td>e@psu.edu</td>\n",
       "      <td>2022-10-20</td>\n",
       "    </tr>\n",
       "  </tbody>\n",
       "</table>\n",
       "</div>"
      ],
      "text/plain": [
       "     ID    Name        Email RecordCreated\n",
       "0  9000    Amir   A1@psu.edu    2022-10-20\n",
       "1  9001    Biko  b10@psu.edu    2022-10-20\n",
       "2  9002    Chen   C2@psu.edu    2022-10-20\n",
       "3  9003  Darren    d@psu.edu    2022-10-20\n",
       "4  9004   Elena    e@psu.edu    2022-10-20"
      ]
     },
     "execution_count": 33,
     "metadata": {},
     "output_type": "execute_result"
    }
   ],
   "source": [
    "# add a record created column with value 10-20-2022\n",
    "students[\"RecordCreated\"] = datetime(day = 20, month = 10, year = 2022)\n",
    "students"
   ]
  },
  {
   "cell_type": "code",
   "execution_count": 34,
   "id": "411ce891-1ef2-430a-9d87-0e4f03dc95ff",
   "metadata": {},
   "outputs": [
    {
     "data": {
      "text/plain": [
       "dtype('<M8[ns]')"
      ]
     },
     "execution_count": 34,
     "metadata": {},
     "output_type": "execute_result"
    }
   ],
   "source": [
    "# check data type\n",
    "students[\"RecordCreated\"].dtype"
   ]
  },
  {
   "cell_type": "code",
   "execution_count": 35,
   "id": "790c85d1-9db1-40c4-9205-5f0103a846c5",
   "metadata": {},
   "outputs": [],
   "source": [
    "# delete column\n",
    "students.drop('RecordCreated', axis = 1, inplace = True)"
   ]
  },
  {
   "cell_type": "code",
   "execution_count": 36,
   "id": "2b40ab6a-7d6e-43b8-9007-35bc88559bfe",
   "metadata": {},
   "outputs": [
    {
     "data": {
      "text/plain": [
       "dtype('O')"
      ]
     },
     "execution_count": 36,
     "metadata": {},
     "output_type": "execute_result"
    }
   ],
   "source": [
    "# create column by assigning a string and check data type\n",
    "students[\"RecordCreated\"] = \"2022-10-20\"\n",
    "students[\"RecordCreated\"].dtype"
   ]
  },
  {
   "cell_type": "code",
   "execution_count": 37,
   "id": "fb3c3556-2a5d-4f27-b34f-c0d201edb14a",
   "metadata": {},
   "outputs": [
    {
     "data": {
      "text/plain": [
       "dtype('<M8[ns]')"
      ]
     },
     "execution_count": 37,
     "metadata": {},
     "output_type": "execute_result"
    }
   ],
   "source": [
    "# convert to date time\n",
    "students[\"RecordCreated\"] = pd.to_datetime(students[\"RecordCreated\"], format = \"%Y-%m-%d\")\n",
    "students[\"RecordCreated\"].dtype"
   ]
  },
  {
   "cell_type": "code",
   "execution_count": 38,
   "id": "0e7d35a4-4aea-4e67-bc70-f4be8e15812b",
   "metadata": {},
   "outputs": [
    {
     "data": {
      "text/plain": [
       "0   2022-10-20\n",
       "1   2022-10-20\n",
       "2   2022-10-20\n",
       "3   2022-10-20\n",
       "4   2022-10-20\n",
       "Name: RecordCreated, dtype: datetime64[ns]"
      ]
     },
     "execution_count": 38,
     "metadata": {},
     "output_type": "execute_result"
    }
   ],
   "source": [
    "# display data\n",
    "students['RecordCreated']"
   ]
  },
  {
   "cell_type": "code",
   "execution_count": 39,
   "id": "3069f817-e979-4949-a2aa-7668f0ec6f13",
   "metadata": {},
   "outputs": [
    {
     "data": {
      "text/plain": [
       "0    20-10-22\n",
       "1    20-10-22\n",
       "2    20-10-22\n",
       "3    20-10-22\n",
       "4    20-10-22\n",
       "Name: RecordCreated, dtype: object"
      ]
     },
     "execution_count": 39,
     "metadata": {},
     "output_type": "execute_result"
    }
   ],
   "source": [
    "# display data in a different format\n",
    "students[\"RecordCreated\"].dt.strftime(\"%d-%m-%y\")"
   ]
  },
  {
   "cell_type": "code",
   "execution_count": 40,
   "id": "cf3b096e-0ba1-4346-822c-a12b32f6cc28",
   "metadata": {},
   "outputs": [],
   "source": [
    "students['StartYear'] = [2020, 2019, 2020, 2021, 2019]\n",
    "students['StartMonth'] = [8,8,8,1,1]"
   ]
  },
  {
   "cell_type": "code",
   "execution_count": 41,
   "id": "11d7d16c-fefa-4dd5-a666-dd7f4c7d0254",
   "metadata": {},
   "outputs": [
    {
     "data": {
      "text/html": [
       "<div>\n",
       "<style scoped>\n",
       "    .dataframe tbody tr th:only-of-type {\n",
       "        vertical-align: middle;\n",
       "    }\n",
       "\n",
       "    .dataframe tbody tr th {\n",
       "        vertical-align: top;\n",
       "    }\n",
       "\n",
       "    .dataframe thead th {\n",
       "        text-align: right;\n",
       "    }\n",
       "</style>\n",
       "<table border=\"1\" class=\"dataframe\">\n",
       "  <thead>\n",
       "    <tr style=\"text-align: right;\">\n",
       "      <th></th>\n",
       "      <th>ID</th>\n",
       "      <th>Name</th>\n",
       "      <th>Email</th>\n",
       "      <th>RecordCreated</th>\n",
       "      <th>StartYear</th>\n",
       "      <th>StartMonth</th>\n",
       "      <th>StartDate</th>\n",
       "    </tr>\n",
       "  </thead>\n",
       "  <tbody>\n",
       "    <tr>\n",
       "      <th>0</th>\n",
       "      <td>9000</td>\n",
       "      <td>Amir</td>\n",
       "      <td>A1@psu.edu</td>\n",
       "      <td>2022-10-20</td>\n",
       "      <td>2020</td>\n",
       "      <td>8</td>\n",
       "      <td>2020-08-01</td>\n",
       "    </tr>\n",
       "    <tr>\n",
       "      <th>1</th>\n",
       "      <td>9001</td>\n",
       "      <td>Biko</td>\n",
       "      <td>b10@psu.edu</td>\n",
       "      <td>2022-10-20</td>\n",
       "      <td>2019</td>\n",
       "      <td>8</td>\n",
       "      <td>2019-08-01</td>\n",
       "    </tr>\n",
       "    <tr>\n",
       "      <th>2</th>\n",
       "      <td>9002</td>\n",
       "      <td>Chen</td>\n",
       "      <td>C2@psu.edu</td>\n",
       "      <td>2022-10-20</td>\n",
       "      <td>2020</td>\n",
       "      <td>8</td>\n",
       "      <td>2020-08-01</td>\n",
       "    </tr>\n",
       "    <tr>\n",
       "      <th>3</th>\n",
       "      <td>9003</td>\n",
       "      <td>Darren</td>\n",
       "      <td>d@psu.edu</td>\n",
       "      <td>2022-10-20</td>\n",
       "      <td>2021</td>\n",
       "      <td>1</td>\n",
       "      <td>2021-01-01</td>\n",
       "    </tr>\n",
       "    <tr>\n",
       "      <th>4</th>\n",
       "      <td>9004</td>\n",
       "      <td>Elena</td>\n",
       "      <td>e@psu.edu</td>\n",
       "      <td>2022-10-20</td>\n",
       "      <td>2019</td>\n",
       "      <td>1</td>\n",
       "      <td>2019-01-01</td>\n",
       "    </tr>\n",
       "  </tbody>\n",
       "</table>\n",
       "</div>"
      ],
      "text/plain": [
       "     ID    Name        Email RecordCreated  StartYear  StartMonth  StartDate\n",
       "0  9000    Amir   A1@psu.edu    2022-10-20       2020           8 2020-08-01\n",
       "1  9001    Biko  b10@psu.edu    2022-10-20       2019           8 2019-08-01\n",
       "2  9002    Chen   C2@psu.edu    2022-10-20       2020           8 2020-08-01\n",
       "3  9003  Darren    d@psu.edu    2022-10-20       2021           1 2021-01-01\n",
       "4  9004   Elena    e@psu.edu    2022-10-20       2019           1 2019-01-01"
      ]
     },
     "execution_count": 41,
     "metadata": {},
     "output_type": "execute_result"
    }
   ],
   "source": [
    "# create start date column\n",
    "students[\"StartDate\"] = pd.to_datetime(\"1\" + \"-\" + students[\"StartMonth\"].astype(str) + \"-\" + students[\"StartYear\"].astype(str), format = \"%d-%m-%Y\")\n",
    "students.head()"
   ]
  },
  {
   "cell_type": "code",
   "execution_count": 42,
   "id": "aab9521f-ea6c-422b-9707-4205e1d964ac",
   "metadata": {},
   "outputs": [
    {
     "data": {
      "text/plain": [
       "ID                        int64\n",
       "Name                     object\n",
       "Email                    object\n",
       "RecordCreated    datetime64[ns]\n",
       "StartYear                 int64\n",
       "StartMonth                int64\n",
       "StartDate        datetime64[ns]\n",
       "dtype: object"
      ]
     },
     "execution_count": 42,
     "metadata": {},
     "output_type": "execute_result"
    }
   ],
   "source": [
    "# check data types\n",
    "students.dtypes"
   ]
  },
  {
   "cell_type": "code",
   "execution_count": 43,
   "id": "f9093948-1c72-4cb7-8d06-3a64c7305993",
   "metadata": {},
   "outputs": [
    {
     "data": {
      "text/plain": [
       "0    01-08-2020\n",
       "1    01-08-2019\n",
       "2    01-08-2020\n",
       "3    01-01-2021\n",
       "4    01-01-2019\n",
       "Name: StartDate, dtype: object"
      ]
     },
     "execution_count": 43,
     "metadata": {},
     "output_type": "execute_result"
    }
   ],
   "source": [
    "students['StartDate'].dt.strftime(\"%d-%m-%Y\")"
   ]
  },
  {
   "cell_type": "code",
   "execution_count": 44,
   "id": "0f362c56-5afd-476b-b12f-3b2227f75c04",
   "metadata": {},
   "outputs": [],
   "source": [
    "# current date time\n",
    "current_date=datetime.now()"
   ]
  },
  {
   "cell_type": "code",
   "execution_count": 45,
   "id": "05a349e7-1a75-4255-82a1-c63e5c2c0f39",
   "metadata": {},
   "outputs": [
    {
     "data": {
      "text/plain": [
       "0   1192 days 09:54:39.809274\n",
       "1   1558 days 09:54:39.809274\n",
       "2   1192 days 09:54:39.809274\n",
       "3   1039 days 09:54:39.809274\n",
       "4   1770 days 09:54:39.809274\n",
       "Name: StartDate, dtype: timedelta64[ns]"
      ]
     },
     "execution_count": 45,
     "metadata": {},
     "output_type": "execute_result"
    }
   ],
   "source": [
    "# time in program\n",
    "time_in_program=current_date-students['StartDate']\n",
    "time_in_program"
   ]
  },
  {
   "cell_type": "code",
   "execution_count": 46,
   "id": "198ec161-7206-4584-aaa0-480ef788f2f8",
   "metadata": {},
   "outputs": [
    {
     "data": {
      "text/plain": [
       "0    1192\n",
       "1    1558\n",
       "2    1192\n",
       "3    1039\n",
       "4    1770\n",
       "Name: StartDate, dtype: int64"
      ]
     },
     "execution_count": 46,
     "metadata": {},
     "output_type": "execute_result"
    }
   ],
   "source": [
    "# complete days from time in program\n",
    "time_in_program.dt.days"
   ]
  },
  {
   "cell_type": "code",
   "execution_count": 47,
   "id": "acf7bd08-9382-4666-9b2e-620cfe42ee18",
   "metadata": {},
   "outputs": [
    {
     "data": {
      "text/plain": [
       "0    35679\n",
       "1    35679\n",
       "2    35679\n",
       "3    35679\n",
       "4    35679\n",
       "Name: StartDate, dtype: int64"
      ]
     },
     "execution_count": 47,
     "metadata": {},
     "output_type": "execute_result"
    }
   ],
   "source": [
    "# seconds in the time beyond complete days in time in program\n",
    "time_in_program.dt.seconds"
   ]
  },
  {
   "cell_type": "code",
   "execution_count": 48,
   "id": "886185af-4ce9-4fa0-a7ac-8062ecbed223",
   "metadata": {},
   "outputs": [
    {
     "data": {
      "text/plain": [
       "0    1.030245e+08\n",
       "1    1.346469e+08\n",
       "2    1.030245e+08\n",
       "3    8.980528e+07\n",
       "4    1.529637e+08\n",
       "Name: StartDate, dtype: float64"
      ]
     },
     "execution_count": 48,
     "metadata": {},
     "output_type": "execute_result"
    }
   ],
   "source": [
    "# overall seconds in the time in program\n",
    "time_in_program.dt.total_seconds()"
   ]
  },
  {
   "cell_type": "markdown",
   "id": "bb3f10c0-0b08-43a9-bdf3-ec3f2ba6f5ac",
   "metadata": {},
   "source": [
    "### Boolean subsetting with datetime values"
   ]
  },
  {
   "cell_type": "code",
   "execution_count": 49,
   "id": "2d56324a-1ff9-41d0-8565-26e15f4f4bad",
   "metadata": {},
   "outputs": [
    {
     "data": {
      "text/html": [
       "<div>\n",
       "<style scoped>\n",
       "    .dataframe tbody tr th:only-of-type {\n",
       "        vertical-align: middle;\n",
       "    }\n",
       "\n",
       "    .dataframe tbody tr th {\n",
       "        vertical-align: top;\n",
       "    }\n",
       "\n",
       "    .dataframe thead th {\n",
       "        text-align: right;\n",
       "    }\n",
       "</style>\n",
       "<table border=\"1\" class=\"dataframe\">\n",
       "  <thead>\n",
       "    <tr style=\"text-align: right;\">\n",
       "      <th></th>\n",
       "      <th>ID</th>\n",
       "      <th>Name</th>\n",
       "      <th>Email</th>\n",
       "      <th>RecordCreated</th>\n",
       "      <th>StartYear</th>\n",
       "      <th>StartMonth</th>\n",
       "      <th>StartDate</th>\n",
       "    </tr>\n",
       "  </thead>\n",
       "  <tbody>\n",
       "    <tr>\n",
       "      <th>0</th>\n",
       "      <td>9000</td>\n",
       "      <td>Amir</td>\n",
       "      <td>A1@psu.edu</td>\n",
       "      <td>2022-10-20</td>\n",
       "      <td>2020</td>\n",
       "      <td>8</td>\n",
       "      <td>2020-08-01</td>\n",
       "    </tr>\n",
       "    <tr>\n",
       "      <th>1</th>\n",
       "      <td>9001</td>\n",
       "      <td>Biko</td>\n",
       "      <td>b10@psu.edu</td>\n",
       "      <td>2022-10-20</td>\n",
       "      <td>2019</td>\n",
       "      <td>8</td>\n",
       "      <td>2019-08-01</td>\n",
       "    </tr>\n",
       "    <tr>\n",
       "      <th>2</th>\n",
       "      <td>9002</td>\n",
       "      <td>Chen</td>\n",
       "      <td>C2@psu.edu</td>\n",
       "      <td>2022-10-20</td>\n",
       "      <td>2020</td>\n",
       "      <td>8</td>\n",
       "      <td>2020-08-01</td>\n",
       "    </tr>\n",
       "    <tr>\n",
       "      <th>3</th>\n",
       "      <td>9003</td>\n",
       "      <td>Darren</td>\n",
       "      <td>d@psu.edu</td>\n",
       "      <td>2022-10-20</td>\n",
       "      <td>2021</td>\n",
       "      <td>1</td>\n",
       "      <td>2021-01-01</td>\n",
       "    </tr>\n",
       "    <tr>\n",
       "      <th>4</th>\n",
       "      <td>9004</td>\n",
       "      <td>Elena</td>\n",
       "      <td>e@psu.edu</td>\n",
       "      <td>2022-10-20</td>\n",
       "      <td>2019</td>\n",
       "      <td>1</td>\n",
       "      <td>2019-01-01</td>\n",
       "    </tr>\n",
       "  </tbody>\n",
       "</table>\n",
       "</div>"
      ],
      "text/plain": [
       "     ID    Name        Email RecordCreated  StartYear  StartMonth  StartDate\n",
       "0  9000    Amir   A1@psu.edu    2022-10-20       2020           8 2020-08-01\n",
       "1  9001    Biko  b10@psu.edu    2022-10-20       2019           8 2019-08-01\n",
       "2  9002    Chen   C2@psu.edu    2022-10-20       2020           8 2020-08-01\n",
       "3  9003  Darren    d@psu.edu    2022-10-20       2021           1 2021-01-01\n",
       "4  9004   Elena    e@psu.edu    2022-10-20       2019           1 2019-01-01"
      ]
     },
     "execution_count": 49,
     "metadata": {},
     "output_type": "execute_result"
    }
   ],
   "source": [
    "students"
   ]
  },
  {
   "cell_type": "code",
   "execution_count": 50,
   "id": "51037135-ed0e-42cd-a51f-d22dbcbdb9fc",
   "metadata": {},
   "outputs": [
    {
     "data": {
      "text/html": [
       "<div>\n",
       "<style scoped>\n",
       "    .dataframe tbody tr th:only-of-type {\n",
       "        vertical-align: middle;\n",
       "    }\n",
       "\n",
       "    .dataframe tbody tr th {\n",
       "        vertical-align: top;\n",
       "    }\n",
       "\n",
       "    .dataframe thead th {\n",
       "        text-align: right;\n",
       "    }\n",
       "</style>\n",
       "<table border=\"1\" class=\"dataframe\">\n",
       "  <thead>\n",
       "    <tr style=\"text-align: right;\">\n",
       "      <th></th>\n",
       "      <th>ID</th>\n",
       "      <th>Name</th>\n",
       "      <th>Email</th>\n",
       "      <th>RecordCreated</th>\n",
       "      <th>StartYear</th>\n",
       "      <th>StartMonth</th>\n",
       "      <th>StartDate</th>\n",
       "    </tr>\n",
       "  </thead>\n",
       "  <tbody>\n",
       "    <tr>\n",
       "      <th>3</th>\n",
       "      <td>9003</td>\n",
       "      <td>Darren</td>\n",
       "      <td>d@psu.edu</td>\n",
       "      <td>2022-10-20</td>\n",
       "      <td>2021</td>\n",
       "      <td>1</td>\n",
       "      <td>2021-01-01</td>\n",
       "    </tr>\n",
       "  </tbody>\n",
       "</table>\n",
       "</div>"
      ],
      "text/plain": [
       "     ID    Name      Email RecordCreated  StartYear  StartMonth  StartDate\n",
       "3  9003  Darren  d@psu.edu    2022-10-20       2021           1 2021-01-01"
      ]
     },
     "execution_count": 50,
     "metadata": {},
     "output_type": "execute_result"
    }
   ],
   "source": [
    "# retrieve all students who started on or after 1-1-2021 \n",
    "students[students['StartDate']>= datetime(day=1, month=1, year=2021)]"
   ]
  },
  {
   "cell_type": "code",
   "execution_count": 51,
   "id": "ec87b2c6-47bb-43ec-9c96-a0a109985c0f",
   "metadata": {},
   "outputs": [
    {
     "data": {
      "text/html": [
       "<div>\n",
       "<style scoped>\n",
       "    .dataframe tbody tr th:only-of-type {\n",
       "        vertical-align: middle;\n",
       "    }\n",
       "\n",
       "    .dataframe tbody tr th {\n",
       "        vertical-align: top;\n",
       "    }\n",
       "\n",
       "    .dataframe thead th {\n",
       "        text-align: right;\n",
       "    }\n",
       "</style>\n",
       "<table border=\"1\" class=\"dataframe\">\n",
       "  <thead>\n",
       "    <tr style=\"text-align: right;\">\n",
       "      <th></th>\n",
       "      <th>ID</th>\n",
       "      <th>Name</th>\n",
       "      <th>Email</th>\n",
       "      <th>RecordCreated</th>\n",
       "      <th>StartYear</th>\n",
       "      <th>StartMonth</th>\n",
       "      <th>StartDate</th>\n",
       "    </tr>\n",
       "  </thead>\n",
       "  <tbody>\n",
       "    <tr>\n",
       "      <th>0</th>\n",
       "      <td>9000</td>\n",
       "      <td>Amir</td>\n",
       "      <td>A1@psu.edu</td>\n",
       "      <td>2022-10-20</td>\n",
       "      <td>2020</td>\n",
       "      <td>8</td>\n",
       "      <td>2020-08-01</td>\n",
       "    </tr>\n",
       "    <tr>\n",
       "      <th>1</th>\n",
       "      <td>9001</td>\n",
       "      <td>Biko</td>\n",
       "      <td>b10@psu.edu</td>\n",
       "      <td>2022-10-20</td>\n",
       "      <td>2019</td>\n",
       "      <td>8</td>\n",
       "      <td>2019-08-01</td>\n",
       "    </tr>\n",
       "    <tr>\n",
       "      <th>2</th>\n",
       "      <td>9002</td>\n",
       "      <td>Chen</td>\n",
       "      <td>C2@psu.edu</td>\n",
       "      <td>2022-10-20</td>\n",
       "      <td>2020</td>\n",
       "      <td>8</td>\n",
       "      <td>2020-08-01</td>\n",
       "    </tr>\n",
       "    <tr>\n",
       "      <th>3</th>\n",
       "      <td>9003</td>\n",
       "      <td>Darren</td>\n",
       "      <td>d@psu.edu</td>\n",
       "      <td>2022-10-20</td>\n",
       "      <td>2021</td>\n",
       "      <td>1</td>\n",
       "      <td>2021-01-01</td>\n",
       "    </tr>\n",
       "  </tbody>\n",
       "</table>\n",
       "</div>"
      ],
      "text/plain": [
       "     ID    Name        Email RecordCreated  StartYear  StartMonth  StartDate\n",
       "0  9000    Amir   A1@psu.edu    2022-10-20       2020           8 2020-08-01\n",
       "1  9001    Biko  b10@psu.edu    2022-10-20       2019           8 2019-08-01\n",
       "2  9002    Chen   C2@psu.edu    2022-10-20       2020           8 2020-08-01\n",
       "3  9003  Darren    d@psu.edu    2022-10-20       2021           1 2021-01-01"
      ]
     },
     "execution_count": 51,
     "metadata": {},
     "output_type": "execute_result"
    }
   ],
   "source": [
    "# retrieve all students who started between 8-1-2019 and 8-1-2020\n",
    "students[(students['StartDate']>=datetime(day=1, month=8, year=2019))&(students['StartDate']<=datetime(day=1, month=1, year=2021))]"
   ]
  },
  {
   "cell_type": "code",
   "execution_count": 52,
   "id": "9b289f76-2e65-4d26-be88-3f8fc44cbf46",
   "metadata": {},
   "outputs": [
    {
     "data": {
      "text/html": [
       "<div>\n",
       "<style scoped>\n",
       "    .dataframe tbody tr th:only-of-type {\n",
       "        vertical-align: middle;\n",
       "    }\n",
       "\n",
       "    .dataframe tbody tr th {\n",
       "        vertical-align: top;\n",
       "    }\n",
       "\n",
       "    .dataframe thead th {\n",
       "        text-align: right;\n",
       "    }\n",
       "</style>\n",
       "<table border=\"1\" class=\"dataframe\">\n",
       "  <thead>\n",
       "    <tr style=\"text-align: right;\">\n",
       "      <th></th>\n",
       "      <th>ID</th>\n",
       "      <th>Name</th>\n",
       "      <th>Email</th>\n",
       "      <th>RecordCreated</th>\n",
       "      <th>StartYear</th>\n",
       "      <th>StartMonth</th>\n",
       "      <th>StartDate</th>\n",
       "    </tr>\n",
       "  </thead>\n",
       "  <tbody>\n",
       "    <tr>\n",
       "      <th>0</th>\n",
       "      <td>9000</td>\n",
       "      <td>Amir</td>\n",
       "      <td>A1@psu.edu</td>\n",
       "      <td>2022-10-20</td>\n",
       "      <td>2020</td>\n",
       "      <td>8</td>\n",
       "      <td>2020-08-01</td>\n",
       "    </tr>\n",
       "    <tr>\n",
       "      <th>1</th>\n",
       "      <td>9001</td>\n",
       "      <td>Biko</td>\n",
       "      <td>b10@psu.edu</td>\n",
       "      <td>2022-10-20</td>\n",
       "      <td>2019</td>\n",
       "      <td>8</td>\n",
       "      <td>2019-08-01</td>\n",
       "    </tr>\n",
       "    <tr>\n",
       "      <th>2</th>\n",
       "      <td>9002</td>\n",
       "      <td>Chen</td>\n",
       "      <td>C2@psu.edu</td>\n",
       "      <td>2022-10-20</td>\n",
       "      <td>2020</td>\n",
       "      <td>8</td>\n",
       "      <td>2020-08-01</td>\n",
       "    </tr>\n",
       "  </tbody>\n",
       "</table>\n",
       "</div>"
      ],
      "text/plain": [
       "     ID  Name        Email RecordCreated  StartYear  StartMonth  StartDate\n",
       "0  9000  Amir   A1@psu.edu    2022-10-20       2020           8 2020-08-01\n",
       "1  9001  Biko  b10@psu.edu    2022-10-20       2019           8 2019-08-01\n",
       "2  9002  Chen   C2@psu.edu    2022-10-20       2020           8 2020-08-01"
      ]
     },
     "execution_count": 52,
     "metadata": {},
     "output_type": "execute_result"
    }
   ],
   "source": [
    "# retrieve all students who started in the fall\n",
    "students[students['StartMonth']==8]"
   ]
  },
  {
   "cell_type": "markdown",
   "id": "19dd0904-d7f3-43d1-9015-7a1c0f3a8f31",
   "metadata": {},
   "source": [
    "## The Categorical data type"
   ]
  },
  {
   "cell_type": "code",
   "execution_count": 53,
   "id": "5a58fdc4-87d7-4403-b246-fd36284adbdd",
   "metadata": {},
   "outputs": [
    {
     "data": {
      "text/plain": [
       "CategoricalDtype(categories=['A', 'B', 'C', 'D', 'E', 'F', 'G'], ordered=False)"
      ]
     },
     "execution_count": 53,
     "metadata": {},
     "output_type": "execute_result"
    }
   ],
   "source": [
    "# check the type of column deck\n",
    "titanic['deck'].dtype"
   ]
  },
  {
   "cell_type": "code",
   "execution_count": 54,
   "id": "29d0ad2b-70b0-4bb5-a708-2912ca20d378",
   "metadata": {},
   "outputs": [
    {
     "data": {
      "text/plain": [
       "[NaN, 'C', 'E', 'G', 'D', 'A', 'B', 'F']\n",
       "Categories (7, object): ['A', 'B', 'C', 'D', 'E', 'F', 'G']"
      ]
     },
     "execution_count": 54,
     "metadata": {},
     "output_type": "execute_result"
    }
   ],
   "source": [
    "# what are the unique values in column deck\n",
    "titanic['deck'].unique()"
   ]
  },
  {
   "cell_type": "code",
   "execution_count": 55,
   "id": "fc9ea2fb-1df7-43fe-9f62-eaa4286a4bb0",
   "metadata": {},
   "outputs": [
    {
     "data": {
      "text/plain": [
       "dtype('O')"
      ]
     },
     "execution_count": 55,
     "metadata": {},
     "output_type": "execute_result"
    }
   ],
   "source": [
    "# convert deck to a string type\n",
    "titanic['deck']=titanic['deck'].astype(str)\n",
    "titanic['deck'].dtype"
   ]
  },
  {
   "cell_type": "code",
   "execution_count": 56,
   "id": "f08ed6b2-e079-465f-80ea-e79a37e47de2",
   "metadata": {},
   "outputs": [
    {
     "data": {
      "text/plain": [
       "CategoricalDtype(categories=['A', 'B', 'C', 'D', 'E', 'F', 'G', 'nan'], ordered=False)"
      ]
     },
     "execution_count": 56,
     "metadata": {},
     "output_type": "execute_result"
    }
   ],
   "source": [
    "# convert deck back to category type\n",
    "titanic['deck']=titanic['deck'].astype('category')\n",
    "titanic['deck'].dtype"
   ]
  },
  {
   "cell_type": "markdown",
   "id": "e1c6ccf7-b78d-40e8-9082-c337cb3fc7d7",
   "metadata": {},
   "source": [
    "Note: In the above conversion the string 'nan' was recognized as another category instead of a missing value. to fix this use the following code. "
   ]
  },
  {
   "cell_type": "code",
   "execution_count": 57,
   "id": "32322f5a-ca78-433a-91c1-f1957fc3b90a",
   "metadata": {},
   "outputs": [],
   "source": [
    "# convert deck to string type\n",
    "titanic['deck']=titanic['deck'].astype(str)"
   ]
  },
  {
   "cell_type": "code",
   "execution_count": 61,
   "id": "e9de2d53-d4ea-482e-8092-244b338e4233",
   "metadata": {},
   "outputs": [],
   "source": [
    "# convert nan string to missing values\n",
    "import numpy as np\n",
    "titanic['deck'].replace('nan',np.NaN,inplace=True)\n"
   ]
  },
  {
   "cell_type": "code",
   "execution_count": 59,
   "id": "f1e60244-45d0-42e1-915d-6409ffce805d",
   "metadata": {},
   "outputs": [
    {
     "data": {
      "text/plain": [
       "CategoricalDtype(categories=['A', 'B', 'C', 'D', 'E', 'F', 'G'], ordered=False)"
      ]
     },
     "execution_count": 59,
     "metadata": {},
     "output_type": "execute_result"
    }
   ],
   "source": [
    "# convert deck to category type\n",
    "titanic['deck']=titanic['deck'].astype('category')\n",
    "titanic['deck'].dtype"
   ]
  },
  {
   "cell_type": "code",
   "execution_count": null,
   "id": "f22e3d8f-5eef-49ef-9613-2068490d9842",
   "metadata": {},
   "outputs": [],
   "source": []
  }
 ],
 "metadata": {
  "kernelspec": {
   "display_name": "Python 3 (ipykernel)",
   "language": "python",
   "name": "python3"
  },
  "language_info": {
   "codemirror_mode": {
    "name": "ipython",
    "version": 3
   },
   "file_extension": ".py",
   "mimetype": "text/x-python",
   "name": "python",
   "nbconvert_exporter": "python",
   "pygments_lexer": "ipython3",
   "version": "3.7.10"
  }
 },
 "nbformat": 4,
 "nbformat_minor": 5
}
