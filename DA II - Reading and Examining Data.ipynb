{
 "cells": [
  {
   "cell_type": "markdown",
   "id": "3328aefb-0b9d-4ca8-b581-b57742be0851",
   "metadata": {},
   "source": [
    "# Data Analysis in Python - II: Reading and Examining Data"
   ]
  },
  {
   "cell_type": "markdown",
   "id": "d8478164-f32a-4bc9-b5ea-ecaac506d25c",
   "metadata": {},
   "source": [
    "## Introduction\n",
    "\n",
    "In this lesson, we will learn how to read data from a file and examine the data in a DataFrame.  \n",
    "\n",
    "Note: \n",
    "1. Use the TOC to navigate between sections.\n"
   ]
  },
  {
   "cell_type": "markdown",
   "id": "396b53f5-7977-4005-b470-8760e8f5ccc5",
   "metadata": {},
   "source": [
    "<font color = \"red\"><b>Important:</b> Please make sure that this file is saved in the root folder. If not, please close the file, upload it to the correct location, restart your server from the hub control panel, and open the file again. </font>"
   ]
  },
  {
   "cell_type": "markdown",
   "id": "f707226b-021f-4d17-b78f-2a9f6dc6d69f",
   "metadata": {},
   "source": [
    "## The dataset\n",
    "\n",
    "Dataset: \"The Statistics of Poverty and Inequality,\" submitted by Mary Rouncefield, Mathematics Department, Chester College, U.K.. \n",
    "Dataset obtained from the Journal of Statistics Education (http://jse.amstat.org/publications/jse). Accessed [3/24/2020]. Used by permission of author.\n",
    "\n",
    "For this lesson, we will work with a dataset that captures the statistics of poverty and inequality. \n",
    "The dataset provides the following information for the countries included in the sample.\n",
    "\n",
    "- Live birth rate per 1,000 of population\n",
    "- Death rate per 1,000 of population\n",
    "- Infant deaths per 1,000 of population under 1 year old\n",
    "- Life expectancy at birth for males\n",
    "- Life expectancy at birth for females\n",
    "- Gross National Product per capita in U.S. dollars \n",
    "-  Country Group\n",
    "          1 = Eastern Europe\n",
    "          2 = South America and Mexico\n",
    "          3 = Western Europe, North America, Japan, Australia, New Zealand\n",
    "          4 = Middle East\n",
    "          5 = Asia\n",
    "          6 = Africa\n",
    "- Country\n",
    "\n",
    "Let's check where you can find the data file and the data dictionary. \n",
    "\n",
    "Please check the data description for additional details about the dataset and the sources of the information. "
   ]
  },
  {
   "cell_type": "markdown",
   "id": "b6fc79eb-5768-4416-9465-51d48dd0af8a",
   "metadata": {},
   "source": [
    "## Loading the data set into a DataFrame"
   ]
  },
  {
   "cell_type": "markdown",
   "id": "79d5024a-ec5e-4a33-b0b7-477e06b099cf",
   "metadata": {},
   "source": [
    "We will learn various ways to read data into DataFrames in a subsequent lesson. For now, please modify and execute the code below to read the data into the povData DataFrame."
   ]
  },
  {
   "cell_type": "code",
   "execution_count": 16,
   "id": "6257b6f7-6cd5-4cc4-a932-fbc9ff145293",
   "metadata": {
    "tags": []
   },
   "outputs": [],
   "source": [
    "# read poverty data\n",
    "\n",
    "import pandas as pd\n",
    "\n",
    "povData = pd.read_csv('scratch/PovertyData.csv', sep=',',na_values=\"*\")"
   ]
  },
  {
   "cell_type": "markdown",
   "id": "bb28f477-05c5-4d38-a9ce-ff4e3560aa4a",
   "metadata": {
    "jupyter": {
     "source_hidden": true
    },
    "tags": []
   },
   "source": [
    "**Note:** I will use pathnames assuming all lesson and homework notebooks are stored in the root folder. You should all be familiar with hierarchical file storage and relative pathnames, especially if you choose to organize your files differently than suggested.\n",
    "If you need to review or learn hierarchical file storage and relative pathnames concepts, you can start with the following videos."
   ]
  },
  {
   "cell_type": "markdown",
   "id": "a1560c4c-3584-46c9-a02c-5dc402c55fe3",
   "metadata": {},
   "source": [
    "[Video 1](https://youtu.be/BMT3JUWmqYY)\n",
    "<BR/>\n",
    "[Video 2](https://youtu.be/ephId3mYu9o)"
   ]
  },
  {
   "cell_type": "markdown",
   "id": "46701ebe-e6d5-4a28-8729-24868e956c91",
   "metadata": {},
   "source": [
    "## Examining the data frame"
   ]
  },
  {
   "cell_type": "markdown",
   "id": "5f5fe13a-b5be-4941-93a4-344b5e0f141c",
   "metadata": {},
   "source": [
    "We can check to see how many countries are included in the sample and how many attributes (columns) are in the dataset."
   ]
  },
  {
   "cell_type": "code",
   "execution_count": 3,
   "id": "7be01545-cc33-4835-a9d6-a777dfee46f3",
   "metadata": {},
   "outputs": [
    {
     "data": {
      "text/plain": [
       "(97, 8)"
      ]
     },
     "execution_count": 3,
     "metadata": {},
     "output_type": "execute_result"
    }
   ],
   "source": [
    "povData.shape"
   ]
  },
  {
   "cell_type": "markdown",
   "id": "d8c3136e-9b0f-41db-ae86-51e1cf4888b9",
   "metadata": {},
   "source": [
    "We can retrieve the names of all the columns using the `columns` property."
   ]
  },
  {
   "cell_type": "code",
   "execution_count": 4,
   "id": "cdf2b7ca-58e4-4b1a-afdf-17f35e069c5d",
   "metadata": {},
   "outputs": [
    {
     "data": {
      "text/plain": [
       "Index(['LiveBirthRate', 'DeathRate', 'InfantDeaths', 'MaleLifeExpectancy',\n",
       "       'FemaleLifeExpectancy', 'GNI', 'Region', 'Country'],\n",
       "      dtype='object')"
      ]
     },
     "execution_count": 4,
     "metadata": {},
     "output_type": "execute_result"
    }
   ],
   "source": [
    "povData.columns"
   ]
  },
  {
   "cell_type": "markdown",
   "id": "4ac3e27c-0968-4f7d-90b0-aec401fa64e6",
   "metadata": {},
   "source": [
    "Notice that the result is an index object."
   ]
  },
  {
   "cell_type": "markdown",
   "id": "51fa2726-6e6f-435f-b7fb-435d400697df",
   "metadata": {},
   "source": [
    "We can examine the data types of the values in each column using the `dtypes` property."
   ]
  },
  {
   "cell_type": "code",
   "execution_count": 5,
   "id": "52fd5499-d7ad-4dcd-9cdf-17d15106b779",
   "metadata": {},
   "outputs": [
    {
     "data": {
      "text/plain": [
       "LiveBirthRate           float64\n",
       "DeathRate               float64\n",
       "InfantDeaths            float64\n",
       "MaleLifeExpectancy      float64\n",
       "FemaleLifeExpectancy    float64\n",
       "GNI                     float64\n",
       "Region                    int64\n",
       "Country                  object\n",
       "dtype: object"
      ]
     },
     "execution_count": 5,
     "metadata": {},
     "output_type": "execute_result"
    }
   ],
   "source": [
    "povData.dtypes"
   ]
  },
  {
   "cell_type": "markdown",
   "id": "481eba7f-1074-4b79-b8ad-731d82ad84d9",
   "metadata": {},
   "source": [
    "We can retrieve the summary of this information about the data frame using the `info()` function."
   ]
  },
  {
   "cell_type": "code",
   "execution_count": 6,
   "id": "338a6e2a-21c8-481a-abec-f05cf6bceb62",
   "metadata": {},
   "outputs": [
    {
     "name": "stdout",
     "output_type": "stream",
     "text": [
      "<class 'pandas.core.frame.DataFrame'>\n",
      "RangeIndex: 97 entries, 0 to 96\n",
      "Data columns (total 8 columns):\n",
      " #   Column                Non-Null Count  Dtype  \n",
      "---  ------                --------------  -----  \n",
      " 0   LiveBirthRate         97 non-null     float64\n",
      " 1   DeathRate             97 non-null     float64\n",
      " 2   InfantDeaths          97 non-null     float64\n",
      " 3   MaleLifeExpectancy    97 non-null     float64\n",
      " 4   FemaleLifeExpectancy  97 non-null     float64\n",
      " 5   GNI                   91 non-null     float64\n",
      " 6   Region                97 non-null     int64  \n",
      " 7   Country               97 non-null     object \n",
      "dtypes: float64(6), int64(1), object(1)\n",
      "memory usage: 6.2+ KB\n"
     ]
    }
   ],
   "source": [
    "povData.info()"
   ]
  },
  {
   "cell_type": "markdown",
   "id": "fec31842-0243-471a-8f0c-1f4e4f1d20a0",
   "metadata": {},
   "source": [
    "We may want to examine the data itself but it may not make sense to print a large dataset. We can instead check the top few or the bottom few rows of the data frame using the `head()` and `tail()` functions."
   ]
  },
  {
   "cell_type": "code",
   "execution_count": 7,
   "id": "e768fb50-3599-4fe6-953e-5c5437bb725d",
   "metadata": {},
   "outputs": [
    {
     "data": {
      "text/html": [
       "<div>\n",
       "<style scoped>\n",
       "    .dataframe tbody tr th:only-of-type {\n",
       "        vertical-align: middle;\n",
       "    }\n",
       "\n",
       "    .dataframe tbody tr th {\n",
       "        vertical-align: top;\n",
       "    }\n",
       "\n",
       "    .dataframe thead th {\n",
       "        text-align: right;\n",
       "    }\n",
       "</style>\n",
       "<table border=\"1\" class=\"dataframe\">\n",
       "  <thead>\n",
       "    <tr style=\"text-align: right;\">\n",
       "      <th></th>\n",
       "      <th>LiveBirthRate</th>\n",
       "      <th>DeathRate</th>\n",
       "      <th>InfantDeaths</th>\n",
       "      <th>MaleLifeExpectancy</th>\n",
       "      <th>FemaleLifeExpectancy</th>\n",
       "      <th>GNI</th>\n",
       "      <th>Region</th>\n",
       "      <th>Country</th>\n",
       "    </tr>\n",
       "  </thead>\n",
       "  <tbody>\n",
       "    <tr>\n",
       "      <th>0</th>\n",
       "      <td>24.7</td>\n",
       "      <td>5.7</td>\n",
       "      <td>30.8</td>\n",
       "      <td>69.6</td>\n",
       "      <td>75.5</td>\n",
       "      <td>600.0</td>\n",
       "      <td>1</td>\n",
       "      <td>Albania</td>\n",
       "    </tr>\n",
       "    <tr>\n",
       "      <th>1</th>\n",
       "      <td>12.5</td>\n",
       "      <td>11.9</td>\n",
       "      <td>14.4</td>\n",
       "      <td>68.3</td>\n",
       "      <td>74.7</td>\n",
       "      <td>2250.0</td>\n",
       "      <td>1</td>\n",
       "      <td>Bulgaria</td>\n",
       "    </tr>\n",
       "    <tr>\n",
       "      <th>2</th>\n",
       "      <td>13.4</td>\n",
       "      <td>11.7</td>\n",
       "      <td>11.3</td>\n",
       "      <td>71.8</td>\n",
       "      <td>77.7</td>\n",
       "      <td>2980.0</td>\n",
       "      <td>1</td>\n",
       "      <td>Czechoslovakia</td>\n",
       "    </tr>\n",
       "    <tr>\n",
       "      <th>3</th>\n",
       "      <td>12.0</td>\n",
       "      <td>12.4</td>\n",
       "      <td>7.6</td>\n",
       "      <td>69.8</td>\n",
       "      <td>75.9</td>\n",
       "      <td>NaN</td>\n",
       "      <td>1</td>\n",
       "      <td>Former_E._Germany</td>\n",
       "    </tr>\n",
       "    <tr>\n",
       "      <th>4</th>\n",
       "      <td>11.6</td>\n",
       "      <td>13.4</td>\n",
       "      <td>14.8</td>\n",
       "      <td>65.4</td>\n",
       "      <td>73.8</td>\n",
       "      <td>2780.0</td>\n",
       "      <td>1</td>\n",
       "      <td>Hungary</td>\n",
       "    </tr>\n",
       "  </tbody>\n",
       "</table>\n",
       "</div>"
      ],
      "text/plain": [
       "   LiveBirthRate  DeathRate  InfantDeaths  MaleLifeExpectancy  \\\n",
       "0           24.7        5.7          30.8                69.6   \n",
       "1           12.5       11.9          14.4                68.3   \n",
       "2           13.4       11.7          11.3                71.8   \n",
       "3           12.0       12.4           7.6                69.8   \n",
       "4           11.6       13.4          14.8                65.4   \n",
       "\n",
       "   FemaleLifeExpectancy     GNI  Region            Country  \n",
       "0                  75.5   600.0       1            Albania  \n",
       "1                  74.7  2250.0       1           Bulgaria  \n",
       "2                  77.7  2980.0       1     Czechoslovakia  \n",
       "3                  75.9     NaN       1  Former_E._Germany  \n",
       "4                  73.8  2780.0       1            Hungary  "
      ]
     },
     "execution_count": 7,
     "metadata": {},
     "output_type": "execute_result"
    }
   ],
   "source": [
    "povData.head()"
   ]
  },
  {
   "cell_type": "code",
   "execution_count": 8,
   "id": "24e8f6f0-5258-4ec4-9470-f00a6066b2a9",
   "metadata": {},
   "outputs": [
    {
     "name": "stdout",
     "output_type": "stream",
     "text": [
      "   LiveBirthRate  DeathRate  InfantDeaths  MaleLifeExpectancy  \\\n",
      "0           24.7        5.7          30.8                69.6   \n",
      "1           12.5       11.9          14.4                68.3   \n",
      "2           13.4       11.7          11.3                71.8   \n",
      "3           12.0       12.4           7.6                69.8   \n",
      "4           11.6       13.4          14.8                65.4   \n",
      "\n",
      "   FemaleLifeExpectancy     GNI  Region            Country  \n",
      "0                  75.5   600.0       1            Albania  \n",
      "1                  74.7  2250.0       1           Bulgaria  \n",
      "2                  77.7  2980.0       1     Czechoslovakia  \n",
      "3                  75.9     NaN       1  Former_E._Germany  \n",
      "4                  73.8  2780.0       1            Hungary  \n"
     ]
    }
   ],
   "source": [
    "# use the print function\n",
    "print(povData.head())"
   ]
  },
  {
   "cell_type": "code",
   "execution_count": 9,
   "id": "7d6f8f86-9f4f-40a5-a047-dd4c02ae6bcd",
   "metadata": {},
   "outputs": [
    {
     "data": {
      "text/html": [
       "<div>\n",
       "<style scoped>\n",
       "    .dataframe tbody tr th:only-of-type {\n",
       "        vertical-align: middle;\n",
       "    }\n",
       "\n",
       "    .dataframe tbody tr th {\n",
       "        vertical-align: top;\n",
       "    }\n",
       "\n",
       "    .dataframe thead th {\n",
       "        text-align: right;\n",
       "    }\n",
       "</style>\n",
       "<table border=\"1\" class=\"dataframe\">\n",
       "  <thead>\n",
       "    <tr style=\"text-align: right;\">\n",
       "      <th></th>\n",
       "      <th>LiveBirthRate</th>\n",
       "      <th>DeathRate</th>\n",
       "      <th>InfantDeaths</th>\n",
       "      <th>MaleLifeExpectancy</th>\n",
       "      <th>FemaleLifeExpectancy</th>\n",
       "      <th>GNI</th>\n",
       "      <th>Region</th>\n",
       "      <th>Country</th>\n",
       "    </tr>\n",
       "  </thead>\n",
       "  <tbody>\n",
       "    <tr>\n",
       "      <th>0</th>\n",
       "      <td>24.7</td>\n",
       "      <td>5.7</td>\n",
       "      <td>30.8</td>\n",
       "      <td>69.6</td>\n",
       "      <td>75.5</td>\n",
       "      <td>600.0</td>\n",
       "      <td>1</td>\n",
       "      <td>Albania</td>\n",
       "    </tr>\n",
       "    <tr>\n",
       "      <th>1</th>\n",
       "      <td>12.5</td>\n",
       "      <td>11.9</td>\n",
       "      <td>14.4</td>\n",
       "      <td>68.3</td>\n",
       "      <td>74.7</td>\n",
       "      <td>2250.0</td>\n",
       "      <td>1</td>\n",
       "      <td>Bulgaria</td>\n",
       "    </tr>\n",
       "    <tr>\n",
       "      <th>2</th>\n",
       "      <td>13.4</td>\n",
       "      <td>11.7</td>\n",
       "      <td>11.3</td>\n",
       "      <td>71.8</td>\n",
       "      <td>77.7</td>\n",
       "      <td>2980.0</td>\n",
       "      <td>1</td>\n",
       "      <td>Czechoslovakia</td>\n",
       "    </tr>\n",
       "    <tr>\n",
       "      <th>3</th>\n",
       "      <td>12.0</td>\n",
       "      <td>12.4</td>\n",
       "      <td>7.6</td>\n",
       "      <td>69.8</td>\n",
       "      <td>75.9</td>\n",
       "      <td>NaN</td>\n",
       "      <td>1</td>\n",
       "      <td>Former_E._Germany</td>\n",
       "    </tr>\n",
       "    <tr>\n",
       "      <th>4</th>\n",
       "      <td>11.6</td>\n",
       "      <td>13.4</td>\n",
       "      <td>14.8</td>\n",
       "      <td>65.4</td>\n",
       "      <td>73.8</td>\n",
       "      <td>2780.0</td>\n",
       "      <td>1</td>\n",
       "      <td>Hungary</td>\n",
       "    </tr>\n",
       "    <tr>\n",
       "      <th>5</th>\n",
       "      <td>14.3</td>\n",
       "      <td>10.2</td>\n",
       "      <td>16.0</td>\n",
       "      <td>67.2</td>\n",
       "      <td>75.7</td>\n",
       "      <td>1690.0</td>\n",
       "      <td>1</td>\n",
       "      <td>Poland</td>\n",
       "    </tr>\n",
       "    <tr>\n",
       "      <th>6</th>\n",
       "      <td>13.6</td>\n",
       "      <td>10.7</td>\n",
       "      <td>26.9</td>\n",
       "      <td>66.5</td>\n",
       "      <td>72.4</td>\n",
       "      <td>1640.0</td>\n",
       "      <td>1</td>\n",
       "      <td>Romania</td>\n",
       "    </tr>\n",
       "    <tr>\n",
       "      <th>7</th>\n",
       "      <td>14.0</td>\n",
       "      <td>9.0</td>\n",
       "      <td>20.2</td>\n",
       "      <td>68.6</td>\n",
       "      <td>74.5</td>\n",
       "      <td>NaN</td>\n",
       "      <td>1</td>\n",
       "      <td>Yugoslavia</td>\n",
       "    </tr>\n",
       "    <tr>\n",
       "      <th>8</th>\n",
       "      <td>17.7</td>\n",
       "      <td>10.0</td>\n",
       "      <td>23.0</td>\n",
       "      <td>64.6</td>\n",
       "      <td>74.0</td>\n",
       "      <td>2242.0</td>\n",
       "      <td>1</td>\n",
       "      <td>USSR</td>\n",
       "    </tr>\n",
       "    <tr>\n",
       "      <th>9</th>\n",
       "      <td>15.2</td>\n",
       "      <td>9.5</td>\n",
       "      <td>13.1</td>\n",
       "      <td>66.4</td>\n",
       "      <td>75.9</td>\n",
       "      <td>1880.0</td>\n",
       "      <td>1</td>\n",
       "      <td>Byelorussian_SSR</td>\n",
       "    </tr>\n",
       "  </tbody>\n",
       "</table>\n",
       "</div>"
      ],
      "text/plain": [
       "   LiveBirthRate  DeathRate  InfantDeaths  MaleLifeExpectancy  \\\n",
       "0           24.7        5.7          30.8                69.6   \n",
       "1           12.5       11.9          14.4                68.3   \n",
       "2           13.4       11.7          11.3                71.8   \n",
       "3           12.0       12.4           7.6                69.8   \n",
       "4           11.6       13.4          14.8                65.4   \n",
       "5           14.3       10.2          16.0                67.2   \n",
       "6           13.6       10.7          26.9                66.5   \n",
       "7           14.0        9.0          20.2                68.6   \n",
       "8           17.7       10.0          23.0                64.6   \n",
       "9           15.2        9.5          13.1                66.4   \n",
       "\n",
       "   FemaleLifeExpectancy     GNI  Region            Country  \n",
       "0                  75.5   600.0       1            Albania  \n",
       "1                  74.7  2250.0       1           Bulgaria  \n",
       "2                  77.7  2980.0       1     Czechoslovakia  \n",
       "3                  75.9     NaN       1  Former_E._Germany  \n",
       "4                  73.8  2780.0       1            Hungary  \n",
       "5                  75.7  1690.0       1             Poland  \n",
       "6                  72.4  1640.0       1            Romania  \n",
       "7                  74.5     NaN       1         Yugoslavia  \n",
       "8                  74.0  2242.0       1               USSR  \n",
       "9                  75.9  1880.0       1   Byelorussian_SSR  "
      ]
     },
     "execution_count": 9,
     "metadata": {},
     "output_type": "execute_result"
    }
   ],
   "source": [
    "povData.head(10)\n"
   ]
  },
  {
   "cell_type": "code",
   "execution_count": 10,
   "id": "493ce1dc-97e4-4c2c-9811-8d484ccca1f9",
   "metadata": {},
   "outputs": [
    {
     "data": {
      "text/html": [
       "<div>\n",
       "<style scoped>\n",
       "    .dataframe tbody tr th:only-of-type {\n",
       "        vertical-align: middle;\n",
       "    }\n",
       "\n",
       "    .dataframe tbody tr th {\n",
       "        vertical-align: top;\n",
       "    }\n",
       "\n",
       "    .dataframe thead th {\n",
       "        text-align: right;\n",
       "    }\n",
       "</style>\n",
       "<table border=\"1\" class=\"dataframe\">\n",
       "  <thead>\n",
       "    <tr style=\"text-align: right;\">\n",
       "      <th></th>\n",
       "      <th>LiveBirthRate</th>\n",
       "      <th>DeathRate</th>\n",
       "      <th>InfantDeaths</th>\n",
       "      <th>MaleLifeExpectancy</th>\n",
       "      <th>FemaleLifeExpectancy</th>\n",
       "      <th>GNI</th>\n",
       "      <th>Region</th>\n",
       "      <th>Country</th>\n",
       "    </tr>\n",
       "  </thead>\n",
       "  <tbody>\n",
       "    <tr>\n",
       "      <th>92</th>\n",
       "      <td>52.2</td>\n",
       "      <td>15.6</td>\n",
       "      <td>103.0</td>\n",
       "      <td>49.9</td>\n",
       "      <td>52.7</td>\n",
       "      <td>220.0</td>\n",
       "      <td>6</td>\n",
       "      <td>Uganda</td>\n",
       "    </tr>\n",
       "    <tr>\n",
       "      <th>93</th>\n",
       "      <td>50.5</td>\n",
       "      <td>14.0</td>\n",
       "      <td>106.0</td>\n",
       "      <td>51.3</td>\n",
       "      <td>54.7</td>\n",
       "      <td>110.0</td>\n",
       "      <td>6</td>\n",
       "      <td>Tanzania</td>\n",
       "    </tr>\n",
       "    <tr>\n",
       "      <th>94</th>\n",
       "      <td>45.6</td>\n",
       "      <td>14.2</td>\n",
       "      <td>83.0</td>\n",
       "      <td>50.3</td>\n",
       "      <td>53.7</td>\n",
       "      <td>220.0</td>\n",
       "      <td>6</td>\n",
       "      <td>Zaire</td>\n",
       "    </tr>\n",
       "    <tr>\n",
       "      <th>95</th>\n",
       "      <td>51.1</td>\n",
       "      <td>13.7</td>\n",
       "      <td>80.0</td>\n",
       "      <td>50.4</td>\n",
       "      <td>52.5</td>\n",
       "      <td>420.0</td>\n",
       "      <td>6</td>\n",
       "      <td>Zambia</td>\n",
       "    </tr>\n",
       "    <tr>\n",
       "      <th>96</th>\n",
       "      <td>41.7</td>\n",
       "      <td>10.3</td>\n",
       "      <td>66.0</td>\n",
       "      <td>56.5</td>\n",
       "      <td>60.1</td>\n",
       "      <td>640.0</td>\n",
       "      <td>6</td>\n",
       "      <td>Zimbabwe</td>\n",
       "    </tr>\n",
       "  </tbody>\n",
       "</table>\n",
       "</div>"
      ],
      "text/plain": [
       "    LiveBirthRate  DeathRate  InfantDeaths  MaleLifeExpectancy  \\\n",
       "92           52.2       15.6         103.0                49.9   \n",
       "93           50.5       14.0         106.0                51.3   \n",
       "94           45.6       14.2          83.0                50.3   \n",
       "95           51.1       13.7          80.0                50.4   \n",
       "96           41.7       10.3          66.0                56.5   \n",
       "\n",
       "    FemaleLifeExpectancy    GNI  Region   Country  \n",
       "92                  52.7  220.0       6    Uganda  \n",
       "93                  54.7  110.0       6  Tanzania  \n",
       "94                  53.7  220.0       6     Zaire  \n",
       "95                  52.5  420.0       6    Zambia  \n",
       "96                  60.1  640.0       6  Zimbabwe  "
      ]
     },
     "execution_count": 10,
     "metadata": {},
     "output_type": "execute_result"
    }
   ],
   "source": [
    "povData.tail()"
   ]
  },
  {
   "cell_type": "code",
   "execution_count": 11,
   "id": "2d5534d4-8eac-4e18-b87d-bee042073db2",
   "metadata": {},
   "outputs": [
    {
     "data": {
      "text/html": [
       "<div>\n",
       "<style scoped>\n",
       "    .dataframe tbody tr th:only-of-type {\n",
       "        vertical-align: middle;\n",
       "    }\n",
       "\n",
       "    .dataframe tbody tr th {\n",
       "        vertical-align: top;\n",
       "    }\n",
       "\n",
       "    .dataframe thead th {\n",
       "        text-align: right;\n",
       "    }\n",
       "</style>\n",
       "<table border=\"1\" class=\"dataframe\">\n",
       "  <thead>\n",
       "    <tr style=\"text-align: right;\">\n",
       "      <th></th>\n",
       "      <th>LiveBirthRate</th>\n",
       "      <th>DeathRate</th>\n",
       "      <th>InfantDeaths</th>\n",
       "      <th>MaleLifeExpectancy</th>\n",
       "      <th>FemaleLifeExpectancy</th>\n",
       "      <th>GNI</th>\n",
       "      <th>Region</th>\n",
       "      <th>Country</th>\n",
       "    </tr>\n",
       "  </thead>\n",
       "  <tbody>\n",
       "    <tr>\n",
       "      <th>95</th>\n",
       "      <td>51.1</td>\n",
       "      <td>13.7</td>\n",
       "      <td>80.0</td>\n",
       "      <td>50.4</td>\n",
       "      <td>52.5</td>\n",
       "      <td>420.0</td>\n",
       "      <td>6</td>\n",
       "      <td>Zambia</td>\n",
       "    </tr>\n",
       "    <tr>\n",
       "      <th>96</th>\n",
       "      <td>41.7</td>\n",
       "      <td>10.3</td>\n",
       "      <td>66.0</td>\n",
       "      <td>56.5</td>\n",
       "      <td>60.1</td>\n",
       "      <td>640.0</td>\n",
       "      <td>6</td>\n",
       "      <td>Zimbabwe</td>\n",
       "    </tr>\n",
       "  </tbody>\n",
       "</table>\n",
       "</div>"
      ],
      "text/plain": [
       "    LiveBirthRate  DeathRate  InfantDeaths  MaleLifeExpectancy  \\\n",
       "95           51.1       13.7          80.0                50.4   \n",
       "96           41.7       10.3          66.0                56.5   \n",
       "\n",
       "    FemaleLifeExpectancy    GNI  Region   Country  \n",
       "95                  52.5  420.0       6    Zambia  \n",
       "96                  60.1  640.0       6  Zimbabwe  "
      ]
     },
     "execution_count": 11,
     "metadata": {},
     "output_type": "execute_result"
    }
   ],
   "source": [
    "povData.tail(2)"
   ]
  },
  {
   "cell_type": "markdown",
   "id": "130d5d8c-efca-4070-bd40-5d1083e564f5",
   "metadata": {},
   "source": [
    "What is the data type of the result of head() or tail()?"
   ]
  },
  {
   "cell_type": "code",
   "execution_count": 13,
   "id": "fd40d028-ea4f-49a9-8338-122fe7ca8bb1",
   "metadata": {},
   "outputs": [
    {
     "data": {
      "text/plain": [
       "(5, 8)"
      ]
     },
     "execution_count": 13,
     "metadata": {},
     "output_type": "execute_result"
    }
   ],
   "source": [
    "povData.head().shape"
   ]
  },
  {
   "cell_type": "code",
   "execution_count": null,
   "id": "35eead25-9db0-4c66-8470-e9dd2135fd64",
   "metadata": {},
   "outputs": [],
   "source": []
  }
 ],
 "metadata": {
  "kernelspec": {
   "display_name": "Python 3 (ipykernel)",
   "language": "python",
   "name": "python3"
  },
  "language_info": {
   "codemirror_mode": {
    "name": "ipython",
    "version": 3
   },
   "file_extension": ".py",
   "mimetype": "text/x-python",
   "name": "python",
   "nbconvert_exporter": "python",
   "pygments_lexer": "ipython3",
   "version": "3.7.10"
  }
 },
 "nbformat": 4,
 "nbformat_minor": 5
}
