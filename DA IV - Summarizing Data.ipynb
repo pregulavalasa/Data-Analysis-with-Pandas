{
 "cells": [
  {
   "cell_type": "markdown",
   "id": "eddd6a6e-4bdf-4489-8a2e-70a9f8cc615e",
   "metadata": {},
   "source": [
    "# Data Analysis in Python - IV: Summarizing Data"
   ]
  },
  {
   "cell_type": "markdown",
   "id": "d8478164-f32a-4bc9-b5ea-ecaac506d25c",
   "metadata": {},
   "source": [
    "## Introduction\n",
    "\n",
    "In this lesson, we will learn how summarize the data available in a dataframe. \n",
    "\n",
    "Note: \n",
    "1. Use the TOC to navigate between sections.\n"
   ]
  },
  {
   "cell_type": "markdown",
   "id": "60baa341-be91-438a-b9d7-154923738a68",
   "metadata": {},
   "source": [
    "## Summary Statistics for the DataFrame\n",
    "\n",
    "We can use the `describe()` function for a quick summary of the data."
   ]
  },
  {
   "cell_type": "code",
   "execution_count": 19,
   "id": "0f3bd36a-03ba-47ea-8616-f2ff1f3ee06c",
   "metadata": {},
   "outputs": [
    {
     "data": {
      "text/html": [
       "<div>\n",
       "<style scoped>\n",
       "    .dataframe tbody tr th:only-of-type {\n",
       "        vertical-align: middle;\n",
       "    }\n",
       "\n",
       "    .dataframe tbody tr th {\n",
       "        vertical-align: top;\n",
       "    }\n",
       "\n",
       "    .dataframe thead th {\n",
       "        text-align: right;\n",
       "    }\n",
       "</style>\n",
       "<table border=\"1\" class=\"dataframe\">\n",
       "  <thead>\n",
       "    <tr style=\"text-align: right;\">\n",
       "      <th></th>\n",
       "      <th>LiveBirthRate</th>\n",
       "      <th>DeathRate</th>\n",
       "      <th>InfantDeaths</th>\n",
       "      <th>MaleLifeExpectancy</th>\n",
       "      <th>FemaleLifeExpectancy</th>\n",
       "      <th>GNI</th>\n",
       "      <th>Region</th>\n",
       "      <th>Country</th>\n",
       "    </tr>\n",
       "  </thead>\n",
       "  <tbody>\n",
       "    <tr>\n",
       "      <th>0</th>\n",
       "      <td>24.7</td>\n",
       "      <td>5.7</td>\n",
       "      <td>30.8</td>\n",
       "      <td>69.6</td>\n",
       "      <td>75.5</td>\n",
       "      <td>600.0</td>\n",
       "      <td>1</td>\n",
       "      <td>Albania</td>\n",
       "    </tr>\n",
       "    <tr>\n",
       "      <th>1</th>\n",
       "      <td>12.5</td>\n",
       "      <td>11.9</td>\n",
       "      <td>14.4</td>\n",
       "      <td>68.3</td>\n",
       "      <td>74.7</td>\n",
       "      <td>2250.0</td>\n",
       "      <td>1</td>\n",
       "      <td>Bulgaria</td>\n",
       "    </tr>\n",
       "    <tr>\n",
       "      <th>2</th>\n",
       "      <td>13.4</td>\n",
       "      <td>11.7</td>\n",
       "      <td>11.3</td>\n",
       "      <td>71.8</td>\n",
       "      <td>77.7</td>\n",
       "      <td>2980.0</td>\n",
       "      <td>1</td>\n",
       "      <td>Czechoslovakia</td>\n",
       "    </tr>\n",
       "    <tr>\n",
       "      <th>3</th>\n",
       "      <td>12.0</td>\n",
       "      <td>12.4</td>\n",
       "      <td>7.6</td>\n",
       "      <td>69.8</td>\n",
       "      <td>75.9</td>\n",
       "      <td>NaN</td>\n",
       "      <td>1</td>\n",
       "      <td>Former_E._Germany</td>\n",
       "    </tr>\n",
       "    <tr>\n",
       "      <th>4</th>\n",
       "      <td>11.6</td>\n",
       "      <td>13.4</td>\n",
       "      <td>14.8</td>\n",
       "      <td>65.4</td>\n",
       "      <td>73.8</td>\n",
       "      <td>2780.0</td>\n",
       "      <td>1</td>\n",
       "      <td>Hungary</td>\n",
       "    </tr>\n",
       "  </tbody>\n",
       "</table>\n",
       "</div>"
      ],
      "text/plain": [
       "   LiveBirthRate  DeathRate  InfantDeaths  MaleLifeExpectancy  \\\n",
       "0           24.7        5.7          30.8                69.6   \n",
       "1           12.5       11.9          14.4                68.3   \n",
       "2           13.4       11.7          11.3                71.8   \n",
       "3           12.0       12.4           7.6                69.8   \n",
       "4           11.6       13.4          14.8                65.4   \n",
       "\n",
       "   FemaleLifeExpectancy     GNI  Region            Country  \n",
       "0                  75.5   600.0       1            Albania  \n",
       "1                  74.7  2250.0       1           Bulgaria  \n",
       "2                  77.7  2980.0       1     Czechoslovakia  \n",
       "3                  75.9     NaN       1  Former_E._Germany  \n",
       "4                  73.8  2780.0       1            Hungary  "
      ]
     },
     "execution_count": 19,
     "metadata": {},
     "output_type": "execute_result"
    }
   ],
   "source": [
    "# Load the dataset into a DataFrame\n",
    "\n",
    "import pandas as pd\n",
    "\n",
    "povData = pd.read_csv('../scratch/PovertyData.csv', sep=',',na_values=\"*\")\n",
    "povData.head()"
   ]
  },
  {
   "cell_type": "code",
   "execution_count": 18,
   "id": "84877f52-efad-47dc-8164-724d5a777003",
   "metadata": {},
   "outputs": [
    {
     "data": {
      "text/html": [
       "<div>\n",
       "<style scoped>\n",
       "    .dataframe tbody tr th:only-of-type {\n",
       "        vertical-align: middle;\n",
       "    }\n",
       "\n",
       "    .dataframe tbody tr th {\n",
       "        vertical-align: top;\n",
       "    }\n",
       "\n",
       "    .dataframe thead th {\n",
       "        text-align: right;\n",
       "    }\n",
       "</style>\n",
       "<table border=\"1\" class=\"dataframe\">\n",
       "  <thead>\n",
       "    <tr style=\"text-align: right;\">\n",
       "      <th></th>\n",
       "      <th>LiveBirthRate</th>\n",
       "      <th>DeathRate</th>\n",
       "      <th>InfantDeaths</th>\n",
       "      <th>MaleLifeExpectancy</th>\n",
       "      <th>FemaleLifeExpectancy</th>\n",
       "      <th>GNI</th>\n",
       "      <th>Region</th>\n",
       "    </tr>\n",
       "  </thead>\n",
       "  <tbody>\n",
       "    <tr>\n",
       "      <th>count</th>\n",
       "      <td>97.000000</td>\n",
       "      <td>97.000000</td>\n",
       "      <td>97.000000</td>\n",
       "      <td>97.000000</td>\n",
       "      <td>97.000000</td>\n",
       "      <td>91.000000</td>\n",
       "      <td>97.000000</td>\n",
       "    </tr>\n",
       "    <tr>\n",
       "      <th>mean</th>\n",
       "      <td>29.229897</td>\n",
       "      <td>10.836082</td>\n",
       "      <td>54.901031</td>\n",
       "      <td>61.485567</td>\n",
       "      <td>66.151134</td>\n",
       "      <td>5741.252747</td>\n",
       "      <td>3.948454</td>\n",
       "    </tr>\n",
       "    <tr>\n",
       "      <th>std</th>\n",
       "      <td>13.546695</td>\n",
       "      <td>4.647495</td>\n",
       "      <td>45.992584</td>\n",
       "      <td>9.615970</td>\n",
       "      <td>11.005391</td>\n",
       "      <td>8093.679853</td>\n",
       "      <td>1.740277</td>\n",
       "    </tr>\n",
       "    <tr>\n",
       "      <th>min</th>\n",
       "      <td>9.700000</td>\n",
       "      <td>2.200000</td>\n",
       "      <td>4.500000</td>\n",
       "      <td>38.100000</td>\n",
       "      <td>41.200000</td>\n",
       "      <td>80.000000</td>\n",
       "      <td>1.000000</td>\n",
       "    </tr>\n",
       "    <tr>\n",
       "      <th>25%</th>\n",
       "      <td>14.500000</td>\n",
       "      <td>7.800000</td>\n",
       "      <td>13.100000</td>\n",
       "      <td>55.800000</td>\n",
       "      <td>57.500000</td>\n",
       "      <td>475.000000</td>\n",
       "      <td>3.000000</td>\n",
       "    </tr>\n",
       "    <tr>\n",
       "      <th>50%</th>\n",
       "      <td>29.000000</td>\n",
       "      <td>9.500000</td>\n",
       "      <td>43.000000</td>\n",
       "      <td>63.700000</td>\n",
       "      <td>67.800000</td>\n",
       "      <td>1690.000000</td>\n",
       "      <td>4.000000</td>\n",
       "    </tr>\n",
       "    <tr>\n",
       "      <th>75%</th>\n",
       "      <td>42.200000</td>\n",
       "      <td>12.500000</td>\n",
       "      <td>83.000000</td>\n",
       "      <td>68.600000</td>\n",
       "      <td>75.400000</td>\n",
       "      <td>7325.000000</td>\n",
       "      <td>6.000000</td>\n",
       "    </tr>\n",
       "    <tr>\n",
       "      <th>max</th>\n",
       "      <td>52.200000</td>\n",
       "      <td>25.000000</td>\n",
       "      <td>181.600000</td>\n",
       "      <td>75.900000</td>\n",
       "      <td>81.800000</td>\n",
       "      <td>34064.000000</td>\n",
       "      <td>6.000000</td>\n",
       "    </tr>\n",
       "  </tbody>\n",
       "</table>\n",
       "</div>"
      ],
      "text/plain": [
       "       LiveBirthRate  DeathRate  InfantDeaths  MaleLifeExpectancy  \\\n",
       "count      97.000000  97.000000     97.000000           97.000000   \n",
       "mean       29.229897  10.836082     54.901031           61.485567   \n",
       "std        13.546695   4.647495     45.992584            9.615970   \n",
       "min         9.700000   2.200000      4.500000           38.100000   \n",
       "25%        14.500000   7.800000     13.100000           55.800000   \n",
       "50%        29.000000   9.500000     43.000000           63.700000   \n",
       "75%        42.200000  12.500000     83.000000           68.600000   \n",
       "max        52.200000  25.000000    181.600000           75.900000   \n",
       "\n",
       "       FemaleLifeExpectancy           GNI     Region  \n",
       "count             97.000000     91.000000  97.000000  \n",
       "mean              66.151134   5741.252747   3.948454  \n",
       "std               11.005391   8093.679853   1.740277  \n",
       "min               41.200000     80.000000   1.000000  \n",
       "25%               57.500000    475.000000   3.000000  \n",
       "50%               67.800000   1690.000000   4.000000  \n",
       "75%               75.400000   7325.000000   6.000000  \n",
       "max               81.800000  34064.000000   6.000000  "
      ]
     },
     "execution_count": 18,
     "metadata": {},
     "output_type": "execute_result"
    }
   ],
   "source": [
    "povData.describe()"
   ]
  },
  {
   "cell_type": "markdown",
   "id": "89392229-fd9c-4fab-995b-b269f00e147d",
   "metadata": {},
   "source": [
    "Why is the count of the GNI column lower?"
   ]
  },
  {
   "cell_type": "markdown",
   "id": "ea1ae656-13e4-43a8-b5a3-9579caeef406",
   "metadata": {},
   "source": [
    "## Summary Statistics for Subsets\n",
    "\n",
    "You can also calculate statistics for individual columns or specific subsets of the data."
   ]
  },
  {
   "cell_type": "code",
   "execution_count": 4,
   "id": "4d08dfce-6794-4a17-b417-edcd50d2c32f",
   "metadata": {},
   "outputs": [
    {
     "data": {
      "text/plain": [
       "9.7"
      ]
     },
     "execution_count": 4,
     "metadata": {},
     "output_type": "execute_result"
    }
   ],
   "source": [
    "# min live birth rate\n",
    "povData['LiveBirthRate'].min()"
   ]
  },
  {
   "cell_type": "code",
   "execution_count": 6,
   "id": "1605706d-7406-477c-be63-3373ab21edfd",
   "metadata": {},
   "outputs": [
    {
     "data": {
      "text/plain": [
       "18.0"
      ]
     },
     "execution_count": 6,
     "metadata": {},
     "output_type": "execute_result"
    }
   ],
   "source": [
    "# max death rate among the first 20 countries\n",
    "povData.iloc[0:20,1].max()"
   ]
  },
  {
   "cell_type": "code",
   "execution_count": 7,
   "id": "10d1101d-2f18-4258-9a94-a5b39cf4f245",
   "metadata": {},
   "outputs": [
    {
     "data": {
      "text/plain": [
       "18.0"
      ]
     },
     "execution_count": 7,
     "metadata": {},
     "output_type": "execute_result"
    }
   ],
   "source": [
    "povData.iloc[0:20]['DeathRate'].max()"
   ]
  },
  {
   "cell_type": "code",
   "execution_count": 8,
   "id": "83f34efb-a59d-4383-adc5-c7d676c8e879",
   "metadata": {},
   "outputs": [
    {
     "data": {
      "text/plain": [
       "LiveBirthRate    9.7\n",
       "DeathRate        2.2\n",
       "dtype: float64"
      ]
     },
     "execution_count": 8,
     "metadata": {},
     "output_type": "execute_result"
    }
   ],
   "source": [
    "# min or birth rate and death rate\n",
    "povData[['LiveBirthRate','DeathRate']].min()"
   ]
  },
  {
   "cell_type": "markdown",
   "id": "6c11cae0-4c32-48fd-94de-2044b6fa9ec4",
   "metadata": {},
   "source": [
    "Sometimes you may want to retrieve the index of the row with a specific value. For example, the index of the row with the lowest live birth rate."
   ]
  },
  {
   "cell_type": "code",
   "execution_count": 9,
   "id": "13e999bd-fd53-42e1-be7f-c48d28d8aebc",
   "metadata": {},
   "outputs": [
    {
     "data": {
      "text/plain": [
       "30"
      ]
     },
     "execution_count": 9,
     "metadata": {},
     "output_type": "execute_result"
    }
   ],
   "source": [
    "# index of the row that has the min live birth rate\n",
    "povData['LiveBirthRate'].idxmin()"
   ]
  },
  {
   "cell_type": "markdown",
   "id": "f3ab3d79-e35c-4790-9d0d-f88d07e36b25",
   "metadata": {},
   "source": [
    "The default behaviour is to compute the statistics across rows (i.e., summarize all values for a column for all rows in the subset). To perform the operation across various columns of a row, you can specify `axis=1` or `axis='columns'`."
   ]
  },
  {
   "cell_type": "code",
   "execution_count": 11,
   "id": "f7845245-f065-42b0-b9a0-b036b1ba4186",
   "metadata": {},
   "outputs": [
    {
     "data": {
      "text/plain": [
       "0      5.7\n",
       "1     11.9\n",
       "2     11.3\n",
       "3      7.6\n",
       "4     13.4\n",
       "      ... \n",
       "92    15.6\n",
       "93    14.0\n",
       "94    14.2\n",
       "95    13.7\n",
       "96    10.3\n",
       "Length: 97, dtype: float64"
      ]
     },
     "execution_count": 11,
     "metadata": {},
     "output_type": "execute_result"
    }
   ],
   "source": [
    "# min of death rate and infant deaths for each country\n",
    "povData[['DeathRate','InfantDeaths']].min(axis='columns')"
   ]
  },
  {
   "cell_type": "code",
   "execution_count": null,
   "id": "7555e073-6d46-4552-8c24-bfec65065cde",
   "metadata": {},
   "outputs": [],
   "source": []
  },
  {
   "cell_type": "markdown",
   "id": "00739785-4010-4e3a-922a-d2a493fb0e9c",
   "metadata": {
    "tags": []
   },
   "source": [
    "Familiarize yourself with the available summary functions.\n"
   ]
  },
  {
   "cell_type": "markdown",
   "id": "5c9899d5-3116-4e41-98f9-fe04ecb6e834",
   "metadata": {},
   "source": [
    "## Bivariate Statistics\n",
    "\n",
    "Some summary statistics are calculated on more than one variable. These are supported with specific functions. Let us try some examples. "
   ]
  },
  {
   "cell_type": "code",
   "execution_count": 10,
   "id": "d195d125-c7dc-4e82-84bd-46250fb7c02b",
   "metadata": {},
   "outputs": [
    {
     "data": {
      "text/plain": [
       "0.9825578248134278"
      ]
     },
     "execution_count": 10,
     "metadata": {},
     "output_type": "execute_result"
    }
   ],
   "source": [
    "# calculate correlation between male and female life expectancy\n",
    "povData['MaleLifeExpectancy'].corr(povData['FemaleLifeExpectancy'])\n"
   ]
  },
  {
   "cell_type": "code",
   "execution_count": 11,
   "id": "f385ccd0-5716-48b0-b510-0cd38b2abc79",
   "metadata": {},
   "outputs": [
    {
     "data": {
      "text/html": [
       "<div>\n",
       "<style scoped>\n",
       "    .dataframe tbody tr th:only-of-type {\n",
       "        vertical-align: middle;\n",
       "    }\n",
       "\n",
       "    .dataframe tbody tr th {\n",
       "        vertical-align: top;\n",
       "    }\n",
       "\n",
       "    .dataframe thead th {\n",
       "        text-align: right;\n",
       "    }\n",
       "</style>\n",
       "<table border=\"1\" class=\"dataframe\">\n",
       "  <thead>\n",
       "    <tr style=\"text-align: right;\">\n",
       "      <th></th>\n",
       "      <th>LiveBirthRate</th>\n",
       "      <th>DeathRate</th>\n",
       "      <th>InfantDeaths</th>\n",
       "      <th>MaleLifeExpectancy</th>\n",
       "      <th>FemaleLifeExpectancy</th>\n",
       "      <th>GNI</th>\n",
       "      <th>Region</th>\n",
       "    </tr>\n",
       "  </thead>\n",
       "  <tbody>\n",
       "    <tr>\n",
       "      <th>LiveBirthRate</th>\n",
       "      <td>1.000000</td>\n",
       "      <td>0.486197</td>\n",
       "      <td>0.858353</td>\n",
       "      <td>-0.866519</td>\n",
       "      <td>-0.894414</td>\n",
       "      <td>-0.629059</td>\n",
       "      <td>0.716883</td>\n",
       "    </tr>\n",
       "    <tr>\n",
       "      <th>DeathRate</th>\n",
       "      <td>0.486197</td>\n",
       "      <td>1.000000</td>\n",
       "      <td>0.654623</td>\n",
       "      <td>-0.733467</td>\n",
       "      <td>-0.693033</td>\n",
       "      <td>-0.302754</td>\n",
       "      <td>0.339988</td>\n",
       "    </tr>\n",
       "    <tr>\n",
       "      <th>InfantDeaths</th>\n",
       "      <td>0.858353</td>\n",
       "      <td>0.654623</td>\n",
       "      <td>1.000000</td>\n",
       "      <td>-0.936838</td>\n",
       "      <td>-0.955352</td>\n",
       "      <td>-0.601647</td>\n",
       "      <td>0.632524</td>\n",
       "    </tr>\n",
       "    <tr>\n",
       "      <th>MaleLifeExpectancy</th>\n",
       "      <td>-0.866519</td>\n",
       "      <td>-0.733467</td>\n",
       "      <td>-0.936838</td>\n",
       "      <td>1.000000</td>\n",
       "      <td>0.982558</td>\n",
       "      <td>0.642963</td>\n",
       "      <td>-0.639382</td>\n",
       "    </tr>\n",
       "    <tr>\n",
       "      <th>FemaleLifeExpectancy</th>\n",
       "      <td>-0.894414</td>\n",
       "      <td>-0.693033</td>\n",
       "      <td>-0.955352</td>\n",
       "      <td>0.982558</td>\n",
       "      <td>1.000000</td>\n",
       "      <td>0.650040</td>\n",
       "      <td>-0.693409</td>\n",
       "    </tr>\n",
       "    <tr>\n",
       "      <th>GNI</th>\n",
       "      <td>-0.629059</td>\n",
       "      <td>-0.302754</td>\n",
       "      <td>-0.601647</td>\n",
       "      <td>0.642963</td>\n",
       "      <td>0.650040</td>\n",
       "      <td>1.000000</td>\n",
       "      <td>-0.283399</td>\n",
       "    </tr>\n",
       "    <tr>\n",
       "      <th>Region</th>\n",
       "      <td>0.716883</td>\n",
       "      <td>0.339988</td>\n",
       "      <td>0.632524</td>\n",
       "      <td>-0.639382</td>\n",
       "      <td>-0.693409</td>\n",
       "      <td>-0.283399</td>\n",
       "      <td>1.000000</td>\n",
       "    </tr>\n",
       "  </tbody>\n",
       "</table>\n",
       "</div>"
      ],
      "text/plain": [
       "                      LiveBirthRate  DeathRate  InfantDeaths  \\\n",
       "LiveBirthRate              1.000000   0.486197      0.858353   \n",
       "DeathRate                  0.486197   1.000000      0.654623   \n",
       "InfantDeaths               0.858353   0.654623      1.000000   \n",
       "MaleLifeExpectancy        -0.866519  -0.733467     -0.936838   \n",
       "FemaleLifeExpectancy      -0.894414  -0.693033     -0.955352   \n",
       "GNI                       -0.629059  -0.302754     -0.601647   \n",
       "Region                     0.716883   0.339988      0.632524   \n",
       "\n",
       "                      MaleLifeExpectancy  FemaleLifeExpectancy       GNI  \\\n",
       "LiveBirthRate                  -0.866519             -0.894414 -0.629059   \n",
       "DeathRate                      -0.733467             -0.693033 -0.302754   \n",
       "InfantDeaths                   -0.936838             -0.955352 -0.601647   \n",
       "MaleLifeExpectancy              1.000000              0.982558  0.642963   \n",
       "FemaleLifeExpectancy            0.982558              1.000000  0.650040   \n",
       "GNI                             0.642963              0.650040  1.000000   \n",
       "Region                         -0.639382             -0.693409 -0.283399   \n",
       "\n",
       "                        Region  \n",
       "LiveBirthRate         0.716883  \n",
       "DeathRate             0.339988  \n",
       "InfantDeaths          0.632524  \n",
       "MaleLifeExpectancy   -0.639382  \n",
       "FemaleLifeExpectancy -0.693409  \n",
       "GNI                  -0.283399  \n",
       "Region                1.000000  "
      ]
     },
     "execution_count": 11,
     "metadata": {},
     "output_type": "execute_result"
    }
   ],
   "source": [
    "# calculate pairwise correlations for all numeric columns in the data\n",
    "povData.corr()"
   ]
  },
  {
   "cell_type": "markdown",
   "id": "f4981651-d4f1-4057-ba7b-0275fd6579c9",
   "metadata": {},
   "source": [
    "## Unique Values, Counts and, Membership\n",
    "\n",
    "pandas includes functions that can provide information about counts, list unique values and test membership."
   ]
  },
  {
   "cell_type": "markdown",
   "id": "28b5b00b-5760-4b67-b4e7-9f2da66064bb",
   "metadata": {},
   "source": [
    "Write code below and add notes explaining what the function does."
   ]
  },
  {
   "cell_type": "code",
   "execution_count": 12,
   "id": "0006b2d0-e2e8-47a8-8b33-3021e9cc239b",
   "metadata": {},
   "outputs": [
    {
     "data": {
      "text/plain": [
       "97"
      ]
     },
     "execution_count": 12,
     "metadata": {},
     "output_type": "execute_result"
    }
   ],
   "source": [
    "# use count() with Region column\n",
    "povData['Region'].count()"
   ]
  },
  {
   "cell_type": "code",
   "execution_count": 16,
   "id": "b3c8a1df-2e30-4dc1-9594-58acdffedd03",
   "metadata": {},
   "outputs": [
    {
     "data": {
      "text/plain": [
       "91"
      ]
     },
     "execution_count": 16,
     "metadata": {},
     "output_type": "execute_result"
    }
   ],
   "source": [
    "# use count() with GNI column\n",
    "povData['GNI'].count()"
   ]
  },
  {
   "cell_type": "markdown",
   "id": "346dd684-62be-41ef-9820-5a3529bbff49",
   "metadata": {},
   "source": [
    "`count()` - "
   ]
  },
  {
   "cell_type": "code",
   "execution_count": 14,
   "id": "2767cc47-a11d-4922-84aa-0f5b2d11647c",
   "metadata": {},
   "outputs": [
    {
     "data": {
      "text/plain": [
       "6"
      ]
     },
     "execution_count": 14,
     "metadata": {},
     "output_type": "execute_result"
    }
   ],
   "source": [
    "# use nunique() with Region column \n",
    "povData['Region'].nunique()"
   ]
  },
  {
   "cell_type": "markdown",
   "id": "55556eff-5888-41d2-b85c-ca061c6e75d5",
   "metadata": {},
   "source": [
    "`nunique()` - "
   ]
  },
  {
   "cell_type": "code",
   "execution_count": 15,
   "id": "f35cd758-076c-4357-a62a-a859d817f544",
   "metadata": {},
   "outputs": [
    {
     "data": {
      "text/plain": [
       "6    27\n",
       "3    19\n",
       "5    17\n",
       "2    12\n",
       "1    11\n",
       "4    11\n",
       "Name: Region, dtype: int64"
      ]
     },
     "execution_count": 15,
     "metadata": {},
     "output_type": "execute_result"
    }
   ],
   "source": [
    "# use value counts with Region column\n",
    "povData['Region'].value_counts()"
   ]
  },
  {
   "cell_type": "markdown",
   "id": "6636dd11-9cb6-4e88-a0ed-469d2fe6b5fc",
   "metadata": {},
   "source": [
    "`value_counts()` - "
   ]
  },
  {
   "cell_type": "code",
   "execution_count": 17,
   "id": "e318ecf0-018f-4466-8737-93b2101582bc",
   "metadata": {},
   "outputs": [
    {
     "data": {
      "text/plain": [
       "array([1, 2, 3, 5, 4, 6])"
      ]
     },
     "execution_count": 17,
     "metadata": {},
     "output_type": "execute_result"
    }
   ],
   "source": [
    "# use unique() with Region column\n",
    "povData['Region'].unique()"
   ]
  },
  {
   "cell_type": "markdown",
   "id": "5abb6fa6-72e5-46f1-a7d5-0d9b2d84f335",
   "metadata": {},
   "source": [
    "`unique()` - "
   ]
  },
  {
   "cell_type": "code",
   "execution_count": 23,
   "id": "80f9f412-2b34-43a9-890f-a83c43a96db2",
   "metadata": {},
   "outputs": [
    {
     "data": {
      "text/html": [
       "<div>\n",
       "<style scoped>\n",
       "    .dataframe tbody tr th:only-of-type {\n",
       "        vertical-align: middle;\n",
       "    }\n",
       "\n",
       "    .dataframe tbody tr th {\n",
       "        vertical-align: top;\n",
       "    }\n",
       "\n",
       "    .dataframe thead th {\n",
       "        text-align: right;\n",
       "    }\n",
       "</style>\n",
       "<table border=\"1\" class=\"dataframe\">\n",
       "  <thead>\n",
       "    <tr style=\"text-align: right;\">\n",
       "      <th></th>\n",
       "      <th>LiveBirthRate</th>\n",
       "      <th>DeathRate</th>\n",
       "      <th>InfantDeaths</th>\n",
       "      <th>MaleLifeExpectancy</th>\n",
       "      <th>FemaleLifeExpectancy</th>\n",
       "      <th>GNI</th>\n",
       "      <th>Region</th>\n",
       "      <th>Country</th>\n",
       "    </tr>\n",
       "  </thead>\n",
       "  <tbody>\n",
       "    <tr>\n",
       "      <th>0</th>\n",
       "      <td>24.7</td>\n",
       "      <td>5.7</td>\n",
       "      <td>30.8</td>\n",
       "      <td>69.6</td>\n",
       "      <td>75.5</td>\n",
       "      <td>600.0</td>\n",
       "      <td>1</td>\n",
       "      <td>Albania</td>\n",
       "    </tr>\n",
       "    <tr>\n",
       "      <th>1</th>\n",
       "      <td>12.5</td>\n",
       "      <td>11.9</td>\n",
       "      <td>14.4</td>\n",
       "      <td>68.3</td>\n",
       "      <td>74.7</td>\n",
       "      <td>2250.0</td>\n",
       "      <td>1</td>\n",
       "      <td>Bulgaria</td>\n",
       "    </tr>\n",
       "    <tr>\n",
       "      <th>2</th>\n",
       "      <td>13.4</td>\n",
       "      <td>11.7</td>\n",
       "      <td>11.3</td>\n",
       "      <td>71.8</td>\n",
       "      <td>77.7</td>\n",
       "      <td>2980.0</td>\n",
       "      <td>1</td>\n",
       "      <td>Czechoslovakia</td>\n",
       "    </tr>\n",
       "    <tr>\n",
       "      <th>3</th>\n",
       "      <td>12.0</td>\n",
       "      <td>12.4</td>\n",
       "      <td>7.6</td>\n",
       "      <td>69.8</td>\n",
       "      <td>75.9</td>\n",
       "      <td>NaN</td>\n",
       "      <td>1</td>\n",
       "      <td>Former_E._Germany</td>\n",
       "    </tr>\n",
       "    <tr>\n",
       "      <th>4</th>\n",
       "      <td>11.6</td>\n",
       "      <td>13.4</td>\n",
       "      <td>14.8</td>\n",
       "      <td>65.4</td>\n",
       "      <td>73.8</td>\n",
       "      <td>2780.0</td>\n",
       "      <td>1</td>\n",
       "      <td>Hungary</td>\n",
       "    </tr>\n",
       "    <tr>\n",
       "      <th>5</th>\n",
       "      <td>14.3</td>\n",
       "      <td>10.2</td>\n",
       "      <td>16.0</td>\n",
       "      <td>67.2</td>\n",
       "      <td>75.7</td>\n",
       "      <td>1690.0</td>\n",
       "      <td>1</td>\n",
       "      <td>Poland</td>\n",
       "    </tr>\n",
       "    <tr>\n",
       "      <th>6</th>\n",
       "      <td>13.6</td>\n",
       "      <td>10.7</td>\n",
       "      <td>26.9</td>\n",
       "      <td>66.5</td>\n",
       "      <td>72.4</td>\n",
       "      <td>1640.0</td>\n",
       "      <td>1</td>\n",
       "      <td>Romania</td>\n",
       "    </tr>\n",
       "    <tr>\n",
       "      <th>7</th>\n",
       "      <td>14.0</td>\n",
       "      <td>9.0</td>\n",
       "      <td>20.2</td>\n",
       "      <td>68.6</td>\n",
       "      <td>74.5</td>\n",
       "      <td>NaN</td>\n",
       "      <td>1</td>\n",
       "      <td>Yugoslavia</td>\n",
       "    </tr>\n",
       "    <tr>\n",
       "      <th>8</th>\n",
       "      <td>17.7</td>\n",
       "      <td>10.0</td>\n",
       "      <td>23.0</td>\n",
       "      <td>64.6</td>\n",
       "      <td>74.0</td>\n",
       "      <td>2242.0</td>\n",
       "      <td>1</td>\n",
       "      <td>USSR</td>\n",
       "    </tr>\n",
       "    <tr>\n",
       "      <th>9</th>\n",
       "      <td>15.2</td>\n",
       "      <td>9.5</td>\n",
       "      <td>13.1</td>\n",
       "      <td>66.4</td>\n",
       "      <td>75.9</td>\n",
       "      <td>1880.0</td>\n",
       "      <td>1</td>\n",
       "      <td>Byelorussian_SSR</td>\n",
       "    </tr>\n",
       "    <tr>\n",
       "      <th>10</th>\n",
       "      <td>13.4</td>\n",
       "      <td>11.6</td>\n",
       "      <td>13.0</td>\n",
       "      <td>66.4</td>\n",
       "      <td>74.8</td>\n",
       "      <td>1320.0</td>\n",
       "      <td>1</td>\n",
       "      <td>Ukrainian_SSR</td>\n",
       "    </tr>\n",
       "    <tr>\n",
       "      <th>11</th>\n",
       "      <td>20.7</td>\n",
       "      <td>8.4</td>\n",
       "      <td>25.7</td>\n",
       "      <td>65.5</td>\n",
       "      <td>72.7</td>\n",
       "      <td>2370.0</td>\n",
       "      <td>2</td>\n",
       "      <td>Argentina</td>\n",
       "    </tr>\n",
       "    <tr>\n",
       "      <th>12</th>\n",
       "      <td>46.6</td>\n",
       "      <td>18.0</td>\n",
       "      <td>111.0</td>\n",
       "      <td>51.0</td>\n",
       "      <td>55.4</td>\n",
       "      <td>630.0</td>\n",
       "      <td>2</td>\n",
       "      <td>Bolivia</td>\n",
       "    </tr>\n",
       "    <tr>\n",
       "      <th>13</th>\n",
       "      <td>28.6</td>\n",
       "      <td>7.9</td>\n",
       "      <td>63.0</td>\n",
       "      <td>62.3</td>\n",
       "      <td>67.6</td>\n",
       "      <td>2680.0</td>\n",
       "      <td>2</td>\n",
       "      <td>Brazil</td>\n",
       "    </tr>\n",
       "    <tr>\n",
       "      <th>14</th>\n",
       "      <td>23.4</td>\n",
       "      <td>5.8</td>\n",
       "      <td>17.1</td>\n",
       "      <td>68.1</td>\n",
       "      <td>75.1</td>\n",
       "      <td>1940.0</td>\n",
       "      <td>2</td>\n",
       "      <td>Chile</td>\n",
       "    </tr>\n",
       "    <tr>\n",
       "      <th>15</th>\n",
       "      <td>27.4</td>\n",
       "      <td>6.1</td>\n",
       "      <td>40.0</td>\n",
       "      <td>63.4</td>\n",
       "      <td>69.2</td>\n",
       "      <td>1260.0</td>\n",
       "      <td>2</td>\n",
       "      <td>Columbia</td>\n",
       "    </tr>\n",
       "    <tr>\n",
       "      <th>16</th>\n",
       "      <td>32.9</td>\n",
       "      <td>7.4</td>\n",
       "      <td>63.0</td>\n",
       "      <td>63.4</td>\n",
       "      <td>67.6</td>\n",
       "      <td>980.0</td>\n",
       "      <td>2</td>\n",
       "      <td>Ecuador</td>\n",
       "    </tr>\n",
       "    <tr>\n",
       "      <th>17</th>\n",
       "      <td>28.3</td>\n",
       "      <td>7.3</td>\n",
       "      <td>56.0</td>\n",
       "      <td>60.4</td>\n",
       "      <td>66.1</td>\n",
       "      <td>330.0</td>\n",
       "      <td>2</td>\n",
       "      <td>Guyana</td>\n",
       "    </tr>\n",
       "    <tr>\n",
       "      <th>18</th>\n",
       "      <td>34.8</td>\n",
       "      <td>6.6</td>\n",
       "      <td>42.0</td>\n",
       "      <td>64.4</td>\n",
       "      <td>68.5</td>\n",
       "      <td>1110.0</td>\n",
       "      <td>2</td>\n",
       "      <td>Paraguay</td>\n",
       "    </tr>\n",
       "    <tr>\n",
       "      <th>19</th>\n",
       "      <td>32.9</td>\n",
       "      <td>8.3</td>\n",
       "      <td>109.9</td>\n",
       "      <td>56.8</td>\n",
       "      <td>66.5</td>\n",
       "      <td>1160.0</td>\n",
       "      <td>2</td>\n",
       "      <td>Peru</td>\n",
       "    </tr>\n",
       "    <tr>\n",
       "      <th>20</th>\n",
       "      <td>18.0</td>\n",
       "      <td>9.6</td>\n",
       "      <td>21.9</td>\n",
       "      <td>68.4</td>\n",
       "      <td>74.9</td>\n",
       "      <td>2560.0</td>\n",
       "      <td>2</td>\n",
       "      <td>Uruguay</td>\n",
       "    </tr>\n",
       "    <tr>\n",
       "      <th>21</th>\n",
       "      <td>27.5</td>\n",
       "      <td>4.4</td>\n",
       "      <td>23.3</td>\n",
       "      <td>66.7</td>\n",
       "      <td>72.8</td>\n",
       "      <td>2560.0</td>\n",
       "      <td>2</td>\n",
       "      <td>Venezuela</td>\n",
       "    </tr>\n",
       "    <tr>\n",
       "      <th>22</th>\n",
       "      <td>29.0</td>\n",
       "      <td>23.2</td>\n",
       "      <td>43.0</td>\n",
       "      <td>62.1</td>\n",
       "      <td>66.0</td>\n",
       "      <td>2490.0</td>\n",
       "      <td>2</td>\n",
       "      <td>Mexico</td>\n",
       "    </tr>\n",
       "  </tbody>\n",
       "</table>\n",
       "</div>"
      ],
      "text/plain": [
       "    LiveBirthRate  DeathRate  InfantDeaths  MaleLifeExpectancy  \\\n",
       "0            24.7        5.7          30.8                69.6   \n",
       "1            12.5       11.9          14.4                68.3   \n",
       "2            13.4       11.7          11.3                71.8   \n",
       "3            12.0       12.4           7.6                69.8   \n",
       "4            11.6       13.4          14.8                65.4   \n",
       "5            14.3       10.2          16.0                67.2   \n",
       "6            13.6       10.7          26.9                66.5   \n",
       "7            14.0        9.0          20.2                68.6   \n",
       "8            17.7       10.0          23.0                64.6   \n",
       "9            15.2        9.5          13.1                66.4   \n",
       "10           13.4       11.6          13.0                66.4   \n",
       "11           20.7        8.4          25.7                65.5   \n",
       "12           46.6       18.0         111.0                51.0   \n",
       "13           28.6        7.9          63.0                62.3   \n",
       "14           23.4        5.8          17.1                68.1   \n",
       "15           27.4        6.1          40.0                63.4   \n",
       "16           32.9        7.4          63.0                63.4   \n",
       "17           28.3        7.3          56.0                60.4   \n",
       "18           34.8        6.6          42.0                64.4   \n",
       "19           32.9        8.3         109.9                56.8   \n",
       "20           18.0        9.6          21.9                68.4   \n",
       "21           27.5        4.4          23.3                66.7   \n",
       "22           29.0       23.2          43.0                62.1   \n",
       "\n",
       "    FemaleLifeExpectancy     GNI  Region            Country  \n",
       "0                   75.5   600.0       1            Albania  \n",
       "1                   74.7  2250.0       1           Bulgaria  \n",
       "2                   77.7  2980.0       1     Czechoslovakia  \n",
       "3                   75.9     NaN       1  Former_E._Germany  \n",
       "4                   73.8  2780.0       1            Hungary  \n",
       "5                   75.7  1690.0       1             Poland  \n",
       "6                   72.4  1640.0       1            Romania  \n",
       "7                   74.5     NaN       1         Yugoslavia  \n",
       "8                   74.0  2242.0       1               USSR  \n",
       "9                   75.9  1880.0       1   Byelorussian_SSR  \n",
       "10                  74.8  1320.0       1      Ukrainian_SSR  \n",
       "11                  72.7  2370.0       2          Argentina  \n",
       "12                  55.4   630.0       2            Bolivia  \n",
       "13                  67.6  2680.0       2             Brazil  \n",
       "14                  75.1  1940.0       2              Chile  \n",
       "15                  69.2  1260.0       2           Columbia  \n",
       "16                  67.6   980.0       2            Ecuador  \n",
       "17                  66.1   330.0       2             Guyana  \n",
       "18                  68.5  1110.0       2           Paraguay  \n",
       "19                  66.5  1160.0       2               Peru  \n",
       "20                  74.9  2560.0       2            Uruguay  \n",
       "21                  72.8  2560.0       2          Venezuela  \n",
       "22                  66.0  2490.0       2             Mexico  "
      ]
     },
     "execution_count": 23,
     "metadata": {},
     "output_type": "execute_result"
    }
   ],
   "source": [
    "# use isin with Region column as shown\n",
    "povData[povData['Region'].isin([1,2])]"
   ]
  },
  {
   "cell_type": "markdown",
   "id": "db1b12e6-421f-47ae-92c9-68d3ffbec439",
   "metadata": {},
   "source": [
    "`isin()` - "
   ]
  }
 ],
 "metadata": {
  "kernelspec": {
   "display_name": "Python 3 (ipykernel)",
   "language": "python",
   "name": "python3"
  },
  "language_info": {
   "codemirror_mode": {
    "name": "ipython",
    "version": 3
   },
   "file_extension": ".py",
   "mimetype": "text/x-python",
   "name": "python",
   "nbconvert_exporter": "python",
   "pygments_lexer": "ipython3",
   "version": "3.7.10"
  }
 },
 "nbformat": 4,
 "nbformat_minor": 5
}
